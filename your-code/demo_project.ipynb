{
 "cells": [
  {
   "cell_type": "code",
   "execution_count": 87,
   "metadata": {
    "ExecuteTime": {
     "end_time": "2020-04-24T21:58:07.548859Z",
     "start_time": "2020-04-24T21:58:07.542874Z"
    }
   },
   "outputs": [],
   "source": [
    "import pandas as pd\n",
    "import numpy as np\n",
    "import seaborn as sns\n",
    "import matplotlib.pyplot as plt"
   ]
  },
  {
   "cell_type": "code",
   "execution_count": 235,
   "metadata": {
    "ExecuteTime": {
     "end_time": "2020-04-25T11:43:37.601743Z",
     "start_time": "2020-04-25T11:43:35.386020Z"
    }
   },
   "outputs": [],
   "source": [
    "data = pd.read_csv('data/fake_job_postings.csv', encoding = 'utf-8')\n"
   ]
  },
  {
   "cell_type": "code",
   "execution_count": 93,
   "metadata": {
    "ExecuteTime": {
     "end_time": "2020-04-24T22:00:27.441046Z",
     "start_time": "2020-04-24T22:00:27.431072Z"
    }
   },
   "outputs": [],
   "source": [
    "df = data.copy()"
   ]
  },
  {
   "cell_type": "code",
   "execution_count": 3,
   "metadata": {
    "ExecuteTime": {
     "end_time": "2020-04-24T20:36:46.251087Z",
     "start_time": "2020-04-24T20:36:46.132398Z"
    }
   },
   "outputs": [
    {
     "name": "stdout",
     "output_type": "stream",
     "text": [
      "<class 'pandas.core.frame.DataFrame'>\n",
      "RangeIndex: 17880 entries, 0 to 17879\n",
      "Data columns (total 18 columns):\n",
      "job_id                 17880 non-null int64\n",
      "title                  17880 non-null object\n",
      "location               17534 non-null object\n",
      "department             6333 non-null object\n",
      "salary_range           2868 non-null object\n",
      "company_profile        14572 non-null object\n",
      "description            17879 non-null object\n",
      "requirements           15185 non-null object\n",
      "benefits               10670 non-null object\n",
      "telecommuting          17880 non-null int64\n",
      "has_company_logo       17880 non-null int64\n",
      "has_questions          17880 non-null int64\n",
      "employment_type        14409 non-null object\n",
      "required_experience    10830 non-null object\n",
      "required_education     9775 non-null object\n",
      "industry               12977 non-null object\n",
      "function               11425 non-null object\n",
      "fraudulent             17880 non-null int64\n",
      "dtypes: int64(5), object(13)\n",
      "memory usage: 2.5+ MB\n"
     ]
    }
   ],
   "source": [
    "data.info()"
   ]
  },
  {
   "cell_type": "code",
   "execution_count": 85,
   "metadata": {
    "ExecuteTime": {
     "end_time": "2020-04-24T21:47:59.022036Z",
     "start_time": "2020-04-24T21:47:58.990120Z"
    },
    "scrolled": true
   },
   "outputs": [
    {
     "data": {
      "text/html": [
       "<div>\n",
       "<style scoped>\n",
       "    .dataframe tbody tr th:only-of-type {\n",
       "        vertical-align: middle;\n",
       "    }\n",
       "\n",
       "    .dataframe tbody tr th {\n",
       "        vertical-align: top;\n",
       "    }\n",
       "\n",
       "    .dataframe thead th {\n",
       "        text-align: right;\n",
       "    }\n",
       "</style>\n",
       "<table border=\"1\" class=\"dataframe\">\n",
       "  <thead>\n",
       "    <tr style=\"text-align: right;\">\n",
       "      <th></th>\n",
       "      <th>job_id</th>\n",
       "      <th>title</th>\n",
       "      <th>location</th>\n",
       "      <th>department</th>\n",
       "      <th>salary_range</th>\n",
       "      <th>company_profile</th>\n",
       "      <th>description</th>\n",
       "      <th>requirements</th>\n",
       "      <th>benefits</th>\n",
       "      <th>telecommuting</th>\n",
       "      <th>has_company_logo</th>\n",
       "      <th>has_questions</th>\n",
       "      <th>employment_type</th>\n",
       "      <th>required_experience</th>\n",
       "      <th>required_education</th>\n",
       "      <th>industry</th>\n",
       "      <th>function</th>\n",
       "      <th>fraudulent</th>\n",
       "    </tr>\n",
       "  </thead>\n",
       "  <tbody>\n",
       "    <tr>\n",
       "      <td>0</td>\n",
       "      <td>1</td>\n",
       "      <td>Marketing Intern</td>\n",
       "      <td>US, NY, New York</td>\n",
       "      <td>Marketing</td>\n",
       "      <td>NaN</td>\n",
       "      <td>We're Food52, and we've created a groundbreaki...</td>\n",
       "      <td>Food52, a fast-growing, James Beard Award-winn...</td>\n",
       "      <td>Experience with content management systems a m...</td>\n",
       "      <td>NaN</td>\n",
       "      <td>0</td>\n",
       "      <td>1</td>\n",
       "      <td>0</td>\n",
       "      <td>Other</td>\n",
       "      <td>Internship</td>\n",
       "      <td>NaN</td>\n",
       "      <td>NaN</td>\n",
       "      <td>Marketing</td>\n",
       "      <td>0</td>\n",
       "    </tr>\n",
       "    <tr>\n",
       "      <td>1</td>\n",
       "      <td>2</td>\n",
       "      <td>Customer Service - Cloud Video Production</td>\n",
       "      <td>NZ, , Auckland</td>\n",
       "      <td>Success</td>\n",
       "      <td>NaN</td>\n",
       "      <td>90 Seconds, the worlds Cloud Video Production ...</td>\n",
       "      <td>Organised - Focused - Vibrant - Awesome!Do you...</td>\n",
       "      <td>What we expect from you:Your key responsibilit...</td>\n",
       "      <td>What you will get from usThrough being part of...</td>\n",
       "      <td>0</td>\n",
       "      <td>1</td>\n",
       "      <td>0</td>\n",
       "      <td>Full-time</td>\n",
       "      <td>Not Applicable</td>\n",
       "      <td>NaN</td>\n",
       "      <td>Marketing and Advertising</td>\n",
       "      <td>Customer Service</td>\n",
       "      <td>0</td>\n",
       "    </tr>\n",
       "    <tr>\n",
       "      <td>2</td>\n",
       "      <td>3</td>\n",
       "      <td>Commissioning Machinery Assistant (CMA)</td>\n",
       "      <td>US, IA, Wever</td>\n",
       "      <td>NaN</td>\n",
       "      <td>NaN</td>\n",
       "      <td>Valor Services provides Workforce Solutions th...</td>\n",
       "      <td>Our client, located in Houston, is actively se...</td>\n",
       "      <td>Implement pre-commissioning and commissioning ...</td>\n",
       "      <td>NaN</td>\n",
       "      <td>0</td>\n",
       "      <td>1</td>\n",
       "      <td>0</td>\n",
       "      <td>NaN</td>\n",
       "      <td>NaN</td>\n",
       "      <td>NaN</td>\n",
       "      <td>NaN</td>\n",
       "      <td>NaN</td>\n",
       "      <td>0</td>\n",
       "    </tr>\n",
       "    <tr>\n",
       "      <td>3</td>\n",
       "      <td>4</td>\n",
       "      <td>Account Executive - Washington DC</td>\n",
       "      <td>US, DC, Washington</td>\n",
       "      <td>Sales</td>\n",
       "      <td>NaN</td>\n",
       "      <td>Our passion for improving quality of life thro...</td>\n",
       "      <td>THE COMPANY: ESRI – Environmental Systems Rese...</td>\n",
       "      <td>EDUCATION: Bachelor’s or Master’s in GIS, busi...</td>\n",
       "      <td>Our culture is anything but corporate—we have ...</td>\n",
       "      <td>0</td>\n",
       "      <td>1</td>\n",
       "      <td>0</td>\n",
       "      <td>Full-time</td>\n",
       "      <td>Mid-Senior level</td>\n",
       "      <td>Bachelor's Degree</td>\n",
       "      <td>Computer Software</td>\n",
       "      <td>Sales</td>\n",
       "      <td>0</td>\n",
       "    </tr>\n",
       "    <tr>\n",
       "      <td>4</td>\n",
       "      <td>5</td>\n",
       "      <td>Bill Review Manager</td>\n",
       "      <td>US, FL, Fort Worth</td>\n",
       "      <td>NaN</td>\n",
       "      <td>NaN</td>\n",
       "      <td>SpotSource Solutions LLC is a Global Human Cap...</td>\n",
       "      <td>JOB TITLE: Itemization Review ManagerLOCATION:...</td>\n",
       "      <td>QUALIFICATIONS:RN license in the State of Texa...</td>\n",
       "      <td>Full Benefits Offered</td>\n",
       "      <td>0</td>\n",
       "      <td>1</td>\n",
       "      <td>1</td>\n",
       "      <td>Full-time</td>\n",
       "      <td>Mid-Senior level</td>\n",
       "      <td>Bachelor's Degree</td>\n",
       "      <td>Hospital &amp; Health Care</td>\n",
       "      <td>Health Care Provider</td>\n",
       "      <td>0</td>\n",
       "    </tr>\n",
       "  </tbody>\n",
       "</table>\n",
       "</div>"
      ],
      "text/plain": [
       "   job_id                                      title            location  \\\n",
       "0       1                           Marketing Intern    US, NY, New York   \n",
       "1       2  Customer Service - Cloud Video Production      NZ, , Auckland   \n",
       "2       3    Commissioning Machinery Assistant (CMA)       US, IA, Wever   \n",
       "3       4          Account Executive - Washington DC  US, DC, Washington   \n",
       "4       5                        Bill Review Manager  US, FL, Fort Worth   \n",
       "\n",
       "  department salary_range                                    company_profile  \\\n",
       "0  Marketing          NaN  We're Food52, and we've created a groundbreaki...   \n",
       "1    Success          NaN  90 Seconds, the worlds Cloud Video Production ...   \n",
       "2        NaN          NaN  Valor Services provides Workforce Solutions th...   \n",
       "3      Sales          NaN  Our passion for improving quality of life thro...   \n",
       "4        NaN          NaN  SpotSource Solutions LLC is a Global Human Cap...   \n",
       "\n",
       "                                         description  \\\n",
       "0  Food52, a fast-growing, James Beard Award-winn...   \n",
       "1  Organised - Focused - Vibrant - Awesome!Do you...   \n",
       "2  Our client, located in Houston, is actively se...   \n",
       "3  THE COMPANY: ESRI – Environmental Systems Rese...   \n",
       "4  JOB TITLE: Itemization Review ManagerLOCATION:...   \n",
       "\n",
       "                                        requirements  \\\n",
       "0  Experience with content management systems a m...   \n",
       "1  What we expect from you:Your key responsibilit...   \n",
       "2  Implement pre-commissioning and commissioning ...   \n",
       "3  EDUCATION: Bachelor’s or Master’s in GIS, busi...   \n",
       "4  QUALIFICATIONS:RN license in the State of Texa...   \n",
       "\n",
       "                                            benefits  telecommuting  \\\n",
       "0                                                NaN              0   \n",
       "1  What you will get from usThrough being part of...              0   \n",
       "2                                                NaN              0   \n",
       "3  Our culture is anything but corporate—we have ...              0   \n",
       "4                              Full Benefits Offered              0   \n",
       "\n",
       "   has_company_logo  has_questions employment_type required_experience  \\\n",
       "0                 1              0           Other          Internship   \n",
       "1                 1              0       Full-time      Not Applicable   \n",
       "2                 1              0             NaN                 NaN   \n",
       "3                 1              0       Full-time    Mid-Senior level   \n",
       "4                 1              1       Full-time    Mid-Senior level   \n",
       "\n",
       "  required_education                   industry              function  \\\n",
       "0                NaN                        NaN             Marketing   \n",
       "1                NaN  Marketing and Advertising      Customer Service   \n",
       "2                NaN                        NaN                   NaN   \n",
       "3  Bachelor's Degree          Computer Software                 Sales   \n",
       "4  Bachelor's Degree     Hospital & Health Care  Health Care Provider   \n",
       "\n",
       "   fraudulent  \n",
       "0           0  \n",
       "1           0  \n",
       "2           0  \n",
       "3           0  \n",
       "4           0  "
      ]
     },
     "execution_count": 85,
     "metadata": {},
     "output_type": "execute_result"
    }
   ],
   "source": [
    "data.head()"
   ]
  },
  {
   "cell_type": "code",
   "execution_count": 121,
   "metadata": {
    "ExecuteTime": {
     "end_time": "2020-04-24T22:24:17.080044Z",
     "start_time": "2020-04-24T22:24:17.046102Z"
    }
   },
   "outputs": [
    {
     "data": {
      "text/plain": [
       "job_id                  0.000000\n",
       "title                   0.000000\n",
       "location                1.935123\n",
       "department             64.580537\n",
       "salary_range           83.959732\n",
       "company_profile        18.501119\n",
       "description             0.005593\n",
       "requirements           15.072707\n",
       "benefits               40.324385\n",
       "telecommuting           0.000000\n",
       "has_company_logo        0.000000\n",
       "has_questions           0.000000\n",
       "employment_type        19.412752\n",
       "required_experience    39.429530\n",
       "required_education     45.329978\n",
       "industry               27.421700\n",
       "function               36.101790\n",
       "fraudulent              0.000000\n",
       "dtype: float64"
      ]
     },
     "execution_count": 121,
     "metadata": {},
     "output_type": "execute_result"
    }
   ],
   "source": [
    "data.isnull().sum() / 17880 * 100"
   ]
  },
  {
   "cell_type": "code",
   "execution_count": 3,
   "metadata": {
    "ExecuteTime": {
     "end_time": "2020-04-21T18:21:00.095976Z",
     "start_time": "2020-04-21T18:21:00.082013Z"
    }
   },
   "outputs": [
    {
     "data": {
      "text/plain": [
       "0    17014\n",
       "1      866\n",
       "Name: fraudulent, dtype: int64"
      ]
     },
     "execution_count": 3,
     "metadata": {},
     "output_type": "execute_result"
    }
   ],
   "source": [
    "data.fraudulent.value_counts()"
   ]
  },
  {
   "cell_type": "code",
   "execution_count": 5,
   "metadata": {
    "ExecuteTime": {
     "end_time": "2020-04-24T20:41:39.621064Z",
     "start_time": "2020-04-24T20:41:39.543381Z"
    }
   },
   "outputs": [],
   "source": [
    "data_fraudulent = data[data['fraudulent'] == 1]\n",
    "data_not_fraudulent = data[data['fraudulent'] == 0]\n"
   ]
  },
  {
   "cell_type": "code",
   "execution_count": 116,
   "metadata": {
    "ExecuteTime": {
     "end_time": "2020-04-24T22:13:15.370524Z",
     "start_time": "2020-04-24T22:13:14.971813Z"
    }
   },
   "outputs": [
    {
     "data": {
      "image/png": "[encoded data removed]",
      "text/plain": [
       "<Figure size 1080x720 with 1 Axes>"
      ]
     },
     "metadata": {},
     "output_type": "display_data"
    }
   ],
   "source": [
    "plt.figure(figsize = (15,10))\n",
    "\n",
    "plot = sns.countplot(x = df.employment_type, hue = df.fraudulent ,\n",
    "              order = df.employment_type.value_counts().index)\n",
    "\n",
    "for p in plot.patches:\n",
    "    plot.annotate(p.get_height(), (p.get_x() + p.get_width() / 2., p.get_height()), \n",
    "               ha = 'center', va = 'center', xytext = (0, 10), textcoords = 'offset points')"
   ]
  },
  {
   "cell_type": "code",
   "execution_count": 117,
   "metadata": {
    "ExecuteTime": {
     "end_time": "2020-04-24T22:17:55.941639Z",
     "start_time": "2020-04-24T22:17:55.453942Z"
    }
   },
   "outputs": [
    {
     "data": {
      "image/png": "[encoded data removed]",
      "text/plain": [
       "<Figure size 1080x720 with 1 Axes>"
      ]
     },
     "metadata": {},
     "output_type": "display_data"
    }
   ],
   "source": [
    "plt.figure(figsize = (15,10))\n",
    "\n",
    "plot = sns.countplot(x = df.required_experience, hue = df.fraudulent ,\n",
    "              order = df.required_experience.value_counts().index)\n",
    "\n",
    "for p in plot.patches:\n",
    "    plot.annotate(p.get_height(), (p.get_x() + p.get_width() / 2., p.get_height()), \n",
    "               ha = 'center', va = 'center', xytext = (0, 10), textcoords = 'offset points')"
   ]
  },
  {
   "cell_type": "code",
   "execution_count": 123,
   "metadata": {
    "ExecuteTime": {
     "end_time": "2020-04-24T22:30:57.385798Z",
     "start_time": "2020-04-24T22:30:56.808003Z"
    }
   },
   "outputs": [
    {
     "data": {
      "image/png": "[encoded data removed]",
      "text/plain": [
       "<Figure size 1080x720 with 1 Axes>"
      ]
     },
     "metadata": {},
     "output_type": "display_data"
    }
   ],
   "source": [
    "plt.figure(figsize = (15,10))\n",
    "\n",
    "plot = sns.countplot(y = df.required_education, hue = df.fraudulent ,\n",
    "              order = df.required_education.value_counts().index)\n"
   ]
  },
  {
   "cell_type": "code",
   "execution_count": 80,
   "metadata": {
    "ExecuteTime": {
     "end_time": "2020-04-24T21:42:58.968333Z",
     "start_time": "2020-04-24T21:42:58.950408Z"
    }
   },
   "outputs": [
    {
     "data": {
      "text/plain": [
       "GB, LND, London            718\n",
       "US, NY, New York           658\n",
       "US, CA, San Francisco      472\n",
       "GR, I, Athens              464\n",
       "US, ,                      339\n",
       "                          ... \n",
       "US, TX, Abernathy            1\n",
       "US, FL, TAMPA                1\n",
       "MU, QB,                      1\n",
       "US, FL, S. Florida Area      1\n",
       "SA, , Jeddah                 1\n",
       "Name: location, Length: 3105, dtype: int64"
      ]
     },
     "execution_count": 80,
     "metadata": {},
     "output_type": "execute_result"
    }
   ],
   "source": [
    "data.location.value_counts()"
   ]
  },
  {
   "cell_type": "code",
   "execution_count": 11,
   "metadata": {
    "ExecuteTime": {
     "end_time": "2020-04-24T20:49:18.506533Z",
     "start_time": "2020-04-24T20:49:18.493569Z"
    }
   },
   "outputs": [
    {
     "data": {
      "text/plain": [
       "job_id                  0.000000\n",
       "title                   0.000000\n",
       "location                2.193995\n",
       "department             61.316397\n",
       "salary_range           74.249423\n",
       "company_profile        67.782910\n",
       "description             0.115473\n",
       "requirements           17.782910\n",
       "benefits               42.032333\n",
       "telecommuting           0.000000\n",
       "has_company_logo        0.000000\n",
       "has_questions           0.000000\n",
       "employment_type        27.829099\n",
       "required_experience    50.230947\n",
       "required_education     52.078522\n",
       "industry               31.755196\n",
       "function               38.914550\n",
       "fraudulent              0.000000\n",
       "dtype: float64"
      ]
     },
     "execution_count": 11,
     "metadata": {},
     "output_type": "execute_result"
    }
   ],
   "source": [
    "(data_fraudulent.isnull().sum() / 866) * 100"
   ]
  },
  {
   "cell_type": "code",
   "execution_count": 9,
   "metadata": {
    "ExecuteTime": {
     "end_time": "2020-04-24T20:43:48.986227Z",
     "start_time": "2020-04-24T20:43:48.956306Z"
    }
   },
   "outputs": [
    {
     "data": {
      "text/plain": [
       "job_id                     0\n",
       "title                      0\n",
       "location                 327\n",
       "department             11016\n",
       "salary_range           14369\n",
       "company_profile         2721\n",
       "description                0\n",
       "requirements            2541\n",
       "benefits                6846\n",
       "telecommuting              0\n",
       "has_company_logo           0\n",
       "has_questions              0\n",
       "employment_type         3230\n",
       "required_experience     6615\n",
       "required_education      7654\n",
       "industry                4628\n",
       "function                6118\n",
       "fraudulent                 0\n",
       "dtype: int64"
      ]
     },
     "execution_count": 9,
     "metadata": {},
     "output_type": "execute_result"
    }
   ],
   "source": [
    "data_not_fraudulent.isnull().sum()"
   ]
  },
  {
   "cell_type": "code",
   "execution_count": 78,
   "metadata": {
    "ExecuteTime": {
     "end_time": "2020-04-24T21:37:02.396824Z",
     "start_time": "2020-04-24T21:37:02.378873Z"
    }
   },
   "outputs": [
    {
     "data": {
      "text/html": [
       "<div>\n",
       "<style scoped>\n",
       "    .dataframe tbody tr th:only-of-type {\n",
       "        vertical-align: middle;\n",
       "    }\n",
       "\n",
       "    .dataframe tbody tr th {\n",
       "        vertical-align: top;\n",
       "    }\n",
       "\n",
       "    .dataframe thead th {\n",
       "        text-align: right;\n",
       "    }\n",
       "</style>\n",
       "<table border=\"1\" class=\"dataframe\">\n",
       "  <thead>\n",
       "    <tr style=\"text-align: right;\">\n",
       "      <th></th>\n",
       "      <th>title</th>\n",
       "      <th>fraudulent</th>\n",
       "    </tr>\n",
       "  </thead>\n",
       "  <tbody>\n",
       "    <tr>\n",
       "      <td>98</td>\n",
       "      <td>IC&amp;E Technician</td>\n",
       "      <td>1</td>\n",
       "    </tr>\n",
       "    <tr>\n",
       "      <td>144</td>\n",
       "      <td>Forward Cap.</td>\n",
       "      <td>1</td>\n",
       "    </tr>\n",
       "    <tr>\n",
       "      <td>173</td>\n",
       "      <td>Technician Instrument &amp; Controls</td>\n",
       "      <td>1</td>\n",
       "    </tr>\n",
       "    <tr>\n",
       "      <td>180</td>\n",
       "      <td>Sales Executive</td>\n",
       "      <td>1</td>\n",
       "    </tr>\n",
       "    <tr>\n",
       "      <td>215</td>\n",
       "      <td>IC&amp;E Technician Mt Poso</td>\n",
       "      <td>1</td>\n",
       "    </tr>\n",
       "    <tr>\n",
       "      <td>...</td>\n",
       "      <td>...</td>\n",
       "      <td>...</td>\n",
       "    </tr>\n",
       "    <tr>\n",
       "      <td>17827</td>\n",
       "      <td>Student Positions Part-Time and Full-Time.</td>\n",
       "      <td>1</td>\n",
       "    </tr>\n",
       "    <tr>\n",
       "      <td>17828</td>\n",
       "      <td>Sales Associate</td>\n",
       "      <td>1</td>\n",
       "    </tr>\n",
       "    <tr>\n",
       "      <td>17829</td>\n",
       "      <td>Android Developer</td>\n",
       "      <td>1</td>\n",
       "    </tr>\n",
       "    <tr>\n",
       "      <td>17830</td>\n",
       "      <td>Payroll Clerk</td>\n",
       "      <td>1</td>\n",
       "    </tr>\n",
       "    <tr>\n",
       "      <td>17831</td>\n",
       "      <td>Furniture mover</td>\n",
       "      <td>1</td>\n",
       "    </tr>\n",
       "  </tbody>\n",
       "</table>\n",
       "<p>866 rows × 2 columns</p>\n",
       "</div>"
      ],
      "text/plain": [
       "                                            title  fraudulent\n",
       "98                                IC&E Technician           1\n",
       "144                                  Forward Cap.           1\n",
       "173             Technician Instrument & Controls            1\n",
       "180                               Sales Executive           1\n",
       "215                       IC&E Technician Mt Poso           1\n",
       "...                                           ...         ...\n",
       "17827  Student Positions Part-Time and Full-Time.           1\n",
       "17828                             Sales Associate           1\n",
       "17829                           Android Developer           1\n",
       "17830                              Payroll Clerk            1\n",
       "17831                             Furniture mover           1\n",
       "\n",
       "[866 rows x 2 columns]"
      ]
     },
     "execution_count": 78,
     "metadata": {},
     "output_type": "execute_result"
    }
   ],
   "source": [
    "df2 = data_fraudulent[['title','fraudulent']]\n",
    "df2\n"
   ]
  },
  {
   "cell_type": "code",
   "execution_count": 37,
   "metadata": {
    "ExecuteTime": {
     "end_time": "2020-04-24T21:07:08.151649Z",
     "start_time": "2020-04-24T21:07:08.137686Z"
    }
   },
   "outputs": [
    {
     "data": {
      "text/plain": [
       "Cruise Staff Wanted *URGENT*                                       21\n",
       "Home Based Payroll Typist/Data Entry Clerks Positions Available    21\n",
       "Data Entry Admin/Clerical Positions - Work From Home               21\n",
       "Customer Service Representative                                    17\n",
       "Administrative Assistant                                           16\n",
       "                                                                   ..\n",
       "Earn the Income You Deserve                                         1\n",
       "  Mechanical Engineering Manager                                    1\n",
       "Project Controls Tech                                               1\n",
       "Support Team Member                                                 1\n",
       "Personal Assistant                                                  1\n",
       "Name: title, Length: 560, dtype: int64"
      ]
     },
     "execution_count": 37,
     "metadata": {},
     "output_type": "execute_result"
    }
   ],
   "source": [
    "data_fraudulent.iloc[:,1].value_counts() \n"
   ]
  },
  {
   "cell_type": "code",
   "execution_count": 83,
   "metadata": {
    "ExecuteTime": {
     "end_time": "2020-04-24T21:46:40.408924Z",
     "start_time": "2020-04-24T21:46:40.395955Z"
    }
   },
   "outputs": [
    {
     "data": {
      "text/plain": [
       "US, TX, Houston        92\n",
       "AU, NSW, Sydney        31\n",
       "US, ,                  28\n",
       "US, CA, Bakersfield    24\n",
       "US, CA, Los Angeles    23\n",
       "                       ..\n",
       "US, NJ, NEWARK          1\n",
       "US, TX, Abbott          1\n",
       "AE, ,                   1\n",
       "US, MD, Aberdeen        1\n",
       "US, WI, Sheboygan       1\n",
       "Name: location, Length: 373, dtype: int64"
      ]
     },
     "execution_count": 83,
     "metadata": {},
     "output_type": "execute_result"
    }
   ],
   "source": [
    "data_fraudulent.iloc[:,2].value_counts()"
   ]
  },
  {
   "cell_type": "code",
   "execution_count": 22,
   "metadata": {
    "ExecuteTime": {
     "end_time": "2020-04-24T21:03:22.002712Z",
     "start_time": "2020-04-24T21:03:21.987752Z"
    }
   },
   "outputs": [
    {
     "data": {
      "text/plain": [
       "Engineering               46\n",
       "Clerical                  27\n",
       "Oil & Energy              24\n",
       "Information Technology    15\n",
       "Administrative            14\n",
       "                          ..\n",
       "1221                       1\n",
       "Technician                 1\n",
       "HOTEL JOBS                 1\n",
       "hr                         1\n",
       "MAINT                      1\n",
       "Name: department, Length: 103, dtype: int64"
      ]
     },
     "execution_count": 22,
     "metadata": {},
     "output_type": "execute_result"
    }
   ],
   "source": [
    "data_fraudulent.iloc[:,3].value_counts()"
   ]
  },
  {
   "cell_type": "code",
   "execution_count": 23,
   "metadata": {
    "ExecuteTime": {
     "end_time": "2020-04-24T21:03:35.841835Z",
     "start_time": "2020-04-24T21:03:35.829865Z"
    }
   },
   "outputs": [
    {
     "data": {
      "text/plain": [
       "7200-1380000     10\n",
       "30000-50000       8\n",
       "250000-500000     7\n",
       "35000-40000       6\n",
       "28000-32000       6\n",
       "                 ..\n",
       "45-48             1\n",
       "1517-1517         1\n",
       "80000-200000      1\n",
       "48000-65000       1\n",
       "50000-75000       1\n",
       "Name: salary_range, Length: 117, dtype: int64"
      ]
     },
     "execution_count": 23,
     "metadata": {},
     "output_type": "execute_result"
    }
   ],
   "source": [
    "data_fraudulent.iloc[:,4].value_counts()"
   ]
  },
  {
   "cell_type": "code",
   "execution_count": 28,
   "metadata": {
    "ExecuteTime": {
     "end_time": "2020-04-24T21:04:21.189487Z",
     "start_time": "2020-04-24T21:04:21.176512Z"
    }
   },
   "outputs": [
    {
     "data": {
      "text/plain": [
       "0    802\n",
       "1     64\n",
       "Name: telecommuting, dtype: int64"
      ]
     },
     "execution_count": 28,
     "metadata": {},
     "output_type": "execute_result"
    }
   ],
   "source": [
    "data_fraudulent.iloc[:,9].value_counts()"
   ]
  },
  {
   "cell_type": "code",
   "execution_count": 29,
   "metadata": {
    "ExecuteTime": {
     "end_time": "2020-04-24T21:04:21.451933Z",
     "start_time": "2020-04-24T21:04:21.436928Z"
    }
   },
   "outputs": [
    {
     "data": {
      "text/plain": [
       "0    583\n",
       "1    283\n",
       "Name: has_company_logo, dtype: int64"
      ]
     },
     "execution_count": 29,
     "metadata": {},
     "output_type": "execute_result"
    }
   ],
   "source": [
    "data_fraudulent.iloc[:,10].value_counts()"
   ]
  },
  {
   "cell_type": "code",
   "execution_count": 30,
   "metadata": {
    "ExecuteTime": {
     "end_time": "2020-04-24T21:04:21.788086Z",
     "start_time": "2020-04-24T21:04:21.768061Z"
    }
   },
   "outputs": [
    {
     "data": {
      "text/plain": [
       "0    616\n",
       "1    250\n",
       "Name: has_questions, dtype: int64"
      ]
     },
     "execution_count": 30,
     "metadata": {},
     "output_type": "execute_result"
    }
   ],
   "source": [
    "data_fraudulent.iloc[:,11].value_counts()"
   ]
  },
  {
   "cell_type": "code",
   "execution_count": 31,
   "metadata": {
    "ExecuteTime": {
     "end_time": "2020-04-24T21:04:22.062175Z",
     "start_time": "2020-04-24T21:04:22.049210Z"
    }
   },
   "outputs": [
    {
     "data": {
      "text/plain": [
       "Full-time    490\n",
       "Part-time     74\n",
       "Contract      44\n",
       "Other         15\n",
       "Temporary      2\n",
       "Name: employment_type, dtype: int64"
      ]
     },
     "execution_count": 31,
     "metadata": {},
     "output_type": "execute_result"
    }
   ],
   "source": [
    "data_fraudulent.iloc[:,12].value_counts()"
   ]
  },
  {
   "cell_type": "code",
   "execution_count": 34,
   "metadata": {
    "ExecuteTime": {
     "end_time": "2020-04-24T21:04:40.516687Z",
     "start_time": "2020-04-24T21:04:40.506713Z"
    }
   },
   "outputs": [
    {
     "data": {
      "text/plain": [
       "Entry level         179\n",
       "Mid-Senior level    113\n",
       "Not Applicable       60\n",
       "Associate            42\n",
       "Director             17\n",
       "Executive            10\n",
       "Internship           10\n",
       "Name: required_experience, dtype: int64"
      ]
     },
     "execution_count": 34,
     "metadata": {},
     "output_type": "execute_result"
    }
   ],
   "source": [
    "data_fraudulent.iloc[:,13].value_counts()"
   ]
  },
  {
   "cell_type": "code",
   "execution_count": 35,
   "metadata": {
    "ExecuteTime": {
     "end_time": "2020-04-24T21:04:40.930595Z",
     "start_time": "2020-04-24T21:04:40.921605Z"
    }
   },
   "outputs": [
    {
     "data": {
      "text/plain": [
       "High School or equivalent            170\n",
       "Bachelor's Degree                    100\n",
       "Unspecified                           61\n",
       "Master's Degree                       31\n",
       "Some High School Coursework           20\n",
       "Certification                         19\n",
       "Associate Degree                       6\n",
       "Professional                           4\n",
       "Some College Coursework Completed      3\n",
       "Doctorate                              1\n",
       "Name: required_education, dtype: int64"
      ]
     },
     "execution_count": 35,
     "metadata": {},
     "output_type": "execute_result"
    }
   ],
   "source": [
    "data_fraudulent.iloc[:,14].value_counts()"
   ]
  },
  {
   "cell_type": "code",
   "execution_count": 33,
   "metadata": {
    "ExecuteTime": {
     "end_time": "2020-04-24T21:04:38.847442Z",
     "start_time": "2020-04-24T21:04:38.834476Z"
    }
   },
   "outputs": [
    {
     "data": {
      "text/plain": [
       "Oil & Energy                 109\n",
       "Accounting                    57\n",
       "Hospital & Health Care        51\n",
       "Marketing and Advertising     45\n",
       "Financial Services            35\n",
       "                            ... \n",
       "Consumer Goods                 1\n",
       "Online Media                   1\n",
       "Medical Practice               1\n",
       "Cosmetics                      1\n",
       "Warehousing                    1\n",
       "Name: industry, Length: 62, dtype: int64"
      ]
     },
     "execution_count": 33,
     "metadata": {},
     "output_type": "execute_result"
    }
   ],
   "source": [
    "data_fraudulent.iloc[:,15].value_counts()"
   ]
  },
  {
   "cell_type": "code",
   "execution_count": 81,
   "metadata": {
    "ExecuteTime": {
     "end_time": "2020-04-24T21:44:15.747084Z",
     "start_time": "2020-04-24T21:44:15.736113Z"
    }
   },
   "outputs": [
    {
     "data": {
      "text/plain": [
       "Administrative            119\n",
       "Engineering               113\n",
       "Customer Service           67\n",
       "Sales                      41\n",
       "Information Technology     32\n",
       "Other                      32\n",
       "Accounting/Auditing        29\n",
       "Finance                    15\n",
       "Business Development       13\n",
       "Marketing                  10\n",
       "Project Management         10\n",
       "Human Resources             9\n",
       "Management                  6\n",
       "Advertising                 5\n",
       "Financial Analyst           5\n",
       "Data Analyst                4\n",
       "Consulting                  4\n",
       "Design                      3\n",
       "Distribution                3\n",
       "Manufacturing               2\n",
       "Health Care Provider        1\n",
       "Art/Creative                1\n",
       "Strategy/Planning           1\n",
       "Education                   1\n",
       "Business Analyst            1\n",
       "General Business            1\n",
       "Public Relations            1\n",
       "Name: function, dtype: int64"
      ]
     },
     "execution_count": 81,
     "metadata": {},
     "output_type": "execute_result"
    }
   ],
   "source": [
    "data_fraudulent.iloc[:,16].value_counts()"
   ]
  },
  {
   "cell_type": "code",
   "execution_count": 263,
   "metadata": {
    "ExecuteTime": {
     "end_time": "2020-04-25T11:55:51.691537Z",
     "start_time": "2020-04-25T11:55:47.385836Z"
    }
   },
   "outputs": [
    {
     "data": {
      "text/plain": [
       "0        Marketing Intern US, NY, New York Marketing na...\n",
       "1        Customer Service - Cloud Video Production NZ, ...\n",
       "2        Commissioning Machinery Assistant (CMA) US, IA...\n",
       "3        Account Executive - Washington DC US, DC, Wash...\n",
       "4        Bill Review Manager US, FL, Fort Worth nan nan...\n",
       "                               ...                        \n",
       "17875    Account Director - Distribution  CA, ON, Toron...\n",
       "17876    Payroll Accountant US, PA, Philadelphia Accoun...\n",
       "17877    Project Cost Control Staff Engineer - Cost Con...\n",
       "17878    Graphic Designer NG, LA, Lagos nan nan nan Nem...\n",
       "17879    Web Application Developers NZ, N, Wellington E...\n",
       "Length: 17880, dtype: object"
      ]
     },
     "execution_count": 263,
     "metadata": {},
     "output_type": "execute_result"
    }
   ],
   "source": [
    "categorical = data.select_dtypes(include = 'object')\n",
    "bow = categorical.apply(lambda row: ' '.join(row.values.astype(str)), axis=1)\n",
    "bow"
   ]
  },
  {
   "cell_type": "code",
   "execution_count": 284,
   "metadata": {
    "ExecuteTime": {
     "end_time": "2020-04-25T12:22:15.070907Z",
     "start_time": "2020-04-25T12:03:00.638917Z"
    }
   },
   "outputs": [
    {
     "ename": "KeyboardInterrupt",
     "evalue": "",
     "output_type": "error",
     "traceback": [
      "\u001b[1;31m---------------------------------------------------------------------------\u001b[0m",
      "\u001b[1;31mKeyboardInterrupt\u001b[0m                         Traceback (most recent call last)",
      "\u001b[1;32m<ipython-input-284-6fabd1af8a9f>\u001b[0m in \u001b[0;36m<module>\u001b[1;34m\u001b[0m\n\u001b[1;32m----> 1\u001b[1;33m \u001b[0mtext\u001b[0m \u001b[1;33m=\u001b[0m \u001b[0mnp\u001b[0m\u001b[1;33m.\u001b[0m\u001b[0marray\u001b[0m\u001b[1;33m(\u001b[0m\u001b[0mbow\u001b[0m\u001b[1;33m)\u001b[0m\u001b[1;33m.\u001b[0m\u001b[0mflatten\u001b[0m\u001b[1;33m(\u001b[0m\u001b[1;33m)\u001b[0m\u001b[1;33m.\u001b[0m\u001b[0msum\u001b[0m\u001b[1;33m(\u001b[0m\u001b[1;33m)\u001b[0m\u001b[1;33m\u001b[0m\u001b[1;33m\u001b[0m\u001b[0m\n\u001b[0m\u001b[0;32m      2\u001b[0m \u001b[1;33m\u001b[0m\u001b[0m\n",
      "\u001b[1;31mKeyboardInterrupt\u001b[0m: "
     ]
    }
   ],
   "source": [
    "text = np.array(bow).join()\n",
    "\n"
   ]
  },
  {
   "cell_type": "code",
   "execution_count": null,
   "metadata": {},
   "outputs": [],
   "source": [
    "text"
   ]
  },
  {
   "cell_type": "code",
   "execution_count": 272,
   "metadata": {
    "ExecuteTime": {
     "end_time": "2020-04-25T11:59:48.454544Z",
     "start_time": "2020-04-25T11:59:48.437588Z"
    }
   },
   "outputs": [
    {
     "data": {
      "text/plain": [
       "\"marketing intern us, ny, new york marketing nan we're food52, and we've created a groundbreaking and award-winning cooking site. we support, connect, and celebrate home cooks, and give them everything they need in one place.we have a top editorial, business, and engineering team. we're focused on using technology to find new and better ways to connect people around their specific food interests, and to offer them superb, highly curated information about food and cooking. we attract the most talented home cooks and contributors in the country; we also publish well-known professionals like mario batali, gwyneth paltrow, and danny meyer. and we have partnerships with whole foods market and random house.food52 has been named the best food website by the james beard foundation and iacp, and has been featured in the new york times, npr, pando daily, techcrunch, and on the today show.we're located in chelsea, in new york city. food52, a fast-growing, james beard award-winning online food community and crowd-sourced and curated recipe hub, is currently interviewing full- and part-time unpaid interns to work in a small team of editors, executives, and developers in its new york city headquarters.reproducing and/or repackaging existing food52 content for a number of partner sites, such as huffington post, yahoo, buzzfeed, and more in their various content management systemsresearching blogs and websites for the provisions by food52 affiliate programassisting in day-to-day affiliate program support, such as screening affiliates and assisting in any affiliate inquiriessupporting with pr &amp; events when neededhelping with office administrative work, such as filing, mailing, and preparing for meetingsworking with developers to document bugs and suggest improvements to the sitesupporting the marketing and executive staff experience with content management systems a major plus (any blogging counts!)familiar with the food52 editorial voice and aestheticloves food, appreciates the importance of home cooking and cooking with the seasonsmeticulous editor, perfectionist, obsessive attention to detail, maddened by typos and broken links, delighted by finding and fixing themcheerful under pressureexcellent communication skillsa+ multi-tasker and juggler of responsibilities big and smallinterested in and engaged with social media like twitter, facebook, and pinterestloves problem-solving and collaborating to drive food52 forwardthinks big picture but pitches in on the nitty gritty of running a small company (dishes, shopping, administrative support)comfortable with the realities of working for a startup: being on call on evenings and weekends, and working long hours nan other internship nan nan marketing\""
      ]
     },
     "execution_count": 272,
     "metadata": {},
     "output_type": "execute_result"
    }
   ],
   "source": [
    "text = np.array(bow).flatten()\n",
    "text = list(text)[0].lower()\n",
    "tokenizer = RegexpTokenizer(r'\\w+')\n",
    "tokenizer.tokenize(text)\n",
    "text"
   ]
  },
  {
   "cell_type": "code",
   "execution_count": 274,
   "metadata": {
    "ExecuteTime": {
     "end_time": "2020-04-25T12:00:26.637152Z",
     "start_time": "2020-04-25T12:00:26.629176Z"
    }
   },
   "outputs": [
    {
     "data": {
      "text/plain": [
       "\"marketing intern us, ny, new york marketing nan we're food52, and we've created a groundbreaking and award-winning cooking site. we support, connect, and celebrate home cooks, and give them everything they need in one place.we have a top editorial, business, and engineering team. we're focused on using technology to find new and better ways to connect people around their specific food interests, and to offer them superb, highly curated information about food and cooking. we attract the most talented home cooks and contributors in the country; we also publish well-known professionals like mario batali, gwyneth paltrow, and danny meyer. and we have partnerships with whole foods market and random house.food52 has been named the best food website by the james beard foundation and iacp, and has been featured in the new york times, npr, pando daily, techcrunch, and on the today show.we're located in chelsea, in new york city. food52, a fast-growing, james beard award-winning online food community and crowd-sourced and curated recipe hub, is currently interviewing full- and part-time unpaid interns to work in a small team of editors, executives, and developers in its new york city headquarters.reproducing and/or repackaging existing food52 content for a number of partner sites, such as huffington post, yahoo, buzzfeed, and more in their various content management systemsresearching blogs and websites for the provisions by food52 affiliate programassisting in day-to-day affiliate program support, such as screening affiliates and assisting in any affiliate inquiriessupporting with pr &amp; events when neededhelping with office administrative work, such as filing, mailing, and preparing for meetingsworking with developers to document bugs and suggest improvements to the sitesupporting the marketing and executive staff experience with content management systems a major plus (any blogging counts!)familiar with the food52 editorial voice and aestheticloves food, appreciates the importance of home cooking and cooking with the seasonsmeticulous editor, perfectionist, obsessive attention to detail, maddened by typos and broken links, delighted by finding and fixing themcheerful under pressureexcellent communication skillsa+ multi-tasker and juggler of responsibilities big and smallinterested in and engaged with social media like twitter, facebook, and pinterestloves problem-solving and collaborating to drive food52 forwardthinks big picture but pitches in on the nitty gritty of running a small company (dishes, shopping, administrative support)comfortable with the realities of working for a startup: being on call on evenings and weekends, and working long hours nan other internship nan nan marketing\""
      ]
     },
     "execution_count": 274,
     "metadata": {},
     "output_type": "execute_result"
    }
   ],
   "source": []
  },
  {
   "cell_type": "code",
   "execution_count": 266,
   "metadata": {
    "ExecuteTime": {
     "end_time": "2020-04-25T11:57:23.219791Z",
     "start_time": "2020-04-25T11:57:10.052528Z"
    }
   },
   "outputs": [
    {
     "ename": "TypeError",
     "evalue": "expected string or bytes-like object",
     "output_type": "error",
     "traceback": [
      "\u001b[1;31m---------------------------------------------------------------------------\u001b[0m",
      "\u001b[1;31mTypeError\u001b[0m                                 Traceback (most recent call last)",
      "\u001b[1;32m<ipython-input-266-1af7553be63f>\u001b[0m in \u001b[0;36m<module>\u001b[1;34m\u001b[0m\n\u001b[0;32m      3\u001b[0m \u001b[0mtokenizer\u001b[0m \u001b[1;33m=\u001b[0m \u001b[0mRegexpTokenizer\u001b[0m\u001b[1;33m(\u001b[0m\u001b[1;34mr'\\w+'\u001b[0m\u001b[1;33m)\u001b[0m\u001b[1;33m\u001b[0m\u001b[1;33m\u001b[0m\u001b[0m\n\u001b[0;32m      4\u001b[0m \u001b[1;33m\u001b[0m\u001b[0m\n\u001b[1;32m----> 5\u001b[1;33m \u001b[0mtokenizer\u001b[0m\u001b[1;33m.\u001b[0m\u001b[0mtokenize\u001b[0m\u001b[1;33m(\u001b[0m\u001b[0mtext\u001b[0m\u001b[1;33m)\u001b[0m\u001b[1;33m\u001b[0m\u001b[1;33m\u001b[0m\u001b[0m\n\u001b[0m",
      "\u001b[1;32m~\\Anaconda3\\lib\\site-packages\\nltk\\tokenize\\regexp.py\u001b[0m in \u001b[0;36mtokenize\u001b[1;34m(self, text)\u001b[0m\n\u001b[0;32m    134\u001b[0m         \u001b[1;31m# If our regexp matches tokens, use re.findall:\u001b[0m\u001b[1;33m\u001b[0m\u001b[1;33m\u001b[0m\u001b[1;33m\u001b[0m\u001b[0m\n\u001b[0;32m    135\u001b[0m         \u001b[1;32melse\u001b[0m\u001b[1;33m:\u001b[0m\u001b[1;33m\u001b[0m\u001b[1;33m\u001b[0m\u001b[0m\n\u001b[1;32m--> 136\u001b[1;33m             \u001b[1;32mreturn\u001b[0m \u001b[0mself\u001b[0m\u001b[1;33m.\u001b[0m\u001b[0m_regexp\u001b[0m\u001b[1;33m.\u001b[0m\u001b[0mfindall\u001b[0m\u001b[1;33m(\u001b[0m\u001b[0mtext\u001b[0m\u001b[1;33m)\u001b[0m\u001b[1;33m\u001b[0m\u001b[1;33m\u001b[0m\u001b[0m\n\u001b[0m\u001b[0;32m    137\u001b[0m \u001b[1;33m\u001b[0m\u001b[0m\n\u001b[0;32m    138\u001b[0m     \u001b[1;32mdef\u001b[0m \u001b[0mspan_tokenize\u001b[0m\u001b[1;33m(\u001b[0m\u001b[0mself\u001b[0m\u001b[1;33m,\u001b[0m \u001b[0mtext\u001b[0m\u001b[1;33m)\u001b[0m\u001b[1;33m:\u001b[0m\u001b[1;33m\u001b[0m\u001b[1;33m\u001b[0m\u001b[0m\n",
      "\u001b[1;31mTypeError\u001b[0m: expected string or bytes-like object"
     ]
    }
   ],
   "source": [
    "from nltk.tokenize import RegexpTokenizer\n",
    "\n",
    "tokenizer = RegexpTokenizer(r'\\w+')\n"
   ]
  },
  {
   "cell_type": "code",
   "execution_count": 260,
   "metadata": {
    "ExecuteTime": {
     "end_time": "2020-04-25T11:53:54.229830Z",
     "start_time": "2020-04-25T11:53:54.213875Z"
    }
   },
   "outputs": [],
   "source": [
    "\n",
    "\n",
    "dit = {}\n",
    "for i in text:\n",
    "    if i not in dit:\n",
    "        dit[i] = 1\n",
    "    else:\n",
    "        dit[i] += 1\n",
    "dit\n",
    "\n",
    "import operator\n",
    "sorted_text = sorted(dit.items(), key=operator.itemgetter(1), reverse = True)"
   ]
  },
  {
   "cell_type": "code",
   "execution_count": 261,
   "metadata": {
    "ExecuteTime": {
     "end_time": "2020-04-25T11:53:55.308973Z",
     "start_time": "2020-04-25T11:53:55.288028Z"
    }
   },
   "outputs": [
    {
     "data": {
      "text/plain": [
       "[('and', 36),\n",
       " ('the', 14),\n",
       " ('in', 12),\n",
       " ('with', 9),\n",
       " ('a', 8),\n",
       " ('to', 8),\n",
       " ('of', 6),\n",
       " ('new', 5),\n",
       " ('on', 5),\n",
       " ('marketing', 4),\n",
       " ('york', 4),\n",
       " ('nan', 4),\n",
       " ('we', 4),\n",
       " ('food', 4),\n",
       " ('by', 4),\n",
       " ('food52', 4),\n",
       " ('for', 4),\n",
       " ('cooking', 3),\n",
       " ('home', 3),\n",
       " ('content', 3),\n",
       " ('such', 3),\n",
       " ('as', 3),\n",
       " ('affiliate', 3),\n",
       " (\"we're\", 2),\n",
       " ('food52,', 2),\n",
       " ('award-winning', 2),\n",
       " ('support,', 2),\n",
       " ('them', 2),\n",
       " ('have', 2),\n",
       " ('their', 2),\n",
       " ('curated', 2),\n",
       " ('like', 2),\n",
       " ('has', 2),\n",
       " ('been', 2),\n",
       " ('james', 2),\n",
       " ('beard', 2),\n",
       " ('small', 2),\n",
       " ('developers', 2),\n",
       " ('management', 2),\n",
       " ('administrative', 2),\n",
       " ('big', 2),\n",
       " ('working', 2),\n",
       " ('intern', 1),\n",
       " ('us,', 1),\n",
       " ('ny,', 1),\n",
       " (\"we've\", 1),\n",
       " ('created', 1),\n",
       " ('groundbreaking', 1),\n",
       " ('site.', 1),\n",
       " ('connect,', 1),\n",
       " ('celebrate', 1),\n",
       " ('cooks,', 1),\n",
       " ('give', 1),\n",
       " ('everything', 1),\n",
       " ('they', 1),\n",
       " ('need', 1),\n",
       " ('one', 1),\n",
       " ('place.we', 1),\n",
       " ('top', 1),\n",
       " ('editorial,', 1),\n",
       " ('business,', 1),\n",
       " ('engineering', 1),\n",
       " ('team.', 1),\n",
       " ('focused', 1),\n",
       " ('using', 1),\n",
       " ('technology', 1),\n",
       " ('find', 1),\n",
       " ('better', 1),\n",
       " ('ways', 1),\n",
       " ('connect', 1),\n",
       " ('people', 1),\n",
       " ('around', 1),\n",
       " ('specific', 1),\n",
       " ('interests,', 1),\n",
       " ('offer', 1),\n",
       " ('superb,', 1),\n",
       " ('highly', 1),\n",
       " ('information', 1),\n",
       " ('about', 1),\n",
       " ('cooking.', 1),\n",
       " ('attract', 1),\n",
       " ('most', 1),\n",
       " ('talented', 1),\n",
       " ('cooks', 1),\n",
       " ('contributors', 1),\n",
       " ('country;', 1),\n",
       " ('also', 1),\n",
       " ('publish', 1),\n",
       " ('well-known', 1),\n",
       " ('professionals', 1),\n",
       " ('mario', 1),\n",
       " ('batali,', 1),\n",
       " ('gwyneth', 1),\n",
       " ('paltrow,', 1),\n",
       " ('danny', 1),\n",
       " ('meyer.', 1),\n",
       " ('partnerships', 1),\n",
       " ('whole', 1),\n",
       " ('foods', 1),\n",
       " ('market', 1),\n",
       " ('random', 1),\n",
       " ('house.food52', 1),\n",
       " ('named', 1),\n",
       " ('best', 1),\n",
       " ('website', 1),\n",
       " ('foundation', 1),\n",
       " ('iacp,', 1),\n",
       " ('featured', 1),\n",
       " ('times,', 1),\n",
       " ('npr,', 1),\n",
       " ('pando', 1),\n",
       " ('daily,', 1),\n",
       " ('techcrunch,', 1),\n",
       " ('today', 1),\n",
       " (\"show.we're\", 1),\n",
       " ('located', 1),\n",
       " ('chelsea,', 1),\n",
       " ('city.', 1),\n",
       " ('fast-growing,', 1),\n",
       " ('online', 1),\n",
       " ('community', 1),\n",
       " ('crowd-sourced', 1),\n",
       " ('recipe', 1),\n",
       " ('hub,', 1),\n",
       " ('is', 1),\n",
       " ('currently', 1),\n",
       " ('interviewing', 1),\n",
       " ('full-', 1),\n",
       " ('part-time', 1),\n",
       " ('unpaid', 1),\n",
       " ('interns', 1),\n",
       " ('work', 1),\n",
       " ('team', 1),\n",
       " ('editors,', 1),\n",
       " ('executives,', 1),\n",
       " ('its', 1),\n",
       " ('city', 1),\n",
       " ('headquarters.reproducing', 1),\n",
       " ('and/or', 1),\n",
       " ('repackaging', 1),\n",
       " ('existing', 1),\n",
       " ('number', 1),\n",
       " ('partner', 1),\n",
       " ('sites,', 1),\n",
       " ('huffington', 1),\n",
       " ('post,', 1),\n",
       " ('yahoo,', 1),\n",
       " ('buzzfeed,', 1),\n",
       " ('more', 1),\n",
       " ('various', 1),\n",
       " ('systemsresearching', 1),\n",
       " ('blogs', 1),\n",
       " ('websites', 1),\n",
       " ('provisions', 1),\n",
       " ('programassisting', 1),\n",
       " ('day-to-day', 1),\n",
       " ('program', 1),\n",
       " ('screening', 1),\n",
       " ('affiliates', 1),\n",
       " ('assisting', 1),\n",
       " ('any', 1),\n",
       " ('inquiriessupporting', 1),\n",
       " ('pr', 1),\n",
       " ('&amp;', 1),\n",
       " ('events', 1),\n",
       " ('when', 1),\n",
       " ('neededhelping', 1),\n",
       " ('office', 1),\n",
       " ('work,', 1),\n",
       " ('filing,', 1),\n",
       " ('mailing,', 1),\n",
       " ('preparing', 1),\n",
       " ('meetingsworking', 1),\n",
       " ('document', 1),\n",
       " ('bugs', 1),\n",
       " ('suggest', 1),\n",
       " ('improvements', 1),\n",
       " ('sitesupporting', 1),\n",
       " ('executive', 1),\n",
       " ('staff', 1),\n",
       " ('experience', 1),\n",
       " ('systems', 1),\n",
       " ('major', 1),\n",
       " ('plus', 1),\n",
       " ('(any', 1),\n",
       " ('blogging', 1),\n",
       " ('counts!)familiar', 1),\n",
       " ('editorial', 1),\n",
       " ('voice', 1),\n",
       " ('aestheticloves', 1),\n",
       " ('food,', 1),\n",
       " ('appreciates', 1),\n",
       " ('importance', 1),\n",
       " ('seasonsmeticulous', 1),\n",
       " ('editor,', 1),\n",
       " ('perfectionist,', 1),\n",
       " ('obsessive', 1),\n",
       " ('attention', 1),\n",
       " ('detail,', 1),\n",
       " ('maddened', 1),\n",
       " ('typos', 1),\n",
       " ('broken', 1),\n",
       " ('links,', 1),\n",
       " ('delighted', 1),\n",
       " ('finding', 1),\n",
       " ('fixing', 1),\n",
       " ('themcheerful', 1),\n",
       " ('under', 1),\n",
       " ('pressureexcellent', 1),\n",
       " ('communication', 1),\n",
       " ('skillsa+', 1),\n",
       " ('multi-tasker', 1),\n",
       " ('juggler', 1),\n",
       " ('responsibilities', 1),\n",
       " ('smallinterested', 1),\n",
       " ('engaged', 1),\n",
       " ('social', 1),\n",
       " ('media', 1),\n",
       " ('twitter,', 1),\n",
       " ('facebook,', 1),\n",
       " ('pinterestloves', 1),\n",
       " ('problem-solving', 1),\n",
       " ('collaborating', 1),\n",
       " ('drive', 1),\n",
       " ('forwardthinks', 1),\n",
       " ('picture', 1),\n",
       " ('but', 1),\n",
       " ('pitches', 1),\n",
       " ('nitty', 1),\n",
       " ('gritty', 1),\n",
       " ('running', 1),\n",
       " ('company', 1),\n",
       " ('(dishes,', 1),\n",
       " ('shopping,', 1),\n",
       " ('support)comfortable', 1),\n",
       " ('realities', 1),\n",
       " ('startup:', 1),\n",
       " ('being', 1),\n",
       " ('call', 1),\n",
       " ('evenings', 1),\n",
       " ('weekends,', 1),\n",
       " ('long', 1),\n",
       " ('hours', 1),\n",
       " ('other', 1),\n",
       " ('internship', 1)]"
      ]
     },
     "execution_count": 261,
     "metadata": {},
     "output_type": "execute_result"
    }
   ],
   "source": [
    "sorted_text"
   ]
  },
  {
   "cell_type": "code",
   "execution_count": 262,
   "metadata": {
    "ExecuteTime": {
     "end_time": "2020-04-25T11:54:14.323509Z",
     "start_time": "2020-04-25T11:54:14.268138Z"
    }
   },
   "outputs": [
    {
     "data": {
      "text/plain": [
       "245"
      ]
     },
     "execution_count": 262,
     "metadata": {},
     "output_type": "execute_result"
    }
   ],
   "source": [
    "len(dit.keys())"
   ]
  },
  {
   "cell_type": "code",
   "execution_count": 130,
   "metadata": {
    "ExecuteTime": {
     "end_time": "2020-04-24T23:04:53.752774Z",
     "start_time": "2020-04-24T23:04:53.678972Z"
    }
   },
   "outputs": [
    {
     "data": {
      "text/plain": [
       "['marketing',\n",
       " 'intern',\n",
       " 'customer',\n",
       " 'service',\n",
       " '-',\n",
       " 'cloud',\n",
       " 'video',\n",
       " 'production',\n",
       " 'commissioning',\n",
       " 'machinery',\n",
       " 'assistant',\n",
       " '(cma)',\n",
       " 'account',\n",
       " 'executive',\n",
       " '-',\n",
       " 'washington',\n",
       " 'dc',\n",
       " 'bill',\n",
       " 'review',\n",
       " 'manager',\n",
       " 'accounting',\n",
       " 'clerk',\n",
       " 'head',\n",
       " 'of',\n",
       " 'content',\n",
       " '(m/f)',\n",
       " 'lead',\n",
       " 'guest',\n",
       " 'service',\n",
       " 'specialist',\n",
       " 'hp',\n",
       " 'bsm',\n",
       " 'sme',\n",
       " 'customer',\n",
       " 'service',\n",
       " 'associate',\n",
       " '-',\n",
       " 'part',\n",
       " 'time',\n",
       " 'asp.net',\n",
       " 'developer',\n",
       " 'job',\n",
       " 'opportunity',\n",
       " 'at',\n",
       " 'united',\n",
       " 'states,new',\n",
       " 'jersey',\n",
       " 'talent',\n",
       " 'sourcer',\n",
       " '(6',\n",
       " 'months',\n",
       " 'fixed-term',\n",
       " 'contract)',\n",
       " 'applications',\n",
       " 'developer,',\n",
       " 'digital',\n",
       " 'installers',\n",
       " 'account',\n",
       " 'executive',\n",
       " '-',\n",
       " 'sydney',\n",
       " 'vp',\n",
       " 'of',\n",
       " 'sales',\n",
       " '-',\n",
       " 'vault',\n",
       " 'dragon',\n",
       " 'hands-on',\n",
       " 'qa',\n",
       " 'leader',\n",
       " 'southend-on-sea',\n",
       " 'traineeships',\n",
       " 'under',\n",
       " 'nas',\n",
       " '16-18',\n",
       " 'year',\n",
       " 'olds',\n",
       " 'only',\n",
       " 'visual',\n",
       " 'designer',\n",
       " 'process',\n",
       " 'controls',\n",
       " 'engineer',\n",
       " '-',\n",
       " 'dcs',\n",
       " 'plc',\n",
       " 'ms',\n",
       " 'office',\n",
       " '-',\n",
       " 'pa',\n",
       " 'marketing',\n",
       " 'assistant',\n",
       " 'front',\n",
       " 'end',\n",
       " 'developer',\n",
       " 'engagement',\n",
       " 'manager',\n",
       " 'vice',\n",
       " 'president,',\n",
       " 'sales',\n",
       " 'and',\n",
       " 'sponsorship',\n",
       " '(businessfriend.com)',\n",
       " 'customer',\n",
       " 'service',\n",
       " 'h1b',\n",
       " 'sponsor',\n",
       " 'for',\n",
       " 'l1/l2/opt',\n",
       " 'marketing',\n",
       " 'exec',\n",
       " 'haad/dha',\n",
       " 'licensed',\n",
       " 'doctors',\n",
       " 'opening',\n",
       " 'in',\n",
       " 'uae',\n",
       " 'talent',\n",
       " 'management',\n",
       " 'process',\n",
       " 'manager',\n",
       " 'customer',\n",
       " 'service',\n",
       " 'associate',\n",
       " 'customer',\n",
       " 'service',\n",
       " 'technical',\n",
       " 'specialist',\n",
       " 'software',\n",
       " 'applications',\n",
       " 'specialist',\n",
       " 'craftsman',\n",
       " 'associate',\n",
       " 'completion',\n",
       " 'engineer',\n",
       " 'i',\n",
       " 'want',\n",
       " 'to',\n",
       " 'work',\n",
       " 'at',\n",
       " 'karmarama',\n",
       " 'english',\n",
       " 'teacher',\n",
       " 'abroad',\n",
       " 'graduates:',\n",
       " 'english',\n",
       " 'teacher',\n",
       " 'abroad',\n",
       " 'project',\n",
       " 'manager',\n",
       " 'art',\n",
       " 'director',\n",
       " 'receptionist/customer',\n",
       " 'service',\n",
       " 'technical',\n",
       " 'specialist',\n",
       " 'english',\n",
       " 'teacher',\n",
       " 'abroad',\n",
       " 'english',\n",
       " 'teacher',\n",
       " 'abroad',\n",
       " 'jr.',\n",
       " 'developer',\n",
       " 'customer',\n",
       " 'service',\n",
       " 'associate',\n",
       " 'receptionist',\n",
       " 'customer',\n",
       " 'service',\n",
       " 'team',\n",
       " 'lead',\n",
       " 'inside',\n",
       " 'sales',\n",
       " 'professional-omaha',\n",
       " 'entry',\n",
       " 'level',\n",
       " 'customer',\n",
       " 'service',\n",
       " 'associate',\n",
       " 'english',\n",
       " 'teacher',\n",
       " 'abroad',\n",
       " 'customer',\n",
       " 'service',\n",
       " 'team',\n",
       " 'lead',\n",
       " 'food',\n",
       " 'production',\n",
       " 'manager',\n",
       " '@',\n",
       " 'pgi,',\n",
       " 'a',\n",
       " 'food',\n",
       " 'production',\n",
       " 'company',\n",
       " 'administrative/front',\n",
       " 'desk',\n",
       " 'payroll',\n",
       " 'tax',\n",
       " 'specialist',\n",
       " 'technical',\n",
       " 'project',\n",
       " 'manager',\n",
       " 'outside',\n",
       " 'sales',\n",
       " 'professional-st.',\n",
       " 'cloud',\n",
       " 'junior',\n",
       " 'hr',\n",
       " 'marketing',\n",
       " 'manager',\n",
       " 'outside',\n",
       " 'sales',\n",
       " 'professional-oronoco',\n",
       " 'intensive',\n",
       " 'case',\n",
       " 'management',\n",
       " 'worker',\n",
       " '(bilingual',\n",
       " 'essential)',\n",
       " 'marketing',\n",
       " 'guru',\n",
       " 'product',\n",
       " 'visual',\n",
       " 'designer',\n",
       " 'graduates:',\n",
       " 'english',\n",
       " 'teacher',\n",
       " 'abroad',\n",
       " '(conversational)',\n",
       " 'bulk',\n",
       " 'ingredient',\n",
       " 'unloader',\n",
       " 'english',\n",
       " 'teacher',\n",
       " 'abroad',\n",
       " 'customer',\n",
       " 'services',\n",
       " 'associate',\n",
       " '-',\n",
       " 'mail',\n",
       " 'and',\n",
       " 'document',\n",
       " 'preparation',\n",
       " 'senior',\n",
       " 'finance',\n",
       " 'software',\n",
       " 'researcher',\n",
       " 'and',\n",
       " 'engineer',\n",
       " 'digital',\n",
       " 'developer',\n",
       " 'as3',\n",
       " '/',\n",
       " 'flash',\n",
       " 'developer',\n",
       " 'production',\n",
       " 'supervisor',\n",
       " 'new',\n",
       " 'product',\n",
       " 'development',\n",
       " 'project',\n",
       " 'leader',\n",
       " 'ruby',\n",
       " 'automation',\n",
       " 'engineer',\n",
       " '&',\n",
       " 'ruby',\n",
       " 'on',\n",
       " 'rails',\n",
       " 'engineer',\n",
       " '-',\n",
       " '2',\n",
       " 'roles',\n",
       " 'tasting',\n",
       " 'adventures',\n",
       " 'presenter',\n",
       " 'branch',\n",
       " 'associate',\n",
       " 'customer',\n",
       " 'service',\n",
       " 'associate',\n",
       " '-',\n",
       " 'part',\n",
       " 'time',\n",
       " 'specialist',\n",
       " 'obs/gyn',\n",
       " 'call',\n",
       " 'attendant',\n",
       " '-',\n",
       " 'part',\n",
       " 'time',\n",
       " 'senior',\n",
       " 'full-stack',\n",
       " 'engineer',\n",
       " '-',\n",
       " 'ruby',\n",
       " 'on',\n",
       " 'rails',\n",
       " '(technical',\n",
       " 'lead)',\n",
       " 'medical',\n",
       " 'coder',\n",
       " 'mid-senior',\n",
       " '.net',\n",
       " 'or',\n",
       " 'xamarin',\n",
       " 'developer',\n",
       " '200k',\n",
       " '+',\n",
       " 'management',\n",
       " 'position',\n",
       " 'for',\n",
       " 'experienced',\n",
       " 'merchant',\n",
       " 'cash',\n",
       " 'advance',\n",
       " 'reps',\n",
       " 'product',\n",
       " 'manager',\n",
       " 'english',\n",
       " 'teacher',\n",
       " 'abroad',\n",
       " 'customer',\n",
       " 'service',\n",
       " 'technical',\n",
       " 'specialist',\n",
       " 'edinburgh',\n",
       " 'fragrance',\n",
       " 'and',\n",
       " 'beauty',\n",
       " 'promotional',\n",
       " 'staff',\n",
       " 'mail',\n",
       " 'processing',\n",
       " 'associate',\n",
       " '-',\n",
       " 'general',\n",
       " 'clerk',\n",
       " '1',\n",
       " 'customer',\n",
       " 'service',\n",
       " 'associate',\n",
       " 'research',\n",
       " 'associate',\n",
       " 'customer',\n",
       " 'service',\n",
       " 'team',\n",
       " 'lead',\n",
       " 'customer',\n",
       " 'service',\n",
       " 'associate',\n",
       " '-',\n",
       " 'on',\n",
       " 'call',\n",
       " 'sales',\n",
       " 'and',\n",
       " 'partnerships',\n",
       " 'intern',\n",
       " 'english',\n",
       " 'teacher',\n",
       " 'abroad',\n",
       " 'marketing',\n",
       " 'manager',\n",
       " 'recruitment',\n",
       " 'consultant',\n",
       " 'wah',\n",
       " 'customer',\n",
       " 'service',\n",
       " 'repersentative',\n",
       " 'administrative',\n",
       " 'assistant',\n",
       " 'wf17',\n",
       " '9lu',\n",
       " 'customer',\n",
       " 'service',\n",
       " 'apprenticeship',\n",
       " 'under',\n",
       " 'nas',\n",
       " '16-18',\n",
       " 'year',\n",
       " 'olds',\n",
       " 'only!',\n",
       " 'senior',\n",
       " 'marketing',\n",
       " 'manager',\n",
       " 'software',\n",
       " 'test',\n",
       " 'engineer',\n",
       " '[qa]:',\n",
       " 'cucumber',\n",
       " '/',\n",
       " 'lamp',\n",
       " '/',\n",
       " 'automation',\n",
       " '/',\n",
       " 'jenkins',\n",
       " '/',\n",
       " 'web',\n",
       " 'testing',\n",
       " '/',\n",
       " 'financial',\n",
       " 'startup',\n",
       " 'customer',\n",
       " 'service',\n",
       " 'associate',\n",
       " 'ic&e',\n",
       " 'technician',\n",
       " 'english',\n",
       " 'teacher',\n",
       " 'abroad',\n",
       " 'cad',\n",
       " 'operator',\n",
       " 'english',\n",
       " 'teacher',\n",
       " 'abroad',\n",
       " 'marketing',\n",
       " 'administrator',\n",
       " 'customer',\n",
       " 'service',\n",
       " 'associate',\n",
       " '-',\n",
       " 'part',\n",
       " 'time',\n",
       " 'shipping',\n",
       " 'clerk',\n",
       " 'manager',\n",
       " 'of',\n",
       " 'support',\n",
       " 'services',\n",
       " 'gatwick',\n",
       " 'customer',\n",
       " 'service',\n",
       " 'apprenticeship',\n",
       " '16-18',\n",
       " 'year',\n",
       " 'olds',\n",
       " 'only',\n",
       " 'senior',\n",
       " 'developer',\n",
       " 'at',\n",
       " 'a',\n",
       " 'startup',\n",
       " 'investment',\n",
       " 'studio',\n",
       " 'software',\n",
       " 'project',\n",
       " 'manager',\n",
       " 'director',\n",
       " 'of',\n",
       " 'client',\n",
       " 'engagement',\n",
       " 'customer',\n",
       " 'services',\n",
       " 'associate',\n",
       " '-',\n",
       " 'data',\n",
       " 'entry',\n",
       " 'customer',\n",
       " 'service',\n",
       " 'associate',\n",
       " '-',\n",
       " 'part',\n",
       " 'time',\n",
       " 'customer',\n",
       " 'service',\n",
       " 'associate',\n",
       " '-',\n",
       " 'part',\n",
       " 'time',\n",
       " 'operations',\n",
       " 'manager',\n",
       " 'regional',\n",
       " 'sales',\n",
       " 'director',\n",
       " '-',\n",
       " 'west',\n",
       " 'birmingham',\n",
       " 'business',\n",
       " 'admin',\n",
       " 'apprenticeship',\n",
       " 'under',\n",
       " 'nas',\n",
       " '16-18',\n",
       " 'year',\n",
       " 'olds',\n",
       " 'only',\n",
       " 'executive',\n",
       " 'assistant',\n",
       " 'materials',\n",
       " 'manager',\n",
       " 'member',\n",
       " 'of',\n",
       " 'technical',\n",
       " 'staff,',\n",
       " 'backend',\n",
       " 'english',\n",
       " 'teacher',\n",
       " 'abroad',\n",
       " 'executive',\n",
       " 'administrative',\n",
       " 'assistant',\n",
       " 'smart-meter',\n",
       " 'expert',\n",
       " 'english',\n",
       " 'teacher',\n",
       " 'abroad',\n",
       " 'english',\n",
       " 'teacher',\n",
       " 'abroad',\n",
       " 'customer',\n",
       " 'service',\n",
       " 'associate',\n",
       " '-',\n",
       " 'part',\n",
       " 'time',\n",
       " 'marketing',\n",
       " 'associate',\n",
       " 'game',\n",
       " '&',\n",
       " 'feature',\n",
       " 'specialist',\n",
       " 'pharmaceutical',\n",
       " '/',\n",
       " 'compound',\n",
       " 'sales',\n",
       " 'representative-',\n",
       " 'georgia',\n",
       " 'precision',\n",
       " 'ag',\n",
       " 'intern',\n",
       " 'spring',\n",
       " '2015',\n",
       " '$2000',\n",
       " 'per',\n",
       " 'month',\n",
       " 'customer',\n",
       " 'service',\n",
       " 'associate',\n",
       " 'customer',\n",
       " 'service',\n",
       " 'associate',\n",
       " '-',\n",
       " 'call',\n",
       " 'attendant',\n",
       " 'milton',\n",
       " 'keynes',\n",
       " 'fragrance',\n",
       " 'and',\n",
       " 'beauty',\n",
       " 'promotional',\n",
       " 'staff',\n",
       " 'senior',\n",
       " 'java',\n",
       " 'developer',\n",
       " 'english',\n",
       " 'teacher',\n",
       " 'abroad',\n",
       " 'senior',\n",
       " 'business',\n",
       " 'development',\n",
       " 'manager',\n",
       " 'english',\n",
       " 'teacher',\n",
       " 'abroad',\n",
       " 'customer',\n",
       " 'service',\n",
       " 'associate',\n",
       " 'head',\n",
       " 'of',\n",
       " 'marketing',\n",
       " '(option',\n",
       " 'cmo)',\n",
       " 'customer',\n",
       " 'service',\n",
       " 'technical',\n",
       " 'specialist-',\n",
       " 'reprographics',\n",
       " 'specialist',\n",
       " 'customer',\n",
       " 'service',\n",
       " 'associate',\n",
       " 'english',\n",
       " 'teacher',\n",
       " 'abroad',\n",
       " 'customer',\n",
       " 'service',\n",
       " 'associate',\n",
       " 'bi',\n",
       " 'developer',\n",
       " 'english',\n",
       " 'teacher',\n",
       " 'abroad',\n",
       " '(conversational)',\n",
       " 'forward',\n",
       " 'cap.',\n",
       " '.net',\n",
       " 'web',\n",
       " 'developer',\n",
       " 'customer',\n",
       " 'service',\n",
       " 'associate',\n",
       " 'cnc',\n",
       " 'programmer',\n",
       " 'ui/ux',\n",
       " 'developer',\n",
       " 'at',\n",
       " 'starttech',\n",
       " 'ventures',\n",
       " 'account',\n",
       " 'executive',\n",
       " '-',\n",
       " 'philadelphia',\n",
       " 'web',\n",
       " 'developer',\n",
       " 'english',\n",
       " 'teacher',\n",
       " 'abroad',\n",
       " 'digital',\n",
       " 'sales',\n",
       " 'manager',\n",
       " '-',\n",
       " 'high',\n",
       " 'end',\n",
       " 'decor',\n",
       " 'senior',\n",
       " 'project',\n",
       " 'manager',\n",
       " 'production',\n",
       " 'operator',\n",
       " '$16.50/hr',\n",
       " 'customer',\n",
       " 'service',\n",
       " 'professional',\n",
       " '-',\n",
       " 'property',\n",
       " 'management',\n",
       " 'industry',\n",
       " 'exp.',\n",
       " 'choose',\n",
       " 'your',\n",
       " 'own',\n",
       " 'adventure',\n",
       " 'english',\n",
       " 'teacher',\n",
       " 'abroad',\n",
       " 'customer',\n",
       " 'support',\n",
       " 'professional',\n",
       " 'general',\n",
       " 'laborers',\n",
       " 'field',\n",
       " 'services',\n",
       " 'supervisor',\n",
       " 'vp',\n",
       " 'of',\n",
       " 'engineering',\n",
       " 'account',\n",
       " 'manager',\n",
       " '(fashion)',\n",
       " 'customer',\n",
       " 'service',\n",
       " 'associate',\n",
       " '-',\n",
       " 'data',\n",
       " 'entry',\n",
       " 'marketing',\n",
       " 'executive',\n",
       " 'sales',\n",
       " 'and',\n",
       " 'marketing',\n",
       " 'intern',\n",
       " 'exports',\n",
       " 'area',\n",
       " 'manager',\n",
       " 'entry',\n",
       " 'level',\n",
       " 'sales',\n",
       " 'marketing',\n",
       " 'sales',\n",
       " 'assistant',\n",
       " 'customer',\n",
       " 'service',\n",
       " 'team',\n",
       " 'lead',\n",
       " 'micro-grid',\n",
       " 'systems',\n",
       " 'engineer',\n",
       " 'system',\n",
       " 'administrator',\n",
       " \"registrar's\",\n",
       " 'in',\n",
       " 'psychiatry',\n",
       " 'technician',\n",
       " 'instrument',\n",
       " '&',\n",
       " 'controls',\n",
       " 'newcastle',\n",
       " 'fragrance',\n",
       " 'and',\n",
       " 'beauty',\n",
       " 'promotional',\n",
       " 'staff',\n",
       " 'customer',\n",
       " 'service',\n",
       " 'associate',\n",
       " '-',\n",
       " 'part',\n",
       " 'time',\n",
       " 'english',\n",
       " 'teacher',\n",
       " 'abroad',\n",
       " 'underwriter',\n",
       " 'director',\n",
       " 'of',\n",
       " 'strategic',\n",
       " 'planning',\n",
       " 'internal',\n",
       " 'recruiter',\n",
       " 'sales',\n",
       " 'executive',\n",
       " 'english',\n",
       " 'teacher',\n",
       " 'abroad',\n",
       " 'facilities',\n",
       " 'engineer',\n",
       " 'manager',\n",
       " 'of',\n",
       " 'patient',\n",
       " 'care-women/families/baby',\n",
       " '(near',\n",
       " 'oshkosh,',\n",
       " 'wi)',\n",
       " 'growth',\n",
       " 'wunderkind',\n",
       " '(paid',\n",
       " 'internship)',\n",
       " 'reading',\n",
       " 'fragrance/beauty',\n",
       " 'promotional',\n",
       " 'staff',\n",
       " 'receptionist',\n",
       " 'medical',\n",
       " 'scribe',\n",
       " '(testing)',\n",
       " 'english',\n",
       " 'teacher',\n",
       " 'abroad',\n",
       " 'english',\n",
       " 'teacher',\n",
       " 'abroad',\n",
       " 'entry',\n",
       " 'level',\n",
       " 'sales',\n",
       " 'technical',\n",
       " 'co-founder',\n",
       " 'manager,',\n",
       " 'network',\n",
       " 'engineering',\n",
       " 'sales',\n",
       " 'and',\n",
       " 'operations',\n",
       " 'associate',\n",
       " 'marketing',\n",
       " 'manager',\n",
       " 'senior',\n",
       " 'rails',\n",
       " 'developer',\n",
       " 'english',\n",
       " 'teacher',\n",
       " 'abroad',\n",
       " 'software',\n",
       " 'developer',\n",
       " 'junior',\n",
       " 'funding',\n",
       " 'specialist',\n",
       " '(sales)',\n",
       " 'outside',\n",
       " 'sales',\n",
       " 'professional',\n",
       " 'media',\n",
       " 'planner',\n",
       " 'java',\n",
       " 'solution',\n",
       " 'architect',\n",
       " 'english',\n",
       " 'teacher',\n",
       " 'abroad',\n",
       " 'front',\n",
       " 'end',\n",
       " 'developer',\n",
       " 'junior',\n",
       " 'python',\n",
       " 'developer',\n",
       " 'rma',\n",
       " 'coordinator',\n",
       " 'baby',\n",
       " 'care',\n",
       " 'advisor',\n",
       " 'data',\n",
       " 'entry',\n",
       " 'clerk',\n",
       " 'ii',\n",
       " 'english',\n",
       " 'teacher',\n",
       " 'abroad',\n",
       " 'customer',\n",
       " 'service',\n",
       " 'associate',\n",
       " 'customer',\n",
       " 'service',\n",
       " 'associate',\n",
       " '-',\n",
       " 'part',\n",
       " 'time',\n",
       " 'engagement',\n",
       " 'executive',\n",
       " 'customer',\n",
       " 'service',\n",
       " 'associate',\n",
       " 'customer',\n",
       " 'service',\n",
       " 'associate',\n",
       " 'recruiter/recruiting',\n",
       " 'assistant',\n",
       " 'ic&e',\n",
       " 'technician',\n",
       " 'mt',\n",
       " 'poso',\n",
       " 'english',\n",
       " 'teacher',\n",
       " 'abroad',\n",
       " 'head',\n",
       " 'of',\n",
       " 'client',\n",
       " 'services',\n",
       " 'junior',\n",
       " 'systems',\n",
       " 'administrator',\n",
       " 'corporate',\n",
       " 'sales',\n",
       " 'director',\n",
       " 'service',\n",
       " 'delivery',\n",
       " 'manager',\n",
       " '2',\n",
       " 'dn4',\n",
       " 'apprentice',\n",
       " 'admin',\n",
       " 'assistant',\n",
       " 'under',\n",
       " 'nas',\n",
       " '16-18',\n",
       " 'year',\n",
       " 'olds',\n",
       " 'only',\n",
       " 'lead',\n",
       " 'creative',\n",
       " 'developer',\n",
       " 'english',\n",
       " 'teacher',\n",
       " 'abroad',\n",
       " 'customer',\n",
       " 'service',\n",
       " 'technical',\n",
       " 'specialist',\n",
       " 'settlements',\n",
       " 'analyst',\n",
       " 'english',\n",
       " 'teacher',\n",
       " 'abroad',\n",
       " 'telesales',\n",
       " 'branch',\n",
       " 'associate',\n",
       " 'service',\n",
       " 'desk',\n",
       " '(help',\n",
       " 'desk/',\n",
       " 'desktop',\n",
       " 'support)',\n",
       " 'tier',\n",
       " '1/2',\n",
       " '-',\n",
       " 'healthcare',\n",
       " 'it',\n",
       " 'customer',\n",
       " 'service',\n",
       " 'associate',\n",
       " 'english',\n",
       " 'teacher',\n",
       " 'abroad',\n",
       " 'business',\n",
       " 'admin',\n",
       " 'apprenticeship',\n",
       " 'under',\n",
       " 'nas',\n",
       " '16-18',\n",
       " 'year',\n",
       " 'olds',\n",
       " 'only',\n",
       " 'web',\n",
       " 'support',\n",
       " 'specialist',\n",
       " 'postgraduate',\n",
       " 'certificate',\n",
       " 'in',\n",
       " 'social',\n",
       " 'innovation',\n",
       " 'management',\n",
       " 'kenya',\n",
       " '-',\n",
       " 'march',\n",
       " '2015',\n",
       " 'wf5',\n",
       " '9hf',\n",
       " 'recruitment',\n",
       " 'apprenticeship',\n",
       " 'available',\n",
       " 'under',\n",
       " 'nas',\n",
       " '16-24',\n",
       " 'year',\n",
       " 'olds',\n",
       " 'only!',\n",
       " 'sharepoint',\n",
       " 'developer',\n",
       " 'and',\n",
       " 'administrator',\n",
       " 'english',\n",
       " 'teacher',\n",
       " 'abroad',\n",
       " 'nanny',\n",
       " 'production',\n",
       " 'supervisor',\n",
       " '-',\n",
       " 'chemical',\n",
       " 'manufacturing',\n",
       " 'exp',\n",
       " '-',\n",
       " 'st.',\n",
       " 'louis,',\n",
       " 'mo',\n",
       " 'customer',\n",
       " 'service',\n",
       " 'associate',\n",
       " 'investor',\n",
       " 'sales',\n",
       " 'analyst',\n",
       " 'area',\n",
       " 'vehicle',\n",
       " 'purchaser',\n",
       " 'english',\n",
       " 'teacher',\n",
       " 'overseas',\n",
       " 'senior',\n",
       " 'industrial',\n",
       " 'hygiene',\n",
       " 'project',\n",
       " 'manager',\n",
       " 'junior',\n",
       " 'funding',\n",
       " 'specialist',\n",
       " '(sales)',\n",
       " 'english',\n",
       " 'teacher',\n",
       " 'abroad',\n",
       " 'head',\n",
       " 'of',\n",
       " 'communications',\n",
       " 'head',\n",
       " 'of',\n",
       " 'investor',\n",
       " 'development',\n",
       " 'it',\n",
       " 'engineer',\n",
       " 'helpdesk',\n",
       " 'specialist',\n",
       " 'senior',\n",
       " 'product',\n",
       " 'manager',\n",
       " 'food',\n",
       " 'quality',\n",
       " 'graduates:',\n",
       " 'english',\n",
       " 'teacher',\n",
       " 'abroad',\n",
       " 'cnc',\n",
       " 'programmer',\n",
       " 'risk',\n",
       " 'analyst',\n",
       " 'content',\n",
       " 'marketer',\n",
       " 'executive',\n",
       " 'assistant',\n",
       " '/',\n",
       " 'office',\n",
       " 'manager',\n",
       " 'driver',\n",
       " 'ii',\n",
       " ...]"
      ]
     },
     "execution_count": 130,
     "metadata": {},
     "output_type": "execute_result"
    }
   ],
   "source": [
    "\n",
    "\n",
    "df = data['title'] + data['']\n",
    "\n",
    "import nltk\n",
    "\n",
    "corpus = []\n",
    "for i in data['title']:\n",
    "    for j in i.split(): \n",
    "        j = j.lower() \n",
    "        corpus.append(j)\n",
    "    \n",
    "corpus  \n",
    "\n"
   ]
  },
  {
   "cell_type": "code",
   "execution_count": null,
   "metadata": {},
   "outputs": [],
   "source": []
  },
  {
   "cell_type": "code",
   "execution_count": null,
   "metadata": {},
   "outputs": [],
   "source": []
  },
  {
   "cell_type": "code",
   "execution_count": 204,
   "metadata": {
    "ExecuteTime": {
     "end_time": "2020-04-25T08:59:34.334766Z",
     "start_time": "2020-04-25T08:59:34.329766Z"
    }
   },
   "outputs": [],
   "source": [
    "from sklearn.linear_model import LogisticRegression\n",
    "from sklearn.model_selection import train_test_split"
   ]
  },
  {
   "cell_type": "code",
   "execution_count": 205,
   "metadata": {
    "ExecuteTime": {
     "end_time": "2020-04-25T08:59:34.673848Z",
     "start_time": "2020-04-25T08:59:34.669858Z"
    }
   },
   "outputs": [],
   "source": [
    "# Cargamos el modelo de Regresion Logistica\n",
    "lr = LogisticRegression()"
   ]
  },
  {
   "cell_type": "code",
   "execution_count": 206,
   "metadata": {
    "ExecuteTime": {
     "end_time": "2020-04-25T08:59:35.072828Z",
     "start_time": "2020-04-25T08:59:35.014982Z"
    }
   },
   "outputs": [],
   "source": [
    "data = data.fillna(0)"
   ]
  },
  {
   "cell_type": "code",
   "execution_count": 207,
   "metadata": {
    "ExecuteTime": {
     "end_time": "2020-04-25T08:59:35.461850Z",
     "start_time": "2020-04-25T08:59:35.427410Z"
    }
   },
   "outputs": [
    {
     "data": {
      "text/plain": [
       "job_id                 0\n",
       "title                  0\n",
       "location               0\n",
       "department             0\n",
       "salary_range           0\n",
       "company_profile        0\n",
       "description            0\n",
       "requirements           0\n",
       "benefits               0\n",
       "telecommuting          0\n",
       "has_company_logo       0\n",
       "has_questions          0\n",
       "employment_type        0\n",
       "required_experience    0\n",
       "required_education     0\n",
       "industry               0\n",
       "function               0\n",
       "fraudulent             0\n",
       "dtype: int64"
      ]
     },
     "execution_count": 207,
     "metadata": {},
     "output_type": "execute_result"
    }
   ],
   "source": [
    "data.isnull().sum()"
   ]
  },
  {
   "cell_type": "code",
   "execution_count": 208,
   "metadata": {
    "ExecuteTime": {
     "end_time": "2020-04-25T08:59:35.785028Z",
     "start_time": "2020-04-25T08:59:35.766075Z"
    }
   },
   "outputs": [],
   "source": [
    "df = data.sort_values(by ='fraudulent', ascending = False)\n",
    "df = df.head(1900)"
   ]
  },
  {
   "cell_type": "code",
   "execution_count": 209,
   "metadata": {
    "ExecuteTime": {
     "end_time": "2020-04-25T08:59:36.184972Z",
     "start_time": "2020-04-25T08:59:36.159021Z"
    }
   },
   "outputs": [],
   "source": [
    "# Split dataset in train/split\n",
    "df =  df[['has_company_logo', 'telecommuting', 'has_questions' , 'fraudulent']]\n",
    "x_train, x_test, y_train, y_test = train_test_split(df.drop(columns='fraudulent'), df['fraudulent'], test_size=0.2, random_state=42)"
   ]
  },
  {
   "cell_type": "code",
   "execution_count": 210,
   "metadata": {
    "ExecuteTime": {
     "end_time": "2020-04-25T08:59:36.570414Z",
     "start_time": "2020-04-25T08:59:36.554459Z"
    }
   },
   "outputs": [
    {
     "name": "stderr",
     "output_type": "stream",
     "text": [
      "C:\\Users\\jcmor\\Anaconda3\\lib\\site-packages\\sklearn\\linear_model\\logistic.py:432: FutureWarning: Default solver will be changed to 'lbfgs' in 0.22. Specify a solver to silence this warning.\n",
      "  FutureWarning)\n"
     ]
    },
    {
     "data": {
      "text/plain": [
       "LogisticRegression(C=1.0, class_weight=None, dual=False, fit_intercept=True,\n",
       "                   intercept_scaling=1, l1_ratio=None, max_iter=100,\n",
       "                   multi_class='warn', n_jobs=None, penalty='l2',\n",
       "                   random_state=None, solver='warn', tol=0.0001, verbose=0,\n",
       "                   warm_start=False)"
      ]
     },
     "execution_count": 210,
     "metadata": {},
     "output_type": "execute_result"
    }
   ],
   "source": [
    "lr.fit(x_train, y_train)"
   ]
  },
  {
   "cell_type": "code",
   "execution_count": 211,
   "metadata": {
    "ExecuteTime": {
     "end_time": "2020-04-25T08:59:36.938441Z",
     "start_time": "2020-04-25T08:59:36.920479Z"
    }
   },
   "outputs": [
    {
     "data": {
      "text/plain": [
       "0.7552631578947369"
      ]
     },
     "execution_count": 211,
     "metadata": {},
     "output_type": "execute_result"
    }
   ],
   "source": [
    "lr.score(x_test, y_test) #balancear"
   ]
  },
  {
   "cell_type": "code",
   "execution_count": 212,
   "metadata": {
    "ExecuteTime": {
     "end_time": "2020-04-25T08:59:37.277681Z",
     "start_time": "2020-04-25T08:59:37.272692Z"
    }
   },
   "outputs": [],
   "source": [
    "predict = lr.predict(x_test)"
   ]
  },
  {
   "cell_type": "code",
   "execution_count": 213,
   "metadata": {
    "ExecuteTime": {
     "end_time": "2020-04-25T08:59:37.603808Z",
     "start_time": "2020-04-25T08:59:37.588851Z"
    }
   },
   "outputs": [
    {
     "data": {
      "text/plain": [
       "array([[173,  35],\n",
       "       [ 58, 114]], dtype=int64)"
      ]
     },
     "execution_count": 213,
     "metadata": {},
     "output_type": "execute_result"
    }
   ],
   "source": [
    "from sklearn.metrics import confusion_matrix\n",
    "confusion_matrix(y_test, predict) #especifidad --> preferencia en indentificar los fraudes correctamente (minimizar los falsos positivos)"
   ]
  },
  {
   "cell_type": "code",
   "execution_count": 214,
   "metadata": {
    "ExecuteTime": {
     "end_time": "2020-04-25T08:59:38.009244Z",
     "start_time": "2020-04-25T08:59:37.972344Z"
    }
   },
   "outputs": [],
   "source": [
    "# Conclusion Natural Language Processing"
   ]
  },
  {
   "cell_type": "code",
   "execution_count": 215,
   "metadata": {
    "ExecuteTime": {
     "end_time": "2020-04-25T08:59:38.759019Z",
     "start_time": "2020-04-25T08:59:38.739084Z"
    }
   },
   "outputs": [
    {
     "data": {
      "text/plain": [
       "12163    0\n",
       "12932    0\n",
       "12974    0\n",
       "5016     1\n",
       "17611    1\n",
       "Name: fraudulent, dtype: int64"
      ]
     },
     "execution_count": 215,
     "metadata": {},
     "output_type": "execute_result"
    }
   ],
   "source": [
    "y_train.head()"
   ]
  },
  {
   "cell_type": "code",
   "execution_count": 216,
   "metadata": {
    "ExecuteTime": {
     "end_time": "2020-04-25T08:59:39.233276Z",
     "start_time": "2020-04-25T08:59:39.191387Z"
    }
   },
   "outputs": [
    {
     "data": {
      "text/html": [
       "<div>\n",
       "<style scoped>\n",
       "    .dataframe tbody tr th:only-of-type {\n",
       "        vertical-align: middle;\n",
       "    }\n",
       "\n",
       "    .dataframe tbody tr th {\n",
       "        vertical-align: top;\n",
       "    }\n",
       "\n",
       "    .dataframe thead th {\n",
       "        text-align: right;\n",
       "    }\n",
       "</style>\n",
       "<table border=\"1\" class=\"dataframe\">\n",
       "  <thead>\n",
       "    <tr style=\"text-align: right;\">\n",
       "      <th></th>\n",
       "      <th>job_id</th>\n",
       "      <th>title</th>\n",
       "      <th>location</th>\n",
       "      <th>department</th>\n",
       "      <th>salary_range</th>\n",
       "      <th>company_profile</th>\n",
       "      <th>description</th>\n",
       "      <th>requirements</th>\n",
       "      <th>benefits</th>\n",
       "      <th>telecommuting</th>\n",
       "      <th>has_company_logo</th>\n",
       "      <th>has_questions</th>\n",
       "      <th>employment_type</th>\n",
       "      <th>required_experience</th>\n",
       "      <th>required_education</th>\n",
       "      <th>industry</th>\n",
       "      <th>function</th>\n",
       "      <th>fraudulent</th>\n",
       "    </tr>\n",
       "  </thead>\n",
       "  <tbody>\n",
       "    <tr>\n",
       "      <td>0</td>\n",
       "      <td>1</td>\n",
       "      <td>Marketing Intern</td>\n",
       "      <td>US, NY, New York</td>\n",
       "      <td>Marketing</td>\n",
       "      <td>0</td>\n",
       "      <td>We're Food52, and we've created a groundbreaki...</td>\n",
       "      <td>Food52, a fast-growing, James Beard Award-winn...</td>\n",
       "      <td>Experience with content management systems a m...</td>\n",
       "      <td>0</td>\n",
       "      <td>0</td>\n",
       "      <td>1</td>\n",
       "      <td>0</td>\n",
       "      <td>Other</td>\n",
       "      <td>Internship</td>\n",
       "      <td>0</td>\n",
       "      <td>0</td>\n",
       "      <td>Marketing</td>\n",
       "      <td>0</td>\n",
       "    </tr>\n",
       "    <tr>\n",
       "      <td>1</td>\n",
       "      <td>2</td>\n",
       "      <td>Customer Service - Cloud Video Production</td>\n",
       "      <td>NZ, , Auckland</td>\n",
       "      <td>Success</td>\n",
       "      <td>0</td>\n",
       "      <td>90 Seconds, the worlds Cloud Video Production ...</td>\n",
       "      <td>Organised - Focused - Vibrant - Awesome!Do you...</td>\n",
       "      <td>What we expect from you:Your key responsibilit...</td>\n",
       "      <td>What you will get from usThrough being part of...</td>\n",
       "      <td>0</td>\n",
       "      <td>1</td>\n",
       "      <td>0</td>\n",
       "      <td>Full-time</td>\n",
       "      <td>Not Applicable</td>\n",
       "      <td>0</td>\n",
       "      <td>Marketing and Advertising</td>\n",
       "      <td>Customer Service</td>\n",
       "      <td>0</td>\n",
       "    </tr>\n",
       "    <tr>\n",
       "      <td>2</td>\n",
       "      <td>3</td>\n",
       "      <td>Commissioning Machinery Assistant (CMA)</td>\n",
       "      <td>US, IA, Wever</td>\n",
       "      <td>0</td>\n",
       "      <td>0</td>\n",
       "      <td>Valor Services provides Workforce Solutions th...</td>\n",
       "      <td>Our client, located in Houston, is actively se...</td>\n",
       "      <td>Implement pre-commissioning and commissioning ...</td>\n",
       "      <td>0</td>\n",
       "      <td>0</td>\n",
       "      <td>1</td>\n",
       "      <td>0</td>\n",
       "      <td>0</td>\n",
       "      <td>0</td>\n",
       "      <td>0</td>\n",
       "      <td>0</td>\n",
       "      <td>0</td>\n",
       "      <td>0</td>\n",
       "    </tr>\n",
       "    <tr>\n",
       "      <td>3</td>\n",
       "      <td>4</td>\n",
       "      <td>Account Executive - Washington DC</td>\n",
       "      <td>US, DC, Washington</td>\n",
       "      <td>Sales</td>\n",
       "      <td>0</td>\n",
       "      <td>Our passion for improving quality of life thro...</td>\n",
       "      <td>THE COMPANY: ESRI – Environmental Systems Rese...</td>\n",
       "      <td>EDUCATION: Bachelor’s or Master’s in GIS, busi...</td>\n",
       "      <td>Our culture is anything but corporate—we have ...</td>\n",
       "      <td>0</td>\n",
       "      <td>1</td>\n",
       "      <td>0</td>\n",
       "      <td>Full-time</td>\n",
       "      <td>Mid-Senior level</td>\n",
       "      <td>Bachelor's Degree</td>\n",
       "      <td>Computer Software</td>\n",
       "      <td>Sales</td>\n",
       "      <td>0</td>\n",
       "    </tr>\n",
       "    <tr>\n",
       "      <td>4</td>\n",
       "      <td>5</td>\n",
       "      <td>Bill Review Manager</td>\n",
       "      <td>US, FL, Fort Worth</td>\n",
       "      <td>0</td>\n",
       "      <td>0</td>\n",
       "      <td>SpotSource Solutions LLC is a Global Human Cap...</td>\n",
       "      <td>JOB TITLE: Itemization Review ManagerLOCATION:...</td>\n",
       "      <td>QUALIFICATIONS:RN license in the State of Texa...</td>\n",
       "      <td>Full Benefits Offered</td>\n",
       "      <td>0</td>\n",
       "      <td>1</td>\n",
       "      <td>1</td>\n",
       "      <td>Full-time</td>\n",
       "      <td>Mid-Senior level</td>\n",
       "      <td>Bachelor's Degree</td>\n",
       "      <td>Hospital &amp; Health Care</td>\n",
       "      <td>Health Care Provider</td>\n",
       "      <td>0</td>\n",
       "    </tr>\n",
       "    <tr>\n",
       "      <td>...</td>\n",
       "      <td>...</td>\n",
       "      <td>...</td>\n",
       "      <td>...</td>\n",
       "      <td>...</td>\n",
       "      <td>...</td>\n",
       "      <td>...</td>\n",
       "      <td>...</td>\n",
       "      <td>...</td>\n",
       "      <td>...</td>\n",
       "      <td>...</td>\n",
       "      <td>...</td>\n",
       "      <td>...</td>\n",
       "      <td>...</td>\n",
       "      <td>...</td>\n",
       "      <td>...</td>\n",
       "      <td>...</td>\n",
       "      <td>...</td>\n",
       "      <td>...</td>\n",
       "    </tr>\n",
       "    <tr>\n",
       "      <td>17875</td>\n",
       "      <td>17876</td>\n",
       "      <td>Account Director - Distribution</td>\n",
       "      <td>CA, ON, Toronto</td>\n",
       "      <td>Sales</td>\n",
       "      <td>0</td>\n",
       "      <td>Vend is looking for some awesome new talent to...</td>\n",
       "      <td>Just in case this is the first time you’ve vis...</td>\n",
       "      <td>To ace this role you:Will eat comprehensive St...</td>\n",
       "      <td>What can you expect from us?We have an open cu...</td>\n",
       "      <td>0</td>\n",
       "      <td>1</td>\n",
       "      <td>1</td>\n",
       "      <td>Full-time</td>\n",
       "      <td>Mid-Senior level</td>\n",
       "      <td>0</td>\n",
       "      <td>Computer Software</td>\n",
       "      <td>Sales</td>\n",
       "      <td>0</td>\n",
       "    </tr>\n",
       "    <tr>\n",
       "      <td>17876</td>\n",
       "      <td>17877</td>\n",
       "      <td>Payroll Accountant</td>\n",
       "      <td>US, PA, Philadelphia</td>\n",
       "      <td>Accounting</td>\n",
       "      <td>0</td>\n",
       "      <td>WebLinc is the e-commerce platform and service...</td>\n",
       "      <td>The Payroll Accountant will focus primarily on...</td>\n",
       "      <td>- B.A. or B.S. in Accounting- Desire to have f...</td>\n",
       "      <td>Health &amp;amp; WellnessMedical planPrescription ...</td>\n",
       "      <td>0</td>\n",
       "      <td>1</td>\n",
       "      <td>1</td>\n",
       "      <td>Full-time</td>\n",
       "      <td>Mid-Senior level</td>\n",
       "      <td>Bachelor's Degree</td>\n",
       "      <td>Internet</td>\n",
       "      <td>Accounting/Auditing</td>\n",
       "      <td>0</td>\n",
       "    </tr>\n",
       "    <tr>\n",
       "      <td>17877</td>\n",
       "      <td>17878</td>\n",
       "      <td>Project Cost Control Staff Engineer - Cost Con...</td>\n",
       "      <td>US, TX, Houston</td>\n",
       "      <td>0</td>\n",
       "      <td>0</td>\n",
       "      <td>We Provide Full Time Permanent Positions for m...</td>\n",
       "      <td>Experienced Project Cost Control Staff Enginee...</td>\n",
       "      <td>At least 12 years professional experience.Abil...</td>\n",
       "      <td>0</td>\n",
       "      <td>0</td>\n",
       "      <td>0</td>\n",
       "      <td>0</td>\n",
       "      <td>Full-time</td>\n",
       "      <td>0</td>\n",
       "      <td>0</td>\n",
       "      <td>0</td>\n",
       "      <td>0</td>\n",
       "      <td>0</td>\n",
       "    </tr>\n",
       "    <tr>\n",
       "      <td>17878</td>\n",
       "      <td>17879</td>\n",
       "      <td>Graphic Designer</td>\n",
       "      <td>NG, LA, Lagos</td>\n",
       "      <td>0</td>\n",
       "      <td>0</td>\n",
       "      <td>0</td>\n",
       "      <td>Nemsia Studios is looking for an experienced v...</td>\n",
       "      <td>1. Must be fluent in the latest versions of Co...</td>\n",
       "      <td>Competitive salary (compensation will be based...</td>\n",
       "      <td>0</td>\n",
       "      <td>0</td>\n",
       "      <td>1</td>\n",
       "      <td>Contract</td>\n",
       "      <td>Not Applicable</td>\n",
       "      <td>Professional</td>\n",
       "      <td>Graphic Design</td>\n",
       "      <td>Design</td>\n",
       "      <td>0</td>\n",
       "    </tr>\n",
       "    <tr>\n",
       "      <td>17879</td>\n",
       "      <td>17880</td>\n",
       "      <td>Web Application Developers</td>\n",
       "      <td>NZ, N, Wellington</td>\n",
       "      <td>Engineering</td>\n",
       "      <td>0</td>\n",
       "      <td>Vend is looking for some awesome new talent to...</td>\n",
       "      <td>Who are we?Vend is an award winning web based ...</td>\n",
       "      <td>We want to hear from you if:You have an in-dep...</td>\n",
       "      <td>0</td>\n",
       "      <td>0</td>\n",
       "      <td>1</td>\n",
       "      <td>1</td>\n",
       "      <td>Full-time</td>\n",
       "      <td>Mid-Senior level</td>\n",
       "      <td>0</td>\n",
       "      <td>Computer Software</td>\n",
       "      <td>Engineering</td>\n",
       "      <td>0</td>\n",
       "    </tr>\n",
       "  </tbody>\n",
       "</table>\n",
       "<p>17880 rows × 18 columns</p>\n",
       "</div>"
      ],
      "text/plain": [
       "       job_id                                              title  \\\n",
       "0           1                                   Marketing Intern   \n",
       "1           2          Customer Service - Cloud Video Production   \n",
       "2           3            Commissioning Machinery Assistant (CMA)   \n",
       "3           4                  Account Executive - Washington DC   \n",
       "4           5                                Bill Review Manager   \n",
       "...       ...                                                ...   \n",
       "17875   17876                   Account Director - Distribution    \n",
       "17876   17877                                 Payroll Accountant   \n",
       "17877   17878  Project Cost Control Staff Engineer - Cost Con...   \n",
       "17878   17879                                   Graphic Designer   \n",
       "17879   17880                         Web Application Developers   \n",
       "\n",
       "                   location   department salary_range  \\\n",
       "0          US, NY, New York    Marketing            0   \n",
       "1            NZ, , Auckland      Success            0   \n",
       "2             US, IA, Wever            0            0   \n",
       "3        US, DC, Washington        Sales            0   \n",
       "4        US, FL, Fort Worth            0            0   \n",
       "...                     ...          ...          ...   \n",
       "17875       CA, ON, Toronto        Sales            0   \n",
       "17876  US, PA, Philadelphia   Accounting            0   \n",
       "17877       US, TX, Houston            0            0   \n",
       "17878         NG, LA, Lagos            0            0   \n",
       "17879     NZ, N, Wellington  Engineering            0   \n",
       "\n",
       "                                         company_profile  \\\n",
       "0      We're Food52, and we've created a groundbreaki...   \n",
       "1      90 Seconds, the worlds Cloud Video Production ...   \n",
       "2      Valor Services provides Workforce Solutions th...   \n",
       "3      Our passion for improving quality of life thro...   \n",
       "4      SpotSource Solutions LLC is a Global Human Cap...   \n",
       "...                                                  ...   \n",
       "17875  Vend is looking for some awesome new talent to...   \n",
       "17876  WebLinc is the e-commerce platform and service...   \n",
       "17877  We Provide Full Time Permanent Positions for m...   \n",
       "17878                                                  0   \n",
       "17879  Vend is looking for some awesome new talent to...   \n",
       "\n",
       "                                             description  \\\n",
       "0      Food52, a fast-growing, James Beard Award-winn...   \n",
       "1      Organised - Focused - Vibrant - Awesome!Do you...   \n",
       "2      Our client, located in Houston, is actively se...   \n",
       "3      THE COMPANY: ESRI – Environmental Systems Rese...   \n",
       "4      JOB TITLE: Itemization Review ManagerLOCATION:...   \n",
       "...                                                  ...   \n",
       "17875  Just in case this is the first time you’ve vis...   \n",
       "17876  The Payroll Accountant will focus primarily on...   \n",
       "17877  Experienced Project Cost Control Staff Enginee...   \n",
       "17878  Nemsia Studios is looking for an experienced v...   \n",
       "17879  Who are we?Vend is an award winning web based ...   \n",
       "\n",
       "                                            requirements  \\\n",
       "0      Experience with content management systems a m...   \n",
       "1      What we expect from you:Your key responsibilit...   \n",
       "2      Implement pre-commissioning and commissioning ...   \n",
       "3      EDUCATION: Bachelor’s or Master’s in GIS, busi...   \n",
       "4      QUALIFICATIONS:RN license in the State of Texa...   \n",
       "...                                                  ...   \n",
       "17875  To ace this role you:Will eat comprehensive St...   \n",
       "17876  - B.A. or B.S. in Accounting- Desire to have f...   \n",
       "17877  At least 12 years professional experience.Abil...   \n",
       "17878  1. Must be fluent in the latest versions of Co...   \n",
       "17879  We want to hear from you if:You have an in-dep...   \n",
       "\n",
       "                                                benefits  telecommuting  \\\n",
       "0                                                      0              0   \n",
       "1      What you will get from usThrough being part of...              0   \n",
       "2                                                      0              0   \n",
       "3      Our culture is anything but corporate—we have ...              0   \n",
       "4                                  Full Benefits Offered              0   \n",
       "...                                                  ...            ...   \n",
       "17875  What can you expect from us?We have an open cu...              0   \n",
       "17876  Health &amp; WellnessMedical planPrescription ...              0   \n",
       "17877                                                  0              0   \n",
       "17878  Competitive salary (compensation will be based...              0   \n",
       "17879                                                  0              0   \n",
       "\n",
       "       has_company_logo  has_questions employment_type required_experience  \\\n",
       "0                     1              0           Other          Internship   \n",
       "1                     1              0       Full-time      Not Applicable   \n",
       "2                     1              0               0                   0   \n",
       "3                     1              0       Full-time    Mid-Senior level   \n",
       "4                     1              1       Full-time    Mid-Senior level   \n",
       "...                 ...            ...             ...                 ...   \n",
       "17875                 1              1       Full-time    Mid-Senior level   \n",
       "17876                 1              1       Full-time    Mid-Senior level   \n",
       "17877                 0              0       Full-time                   0   \n",
       "17878                 0              1        Contract      Not Applicable   \n",
       "17879                 1              1       Full-time    Mid-Senior level   \n",
       "\n",
       "      required_education                   industry              function  \\\n",
       "0                      0                          0             Marketing   \n",
       "1                      0  Marketing and Advertising      Customer Service   \n",
       "2                      0                          0                     0   \n",
       "3      Bachelor's Degree          Computer Software                 Sales   \n",
       "4      Bachelor's Degree     Hospital & Health Care  Health Care Provider   \n",
       "...                  ...                        ...                   ...   \n",
       "17875                  0          Computer Software                 Sales   \n",
       "17876  Bachelor's Degree                   Internet   Accounting/Auditing   \n",
       "17877                  0                          0                     0   \n",
       "17878       Professional             Graphic Design                Design   \n",
       "17879                  0          Computer Software           Engineering   \n",
       "\n",
       "       fraudulent  \n",
       "0               0  \n",
       "1               0  \n",
       "2               0  \n",
       "3               0  \n",
       "4               0  \n",
       "...           ...  \n",
       "17875           0  \n",
       "17876           0  \n",
       "17877           0  \n",
       "17878           0  \n",
       "17879           0  \n",
       "\n",
       "[17880 rows x 18 columns]"
      ]
     },
     "execution_count": 216,
     "metadata": {},
     "output_type": "execute_result"
    }
   ],
   "source": [
    "data"
   ]
  },
  {
   "cell_type": "code",
   "execution_count": 217,
   "metadata": {
    "ExecuteTime": {
     "end_time": "2020-04-25T08:59:39.567398Z",
     "start_time": "2020-04-25T08:59:39.539469Z"
    }
   },
   "outputs": [
    {
     "data": {
      "text/html": [
       "<div>\n",
       "<style scoped>\n",
       "    .dataframe tbody tr th:only-of-type {\n",
       "        vertical-align: middle;\n",
       "    }\n",
       "\n",
       "    .dataframe tbody tr th {\n",
       "        vertical-align: top;\n",
       "    }\n",
       "\n",
       "    .dataframe thead th {\n",
       "        text-align: right;\n",
       "    }\n",
       "</style>\n",
       "<table border=\"1\" class=\"dataframe\">\n",
       "  <thead>\n",
       "    <tr style=\"text-align: right;\">\n",
       "      <th></th>\n",
       "      <th>job_id</th>\n",
       "      <th>telecommuting</th>\n",
       "      <th>has_company_logo</th>\n",
       "      <th>has_questions</th>\n",
       "      <th>fraudulent</th>\n",
       "    </tr>\n",
       "  </thead>\n",
       "  <tbody>\n",
       "    <tr>\n",
       "      <td>job_id</td>\n",
       "      <td>1.000000</td>\n",
       "      <td>-0.004559</td>\n",
       "      <td>-0.014539</td>\n",
       "      <td>-0.087025</td>\n",
       "      <td>0.079872</td>\n",
       "    </tr>\n",
       "    <tr>\n",
       "      <td>telecommuting</td>\n",
       "      <td>-0.004559</td>\n",
       "      <td>1.000000</td>\n",
       "      <td>-0.019836</td>\n",
       "      <td>0.020345</td>\n",
       "      <td>0.034523</td>\n",
       "    </tr>\n",
       "    <tr>\n",
       "      <td>has_company_logo</td>\n",
       "      <td>-0.014539</td>\n",
       "      <td>-0.019836</td>\n",
       "      <td>1.000000</td>\n",
       "      <td>0.233932</td>\n",
       "      <td>-0.261971</td>\n",
       "    </tr>\n",
       "    <tr>\n",
       "      <td>has_questions</td>\n",
       "      <td>-0.087025</td>\n",
       "      <td>0.020345</td>\n",
       "      <td>0.233932</td>\n",
       "      <td>1.000000</td>\n",
       "      <td>-0.091627</td>\n",
       "    </tr>\n",
       "    <tr>\n",
       "      <td>fraudulent</td>\n",
       "      <td>0.079872</td>\n",
       "      <td>0.034523</td>\n",
       "      <td>-0.261971</td>\n",
       "      <td>-0.091627</td>\n",
       "      <td>1.000000</td>\n",
       "    </tr>\n",
       "  </tbody>\n",
       "</table>\n",
       "</div>"
      ],
      "text/plain": [
       "                    job_id  telecommuting  has_company_logo  has_questions  \\\n",
       "job_id            1.000000      -0.004559         -0.014539      -0.087025   \n",
       "telecommuting    -0.004559       1.000000         -0.019836       0.020345   \n",
       "has_company_logo -0.014539      -0.019836          1.000000       0.233932   \n",
       "has_questions    -0.087025       0.020345          0.233932       1.000000   \n",
       "fraudulent        0.079872       0.034523         -0.261971      -0.091627   \n",
       "\n",
       "                  fraudulent  \n",
       "job_id              0.079872  \n",
       "telecommuting       0.034523  \n",
       "has_company_logo   -0.261971  \n",
       "has_questions      -0.091627  \n",
       "fraudulent          1.000000  "
      ]
     },
     "execution_count": 217,
     "metadata": {},
     "output_type": "execute_result"
    }
   ],
   "source": [
    "data.corr()"
   ]
  },
  {
   "cell_type": "code",
   "execution_count": 221,
   "metadata": {
    "ExecuteTime": {
     "end_time": "2020-04-25T09:06:42.875242Z",
     "start_time": "2020-04-25T09:06:42.312276Z"
    }
   },
   "outputs": [
    {
     "name": "stdout",
     "output_type": "stream",
     "text": [
      "Accuracy: 0.76 (+/- 0.04)\n",
      "0.8026315789473685\n",
      "0.7236842105263158\n"
     ]
    }
   ],
   "source": [
    "from sklearn.model_selection import ShuffleSplit\n",
    "from sklearn.model_selection import cross_val_score\n",
    "from sklearn import svm\n",
    "\n",
    "clf = svm.SVC(kernel='linear', C=1)\n",
    "\n",
    "n_samples = df.drop(columns='fraudulent').shape[0]\n",
    "cv = ShuffleSplit(n_splits=20, test_size=0.2, random_state=0)\n",
    "scores = cross_val_score(clf, df.drop(columns='fraudulent'), df['fraudulent'], cv=cv)\n",
    "print(\"Accuracy: %0.2f (+/- %0.2f)\" % (scores.mean(), scores.std() * 2))\n",
    "print(np.max(scores))\n",
    "print(np.min(scores))"
   ]
  },
  {
   "cell_type": "code",
   "execution_count": 222,
   "metadata": {
    "ExecuteTime": {
     "end_time": "2020-04-25T09:18:06.641018Z",
     "start_time": "2020-04-25T09:18:06.622069Z"
    }
   },
   "outputs": [
    {
     "data": {
      "text/html": [
       "<div>\n",
       "<style scoped>\n",
       "    .dataframe tbody tr th:only-of-type {\n",
       "        vertical-align: middle;\n",
       "    }\n",
       "\n",
       "    .dataframe tbody tr th {\n",
       "        vertical-align: top;\n",
       "    }\n",
       "\n",
       "    .dataframe thead th {\n",
       "        text-align: right;\n",
       "    }\n",
       "</style>\n",
       "<table border=\"1\" class=\"dataframe\">\n",
       "  <thead>\n",
       "    <tr style=\"text-align: right;\">\n",
       "      <th></th>\n",
       "      <th>has_company_logo</th>\n",
       "      <th>telecommuting</th>\n",
       "      <th>has_questions</th>\n",
       "      <th>fraudulent</th>\n",
       "    </tr>\n",
       "  </thead>\n",
       "  <tbody>\n",
       "    <tr>\n",
       "      <td>4577</td>\n",
       "      <td>0</td>\n",
       "      <td>0</td>\n",
       "      <td>0</td>\n",
       "      <td>1</td>\n",
       "    </tr>\n",
       "    <tr>\n",
       "      <td>7477</td>\n",
       "      <td>0</td>\n",
       "      <td>0</td>\n",
       "      <td>0</td>\n",
       "      <td>1</td>\n",
       "    </tr>\n",
       "    <tr>\n",
       "      <td>2078</td>\n",
       "      <td>1</td>\n",
       "      <td>0</td>\n",
       "      <td>0</td>\n",
       "      <td>1</td>\n",
       "    </tr>\n",
       "    <tr>\n",
       "      <td>7473</td>\n",
       "      <td>0</td>\n",
       "      <td>0</td>\n",
       "      <td>0</td>\n",
       "      <td>1</td>\n",
       "    </tr>\n",
       "    <tr>\n",
       "      <td>7469</td>\n",
       "      <td>0</td>\n",
       "      <td>0</td>\n",
       "      <td>0</td>\n",
       "      <td>1</td>\n",
       "    </tr>\n",
       "    <tr>\n",
       "      <td>...</td>\n",
       "      <td>...</td>\n",
       "      <td>...</td>\n",
       "      <td>...</td>\n",
       "      <td>...</td>\n",
       "    </tr>\n",
       "    <tr>\n",
       "      <td>12837</td>\n",
       "      <td>1</td>\n",
       "      <td>0</td>\n",
       "      <td>1</td>\n",
       "      <td>0</td>\n",
       "    </tr>\n",
       "    <tr>\n",
       "      <td>12838</td>\n",
       "      <td>1</td>\n",
       "      <td>0</td>\n",
       "      <td>1</td>\n",
       "      <td>0</td>\n",
       "    </tr>\n",
       "    <tr>\n",
       "      <td>12839</td>\n",
       "      <td>1</td>\n",
       "      <td>0</td>\n",
       "      <td>1</td>\n",
       "      <td>0</td>\n",
       "    </tr>\n",
       "    <tr>\n",
       "      <td>12840</td>\n",
       "      <td>1</td>\n",
       "      <td>0</td>\n",
       "      <td>0</td>\n",
       "      <td>0</td>\n",
       "    </tr>\n",
       "    <tr>\n",
       "      <td>12841</td>\n",
       "      <td>1</td>\n",
       "      <td>0</td>\n",
       "      <td>0</td>\n",
       "      <td>0</td>\n",
       "    </tr>\n",
       "  </tbody>\n",
       "</table>\n",
       "<p>1900 rows × 4 columns</p>\n",
       "</div>"
      ],
      "text/plain": [
       "       has_company_logo  telecommuting  has_questions  fraudulent\n",
       "4577                  0              0              0           1\n",
       "7477                  0              0              0           1\n",
       "2078                  1              0              0           1\n",
       "7473                  0              0              0           1\n",
       "7469                  0              0              0           1\n",
       "...                 ...            ...            ...         ...\n",
       "12837                 1              0              1           0\n",
       "12838                 1              0              1           0\n",
       "12839                 1              0              1           0\n",
       "12840                 1              0              0           0\n",
       "12841                 1              0              0           0\n",
       "\n",
       "[1900 rows x 4 columns]"
      ]
     },
     "execution_count": 222,
     "metadata": {},
     "output_type": "execute_result"
    }
   ],
   "source": [
    "df"
   ]
  }
 ],
 "metadata": {
  "kernelspec": {
   "display_name": "Python 3",
   "language": "python",
   "name": "python3"
  },
  "language_info": {
   "codemirror_mode": {
    "name": "ipython",
    "version": 3
   },
   "file_extension": ".py",
   "mimetype": "text/x-python",
   "name": "python",
   "nbconvert_exporter": "python",
   "pygments_lexer": "ipython3",
   "version": "3.7.4"
  },
  "varInspector": {
   "cols": {
    "lenName": 16,
    "lenType": 16,
    "lenVar": 40
   },
   "kernels_config": {
    "python": {
     "delete_cmd_postfix": "",
     "delete_cmd_prefix": "del ",
     "library": "var_list.py",
     "varRefreshCmd": "print(var_dic_list())"
    },
    "r": {
     "delete_cmd_postfix": ") ",
     "delete_cmd_prefix": "rm(",
     "library": "var_list.r",
     "varRefreshCmd": "cat(var_dic_list()) "
    }
   },
   "types_to_exclude": [
    "module",
    "function",
    "builtin_function_or_method",
    "instance",
    "_Feature"
   ],
   "window_display": false
  }
 },
 "nbformat": 4,
 "nbformat_minor": 2
}
