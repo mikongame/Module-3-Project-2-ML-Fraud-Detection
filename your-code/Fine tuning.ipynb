{
 "cells": [
  {
   "cell_type": "code",
   "execution_count": 26,
   "metadata": {
    "ExecuteTime": {
     "end_time": "2020-05-06T19:53:15.165233Z",
     "start_time": "2020-05-06T19:53:15.155192Z"
    }
   },
   "outputs": [],
   "source": [
    "import pandas as pd\n",
    "import numpy as np\n",
    "\n",
    "from imblearn.under_sampling import NearMiss, RandomUnderSampler, InstanceHardnessThreshold\n",
    "from sklearn.model_selection import train_test_split, GridSearchCV\n",
    "from sklearn.neural_network import MLPClassifier\n",
    "from sklearn.metrics import confusion_matrix, classification_report\n",
    "from sklearn.neighbors import KNeighborsClassifier\n",
    "from sklearn.ensemble import RandomForestClassifier\n",
    "from sklearn.tree import DecisionTreeClassifier\n"
   ]
  },
  {
   "cell_type": "code",
   "execution_count": 2,
   "metadata": {
    "ExecuteTime": {
     "end_time": "2020-05-06T17:57:32.725953Z",
     "start_time": "2020-05-06T17:57:32.464347Z"
    }
   },
   "outputs": [],
   "source": [
    "result = pd.read_csv('result.csv')\n",
    "result.drop('Unnamed: 0', axis =1, inplace= True)"
   ]
  },
  {
   "cell_type": "code",
   "execution_count": 3,
   "metadata": {
    "ExecuteTime": {
     "end_time": "2020-05-06T17:57:32.762762Z",
     "start_time": "2020-05-06T17:57:32.729831Z"
    }
   },
   "outputs": [
    {
     "data": {
      "text/html": [
       "<div>\n",
       "<style scoped>\n",
       "    .dataframe tbody tr th:only-of-type {\n",
       "        vertical-align: middle;\n",
       "    }\n",
       "\n",
       "    .dataframe tbody tr th {\n",
       "        vertical-align: top;\n",
       "    }\n",
       "\n",
       "    .dataframe thead th {\n",
       "        text-align: right;\n",
       "    }\n",
       "</style>\n",
       "<table border=\"1\" class=\"dataframe\">\n",
       "  <thead>\n",
       "    <tr style=\"text-align: right;\">\n",
       "      <th></th>\n",
       "      <th>employment_type_contract</th>\n",
       "      <th>employment_type_full-time</th>\n",
       "      <th>employment_type_other</th>\n",
       "      <th>employment_type_part-time</th>\n",
       "      <th>employment_type_temporary</th>\n",
       "      <th>required_experience_associate</th>\n",
       "      <th>required_experience_entry level</th>\n",
       "      <th>required_experience_executive</th>\n",
       "      <th>required_experience_internship</th>\n",
       "      <th>required_experience_other</th>\n",
       "      <th>...</th>\n",
       "      <th>Country_GR</th>\n",
       "      <th>Country_OTHER</th>\n",
       "      <th>Country_US</th>\n",
       "      <th>telecommuting</th>\n",
       "      <th>has_company_logo</th>\n",
       "      <th>has_questions</th>\n",
       "      <th>fraudulent</th>\n",
       "      <th>salary_range</th>\n",
       "      <th>0</th>\n",
       "      <th>1</th>\n",
       "    </tr>\n",
       "  </thead>\n",
       "  <tbody>\n",
       "    <tr>\n",
       "      <td>0</td>\n",
       "      <td>0</td>\n",
       "      <td>0</td>\n",
       "      <td>1</td>\n",
       "      <td>0</td>\n",
       "      <td>0</td>\n",
       "      <td>0</td>\n",
       "      <td>0</td>\n",
       "      <td>0</td>\n",
       "      <td>1</td>\n",
       "      <td>0</td>\n",
       "      <td>...</td>\n",
       "      <td>0</td>\n",
       "      <td>0</td>\n",
       "      <td>1</td>\n",
       "      <td>0</td>\n",
       "      <td>1</td>\n",
       "      <td>0</td>\n",
       "      <td>0</td>\n",
       "      <td>0.0</td>\n",
       "      <td>-5.284934</td>\n",
       "      <td>-2.366045</td>\n",
       "    </tr>\n",
       "    <tr>\n",
       "      <td>1</td>\n",
       "      <td>0</td>\n",
       "      <td>1</td>\n",
       "      <td>0</td>\n",
       "      <td>0</td>\n",
       "      <td>0</td>\n",
       "      <td>0</td>\n",
       "      <td>0</td>\n",
       "      <td>0</td>\n",
       "      <td>0</td>\n",
       "      <td>1</td>\n",
       "      <td>...</td>\n",
       "      <td>0</td>\n",
       "      <td>1</td>\n",
       "      <td>0</td>\n",
       "      <td>0</td>\n",
       "      <td>1</td>\n",
       "      <td>0</td>\n",
       "      <td>0</td>\n",
       "      <td>1.0</td>\n",
       "      <td>3.447525</td>\n",
       "      <td>0.811648</td>\n",
       "    </tr>\n",
       "    <tr>\n",
       "      <td>2</td>\n",
       "      <td>0</td>\n",
       "      <td>0</td>\n",
       "      <td>1</td>\n",
       "      <td>0</td>\n",
       "      <td>0</td>\n",
       "      <td>0</td>\n",
       "      <td>0</td>\n",
       "      <td>0</td>\n",
       "      <td>0</td>\n",
       "      <td>1</td>\n",
       "      <td>...</td>\n",
       "      <td>0</td>\n",
       "      <td>0</td>\n",
       "      <td>1</td>\n",
       "      <td>0</td>\n",
       "      <td>1</td>\n",
       "      <td>0</td>\n",
       "      <td>0</td>\n",
       "      <td>0.0</td>\n",
       "      <td>0.357541</td>\n",
       "      <td>4.447133</td>\n",
       "    </tr>\n",
       "    <tr>\n",
       "      <td>3</td>\n",
       "      <td>0</td>\n",
       "      <td>1</td>\n",
       "      <td>0</td>\n",
       "      <td>0</td>\n",
       "      <td>0</td>\n",
       "      <td>1</td>\n",
       "      <td>0</td>\n",
       "      <td>0</td>\n",
       "      <td>0</td>\n",
       "      <td>0</td>\n",
       "      <td>...</td>\n",
       "      <td>0</td>\n",
       "      <td>0</td>\n",
       "      <td>1</td>\n",
       "      <td>0</td>\n",
       "      <td>1</td>\n",
       "      <td>0</td>\n",
       "      <td>0</td>\n",
       "      <td>0.0</td>\n",
       "      <td>9.698580</td>\n",
       "      <td>-3.118088</td>\n",
       "    </tr>\n",
       "    <tr>\n",
       "      <td>4</td>\n",
       "      <td>0</td>\n",
       "      <td>1</td>\n",
       "      <td>0</td>\n",
       "      <td>0</td>\n",
       "      <td>0</td>\n",
       "      <td>1</td>\n",
       "      <td>0</td>\n",
       "      <td>0</td>\n",
       "      <td>0</td>\n",
       "      <td>0</td>\n",
       "      <td>...</td>\n",
       "      <td>0</td>\n",
       "      <td>0</td>\n",
       "      <td>1</td>\n",
       "      <td>0</td>\n",
       "      <td>1</td>\n",
       "      <td>1</td>\n",
       "      <td>0</td>\n",
       "      <td>0.0</td>\n",
       "      <td>6.679002</td>\n",
       "      <td>-4.354322</td>\n",
       "    </tr>\n",
       "  </tbody>\n",
       "</table>\n",
       "<p>5 rows × 56 columns</p>\n",
       "</div>"
      ],
      "text/plain": [
       "   employment_type_contract  employment_type_full-time  employment_type_other  \\\n",
       "0                         0                          0                      1   \n",
       "1                         0                          1                      0   \n",
       "2                         0                          0                      1   \n",
       "3                         0                          1                      0   \n",
       "4                         0                          1                      0   \n",
       "\n",
       "   employment_type_part-time  employment_type_temporary  \\\n",
       "0                          0                          0   \n",
       "1                          0                          0   \n",
       "2                          0                          0   \n",
       "3                          0                          0   \n",
       "4                          0                          0   \n",
       "\n",
       "   required_experience_associate  required_experience_entry level  \\\n",
       "0                              0                                0   \n",
       "1                              0                                0   \n",
       "2                              0                                0   \n",
       "3                              1                                0   \n",
       "4                              1                                0   \n",
       "\n",
       "   required_experience_executive  required_experience_internship  \\\n",
       "0                              0                               1   \n",
       "1                              0                               0   \n",
       "2                              0                               0   \n",
       "3                              0                               0   \n",
       "4                              0                               0   \n",
       "\n",
       "   required_experience_other  ...  Country_GR  Country_OTHER  Country_US  \\\n",
       "0                          0  ...           0              0           1   \n",
       "1                          1  ...           0              1           0   \n",
       "2                          1  ...           0              0           1   \n",
       "3                          0  ...           0              0           1   \n",
       "4                          0  ...           0              0           1   \n",
       "\n",
       "   telecommuting  has_company_logo  has_questions  fraudulent  salary_range  \\\n",
       "0              0                 1              0           0           0.0   \n",
       "1              0                 1              0           0           1.0   \n",
       "2              0                 1              0           0           0.0   \n",
       "3              0                 1              0           0           0.0   \n",
       "4              0                 1              1           0           0.0   \n",
       "\n",
       "          0         1  \n",
       "0 -5.284934 -2.366045  \n",
       "1  3.447525  0.811648  \n",
       "2  0.357541  4.447133  \n",
       "3  9.698580 -3.118088  \n",
       "4  6.679002 -4.354322  \n",
       "\n",
       "[5 rows x 56 columns]"
      ]
     },
     "execution_count": 3,
     "metadata": {},
     "output_type": "execute_result"
    }
   ],
   "source": [
    "result.head()"
   ]
  },
  {
   "cell_type": "code",
   "execution_count": 4,
   "metadata": {
    "ExecuteTime": {
     "end_time": "2020-05-06T17:57:40.677063Z",
     "start_time": "2020-05-06T17:57:32.766720Z"
    }
   },
   "outputs": [],
   "source": [
    "threshold = InstanceHardnessThreshold(random_state =42)\n",
    "\n",
    "X_rus, y_rus = threshold.fit_resample(result.drop('fraudulent', axis = 1), result['fraudulent'])"
   ]
  },
  {
   "cell_type": "code",
   "execution_count": 5,
   "metadata": {
    "ExecuteTime": {
     "end_time": "2020-05-06T17:57:40.698087Z",
     "start_time": "2020-05-06T17:57:40.679060Z"
    }
   },
   "outputs": [],
   "source": [
    "X_train, X_test, y_train, y_test = train_test_split(X_rus, y_rus, test_size=0.2, random_state=42, stratify=y_rus)"
   ]
  },
  {
   "cell_type": "markdown",
   "metadata": {},
   "source": [
    "# KNN tuning"
   ]
  },
  {
   "cell_type": "code",
   "execution_count": 6,
   "metadata": {
    "ExecuteTime": {
     "end_time": "2020-05-06T17:57:40.808035Z",
     "start_time": "2020-05-06T17:57:40.701619Z"
    }
   },
   "outputs": [
    {
     "data": {
      "text/plain": [
       "\"The code was executed in  google colab, the result is \\n\\n{'algorithm': 'auto', 'metric': 'manhattan', 'n_neighbors': 21, 'weights': 'distance'}\""
      ]
     },
     "execution_count": 6,
     "metadata": {},
     "output_type": "execute_result"
    }
   ],
   "source": [
    "#create new a knn model\n",
    "knn = KNeighborsClassifier()\n",
    "\n",
    "#create a dictionary of all values we want to test for n_neighbors\n",
    "params_knn = {'n_neighbors': np.arange(1, 25), \n",
    "              'weights': ['uniform', 'distance'], \n",
    "              'algorithm': ['auto', 'kd_tree', 'brute'],\n",
    "              'metric': ['euclidean', 'manhattan', 'chebyshev', 'minkowski'],\n",
    "            }\n",
    "\n",
    "#knn_gs = GridSearchCV(knn, params_knn, cv=5)\n",
    "\n",
    "#knn_gs.fit(X_train, y_train)\n",
    "\n",
    "#knn_best = knn_gs.best_estimator_\n",
    "\n",
    "#print(knn_gs.best_params_)\n",
    "\n",
    "\n",
    "\"\"\"The code was executed in  google colab, the result is \n",
    "\n",
    "{'algorithm': 'auto', 'metric': 'manhattan', 'n_neighbors': 21, 'weights': 'distance'}\"\"\""
   ]
  },
  {
   "cell_type": "code",
   "execution_count": 7,
   "metadata": {
    "ExecuteTime": {
     "end_time": "2020-05-06T17:57:41.538373Z",
     "start_time": "2020-05-06T17:57:40.810940Z"
    }
   },
   "outputs": [
    {
     "name": "stdout",
     "output_type": "stream",
     "text": [
      "[[2331   10]\n",
      " [  23  150]]\n",
      "              precision    recall  f1-score   support\n",
      "\n",
      "           0       0.99      1.00      0.99      2341\n",
      "           1       0.94      0.87      0.90       173\n",
      "\n",
      "    accuracy                           0.99      2514\n",
      "   macro avg       0.96      0.93      0.95      2514\n",
      "weighted avg       0.99      0.99      0.99      2514\n",
      "\n"
     ]
    }
   ],
   "source": [
    "\"\"\" Without Tuning\"\"\"\n",
    "\n",
    "knn = KNeighborsClassifier()\n",
    "y_pred = knn.fit(X_train, y_train).predict(X_test)\n",
    "print(confusion_matrix(y_test, y_pred))\n",
    "print(classification_report(y_test, y_pred))"
   ]
  },
  {
   "cell_type": "code",
   "execution_count": 8,
   "metadata": {
    "ExecuteTime": {
     "end_time": "2020-05-06T17:57:42.402123Z",
     "start_time": "2020-05-06T17:57:41.543309Z"
    }
   },
   "outputs": [
    {
     "name": "stdout",
     "output_type": "stream",
     "text": [
      "[[2337    4]\n",
      " [  24  149]]\n",
      "              precision    recall  f1-score   support\n",
      "\n",
      "           0       0.99      1.00      0.99      2341\n",
      "           1       0.97      0.86      0.91       173\n",
      "\n",
      "    accuracy                           0.99      2514\n",
      "   macro avg       0.98      0.93      0.95      2514\n",
      "weighted avg       0.99      0.99      0.99      2514\n",
      "\n"
     ]
    }
   ],
   "source": [
    "\"\"\" With Tuning \"\"\"\n",
    "\n",
    "knn = KNeighborsClassifier(algorithm =  'auto', metric = 'manhattan', n_neighbors= 21, weights = 'distance')\n",
    "y_pred = knn.fit(X_train, y_train).predict(X_test)\n",
    "print(confusion_matrix(y_test, y_pred))\n",
    "print(classification_report(y_test, y_pred))"
   ]
  },
  {
   "cell_type": "markdown",
   "metadata": {
    "ExecuteTime": {
     "end_time": "2020-05-06T11:55:34.502495Z",
     "start_time": "2020-05-06T11:55:34.438659Z"
    }
   },
   "source": [
    "# MLP tuning"
   ]
  },
  {
   "cell_type": "code",
   "execution_count": 9,
   "metadata": {
    "ExecuteTime": {
     "end_time": "2020-05-06T17:57:42.414091Z",
     "start_time": "2020-05-06T17:57:42.405085Z"
    }
   },
   "outputs": [
    {
     "data": {
      "text/plain": [
       "\"\\nThe code was executed in  google colab, the result is\\n\\n{'activation': 'tanh', 'learning_rate': 'adaptive', 'solver': 'lbfgs'}\\n\""
      ]
     },
     "execution_count": 9,
     "metadata": {},
     "output_type": "execute_result"
    }
   ],
   "source": [
    "mlp = MLPClassifier(max_iter = 10000, hidden_layer_sizes = (300,))\n",
    "\n",
    "params_mlp = {\n",
    "              'activation': ['identity', 'logistic', 'tanh', 'relu'], \n",
    "              'solver': ['lbfgs', 'sgd', 'adam'],\n",
    "              'learning_rate': ['constant', 'invscaling', 'adaptive', 'minkowski'],\n",
    "            }\n",
    "\n",
    "#mlp_gs = GridSearchCV(mlp, params_mlp, cv=5)\n",
    "\n",
    "#mlp_gs.fit(X_train, y_train)\n",
    "\n",
    "#mlp_best = mlp_gs.best_estimator_\n",
    "\n",
    "#print(knn_gs.best_params_)\n",
    "\n",
    "\n",
    "\"\"\"\n",
    "The code was executed in  google colab, the result is\n",
    "\n",
    "{'activation': 'tanh', 'learning_rate': 'constant', 'solver': 'lbfgs'}\n",
    "\"\"\""
   ]
  },
  {
   "cell_type": "code",
   "execution_count": 10,
   "metadata": {
    "ExecuteTime": {
     "end_time": "2020-05-06T17:58:14.200409Z",
     "start_time": "2020-05-06T17:57:42.418049Z"
    }
   },
   "outputs": [
    {
     "name": "stdout",
     "output_type": "stream",
     "text": [
      "[[2335    6]\n",
      " [  16  157]]\n",
      "              precision    recall  f1-score   support\n",
      "\n",
      "           0       0.99      1.00      1.00      2341\n",
      "           1       0.96      0.91      0.93       173\n",
      "\n",
      "    accuracy                           0.99      2514\n",
      "   macro avg       0.98      0.95      0.96      2514\n",
      "weighted avg       0.99      0.99      0.99      2514\n",
      "\n"
     ]
    }
   ],
   "source": [
    "\"\"\" Without Tuning \"\"\"\n",
    "\n",
    "mlp = MLPClassifier(max_iter = 10000,hidden_layer_sizes = (300,))\n",
    "y_pred = mlp.fit(X_train, y_train).predict(X_test)\n",
    "print(confusion_matrix(y_test, y_pred))\n",
    "print(classification_report(y_test, y_pred))"
   ]
  },
  {
   "cell_type": "code",
   "execution_count": 28,
   "metadata": {
    "ExecuteTime": {
     "end_time": "2020-05-06T21:31:14.571968Z",
     "start_time": "2020-05-06T21:30:54.033258Z"
    }
   },
   "outputs": [
    {
     "name": "stdout",
     "output_type": "stream",
     "text": [
      "[[2335    6]\n",
      " [  14  159]]\n",
      "              precision    recall  f1-score   support\n",
      "\n",
      "           0       0.99      1.00      1.00      2341\n",
      "           1       0.96      0.92      0.94       173\n",
      "\n",
      "    accuracy                           0.99      2514\n",
      "   macro avg       0.98      0.96      0.97      2514\n",
      "weighted avg       0.99      0.99      0.99      2514\n",
      "\n"
     ]
    }
   ],
   "source": [
    "\"\"\" With  Tuning \"\"\"\n",
    "\n",
    "mlp = MLPClassifier(max_iter = 10000,hidden_layer_sizes = (300,),activation='tanh',learning_rate='constant',solver='lbfgs')\n",
    "y_pred = mlp.fit(X_train, y_train).predict(X_test)\n",
    "print(confusion_matrix(y_test, y_pred))\n",
    "print(classification_report(y_test, y_pred))"
   ]
  },
  {
   "cell_type": "markdown",
   "metadata": {},
   "source": [
    "# Random Forest Tuning"
   ]
  },
  {
   "cell_type": "code",
   "execution_count": 16,
   "metadata": {
    "ExecuteTime": {
     "end_time": "2020-05-06T18:07:40.518264Z",
     "start_time": "2020-05-06T18:07:40.508291Z"
    }
   },
   "outputs": [
    {
     "data": {
      "text/plain": [
       "\"\\nThe code was executed in  google colab, the result is\\n'criterion': 'entropy', 'max_features': 'sqrt', 'n_estimators': 163\\n\""
      ]
     },
     "execution_count": 16,
     "metadata": {},
     "output_type": "execute_result"
    }
   ],
   "source": [
    "rfc = RandomForestClassifier(random_state = 42)\n",
    "\n",
    "params_rfc = { \n",
    "                'n_estimators' : np.arange(50,250),\n",
    "                'criterion' : ['gini','entropy'],\n",
    "                'max_features' : ['sqrt','log2']\n",
    "            }\n",
    "\n",
    "#rfc_gs = GridSearchCV(rfc, params_rfc, cv=5)\n",
    "\n",
    "#rfc_gs.fit(X_train, y_train)\n",
    "\n",
    "#rfc_best = rfc_gs.best_estimator_\n",
    "\n",
    "#print(rfc_gs.best_params_)\n",
    "\n",
    "\"\"\"\n",
    "The code was executed in  google colab, the result is\n",
    "'criterion': 'entropy', 'max_features': 'sqrt', 'n_estimators': 163\n",
    "\"\"\""
   ]
  },
  {
   "cell_type": "code",
   "execution_count": 17,
   "metadata": {
    "ExecuteTime": {
     "end_time": "2020-05-06T18:07:43.561366Z",
     "start_time": "2020-05-06T18:07:43.424324Z"
    }
   },
   "outputs": [
    {
     "name": "stdout",
     "output_type": "stream",
     "text": [
      "[[2340    1]\n",
      " [  23  150]]\n",
      "              precision    recall  f1-score   support\n",
      "\n",
      "           0       0.99      1.00      0.99      2341\n",
      "           1       0.99      0.87      0.93       173\n",
      "\n",
      "    accuracy                           0.99      2514\n",
      "   macro avg       0.99      0.93      0.96      2514\n",
      "weighted avg       0.99      0.99      0.99      2514\n",
      "\n"
     ]
    },
    {
     "name": "stderr",
     "output_type": "stream",
     "text": [
      "C:\\Users\\jcmor\\Anaconda3\\lib\\site-packages\\sklearn\\ensemble\\forest.py:245: FutureWarning: The default value of n_estimators will change from 10 in version 0.20 to 100 in 0.22.\n",
      "  \"10 in version 0.20 to 100 in 0.22.\", FutureWarning)\n"
     ]
    }
   ],
   "source": [
    "\"\"\" Without Tuning \"\"\"\n",
    "\n",
    "rfc = RandomForestClassifier(random_state = 42)\n",
    "y_pred = rfc.fit(X_train, y_train).predict(X_test)\n",
    "print(confusion_matrix(y_test, y_pred))\n",
    "print(classification_report(y_test, y_pred))"
   ]
  },
  {
   "cell_type": "code",
   "execution_count": 20,
   "metadata": {
    "ExecuteTime": {
     "end_time": "2020-05-06T18:39:14.034245Z",
     "start_time": "2020-05-06T18:39:12.330107Z"
    }
   },
   "outputs": [
    {
     "name": "stdout",
     "output_type": "stream",
     "text": [
      "[[2340    1]\n",
      " [  19  154]]\n",
      "              precision    recall  f1-score   support\n",
      "\n",
      "           0       0.99      1.00      1.00      2341\n",
      "           1       0.99      0.89      0.94       173\n",
      "\n",
      "    accuracy                           0.99      2514\n",
      "   macro avg       0.99      0.94      0.97      2514\n",
      "weighted avg       0.99      0.99      0.99      2514\n",
      "\n"
     ]
    }
   ],
   "source": [
    "\"\"\" With Tuning \"\"\"\n",
    "\n",
    "rfc = RandomForestClassifier(random_state = 42, criterion = 'entropy', max_features = 'sqrt', n_estimators = 163)\n",
    "y_pred = rfc.fit(X_train, y_train).predict(X_test)\n",
    "print(confusion_matrix(y_test, y_pred))\n",
    "print(classification_report(y_test, y_pred))"
   ]
  },
  {
   "cell_type": "markdown",
   "metadata": {},
   "source": [
    "# Decision Tree"
   ]
  },
  {
   "cell_type": "code",
   "execution_count": null,
   "metadata": {},
   "outputs": [],
   "source": [
    "dtc = DecisionTreeClassifier(random_state = 42)\n",
    "\n",
    "params_dtc = { \n",
    "                'class_weight' : ['balanced', None],\n",
    "                'criterion' : ['gini','entropy'],\n",
    "                'spliter' : ['random','best']\n",
    "                'max_features' : ['sqrt','log2']\n",
    "            }\n",
    "\n",
    "#dtc_gs = GridSearchCV(dtc, params_dtc, cv=5)\n",
    "\n",
    "#dtc_gs.fit(X_train, y_train)\n",
    "\n",
    "#dtc_best = dtc_gs.best_estimator_\n",
    "\n",
    "#print(dtc_gs.best_params_)\n",
    "\n",
    "\"\"\"\n",
    "The code was executed in  google colab, the result is\n",
    "{'class_weight': 'balanced', 'criterion': 'gini', 'max_features': 'sqrt', 'splitter': 'best'}\"\"\""
   ]
  },
  {
   "cell_type": "code",
   "execution_count": 37,
   "metadata": {
    "ExecuteTime": {
     "end_time": "2020-05-06T22:01:04.979052Z",
     "start_time": "2020-05-06T22:01:04.861019Z"
    }
   },
   "outputs": [
    {
     "name": "stdout",
     "output_type": "stream",
     "text": [
      "[[2327   14]\n",
      " [  21  152]]\n",
      "              precision    recall  f1-score   support\n",
      "\n",
      "           0       0.99      0.99      0.99      2341\n",
      "           1       0.92      0.88      0.90       173\n",
      "\n",
      "    accuracy                           0.99      2514\n",
      "   macro avg       0.95      0.94      0.94      2514\n",
      "weighted avg       0.99      0.99      0.99      2514\n",
      "\n"
     ]
    }
   ],
   "source": [
    "\"\"\" Without Tuning \"\"\"\n",
    "\n",
    "dtc = DecisionTreeClassifier(random_state = 42)\n",
    "y_pred = dtc.fit(X_train, y_train).predict(X_test)\n",
    "print(confusion_matrix(y_test, y_pred))\n",
    "print(classification_report(y_test, y_pred))"
   ]
  },
  {
   "cell_type": "code",
   "execution_count": 36,
   "metadata": {
    "ExecuteTime": {
     "end_time": "2020-05-06T22:01:01.532517Z",
     "start_time": "2020-05-06T22:01:01.473823Z"
    }
   },
   "outputs": [
    {
     "name": "stdout",
     "output_type": "stream",
     "text": [
      "[[2333    8]\n",
      " [  22  151]]\n",
      "              precision    recall  f1-score   support\n",
      "\n",
      "           0       0.99      1.00      0.99      2341\n",
      "           1       0.95      0.87      0.91       173\n",
      "\n",
      "    accuracy                           0.99      2514\n",
      "   macro avg       0.97      0.93      0.95      2514\n",
      "weighted avg       0.99      0.99      0.99      2514\n",
      "\n"
     ]
    }
   ],
   "source": [
    "dtc = DecisionTreeClassifier(random_state = 42, class_weight= 'balanced', criterion='gini', max_features='sqrt', splitter='best')\n",
    "y_pred = dtc.fit(X_train, y_train).predict(X_test)\n",
    "print(confusion_matrix(y_test, y_pred))\n",
    "print(classification_report(y_test, y_pred))\n",
    "\n"
   ]
  },
  {
   "cell_type": "markdown",
   "metadata": {},
   "source": [
    "# Final Result"
   ]
  },
  {
   "cell_type": "code",
   "execution_count": 23,
   "metadata": {
    "ExecuteTime": {
     "end_time": "2020-05-06T18:40:53.535925Z",
     "start_time": "2020-05-06T18:40:53.520953Z"
    }
   },
   "outputs": [],
   "source": [
    "from sklearn.model_selection import GridSearchCV, StratifiedKFold, cross_val_score\n",
    "\n",
    "def baseline_report(model, X_train, X_test, y_train, y_test, name):\n",
    "    strat_k_fold = StratifiedKFold(n_splits=5, shuffle=True)\n",
    "    model.fit(X_train, y_train)\n",
    "    accuracy     = np.mean(cross_val_score(model, X_train, y_train, cv=strat_k_fold, scoring='accuracy'))\n",
    "    precision    = np.mean(cross_val_score(model, X_train, y_train, cv=strat_k_fold, scoring='precision'))\n",
    "    recall       = np.mean(cross_val_score(model, X_train, y_train, cv=strat_k_fold, scoring='recall'))\n",
    "    f1score      = np.mean(cross_val_score(model, X_train, y_train, cv=strat_k_fold, scoring='f1'))\n",
    "    rocauc       = np.mean(cross_val_score(model, X_train, y_train, cv=strat_k_fold, scoring='roc_auc'))\n",
    "    y_pred = model.predict(X_test)\n",
    "    tn, fp, fn, tp = confusion_matrix(y_pred, y_test).ravel()\n",
    "    specificity = tn / (tn+fp)\n",
    "    #logloss      = log_loss(y_test, y_pred)   # SVC & LinearSVC unable to use cvs\n",
    "\n",
    "    df_model = pd.DataFrame({'model'        : [name],\n",
    "                             'accuracy'     : [accuracy],\n",
    "                             'precision'    : [precision],\n",
    "                             'recall'       : [recall],\n",
    "                             'f1score'      : [f1score],\n",
    "                             'rocauc'       : [rocauc],\n",
    "                             'specificity': [specificity]\n",
    "                             #'logloss'      : [logloss]\n",
    "                            })   # timetaken: to be used for comparison later\n",
    "    return df_model"
   ]
  },
  {
   "cell_type": "code",
   "execution_count": 32,
   "metadata": {
    "ExecuteTime": {
     "end_time": "2020-05-06T21:43:16.419858Z",
     "start_time": "2020-05-06T21:36:22.163423Z"
    }
   },
   "outputs": [],
   "source": [
    "models = {#'gnb': GaussianNB(),\n",
    "          #'bnb': BernoulliNB(),\n",
    "          #'mnb': MultinomialNB(),\n",
    "          #'logit': LogisticRegression(),\n",
    "          'knn': KNeighborsClassifier(algorithm =  'auto', metric = 'manhattan', n_neighbors= 21, weights = 'distance'),\n",
    "          'decisiontree': DecisionTreeClassifier(random_state = 42, class_weight= None, criterion='entropy', max_features='sqrt', splitter='best'),\n",
    "          'randomforest': RandomForestClassifier(random_state = 42, criterion = 'entropy', max_features = 'sqrt', n_estimators = 163),\n",
    "          #'svc': SVC(probability=True),\n",
    "          #'linearsvc': LinearSVC(),\n",
    "          #'xgboost': GradientBoostingClassifier(),\n",
    "          #'NN': MLPClassifier(),\n",
    "           'MLP': MLPClassifier(max_iter = 10000,hidden_layer_sizes = (300,),activation='tanh',learning_rate='constant',solver='lbfgs')\n",
    "         }\n",
    "\n",
    "models_df = pd.concat([baseline_report(model, X_train, X_test, y_train, y_test, name) for (name, model) in models.items()])"
   ]
  },
  {
   "cell_type": "code",
   "execution_count": 33,
   "metadata": {
    "ExecuteTime": {
     "end_time": "2020-05-06T21:43:16.717840Z",
     "start_time": "2020-05-06T21:43:16.703876Z"
    }
   },
   "outputs": [
    {
     "data": {
      "text/html": [
       "<div>\n",
       "<style scoped>\n",
       "    .dataframe tbody tr th:only-of-type {\n",
       "        vertical-align: middle;\n",
       "    }\n",
       "\n",
       "    .dataframe tbody tr th {\n",
       "        vertical-align: top;\n",
       "    }\n",
       "\n",
       "    .dataframe thead th {\n",
       "        text-align: right;\n",
       "    }\n",
       "</style>\n",
       "<table border=\"1\" class=\"dataframe\">\n",
       "  <thead>\n",
       "    <tr style=\"text-align: right;\">\n",
       "      <th></th>\n",
       "      <th>model</th>\n",
       "      <th>accuracy</th>\n",
       "      <th>precision</th>\n",
       "      <th>recall</th>\n",
       "      <th>f1score</th>\n",
       "      <th>rocauc</th>\n",
       "      <th>specificity</th>\n",
       "    </tr>\n",
       "  </thead>\n",
       "  <tbody>\n",
       "    <tr>\n",
       "      <td>0</td>\n",
       "      <td>knn</td>\n",
       "      <td>0.983785</td>\n",
       "      <td>0.992660</td>\n",
       "      <td>0.786446</td>\n",
       "      <td>0.873870</td>\n",
       "      <td>0.979688</td>\n",
       "      <td>0.989835</td>\n",
       "    </tr>\n",
       "    <tr>\n",
       "      <td>0</td>\n",
       "      <td>decisiontree</td>\n",
       "      <td>0.982393</td>\n",
       "      <td>0.890846</td>\n",
       "      <td>0.829799</td>\n",
       "      <td>0.863942</td>\n",
       "      <td>0.906658</td>\n",
       "      <td>0.990618</td>\n",
       "    </tr>\n",
       "    <tr>\n",
       "      <td>0</td>\n",
       "      <td>randomforest</td>\n",
       "      <td>0.988660</td>\n",
       "      <td>0.983298</td>\n",
       "      <td>0.854249</td>\n",
       "      <td>0.903277</td>\n",
       "      <td>0.996181</td>\n",
       "      <td>0.991946</td>\n",
       "    </tr>\n",
       "    <tr>\n",
       "      <td>0</td>\n",
       "      <td>MLP</td>\n",
       "      <td>0.987466</td>\n",
       "      <td>0.935201</td>\n",
       "      <td>0.864415</td>\n",
       "      <td>0.899598</td>\n",
       "      <td>0.985741</td>\n",
       "      <td>0.992350</td>\n",
       "    </tr>\n",
       "  </tbody>\n",
       "</table>\n",
       "</div>"
      ],
      "text/plain": [
       "          model  accuracy  precision    recall   f1score    rocauc  \\\n",
       "0           knn  0.983785   0.992660  0.786446  0.873870  0.979688   \n",
       "0  decisiontree  0.982393   0.890846  0.829799  0.863942  0.906658   \n",
       "0  randomforest  0.988660   0.983298  0.854249  0.903277  0.996181   \n",
       "0           MLP  0.987466   0.935201  0.864415  0.899598  0.985741   \n",
       "\n",
       "   specificity  \n",
       "0     0.989835  \n",
       "0     0.990618  \n",
       "0     0.991946  \n",
       "0     0.992350  "
      ]
     },
     "execution_count": 33,
     "metadata": {},
     "output_type": "execute_result"
    }
   ],
   "source": [
    "models_df"
   ]
  },
  {
   "cell_type": "code",
   "execution_count": null,
   "metadata": {},
   "outputs": [],
   "source": []
  }
 ],
 "metadata": {
  "kernelspec": {
   "display_name": "Python 3",
   "language": "python",
   "name": "python3"
  },
  "language_info": {
   "codemirror_mode": {
    "name": "ipython",
    "version": 3
   },
   "file_extension": ".py",
   "mimetype": "text/x-python",
   "name": "python",
   "nbconvert_exporter": "python",
   "pygments_lexer": "ipython3",
   "version": "3.7.4"
  },
  "varInspector": {
   "cols": {
    "lenName": 16,
    "lenType": 16,
    "lenVar": 40
   },
   "kernels_config": {
    "python": {
     "delete_cmd_postfix": "",
     "delete_cmd_prefix": "del ",
     "library": "var_list.py",
     "varRefreshCmd": "print(var_dic_list())"
    },
    "r": {
     "delete_cmd_postfix": ") ",
     "delete_cmd_prefix": "rm(",
     "library": "var_list.r",
     "varRefreshCmd": "cat(var_dic_list()) "
    }
   },
   "types_to_exclude": [
    "module",
    "function",
    "builtin_function_or_method",
    "instance",
    "_Feature"
   ],
   "window_display": false
  }
 },
 "nbformat": 4,
 "nbformat_minor": 2
}
