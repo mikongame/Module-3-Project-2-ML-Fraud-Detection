{
 "cells": [
  {
   "cell_type": "code",
   "execution_count": 11,
   "metadata": {
    "ExecuteTime": {
     "end_time": "2020-05-06T13:33:24.719924Z",
     "start_time": "2020-05-06T13:33:24.711947Z"
    }
   },
   "outputs": [],
   "source": [
    "import pandas as pd\n",
    "import numpy as np\n",
    "\n",
    "from imblearn.under_sampling import NearMiss, RandomUnderSampler, InstanceHardnessThreshold\n",
    "from sklearn.model_selection import train_test_split, GridSearchCV\n",
    "from sklearn.neural_network import MLPClassifier\n",
    "from sklearn.metrics import confusion_matrix, classification_report\n",
    "from sklearn.neighbors import KNeighborsClassifier\n",
    "from sklearn.ensemble import RandomForestClassifier\n"
   ]
  },
  {
   "cell_type": "code",
   "execution_count": 2,
   "metadata": {
    "ExecuteTime": {
     "end_time": "2020-05-06T13:28:56.837597Z",
     "start_time": "2020-05-06T13:28:56.696504Z"
    }
   },
   "outputs": [],
   "source": [
    "result = pd.read_csv('result2.csv')\n",
    "result.drop('Unnamed: 0', axis =1, inplace= True)"
   ]
  },
  {
   "cell_type": "code",
   "execution_count": 3,
   "metadata": {
    "ExecuteTime": {
     "end_time": "2020-05-06T13:28:56.919897Z",
     "start_time": "2020-05-06T13:28:56.842361Z"
    }
   },
   "outputs": [
    {
     "data": {
      "text/html": [
       "<div>\n",
       "<style scoped>\n",
       "    .dataframe tbody tr th:only-of-type {\n",
       "        vertical-align: middle;\n",
       "    }\n",
       "\n",
       "    .dataframe tbody tr th {\n",
       "        vertical-align: top;\n",
       "    }\n",
       "\n",
       "    .dataframe thead th {\n",
       "        text-align: right;\n",
       "    }\n",
       "</style>\n",
       "<table border=\"1\" class=\"dataframe\">\n",
       "  <thead>\n",
       "    <tr style=\"text-align: right;\">\n",
       "      <th></th>\n",
       "      <th>employment_type_contract</th>\n",
       "      <th>employment_type_full-time</th>\n",
       "      <th>employment_type_other</th>\n",
       "      <th>employment_type_part-time</th>\n",
       "      <th>employment_type_temporary</th>\n",
       "      <th>required_experience_associate</th>\n",
       "      <th>required_experience_entry level</th>\n",
       "      <th>required_experience_executive</th>\n",
       "      <th>required_experience_internship</th>\n",
       "      <th>required_experience_other</th>\n",
       "      <th>...</th>\n",
       "      <th>Country_GR</th>\n",
       "      <th>Country_OTHER</th>\n",
       "      <th>Country_US</th>\n",
       "      <th>telecommuting</th>\n",
       "      <th>has_company_logo</th>\n",
       "      <th>has_questions</th>\n",
       "      <th>fraudulent</th>\n",
       "      <th>salary_range</th>\n",
       "      <th>0</th>\n",
       "      <th>1</th>\n",
       "    </tr>\n",
       "  </thead>\n",
       "  <tbody>\n",
       "    <tr>\n",
       "      <td>0</td>\n",
       "      <td>0</td>\n",
       "      <td>0</td>\n",
       "      <td>1</td>\n",
       "      <td>0</td>\n",
       "      <td>0</td>\n",
       "      <td>0</td>\n",
       "      <td>0</td>\n",
       "      <td>0</td>\n",
       "      <td>1</td>\n",
       "      <td>0</td>\n",
       "      <td>...</td>\n",
       "      <td>0</td>\n",
       "      <td>0</td>\n",
       "      <td>1</td>\n",
       "      <td>0</td>\n",
       "      <td>1</td>\n",
       "      <td>0</td>\n",
       "      <td>0</td>\n",
       "      <td>0.0</td>\n",
       "      <td>24.714290</td>\n",
       "      <td>22.090221</td>\n",
       "    </tr>\n",
       "    <tr>\n",
       "      <td>1</td>\n",
       "      <td>0</td>\n",
       "      <td>1</td>\n",
       "      <td>0</td>\n",
       "      <td>0</td>\n",
       "      <td>0</td>\n",
       "      <td>0</td>\n",
       "      <td>0</td>\n",
       "      <td>0</td>\n",
       "      <td>0</td>\n",
       "      <td>1</td>\n",
       "      <td>...</td>\n",
       "      <td>0</td>\n",
       "      <td>1</td>\n",
       "      <td>0</td>\n",
       "      <td>0</td>\n",
       "      <td>1</td>\n",
       "      <td>0</td>\n",
       "      <td>0</td>\n",
       "      <td>1.0</td>\n",
       "      <td>22.080013</td>\n",
       "      <td>20.904112</td>\n",
       "    </tr>\n",
       "    <tr>\n",
       "      <td>2</td>\n",
       "      <td>0</td>\n",
       "      <td>0</td>\n",
       "      <td>1</td>\n",
       "      <td>0</td>\n",
       "      <td>0</td>\n",
       "      <td>0</td>\n",
       "      <td>0</td>\n",
       "      <td>0</td>\n",
       "      <td>0</td>\n",
       "      <td>1</td>\n",
       "      <td>...</td>\n",
       "      <td>0</td>\n",
       "      <td>0</td>\n",
       "      <td>1</td>\n",
       "      <td>0</td>\n",
       "      <td>1</td>\n",
       "      <td>0</td>\n",
       "      <td>0</td>\n",
       "      <td>0.0</td>\n",
       "      <td>19.897823</td>\n",
       "      <td>15.733032</td>\n",
       "    </tr>\n",
       "    <tr>\n",
       "      <td>3</td>\n",
       "      <td>0</td>\n",
       "      <td>1</td>\n",
       "      <td>0</td>\n",
       "      <td>0</td>\n",
       "      <td>0</td>\n",
       "      <td>1</td>\n",
       "      <td>0</td>\n",
       "      <td>0</td>\n",
       "      <td>0</td>\n",
       "      <td>0</td>\n",
       "      <td>...</td>\n",
       "      <td>0</td>\n",
       "      <td>0</td>\n",
       "      <td>1</td>\n",
       "      <td>0</td>\n",
       "      <td>1</td>\n",
       "      <td>0</td>\n",
       "      <td>0</td>\n",
       "      <td>0.0</td>\n",
       "      <td>14.740032</td>\n",
       "      <td>29.069805</td>\n",
       "    </tr>\n",
       "    <tr>\n",
       "      <td>4</td>\n",
       "      <td>0</td>\n",
       "      <td>1</td>\n",
       "      <td>0</td>\n",
       "      <td>0</td>\n",
       "      <td>0</td>\n",
       "      <td>1</td>\n",
       "      <td>0</td>\n",
       "      <td>0</td>\n",
       "      <td>0</td>\n",
       "      <td>0</td>\n",
       "      <td>...</td>\n",
       "      <td>0</td>\n",
       "      <td>0</td>\n",
       "      <td>1</td>\n",
       "      <td>0</td>\n",
       "      <td>1</td>\n",
       "      <td>1</td>\n",
       "      <td>0</td>\n",
       "      <td>0.0</td>\n",
       "      <td>24.179564</td>\n",
       "      <td>27.688435</td>\n",
       "    </tr>\n",
       "  </tbody>\n",
       "</table>\n",
       "<p>5 rows × 56 columns</p>\n",
       "</div>"
      ],
      "text/plain": [
       "   employment_type_contract  employment_type_full-time  employment_type_other  \\\n",
       "0                         0                          0                      1   \n",
       "1                         0                          1                      0   \n",
       "2                         0                          0                      1   \n",
       "3                         0                          1                      0   \n",
       "4                         0                          1                      0   \n",
       "\n",
       "   employment_type_part-time  employment_type_temporary  \\\n",
       "0                          0                          0   \n",
       "1                          0                          0   \n",
       "2                          0                          0   \n",
       "3                          0                          0   \n",
       "4                          0                          0   \n",
       "\n",
       "   required_experience_associate  required_experience_entry level  \\\n",
       "0                              0                                0   \n",
       "1                              0                                0   \n",
       "2                              0                                0   \n",
       "3                              1                                0   \n",
       "4                              1                                0   \n",
       "\n",
       "   required_experience_executive  required_experience_internship  \\\n",
       "0                              0                               1   \n",
       "1                              0                               0   \n",
       "2                              0                               0   \n",
       "3                              0                               0   \n",
       "4                              0                               0   \n",
       "\n",
       "   required_experience_other  ...  Country_GR  Country_OTHER  Country_US  \\\n",
       "0                          0  ...           0              0           1   \n",
       "1                          1  ...           0              1           0   \n",
       "2                          1  ...           0              0           1   \n",
       "3                          0  ...           0              0           1   \n",
       "4                          0  ...           0              0           1   \n",
       "\n",
       "   telecommuting  has_company_logo  has_questions  fraudulent  salary_range  \\\n",
       "0              0                 1              0           0           0.0   \n",
       "1              0                 1              0           0           1.0   \n",
       "2              0                 1              0           0           0.0   \n",
       "3              0                 1              0           0           0.0   \n",
       "4              0                 1              1           0           0.0   \n",
       "\n",
       "           0          1  \n",
       "0  24.714290  22.090221  \n",
       "1  22.080013  20.904112  \n",
       "2  19.897823  15.733032  \n",
       "3  14.740032  29.069805  \n",
       "4  24.179564  27.688435  \n",
       "\n",
       "[5 rows x 56 columns]"
      ]
     },
     "execution_count": 3,
     "metadata": {},
     "output_type": "execute_result"
    }
   ],
   "source": [
    "result.head()"
   ]
  },
  {
   "cell_type": "code",
   "execution_count": 4,
   "metadata": {
    "ExecuteTime": {
     "end_time": "2020-05-06T13:29:04.448516Z",
     "start_time": "2020-05-06T13:28:56.923885Z"
    }
   },
   "outputs": [],
   "source": [
    "threshold = InstanceHardnessThreshold(random_state =42)\n",
    "\n",
    "X_rus, y_rus = threshold.fit_resample(result.drop('fraudulent', axis = 1), result['fraudulent'])"
   ]
  },
  {
   "cell_type": "code",
   "execution_count": 5,
   "metadata": {
    "ExecuteTime": {
     "end_time": "2020-05-06T13:29:04.470538Z",
     "start_time": "2020-05-06T13:29:04.450512Z"
    }
   },
   "outputs": [],
   "source": [
    "X_train, X_test, y_train, y_test = train_test_split(X_rus, y_rus, test_size=0.3, random_state=42, stratify=y_rus)"
   ]
  },
  {
   "cell_type": "markdown",
   "metadata": {},
   "source": [
    "# KNN tuning"
   ]
  },
  {
   "cell_type": "code",
   "execution_count": 6,
   "metadata": {
    "ExecuteTime": {
     "end_time": "2020-05-06T13:29:04.565344Z",
     "start_time": "2020-05-06T13:29:04.472875Z"
    }
   },
   "outputs": [
    {
     "data": {
      "text/plain": [
       "\"The code was executed in  google colab, the result is \\n\\n{'algorithm': 'auto', 'metric': 'manhattan', 'n_neighbors': 21, 'weights': 'distance'}\""
      ]
     },
     "execution_count": 6,
     "metadata": {},
     "output_type": "execute_result"
    }
   ],
   "source": [
    "#create new a knn model\n",
    "knn = KNeighborsClassifier()\n",
    "\n",
    "#create a dictionary of all values we want to test for n_neighbors\n",
    "params_knn = {'n_neighbors': np.arange(1, 25), \n",
    "              'weights': ['uniform', 'distance'], \n",
    "              'algorithm': ['auto', 'kd_tree', 'brute'],\n",
    "              'metric': ['euclidean', 'manhattan', 'chebyshev', 'minkowski'],\n",
    "            }\n",
    "\n",
    "#knn_gs = GridSearchCV(knn, params_knn, cv=5)\n",
    "\n",
    "#knn_gs.fit(X_train, y_train)\n",
    "\n",
    "#knn_best = knn_gs.best_estimator_\n",
    "\n",
    "#print(knn_gs.best_params_)\n",
    "\n",
    "\n",
    "\"\"\"The code was executed in  google colab, the result is \n",
    "\n",
    "{'algorithm': 'auto', 'metric': 'manhattan', 'n_neighbors': 21, 'weights': 'distance'}\"\"\""
   ]
  },
  {
   "cell_type": "code",
   "execution_count": 12,
   "metadata": {
    "ExecuteTime": {
     "end_time": "2020-05-06T13:34:33.196874Z",
     "start_time": "2020-05-06T13:34:32.566920Z"
    }
   },
   "outputs": [
    {
     "name": "stdout",
     "output_type": "stream",
     "text": [
      "[[3502    9]\n",
      " [  48  212]]\n",
      "              precision    recall  f1-score   support\n",
      "\n",
      "           0       0.99      1.00      0.99      3511\n",
      "           1       0.96      0.82      0.88       260\n",
      "\n",
      "    accuracy                           0.98      3771\n",
      "   macro avg       0.97      0.91      0.94      3771\n",
      "weighted avg       0.98      0.98      0.98      3771\n",
      "\n"
     ]
    }
   ],
   "source": [
    "\"\"\" Without Tuning\"\"\"\n",
    "\n",
    "knn = KNeighborsClassifier()\n",
    "y_pred = knn.fit(X_train, y_train).predict(X_test)\n",
    "print(confusion_matrix(y_test, y_pred))\n",
    "print(classification_report(y_test, y_pred))"
   ]
  },
  {
   "cell_type": "code",
   "execution_count": 8,
   "metadata": {
    "ExecuteTime": {
     "end_time": "2020-05-06T13:29:06.154910Z",
     "start_time": "2020-05-06T13:29:05.186452Z"
    }
   },
   "outputs": [
    {
     "name": "stdout",
     "output_type": "stream",
     "text": [
      "[[3505    6]\n",
      " [  46  214]]\n",
      "              precision    recall  f1-score   support\n",
      "\n",
      "           0       0.99      1.00      0.99      3511\n",
      "           1       0.97      0.82      0.89       260\n",
      "\n",
      "    accuracy                           0.99      3771\n",
      "   macro avg       0.98      0.91      0.94      3771\n",
      "weighted avg       0.99      0.99      0.99      3771\n",
      "\n"
     ]
    }
   ],
   "source": [
    "\"\"\" With Tuning \"\"\"\n",
    "\n",
    "knn = KNeighborsClassifier(algorithm =  'auto', metric = 'manhattan', n_neighbors= 21, weights = 'distance')\n",
    "y_pred = knn.fit(X_train, y_train).predict(X_test)\n",
    "print(confusion_matrix(y_test, y_pred))\n",
    "print(classification_report(y_test, y_pred))"
   ]
  },
  {
   "cell_type": "markdown",
   "metadata": {
    "ExecuteTime": {
     "end_time": "2020-05-06T11:55:34.502495Z",
     "start_time": "2020-05-06T11:55:34.438659Z"
    }
   },
   "source": [
    "# MLP tuning"
   ]
  },
  {
   "cell_type": "code",
   "execution_count": 10,
   "metadata": {
    "ExecuteTime": {
     "end_time": "2020-05-06T13:29:48.789074Z",
     "start_time": "2020-05-06T13:29:48.781353Z"
    }
   },
   "outputs": [],
   "source": [
    "mlp = MLPClassifier(max_iter = 10000, hidden_layer_sizes = (100,))\n",
    "\n",
    "params_mlp = {\n",
    "              'activation': ['identity', 'logistic', 'tanh', 'relu'], \n",
    "              'solver': ['lbfgs', 'sgd', 'adam'],\n",
    "              'learning_rate': ['constant', 'invscaling', 'adaptive', 'minkowski'],\n",
    "            }\n",
    "\n",
    "#mlp_gs = GridSearchCV(mlp, params_mlp, cv=5)\n",
    "\n",
    "#mlp_gs.fit(X_train, y_train)\n",
    "\n",
    "#mlp_best = mlp_gs.best_estimator_\n",
    "\n",
    "#print(knn_gs.best_params_)\n",
    "\n",
    "\n",
    "\"\"\"\n",
    "The code was executed in  google colab, the result is\n",
    "\n",
    "{'activation': 'tanh', 'learning_rate': 'adaptive', 'solver': 'lbfgs'}\n",
    "\"\"\""
   ]
  },
  {
   "cell_type": "code",
   "execution_count": 16,
   "metadata": {
    "ExecuteTime": {
     "end_time": "2020-05-06T14:33:49.058321Z",
     "start_time": "2020-05-06T14:33:39.771699Z"
    }
   },
   "outputs": [
    {
     "name": "stdout",
     "output_type": "stream",
     "text": [
      "[[3499   12]\n",
      " [  56  204]]\n",
      "              precision    recall  f1-score   support\n",
      "\n",
      "           0       0.98      1.00      0.99      3511\n",
      "           1       0.94      0.78      0.86       260\n",
      "\n",
      "    accuracy                           0.98      3771\n",
      "   macro avg       0.96      0.89      0.92      3771\n",
      "weighted avg       0.98      0.98      0.98      3771\n",
      "\n"
     ]
    }
   ],
   "source": [
    "\"\"\" Without Tuning \"\"\"\n",
    "\n",
    "mlp = MLPClassifier(max_iter = 10000)\n",
    "y_pred = mlp.fit(X_train, y_train).predict(X_test)\n",
    "print(confusion_matrix(y_test, y_pred))\n",
    "print(classification_report(y_test, y_pred))"
   ]
  },
  {
   "cell_type": "code",
   "execution_count": 17,
   "metadata": {
    "ExecuteTime": {
     "end_time": "2020-05-06T14:33:49.957948Z",
     "start_time": "2020-05-06T14:33:49.247816Z"
    }
   },
   "outputs": [
    {
     "name": "stdout",
     "output_type": "stream",
     "text": [
      "[[3502    9]\n",
      " [  48  212]]\n",
      "              precision    recall  f1-score   support\n",
      "\n",
      "           0       0.99      1.00      0.99      3511\n",
      "           1       0.96      0.82      0.88       260\n",
      "\n",
      "    accuracy                           0.98      3771\n",
      "   macro avg       0.97      0.91      0.94      3771\n",
      "weighted avg       0.98      0.98      0.98      3771\n",
      "\n"
     ]
    }
   ],
   "source": [
    "\"\"\" With  Tuning \"\"\"\n",
    "\n",
    "mlp = MLPClassifier(max_iter = 10000, hidden_layer_sizes = (100,),activation='tanh',learning_rate='adaptive',solver='lbfgs')\n",
    "y_pred = knn.fit(X_train, y_train).predict(X_test)\n",
    "print(confusion_matrix(y_test, y_pred))\n",
    "print(classification_report(y_test, y_pred))"
   ]
  },
  {
   "cell_type": "code",
   "execution_count": null,
   "metadata": {},
   "outputs": [],
   "source": [
    "\"\"\" Now we will find the best hidde_layer_sizes \"\"\""
   ]
  },
  {
   "cell_type": "code",
   "execution_count": null,
   "metadata": {},
   "outputs": [],
   "source": [
    "mlp = MLPClassifier(max_iter = 10000,activation='tanh',learning_rate='adaptive',solver='lbfgs')\n",
    "\n",
    "params_mlp = {\n",
    "              'hidden_layer_sizes' : (np.arange(100,400),)\n",
    "            }\n",
    "\n",
    "#mlp_gs = GridSearchCV(mlp, params_mlp, cv=5)\n",
    "\n",
    "#mlp_gs.fit(X_train, y_train)\n",
    "\n",
    "#mlp_best = mlp_gs.best_estimator_\n",
    "\n",
    "#print(mlp_gs.best_params_)"
   ]
  },
  {
   "cell_type": "code",
   "execution_count": null,
   "metadata": {},
   "outputs": [],
   "source": []
  },
  {
   "cell_type": "code",
   "execution_count": null,
   "metadata": {},
   "outputs": [],
   "source": []
  },
  {
   "cell_type": "markdown",
   "metadata": {},
   "source": [
    "# Random Forest Tuning"
   ]
  },
  {
   "cell_type": "code",
   "execution_count": null,
   "metadata": {},
   "outputs": [],
   "source": [
    "rfc = RandomForestClassifier(random_state = 42)\n",
    "\n",
    "params_rfc = { \n",
    "                'n_estimators' : np.arrage(50,250)\n",
    "                'criterion' : ['gini','entropy']\n",
    "                'max_features' : ['int','float','auto','log2']\n",
    "            }\n",
    "\n",
    "#rfc_gs = GridSearchCV(rfc, params_rfc, cv=5)\n",
    "\n",
    "#rfc_gs.fit(X_train, y_train)\n",
    "\n",
    "#rfc_best = rfc_gs.best_estimator_\n",
    "\n",
    "#print(rfc_gs.best_params_)"
   ]
  },
  {
   "cell_type": "code",
   "execution_count": null,
   "metadata": {},
   "outputs": [],
   "source": []
  },
  {
   "cell_type": "code",
   "execution_count": null,
   "metadata": {},
   "outputs": [],
   "source": []
  }
 ],
 "metadata": {
  "kernelspec": {
   "display_name": "Python 3",
   "language": "python",
   "name": "python3"
  },
  "language_info": {
   "codemirror_mode": {
    "name": "ipython",
    "version": 3
   },
   "file_extension": ".py",
   "mimetype": "text/x-python",
   "name": "python",
   "nbconvert_exporter": "python",
   "pygments_lexer": "ipython3",
   "version": "3.7.4"
  },
  "varInspector": {
   "cols": {
    "lenName": 16,
    "lenType": 16,
    "lenVar": 40
   },
   "kernels_config": {
    "python": {
     "delete_cmd_postfix": "",
     "delete_cmd_prefix": "del ",
     "library": "var_list.py",
     "varRefreshCmd": "print(var_dic_list())"
    },
    "r": {
     "delete_cmd_postfix": ") ",
     "delete_cmd_prefix": "rm(",
     "library": "var_list.r",
     "varRefreshCmd": "cat(var_dic_list()) "
    }
   },
   "types_to_exclude": [
    "module",
    "function",
    "builtin_function_or_method",
    "instance",
    "_Feature"
   ],
   "window_display": false
  }
 },
 "nbformat": 4,
 "nbformat_minor": 2
}
