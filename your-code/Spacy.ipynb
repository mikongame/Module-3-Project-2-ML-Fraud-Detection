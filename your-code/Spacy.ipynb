{
 "cells": [
  {
   "cell_type": "code",
   "execution_count": 1,
   "metadata": {
    "ExecuteTime": {
     "end_time": "2020-04-26T21:31:08.695906Z",
     "start_time": "2020-04-26T21:31:06.086466Z"
    }
   },
   "outputs": [],
   "source": [
    "import pandas as pd \n",
    "import numpy as np\n",
    "import re\n",
    "import itertools\n",
    "import spacy\n",
    "import string\n",
    "from spacy.lang.en import English\n",
    "from spacy.lang.en.stop_words import STOP_WORDS\n",
    "import en_core_web_sm\n",
    "from sklearn.feature_extraction.text import CountVectorizer,TfidfVectorizer\n",
    "from sklearn.base import TransformerMixin\n",
    "from sklearn.pipeline import Pipeline"
   ]
  },
  {
   "cell_type": "code",
   "execution_count": 2,
   "metadata": {
    "ExecuteTime": {
     "end_time": "2020-04-26T21:31:09.614280Z",
     "start_time": "2020-04-26T21:31:08.715854Z"
    }
   },
   "outputs": [],
   "source": [
    "df_data_raw = pd.read_csv('data/fake_job_postings.csv')"
   ]
  },
  {
   "cell_type": "code",
   "execution_count": 3,
   "metadata": {
    "ExecuteTime": {
     "end_time": "2020-04-26T21:31:09.708017Z",
     "start_time": "2020-04-26T21:31:09.617258Z"
    }
   },
   "outputs": [
    {
     "data": {
      "text/html": [
       "<div>\n",
       "<style scoped>\n",
       "    .dataframe tbody tr th:only-of-type {\n",
       "        vertical-align: middle;\n",
       "    }\n",
       "\n",
       "    .dataframe tbody tr th {\n",
       "        vertical-align: top;\n",
       "    }\n",
       "\n",
       "    .dataframe thead th {\n",
       "        text-align: right;\n",
       "    }\n",
       "</style>\n",
       "<table border=\"1\" class=\"dataframe\">\n",
       "  <thead>\n",
       "    <tr style=\"text-align: right;\">\n",
       "      <th></th>\n",
       "      <th>title</th>\n",
       "      <th>location</th>\n",
       "      <th>department</th>\n",
       "      <th>salary_range</th>\n",
       "      <th>company_profile</th>\n",
       "      <th>description</th>\n",
       "      <th>requirements</th>\n",
       "      <th>benefits</th>\n",
       "      <th>employment_type</th>\n",
       "      <th>required_experience</th>\n",
       "      <th>required_education</th>\n",
       "      <th>industry</th>\n",
       "      <th>function</th>\n",
       "    </tr>\n",
       "  </thead>\n",
       "  <tbody>\n",
       "    <tr>\n",
       "      <th>0</th>\n",
       "      <td>Marketing Intern</td>\n",
       "      <td>US, NY, New York</td>\n",
       "      <td>Marketing</td>\n",
       "      <td></td>\n",
       "      <td>We're Food52, and we've created a groundbreaki...</td>\n",
       "      <td>Food52, a fast-growing, James Beard Award-winn...</td>\n",
       "      <td>Experience with content management systems a m...</td>\n",
       "      <td></td>\n",
       "      <td>Other</td>\n",
       "      <td>Internship</td>\n",
       "      <td></td>\n",
       "      <td></td>\n",
       "      <td>Marketing</td>\n",
       "    </tr>\n",
       "    <tr>\n",
       "      <th>1</th>\n",
       "      <td>Customer Service - Cloud Video Production</td>\n",
       "      <td>NZ, , Auckland</td>\n",
       "      <td>Success</td>\n",
       "      <td></td>\n",
       "      <td>90 Seconds, the worlds Cloud Video Production ...</td>\n",
       "      <td>Organised - Focused - Vibrant - Awesome!Do you...</td>\n",
       "      <td>What we expect from you:Your key responsibilit...</td>\n",
       "      <td>What you will get from usThrough being part of...</td>\n",
       "      <td>Full-time</td>\n",
       "      <td>Not Applicable</td>\n",
       "      <td></td>\n",
       "      <td>Marketing and Advertising</td>\n",
       "      <td>Customer Service</td>\n",
       "    </tr>\n",
       "    <tr>\n",
       "      <th>2</th>\n",
       "      <td>Commissioning Machinery Assistant (CMA)</td>\n",
       "      <td>US, IA, Wever</td>\n",
       "      <td></td>\n",
       "      <td></td>\n",
       "      <td>Valor Services provides Workforce Solutions th...</td>\n",
       "      <td>Our client, located in Houston, is actively se...</td>\n",
       "      <td>Implement pre-commissioning and commissioning ...</td>\n",
       "      <td></td>\n",
       "      <td></td>\n",
       "      <td></td>\n",
       "      <td></td>\n",
       "      <td></td>\n",
       "      <td></td>\n",
       "    </tr>\n",
       "    <tr>\n",
       "      <th>3</th>\n",
       "      <td>Account Executive - Washington DC</td>\n",
       "      <td>US, DC, Washington</td>\n",
       "      <td>Sales</td>\n",
       "      <td></td>\n",
       "      <td>Our passion for improving quality of life thro...</td>\n",
       "      <td>THE COMPANY: ESRI – Environmental Systems Rese...</td>\n",
       "      <td>EDUCATION: Bachelor’s or Master’s in GIS, busi...</td>\n",
       "      <td>Our culture is anything but corporate—we have ...</td>\n",
       "      <td>Full-time</td>\n",
       "      <td>Mid-Senior level</td>\n",
       "      <td>Bachelor's Degree</td>\n",
       "      <td>Computer Software</td>\n",
       "      <td>Sales</td>\n",
       "    </tr>\n",
       "    <tr>\n",
       "      <th>4</th>\n",
       "      <td>Bill Review Manager</td>\n",
       "      <td>US, FL, Fort Worth</td>\n",
       "      <td></td>\n",
       "      <td></td>\n",
       "      <td>SpotSource Solutions LLC is a Global Human Cap...</td>\n",
       "      <td>JOB TITLE: Itemization Review ManagerLOCATION:...</td>\n",
       "      <td>QUALIFICATIONS:RN license in the State of Texa...</td>\n",
       "      <td>Full Benefits Offered</td>\n",
       "      <td>Full-time</td>\n",
       "      <td>Mid-Senior level</td>\n",
       "      <td>Bachelor's Degree</td>\n",
       "      <td>Hospital &amp; Health Care</td>\n",
       "      <td>Health Care Provider</td>\n",
       "    </tr>\n",
       "  </tbody>\n",
       "</table>\n",
       "</div>"
      ],
      "text/plain": [
       "                                       title            location department  \\\n",
       "0                           Marketing Intern    US, NY, New York  Marketing   \n",
       "1  Customer Service - Cloud Video Production      NZ, , Auckland    Success   \n",
       "2    Commissioning Machinery Assistant (CMA)       US, IA, Wever              \n",
       "3          Account Executive - Washington DC  US, DC, Washington      Sales   \n",
       "4                        Bill Review Manager  US, FL, Fort Worth              \n",
       "\n",
       "  salary_range                                    company_profile  \\\n",
       "0               We're Food52, and we've created a groundbreaki...   \n",
       "1               90 Seconds, the worlds Cloud Video Production ...   \n",
       "2               Valor Services provides Workforce Solutions th...   \n",
       "3               Our passion for improving quality of life thro...   \n",
       "4               SpotSource Solutions LLC is a Global Human Cap...   \n",
       "\n",
       "                                         description  \\\n",
       "0  Food52, a fast-growing, James Beard Award-winn...   \n",
       "1  Organised - Focused - Vibrant - Awesome!Do you...   \n",
       "2  Our client, located in Houston, is actively se...   \n",
       "3  THE COMPANY: ESRI – Environmental Systems Rese...   \n",
       "4  JOB TITLE: Itemization Review ManagerLOCATION:...   \n",
       "\n",
       "                                        requirements  \\\n",
       "0  Experience with content management systems a m...   \n",
       "1  What we expect from you:Your key responsibilit...   \n",
       "2  Implement pre-commissioning and commissioning ...   \n",
       "3  EDUCATION: Bachelor’s or Master’s in GIS, busi...   \n",
       "4  QUALIFICATIONS:RN license in the State of Texa...   \n",
       "\n",
       "                                            benefits employment_type  \\\n",
       "0                                                              Other   \n",
       "1  What you will get from usThrough being part of...       Full-time   \n",
       "2                                                                      \n",
       "3  Our culture is anything but corporate—we have ...       Full-time   \n",
       "4                              Full Benefits Offered       Full-time   \n",
       "\n",
       "  required_experience required_education                   industry  \\\n",
       "0          Internship                                                 \n",
       "1      Not Applicable                     Marketing and Advertising   \n",
       "2                                                                     \n",
       "3    Mid-Senior level  Bachelor's Degree          Computer Software   \n",
       "4    Mid-Senior level  Bachelor's Degree     Hospital & Health Care   \n",
       "\n",
       "               function  \n",
       "0             Marketing  \n",
       "1      Customer Service  \n",
       "2                        \n",
       "3                 Sales  \n",
       "4  Health Care Provider  "
      ]
     },
     "execution_count": 3,
     "metadata": {},
     "output_type": "execute_result"
    }
   ],
   "source": [
    "df_categorical = df_data_raw.select_dtypes(include = 'object').fillna('')\n",
    "df_categorical.head()"
   ]
  },
  {
   "cell_type": "code",
   "execution_count": 4,
   "metadata": {
    "ExecuteTime": {
     "end_time": "2020-04-26T21:31:15.140263Z",
     "start_time": "2020-04-26T21:31:14.758712Z"
    }
   },
   "outputs": [],
   "source": [
    "str_bow_raw = ' '.join([' '.join(df_categorical[x].astype(str).tolist()) for x in df_categorical.columns])"
   ]
  },
  {
   "cell_type": "code",
   "execution_count": 58,
   "metadata": {
    "ExecuteTime": {
     "end_time": "2020-04-26T22:18:12.944929Z",
     "start_time": "2020-04-26T22:18:12.321323Z"
    }
   },
   "outputs": [],
   "source": [
    "def clean_text(str_text_raw):\n",
    "#     translator = str.maketrans(string.punctuation, ' '*len(string.punctuation))\n",
    "#     return(str_bow_raw.lower().translate(translator))\n",
    "    return(str_bow_raw.lower())\n",
    "str_bow = clean_text(str_bow_raw)"
   ]
  },
  {
   "cell_type": "code",
   "execution_count": 59,
   "metadata": {
    "ExecuteTime": {
     "end_time": "2020-04-26T22:18:19.318788Z",
     "start_time": "2020-04-26T22:18:19.292857Z"
    }
   },
   "outputs": [],
   "source": [
    "str_bow = str_bow[0:1000]"
   ]
  },
  {
   "cell_type": "code",
   "execution_count": 60,
   "metadata": {
    "ExecuteTime": {
     "end_time": "2020-04-26T22:18:21.146808Z",
     "start_time": "2020-04-26T22:18:21.138827Z"
    }
   },
   "outputs": [
    {
     "data": {
      "text/plain": [
       "'marketing intern customer service - cloud video production commissioning machinery assistant (cma) account executive - washington dc bill review manager accounting clerk head of content (m/f) lead guest service specialist    hp bsm sme customer service associate - part time  asp.net developer job opportunity at united states,new jersey talent sourcer (6 months fixed-term contract) applications developer, digital  installers account executive - sydney vp of sales - vault dragon hands-on qa leader  southend-on-sea traineeships under nas 16-18 year olds only visual designer process controls engineer - dcs plc ms office - pa marketing assistant front end developer    engagement manager  vice president, sales and sponsorship (businessfriend.com) customer service  h1b sponsor for l1/l2/opt marketing exec haad/dha licensed doctors opening in uae talent management process manager customer service associate  customer service technical specialist  software applications specialist craftsman assoc'"
      ]
     },
     "execution_count": 60,
     "metadata": {},
     "output_type": "execute_result"
    }
   ],
   "source": [
    "str_bow"
   ]
  },
  {
   "cell_type": "code",
   "execution_count": 68,
   "metadata": {
    "ExecuteTime": {
     "end_time": "2020-04-26T22:24:49.055936Z",
     "start_time": "2020-04-26T22:24:48.180190Z"
    }
   },
   "outputs": [],
   "source": [
    "# nlp = English()\n",
    "nlp = en_core_web_sm.load()\n",
    "doc = nlp(str_bow)"
   ]
  },
  {
   "cell_type": "code",
   "execution_count": 69,
   "metadata": {
    "ExecuteTime": {
     "end_time": "2020-04-26T22:24:51.573976Z",
     "start_time": "2020-04-26T22:24:51.568989Z"
    }
   },
   "outputs": [],
   "source": [
    "l_token = [[token.text, token.lemma_, token.pos_] for token in doc if not token.is_punct | token.is_space | token.is_stop]\n",
    "# l_token[1:100]"
   ]
  },
  {
   "cell_type": "code",
   "execution_count": 70,
   "metadata": {
    "ExecuteTime": {
     "end_time": "2020-04-26T22:24:57.209014Z",
     "start_time": "2020-04-26T22:24:57.190094Z"
    }
   },
   "outputs": [
    {
     "data": {
      "text/plain": [
       "[['marketing', 'market', 'VERB'],\n",
       " ['intern', 'intern', 'NOUN'],\n",
       " ['customer', 'customer', 'NOUN'],\n",
       " ['service', 'service', 'NOUN'],\n",
       " ['cloud', 'cloud', 'NOUN'],\n",
       " ['video', 'video', 'NOUN'],\n",
       " ['production', 'production', 'NOUN'],\n",
       " ['commissioning', 'commissioning', 'NOUN'],\n",
       " ['machinery', 'machinery', 'NOUN'],\n",
       " ['assistant', 'assistant', 'NOUN'],\n",
       " ['cma', 'cma', 'PROPN'],\n",
       " ['account', 'account', 'NOUN'],\n",
       " ['executive', 'executive', 'PROPN'],\n",
       " ['washington', 'washington', 'PROPN'],\n",
       " ['dc', 'dc', 'PROPN'],\n",
       " ['bill', 'bill', 'PROPN'],\n",
       " ['review', 'review', 'PROPN'],\n",
       " ['manager', 'manager', 'PROPN'],\n",
       " ['accounting', 'accounting', 'PROPN'],\n",
       " ['clerk', 'clerk', 'PROPN'],\n",
       " ['head', 'head', 'NOUN'],\n",
       " ['content', 'content', 'NOUN'],\n",
       " ['m', 'm', 'PROPN'],\n",
       " ['f', 'f', 'PROPN'],\n",
       " ['lead', 'lead', 'NOUN'],\n",
       " ['guest', 'guest', 'NOUN'],\n",
       " ['service', 'service', 'NOUN'],\n",
       " ['specialist', 'specialist', 'NOUN'],\n",
       " ['hp', 'hp', 'PROPN'],\n",
       " ['bsm', 'bsm', 'PROPN'],\n",
       " ['sme', 'sme', 'PROPN'],\n",
       " ['customer', 'customer', 'NOUN'],\n",
       " ['service', 'service', 'NOUN'],\n",
       " ['associate', 'associate', 'ADJ'],\n",
       " ['time', 'time', 'NOUN'],\n",
       " ['asp.net', 'asp.net', 'VERB'],\n",
       " ['developer', 'developer', 'NOUN'],\n",
       " ['job', 'job', 'NOUN'],\n",
       " ['opportunity', 'opportunity', 'NOUN'],\n",
       " ['united', 'united', 'PROPN'],\n",
       " ['states', 'states', 'PROPN'],\n",
       " ['new', 'new', 'PROPN'],\n",
       " ['jersey', 'jersey', 'PROPN'],\n",
       " ['talent', 'talent', 'NOUN'],\n",
       " ['sourcer', 'sourcer', 'NOUN'],\n",
       " ['6', '6', 'NUM'],\n",
       " ['months', 'month', 'NOUN'],\n",
       " ['fixed', 'fix', 'VERB'],\n",
       " ['term', 'term', 'NOUN'],\n",
       " ['contract', 'contract', 'NOUN'],\n",
       " ['applications', 'application', 'NOUN'],\n",
       " ['developer', 'developer', 'NOUN'],\n",
       " ['digital', 'digital', 'ADJ'],\n",
       " ['installers', 'installer', 'NOUN'],\n",
       " ['account', 'account', 'VERB'],\n",
       " ['executive', 'executive', 'PROPN'],\n",
       " ['sydney', 'sydney', 'NOUN'],\n",
       " ['vp', 'vp', 'NOUN'],\n",
       " ['sales', 'sale', 'NOUN'],\n",
       " ['vault', 'vault', 'NOUN'],\n",
       " ['dragon', 'dragon', 'NOUN'],\n",
       " ['hands', 'hand', 'NOUN'],\n",
       " ['qa', 'qa', 'PROPN'],\n",
       " ['leader', 'leader', 'NOUN'],\n",
       " ['southend', 'southend', 'VERB'],\n",
       " ['sea', 'sea', 'NOUN'],\n",
       " ['traineeships', 'traineeship', 'NOUN'],\n",
       " ['nas', 'nas', 'PROPN'],\n",
       " ['16', '16', 'NUM'],\n",
       " ['18', '18', 'NUM'],\n",
       " ['year', 'year', 'NOUN'],\n",
       " ['olds', 'old', 'NOUN'],\n",
       " ['visual', 'visual', 'ADJ'],\n",
       " ['designer', 'designer', 'NOUN'],\n",
       " ['process', 'process', 'NOUN'],\n",
       " ['controls', 'control', 'VERB'],\n",
       " ['engineer', 'engineer', 'PROPN'],\n",
       " ['dcs', 'dcs', 'PROPN'],\n",
       " ['plc', 'plc', 'PROPN'],\n",
       " ['ms', 'ms', 'PROPN'],\n",
       " ['office', 'office', 'PROPN'],\n",
       " ['pa', 'pa', 'PROPN'],\n",
       " ['marketing', 'marketing', 'NOUN'],\n",
       " ['assistant', 'assistant', 'NOUN'],\n",
       " ['end', 'end', 'NOUN'],\n",
       " ['developer', 'developer', 'NOUN'],\n",
       " ['engagement', 'engagement', 'NOUN'],\n",
       " ['manager', 'manager', 'NOUN'],\n",
       " ['vice', 'vice', 'NOUN'],\n",
       " ['president', 'president', 'NOUN'],\n",
       " ['sales', 'sale', 'NOUN'],\n",
       " ['sponsorship', 'sponsorship', 'NOUN'],\n",
       " ['businessfriend.com', 'businessfriend.com', 'X'],\n",
       " ['customer', 'customer', 'NOUN'],\n",
       " ['service', 'service', 'NOUN'],\n",
       " ['h1b', 'h1b', 'PROPN'],\n",
       " ['sponsor', 'sponsor', 'NOUN'],\n",
       " ['l1', 'l1', 'PROPN'],\n",
       " ['l2', 'l2', 'PROPN'],\n",
       " ['opt', 'opt', 'NOUN'],\n",
       " ['marketing', 'market', 'VERB'],\n",
       " ['exec', 'exec', 'PROPN'],\n",
       " ['haad', 'haad', 'PROPN'],\n",
       " ['dha', 'dha', 'PROPN'],\n",
       " ['licensed', 'license', 'VERB'],\n",
       " ['doctors', 'doctor', 'NOUN'],\n",
       " ['opening', 'open', 'VERB'],\n",
       " ['uae', 'uae', 'PROPN'],\n",
       " ['talent', 'talent', 'NOUN'],\n",
       " ['management', 'management', 'NOUN'],\n",
       " ['process', 'process', 'NOUN'],\n",
       " ['manager', 'manager', 'NOUN'],\n",
       " ['customer', 'customer', 'NOUN'],\n",
       " ['service', 'service', 'NOUN'],\n",
       " ['associate', 'associate', 'NOUN'],\n",
       " ['customer', 'customer', 'NOUN'],\n",
       " ['service', 'service', 'NOUN'],\n",
       " ['technical', 'technical', 'ADJ'],\n",
       " ['specialist', 'specialist', 'NOUN'],\n",
       " ['software', 'software', 'NOUN'],\n",
       " ['applications', 'application', 'NOUN'],\n",
       " ['specialist', 'specialist', 'PROPN'],\n",
       " ['craftsman', 'craftsman', 'PROPN'],\n",
       " ['assoc', 'assoc', 'VERB']]"
      ]
     },
     "execution_count": 70,
     "metadata": {},
     "output_type": "execute_result"
    }
   ],
   "source": [
    "l_token"
   ]
  },
  {
   "cell_type": "code",
   "execution_count": 74,
   "metadata": {
    "ExecuteTime": {
     "end_time": "2020-04-26T22:36:26.482576Z",
     "start_time": "2020-04-26T22:36:26.475621Z"
    }
   },
   "outputs": [],
   "source": [
    "pd_token = pd.DataFrame(l_token, columns=['Texto', 'Lemma', 'Part of Speech'])"
   ]
  },
  {
   "cell_type": "code",
   "execution_count": 75,
   "metadata": {
    "ExecuteTime": {
     "end_time": "2020-04-26T22:36:28.226450Z",
     "start_time": "2020-04-26T22:36:28.211489Z"
    }
   },
   "outputs": [
    {
     "data": {
      "text/html": [
       "<div>\n",
       "<style scoped>\n",
       "    .dataframe tbody tr th:only-of-type {\n",
       "        vertical-align: middle;\n",
       "    }\n",
       "\n",
       "    .dataframe tbody tr th {\n",
       "        vertical-align: top;\n",
       "    }\n",
       "\n",
       "    .dataframe thead th {\n",
       "        text-align: right;\n",
       "    }\n",
       "</style>\n",
       "<table border=\"1\" class=\"dataframe\">\n",
       "  <thead>\n",
       "    <tr style=\"text-align: right;\">\n",
       "      <th></th>\n",
       "      <th>texto</th>\n",
       "      <th>lemma</th>\n",
       "      <th>Part of Speech</th>\n",
       "    </tr>\n",
       "  </thead>\n",
       "  <tbody>\n",
       "    <tr>\n",
       "      <th>0</th>\n",
       "      <td>marketing</td>\n",
       "      <td>market</td>\n",
       "      <td>VERB</td>\n",
       "    </tr>\n",
       "    <tr>\n",
       "      <th>1</th>\n",
       "      <td>intern</td>\n",
       "      <td>intern</td>\n",
       "      <td>NOUN</td>\n",
       "    </tr>\n",
       "    <tr>\n",
       "      <th>2</th>\n",
       "      <td>customer</td>\n",
       "      <td>customer</td>\n",
       "      <td>NOUN</td>\n",
       "    </tr>\n",
       "    <tr>\n",
       "      <th>3</th>\n",
       "      <td>service</td>\n",
       "      <td>service</td>\n",
       "      <td>NOUN</td>\n",
       "    </tr>\n",
       "    <tr>\n",
       "      <th>4</th>\n",
       "      <td>cloud</td>\n",
       "      <td>cloud</td>\n",
       "      <td>NOUN</td>\n",
       "    </tr>\n",
       "    <tr>\n",
       "      <th>...</th>\n",
       "      <td>...</td>\n",
       "      <td>...</td>\n",
       "      <td>...</td>\n",
       "    </tr>\n",
       "    <tr>\n",
       "      <th>119</th>\n",
       "      <td>software</td>\n",
       "      <td>software</td>\n",
       "      <td>NOUN</td>\n",
       "    </tr>\n",
       "    <tr>\n",
       "      <th>120</th>\n",
       "      <td>applications</td>\n",
       "      <td>application</td>\n",
       "      <td>NOUN</td>\n",
       "    </tr>\n",
       "    <tr>\n",
       "      <th>121</th>\n",
       "      <td>specialist</td>\n",
       "      <td>specialist</td>\n",
       "      <td>PROPN</td>\n",
       "    </tr>\n",
       "    <tr>\n",
       "      <th>122</th>\n",
       "      <td>craftsman</td>\n",
       "      <td>craftsman</td>\n",
       "      <td>PROPN</td>\n",
       "    </tr>\n",
       "    <tr>\n",
       "      <th>123</th>\n",
       "      <td>assoc</td>\n",
       "      <td>assoc</td>\n",
       "      <td>VERB</td>\n",
       "    </tr>\n",
       "  </tbody>\n",
       "</table>\n",
       "<p>124 rows × 3 columns</p>\n",
       "</div>"
      ],
      "text/plain": [
       "            texto        lemma Part of Speech\n",
       "0       marketing       market           VERB\n",
       "1          intern       intern           NOUN\n",
       "2        customer     customer           NOUN\n",
       "3         service      service           NOUN\n",
       "4           cloud        cloud           NOUN\n",
       "..            ...          ...            ...\n",
       "119      software     software           NOUN\n",
       "120  applications  application           NOUN\n",
       "121    specialist   specialist          PROPN\n",
       "122     craftsman    craftsman          PROPN\n",
       "123         assoc        assoc           VERB\n",
       "\n",
       "[124 rows x 3 columns]"
      ]
     },
     "execution_count": 75,
     "metadata": {},
     "output_type": "execute_result"
    }
   ],
   "source": [
    "pd_token.head()"
   ]
  },
  {
   "cell_type": "code",
   "execution_count": 9,
   "metadata": {
    "ExecuteTime": {
     "end_time": "2020-04-26T20:22:52.969773Z",
     "start_time": "2020-04-26T20:22:52.898002Z"
    }
   },
   "outputs": [],
   "source": [
    "tok_exp = nlp.tokenizer.explain(str_bow)"
   ]
  },
  {
   "cell_type": "code",
   "execution_count": 15,
   "metadata": {
    "ExecuteTime": {
     "end_time": "2020-04-26T20:30:49.756630Z",
     "start_time": "2020-04-26T20:30:49.740734Z"
    }
   },
   "outputs": [
    {
     "name": "stdout",
     "output_type": "stream",
     "text": [
      "[('TOKEN', 'marketing'), ('TOKEN', 'intern'), ('TOKEN', 'customer'), ('TOKEN', 'service'), ('TOKEN', '-'), ('TOKEN', 'cloud'), ('TOKEN', 'video'), ('TOKEN', 'production'), ('TOKEN', 'commissioning'), ('TOKEN', 'machinery'), ('TOKEN', 'assistant'), ('PREFIX', '('), ('TOKEN', 'cma'), ('SUFFIX', ')'), ('TOKEN', 'a')]\n"
     ]
    }
   ],
   "source": [
    "print(tok_exp)"
   ]
  }
 ],
 "metadata": {
  "kernelspec": {
   "display_name": "Python 3",
   "language": "python",
   "name": "python3"
  },
  "language_info": {
   "codemirror_mode": {
    "name": "ipython",
    "version": 3
   },
   "file_extension": ".py",
   "mimetype": "text/x-python",
   "name": "python",
   "nbconvert_exporter": "python",
   "pygments_lexer": "ipython3",
   "version": "3.7.1"
  },
  "latex_envs": {
   "LaTeX_envs_menu_present": true,
   "autoclose": false,
   "autocomplete": true,
   "bibliofile": "biblio.bib",
   "cite_by": "apalike",
   "current_citInitial": 1,
   "eqLabelWithNumbers": true,
   "eqNumInitial": 1,
   "hotkeys": {
    "equation": "Ctrl-E",
    "itemize": "Ctrl-I"
   },
   "labels_anchors": false,
   "latex_user_defs": false,
   "report_style_numbering": false,
   "user_envs_cfg": false
  },
  "toc": {
   "base_numbering": 1,
   "nav_menu": {},
   "number_sections": true,
   "sideBar": true,
   "skip_h1_title": false,
   "title_cell": "Table of Contents",
   "title_sidebar": "Contents",
   "toc_cell": false,
   "toc_position": {},
   "toc_section_display": true,
   "toc_window_display": false
  },
  "varInspector": {
   "cols": {
    "lenName": 16,
    "lenType": 16,
    "lenVar": 40
   },
   "kernels_config": {
    "python": {
     "delete_cmd_postfix": "",
     "delete_cmd_prefix": "del ",
     "library": "var_list.py",
     "varRefreshCmd": "print(var_dic_list())"
    },
    "r": {
     "delete_cmd_postfix": ") ",
     "delete_cmd_prefix": "rm(",
     "library": "var_list.r",
     "varRefreshCmd": "cat(var_dic_list()) "
    }
   },
   "types_to_exclude": [
    "module",
    "function",
    "builtin_function_or_method",
    "instance",
    "_Feature"
   ],
   "window_display": false
  }
 },
 "nbformat": 4,
 "nbformat_minor": 4
}
