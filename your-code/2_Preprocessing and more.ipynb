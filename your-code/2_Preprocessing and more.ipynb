{
 "cells": [
  {
   "cell_type": "markdown",
   "metadata": {},
   "source": [
    "<img src=\"https://bit.ly/2VnXWr2\" width=\"100\" align=\"left\">"
   ]
  },
  {
   "cell_type": "markdown",
   "metadata": {},
   "source": [
    "# Project | ML: Job offers' Fraud-Detection with NLP"
   ]
  },
  {
   "cell_type": "markdown",
   "metadata": {},
   "source": [
    "### Imports"
   ]
  },
  {
   "cell_type": "code",
   "execution_count": 19,
   "metadata": {
    "ExecuteTime": {
     "end_time": "2020-05-05T15:58:05.391732Z",
     "start_time": "2020-05-05T15:58:05.387742Z"
    }
   },
   "outputs": [],
   "source": [
    "import pandas as pd\n",
    "import numpy as np\n",
    "\n",
    "\n",
    "import re"
   ]
  },
  {
   "cell_type": "code",
   "execution_count": 2,
   "metadata": {
    "ExecuteTime": {
     "end_time": "2020-05-05T15:20:49.329008Z",
     "start_time": "2020-05-05T15:20:48.793548Z"
    }
   },
   "outputs": [],
   "source": [
    "data = pd.read_csv('data/fake_job_postings.csv')"
   ]
  },
  {
   "cell_type": "markdown",
   "metadata": {},
   "source": [
    "## 2. Data preprocessing"
   ]
  },
  {
   "cell_type": "markdown",
   "metadata": {},
   "source": [
    "### Categorical"
   ]
  },
  {
   "cell_type": "markdown",
   "metadata": {},
   "source": [
    "Categorical refers to columns of categorical variables which are not whole sentences/paragraphs."
   ]
  },
  {
   "cell_type": "code",
   "execution_count": 3,
   "metadata": {
    "ExecuteTime": {
     "end_time": "2020-05-05T15:20:53.176913Z",
     "start_time": "2020-05-05T15:20:53.169932Z"
    }
   },
   "outputs": [],
   "source": [
    "categorical_columns = data[[\"job_id\",\"employment_type\", \"required_experience\", \n",
    "                            \"required_education\", \"industry\", \"function\"]].copy()"
   ]
  },
  {
   "cell_type": "code",
   "execution_count": 4,
   "metadata": {
    "ExecuteTime": {
     "end_time": "2020-05-05T15:20:53.613750Z",
     "start_time": "2020-05-05T15:20:53.597790Z"
    }
   },
   "outputs": [],
   "source": [
    "categorical_columns = categorical_columns.fillna(\"other\")\n"
   ]
  },
  {
   "cell_type": "code",
   "execution_count": 5,
   "metadata": {
    "ExecuteTime": {
     "end_time": "2020-05-05T15:20:54.289840Z",
     "start_time": "2020-05-05T15:20:54.257011Z"
    }
   },
   "outputs": [],
   "source": [
    "for column in categorical_columns.columns[1:]:\n",
    "    categorical_columns[column] = categorical_columns[column].str.lower()"
   ]
  },
  {
   "cell_type": "code",
   "execution_count": 6,
   "metadata": {
    "ExecuteTime": {
     "end_time": "2020-05-05T15:20:55.394734Z",
     "start_time": "2020-05-05T15:20:55.299900Z"
    }
   },
   "outputs": [],
   "source": [
    "unique_industries_percentage = categorical_columns['industry'].value_counts()/categorical_columns.shape[0]*100\n",
    "\n",
    "unique_industries_indexes = list(unique_industries_percentage[unique_industries_percentage >= 1].index)\n",
    "\n",
    "other_industry = categorical_columns[\"industry\"][~categorical_columns[\"industry\"].isin(unique_industries_indexes)].unique()\n",
    "\n",
    "categorical_columns[\"industry\"].replace(other_industry,\"other\", inplace=True)"
   ]
  },
  {
   "cell_type": "code",
   "execution_count": 7,
   "metadata": {
    "ExecuteTime": {
     "end_time": "2020-05-05T15:20:56.332910Z",
     "start_time": "2020-05-05T15:20:56.303981Z"
    }
   },
   "outputs": [],
   "source": [
    "vals_to_replace = {\"not applicable\":\"other\", \"mid-senior level\":\"associate\", \"director\":\"executive\"}\n",
    "categorical_columns[\"required_experience\"] = categorical_columns[\"required_experience\"].replace(vals_to_replace)\n",
    "\n",
    "\n",
    "vals_to_replace = {\"information technology and services\":\"information technologies\",\"internet\":\"information technologies\",\n",
    "                   \"computer software\":\"information technologies\", \"telecommunications\":\"information technologies\"}\n",
    "\n",
    "categorical_columns[\"industry\"] = categorical_columns[\"industry\"].replace(vals_to_replace)\n",
    "\n",
    "\n",
    "vals_to_replace = {\"unspecified\":\"other\",\"some high school coursework\":\"high school or equivalent\",\n",
    "                   \"vocational - hs diploma\":\"high school or equivalent\", \"mid-senior level\":\"associate\",\n",
    "                   \"some college coursework completed\":\"associate degree\", \"professional\":\"vocational\",\n",
    "                   \"vocational - degree\":\"vocational\",\"certification\":\"vocational\"}\n",
    "\n",
    "categorical_columns[\"required_education\"] = categorical_columns[\"required_education\"].replace(vals_to_replace)\n",
    "\n",
    "\n",
    "vals_to_replace = {\"design\":\"marketing\", \"public relations\":\"marketing\", \"advertising\":\"marketing\", \"art/creative\":\"marketing\", \n",
    "                   \"financial analyst\":\"finance\", \"accounting/auditing\":\"finance\",\"financial analyst\":\"finance\",\n",
    "                   \"training\":\"human resources\",\"data analyst\":\"information technology\",\"supply chain\":\"production\",\n",
    "                   \"manufacturing\":\"production\", \"quality assurance\":\"production\",\"project management\":\"management\",\n",
    "                   \"product management\":\"management\", \"strategy/planning\": \"management\",\"sales\":\"business development\",\n",
    "                   \"general business\":\"business development\", \"business analyst\":\"business development\",\n",
    "                   \"purchasing\":\"business development\",\"research\":\"research and development\",\n",
    "                   \"science\":\"research and development\"}\n",
    "\n",
    "categorical_columns[\"function\"] = categorical_columns[\"function\"].replace(vals_to_replace)\n"
   ]
  },
  {
   "cell_type": "code",
   "execution_count": 8,
   "metadata": {
    "ExecuteTime": {
     "end_time": "2020-05-05T15:20:57.171842Z",
     "start_time": "2020-05-05T15:20:56.992187Z"
    }
   },
   "outputs": [],
   "source": [
    "# Split of localitation column\n",
    "\n",
    "# new data frame with split value columns \n",
    "new = data[\"location\"].str.split(\",\", n = 2, expand = True) \n",
    "  \n",
    "# making separate columns from new data frame \n",
    "data[\"Country\"]= new[0] \n",
    "data[\"Region\"]= new[1]\n",
    "data[\"City\"] = new[2]\n",
    "\n",
    "\n",
    "data['Country'].value_counts() # La distribución del 3r contry es menor a mil, y luego baja en picado.\n",
    "top_countries = data['Country'].value_counts().head(4).index\n",
    "other_countries = data['Country'][~data['Country'].isin(top_countries)].unique()\n",
    "\n",
    "data['Country'].replace(other_countries, 'OTHER', inplace=True)\n",
    "\n",
    "categorical_columns.loc[:,'Country'] = data.loc[:,'Country']"
   ]
  },
  {
   "cell_type": "code",
   "execution_count": 9,
   "metadata": {
    "ExecuteTime": {
     "end_time": "2020-05-05T15:20:58.342806Z",
     "start_time": "2020-05-05T15:20:58.315845Z"
    }
   },
   "outputs": [],
   "source": [
    "categorical_columns_dummies = pd.get_dummies(categorical_columns, columns = categorical_columns.columns[1:])"
   ]
  },
  {
   "cell_type": "code",
   "execution_count": 10,
   "metadata": {
    "ExecuteTime": {
     "end_time": "2020-05-05T15:20:59.667900Z",
     "start_time": "2020-05-05T15:20:59.647927Z"
    }
   },
   "outputs": [
    {
     "data": {
      "text/html": [
       "<div>\n",
       "<style scoped>\n",
       "    .dataframe tbody tr th:only-of-type {\n",
       "        vertical-align: middle;\n",
       "    }\n",
       "\n",
       "    .dataframe tbody tr th {\n",
       "        vertical-align: top;\n",
       "    }\n",
       "\n",
       "    .dataframe thead th {\n",
       "        text-align: right;\n",
       "    }\n",
       "</style>\n",
       "<table border=\"1\" class=\"dataframe\">\n",
       "  <thead>\n",
       "    <tr style=\"text-align: right;\">\n",
       "      <th></th>\n",
       "      <th>job_id</th>\n",
       "      <th>employment_type_contract</th>\n",
       "      <th>employment_type_full-time</th>\n",
       "      <th>employment_type_other</th>\n",
       "      <th>employment_type_part-time</th>\n",
       "      <th>employment_type_temporary</th>\n",
       "      <th>required_experience_associate</th>\n",
       "      <th>required_experience_entry level</th>\n",
       "      <th>required_experience_executive</th>\n",
       "      <th>required_experience_internship</th>\n",
       "      <th>...</th>\n",
       "      <th>function_marketing</th>\n",
       "      <th>function_other</th>\n",
       "      <th>function_production</th>\n",
       "      <th>function_research and development</th>\n",
       "      <th>function_writing/editing</th>\n",
       "      <th>Country_CA</th>\n",
       "      <th>Country_GB</th>\n",
       "      <th>Country_GR</th>\n",
       "      <th>Country_OTHER</th>\n",
       "      <th>Country_US</th>\n",
       "    </tr>\n",
       "  </thead>\n",
       "  <tbody>\n",
       "    <tr>\n",
       "      <th>0</th>\n",
       "      <td>1</td>\n",
       "      <td>0</td>\n",
       "      <td>0</td>\n",
       "      <td>1</td>\n",
       "      <td>0</td>\n",
       "      <td>0</td>\n",
       "      <td>0</td>\n",
       "      <td>0</td>\n",
       "      <td>0</td>\n",
       "      <td>1</td>\n",
       "      <td>...</td>\n",
       "      <td>1</td>\n",
       "      <td>0</td>\n",
       "      <td>0</td>\n",
       "      <td>0</td>\n",
       "      <td>0</td>\n",
       "      <td>0</td>\n",
       "      <td>0</td>\n",
       "      <td>0</td>\n",
       "      <td>0</td>\n",
       "      <td>1</td>\n",
       "    </tr>\n",
       "    <tr>\n",
       "      <th>1</th>\n",
       "      <td>2</td>\n",
       "      <td>0</td>\n",
       "      <td>1</td>\n",
       "      <td>0</td>\n",
       "      <td>0</td>\n",
       "      <td>0</td>\n",
       "      <td>0</td>\n",
       "      <td>0</td>\n",
       "      <td>0</td>\n",
       "      <td>0</td>\n",
       "      <td>...</td>\n",
       "      <td>0</td>\n",
       "      <td>0</td>\n",
       "      <td>0</td>\n",
       "      <td>0</td>\n",
       "      <td>0</td>\n",
       "      <td>0</td>\n",
       "      <td>0</td>\n",
       "      <td>0</td>\n",
       "      <td>1</td>\n",
       "      <td>0</td>\n",
       "    </tr>\n",
       "    <tr>\n",
       "      <th>2</th>\n",
       "      <td>3</td>\n",
       "      <td>0</td>\n",
       "      <td>0</td>\n",
       "      <td>1</td>\n",
       "      <td>0</td>\n",
       "      <td>0</td>\n",
       "      <td>0</td>\n",
       "      <td>0</td>\n",
       "      <td>0</td>\n",
       "      <td>0</td>\n",
       "      <td>...</td>\n",
       "      <td>0</td>\n",
       "      <td>1</td>\n",
       "      <td>0</td>\n",
       "      <td>0</td>\n",
       "      <td>0</td>\n",
       "      <td>0</td>\n",
       "      <td>0</td>\n",
       "      <td>0</td>\n",
       "      <td>0</td>\n",
       "      <td>1</td>\n",
       "    </tr>\n",
       "    <tr>\n",
       "      <th>3</th>\n",
       "      <td>4</td>\n",
       "      <td>0</td>\n",
       "      <td>1</td>\n",
       "      <td>0</td>\n",
       "      <td>0</td>\n",
       "      <td>0</td>\n",
       "      <td>1</td>\n",
       "      <td>0</td>\n",
       "      <td>0</td>\n",
       "      <td>0</td>\n",
       "      <td>...</td>\n",
       "      <td>0</td>\n",
       "      <td>0</td>\n",
       "      <td>0</td>\n",
       "      <td>0</td>\n",
       "      <td>0</td>\n",
       "      <td>0</td>\n",
       "      <td>0</td>\n",
       "      <td>0</td>\n",
       "      <td>0</td>\n",
       "      <td>1</td>\n",
       "    </tr>\n",
       "    <tr>\n",
       "      <th>4</th>\n",
       "      <td>5</td>\n",
       "      <td>0</td>\n",
       "      <td>1</td>\n",
       "      <td>0</td>\n",
       "      <td>0</td>\n",
       "      <td>0</td>\n",
       "      <td>1</td>\n",
       "      <td>0</td>\n",
       "      <td>0</td>\n",
       "      <td>0</td>\n",
       "      <td>...</td>\n",
       "      <td>0</td>\n",
       "      <td>0</td>\n",
       "      <td>0</td>\n",
       "      <td>0</td>\n",
       "      <td>0</td>\n",
       "      <td>0</td>\n",
       "      <td>0</td>\n",
       "      <td>0</td>\n",
       "      <td>0</td>\n",
       "      <td>1</td>\n",
       "    </tr>\n",
       "  </tbody>\n",
       "</table>\n",
       "<p>5 rows × 50 columns</p>\n",
       "</div>"
      ],
      "text/plain": [
       "   job_id  employment_type_contract  employment_type_full-time  \\\n",
       "0       1                         0                          0   \n",
       "1       2                         0                          1   \n",
       "2       3                         0                          0   \n",
       "3       4                         0                          1   \n",
       "4       5                         0                          1   \n",
       "\n",
       "   employment_type_other  employment_type_part-time  \\\n",
       "0                      1                          0   \n",
       "1                      0                          0   \n",
       "2                      1                          0   \n",
       "3                      0                          0   \n",
       "4                      0                          0   \n",
       "\n",
       "   employment_type_temporary  required_experience_associate  \\\n",
       "0                          0                              0   \n",
       "1                          0                              0   \n",
       "2                          0                              0   \n",
       "3                          0                              1   \n",
       "4                          0                              1   \n",
       "\n",
       "   required_experience_entry level  required_experience_executive  \\\n",
       "0                                0                              0   \n",
       "1                                0                              0   \n",
       "2                                0                              0   \n",
       "3                                0                              0   \n",
       "4                                0                              0   \n",
       "\n",
       "   required_experience_internship  ...  function_marketing  function_other  \\\n",
       "0                               1  ...                   1               0   \n",
       "1                               0  ...                   0               0   \n",
       "2                               0  ...                   0               1   \n",
       "3                               0  ...                   0               0   \n",
       "4                               0  ...                   0               0   \n",
       "\n",
       "   function_production  function_research and development  \\\n",
       "0                    0                                  0   \n",
       "1                    0                                  0   \n",
       "2                    0                                  0   \n",
       "3                    0                                  0   \n",
       "4                    0                                  0   \n",
       "\n",
       "   function_writing/editing  Country_CA  Country_GB  Country_GR  \\\n",
       "0                         0           0           0           0   \n",
       "1                         0           0           0           0   \n",
       "2                         0           0           0           0   \n",
       "3                         0           0           0           0   \n",
       "4                         0           0           0           0   \n",
       "\n",
       "   Country_OTHER  Country_US  \n",
       "0              0           1  \n",
       "1              1           0  \n",
       "2              0           1  \n",
       "3              0           1  \n",
       "4              0           1  \n",
       "\n",
       "[5 rows x 50 columns]"
      ]
     },
     "execution_count": 10,
     "metadata": {},
     "output_type": "execute_result"
    }
   ],
   "source": [
    "categorical_columns_dummies.head()"
   ]
  },
  {
   "cell_type": "markdown",
   "metadata": {},
   "source": [
    "### Numerical"
   ]
  },
  {
   "cell_type": "code",
   "execution_count": 11,
   "metadata": {
    "ExecuteTime": {
     "end_time": "2020-05-05T15:21:01.489856Z",
     "start_time": "2020-05-05T15:21:01.476860Z"
    }
   },
   "outputs": [],
   "source": [
    "numerical_columns = data[['job_id', 'telecommuting', 'has_company_logo', 'has_questions', 'fraudulent']].copy()"
   ]
  },
  {
   "cell_type": "code",
   "execution_count": 12,
   "metadata": {
    "ExecuteTime": {
     "end_time": "2020-05-05T15:21:02.555397Z",
     "start_time": "2020-05-05T15:21:01.744070Z"
    }
   },
   "outputs": [],
   "source": [
    "salary_rows_in_benefits = data['benefits'].str.extractall(r'(\\$\\d+\\,?\\d+)').reset_index()['level_0'].unique()\n",
    "salary_rows_in_description = data['description'].str.extractall(r'(\\$\\d+\\,?\\d+)').reset_index()['level_0'].unique()\n",
    "\n",
    "\n",
    "data.loc[salary_rows_in_benefits, 'salary_range'] = 1\n",
    "data.loc[salary_rows_in_description, 'salary_range'] = 1\n",
    "\n",
    "nan_salaries = data['salary_range'].isnull()\n",
    "with_salaries = list(data['salary_range'][~data['salary_range'].isnull()].unique())\n",
    "\n",
    "data['salary_range'] = data['salary_range'].replace(with_salaries, 1)\n",
    "data['salary_range'] = data['salary_range'].fillna(0)\n",
    "\n",
    "numerical_columns['salary_range'] = data['salary_range']"
   ]
  },
  {
   "cell_type": "code",
   "execution_count": 13,
   "metadata": {
    "ExecuteTime": {
     "end_time": "2020-05-05T15:21:02.635865Z",
     "start_time": "2020-05-05T15:21:02.625890Z"
    }
   },
   "outputs": [
    {
     "data": {
      "text/html": [
       "<div>\n",
       "<style scoped>\n",
       "    .dataframe tbody tr th:only-of-type {\n",
       "        vertical-align: middle;\n",
       "    }\n",
       "\n",
       "    .dataframe tbody tr th {\n",
       "        vertical-align: top;\n",
       "    }\n",
       "\n",
       "    .dataframe thead th {\n",
       "        text-align: right;\n",
       "    }\n",
       "</style>\n",
       "<table border=\"1\" class=\"dataframe\">\n",
       "  <thead>\n",
       "    <tr style=\"text-align: right;\">\n",
       "      <th></th>\n",
       "      <th>job_id</th>\n",
       "      <th>telecommuting</th>\n",
       "      <th>has_company_logo</th>\n",
       "      <th>has_questions</th>\n",
       "      <th>fraudulent</th>\n",
       "      <th>salary_range</th>\n",
       "    </tr>\n",
       "  </thead>\n",
       "  <tbody>\n",
       "    <tr>\n",
       "      <th>0</th>\n",
       "      <td>1</td>\n",
       "      <td>0</td>\n",
       "      <td>1</td>\n",
       "      <td>0</td>\n",
       "      <td>0</td>\n",
       "      <td>0.0</td>\n",
       "    </tr>\n",
       "    <tr>\n",
       "      <th>1</th>\n",
       "      <td>2</td>\n",
       "      <td>0</td>\n",
       "      <td>1</td>\n",
       "      <td>0</td>\n",
       "      <td>0</td>\n",
       "      <td>1.0</td>\n",
       "    </tr>\n",
       "    <tr>\n",
       "      <th>2</th>\n",
       "      <td>3</td>\n",
       "      <td>0</td>\n",
       "      <td>1</td>\n",
       "      <td>0</td>\n",
       "      <td>0</td>\n",
       "      <td>0.0</td>\n",
       "    </tr>\n",
       "    <tr>\n",
       "      <th>3</th>\n",
       "      <td>4</td>\n",
       "      <td>0</td>\n",
       "      <td>1</td>\n",
       "      <td>0</td>\n",
       "      <td>0</td>\n",
       "      <td>0.0</td>\n",
       "    </tr>\n",
       "    <tr>\n",
       "      <th>4</th>\n",
       "      <td>5</td>\n",
       "      <td>0</td>\n",
       "      <td>1</td>\n",
       "      <td>1</td>\n",
       "      <td>0</td>\n",
       "      <td>0.0</td>\n",
       "    </tr>\n",
       "  </tbody>\n",
       "</table>\n",
       "</div>"
      ],
      "text/plain": [
       "   job_id  telecommuting  has_company_logo  has_questions  fraudulent  \\\n",
       "0       1              0                 1              0           0   \n",
       "1       2              0                 1              0           0   \n",
       "2       3              0                 1              0           0   \n",
       "3       4              0                 1              0           0   \n",
       "4       5              0                 1              1           0   \n",
       "\n",
       "   salary_range  \n",
       "0           0.0  \n",
       "1           1.0  \n",
       "2           0.0  \n",
       "3           0.0  \n",
       "4           0.0  "
      ]
     },
     "execution_count": 13,
     "metadata": {},
     "output_type": "execute_result"
    }
   ],
   "source": [
    "numerical_columns.head()"
   ]
  },
  {
   "cell_type": "markdown",
   "metadata": {},
   "source": [
    "### Text\n"
   ]
  },
  {
   "cell_type": "markdown",
   "metadata": {},
   "source": [
    "Text refers to columns of categorical variables which are whole sentences/paragraphs. As we had to tokenize and lemmatize them using spaCy, and iterate over those columns doing it was so demanding, we decided to do the preprocessing of those columns separately in another notebook and directly import the resulting pickle."
   ]
  },
  {
   "cell_type": "markdown",
   "metadata": {},
   "source": [
    "### Merge"
   ]
  },
  {
   "cell_type": "code",
   "execution_count": null,
   "metadata": {
    "ExecuteTime": {
     "end_time": "2020-05-03T10:47:48.355954Z",
     "start_time": "2020-05-03T10:47:48.343984Z"
    }
   },
   "outputs": [],
   "source": [
    "result = pd.concat([categorical_columns_dummies, numerical_columns, text_colums_umap], axis=1,levels=None ,sort=False)"
   ]
  },
  {
   "cell_type": "code",
   "execution_count": null,
   "metadata": {
    "ExecuteTime": {
     "end_time": "2020-05-03T10:47:48.899496Z",
     "start_time": "2020-05-03T10:47:48.867939Z"
    }
   },
   "outputs": [],
   "source": [
    "result.head()"
   ]
  },
  {
   "cell_type": "code",
   "execution_count": null,
   "metadata": {
    "ExecuteTime": {
     "end_time": "2020-05-03T10:47:49.426089Z",
     "start_time": "2020-05-03T10:47:49.413124Z"
    }
   },
   "outputs": [],
   "source": [
    "result.drop('job_id',axis =1 ,inplace =True)"
   ]
  },
  {
   "cell_type": "code",
   "execution_count": null,
   "metadata": {
    "ExecuteTime": {
     "end_time": "2020-05-03T10:47:49.932769Z",
     "start_time": "2020-05-03T10:47:49.902816Z"
    }
   },
   "outputs": [],
   "source": [
    "result.head()"
   ]
  },
  {
   "cell_type": "code",
   "execution_count": null,
   "metadata": {
    "ExecuteTime": {
     "end_time": "2020-05-03T10:47:50.383529Z",
     "start_time": "2020-05-03T10:47:50.379540Z"
    }
   },
   "outputs": [],
   "source": [
    "# result.to_csv('result.csv')"
   ]
  }
 ],
 "metadata": {
  "kernelspec": {
   "display_name": "Python 3",
   "language": "python",
   "name": "python3"
  },
  "language_info": {
   "codemirror_mode": {
    "name": "ipython",
    "version": 3
   },
   "file_extension": ".py",
   "mimetype": "text/x-python",
   "name": "python",
   "nbconvert_exporter": "python",
   "pygments_lexer": "ipython3",
   "version": "3.7.7"
  },
  "varInspector": {
   "cols": {
    "lenName": 16,
    "lenType": 16,
    "lenVar": 40
   },
   "kernels_config": {
    "python": {
     "delete_cmd_postfix": "",
     "delete_cmd_prefix": "del ",
     "library": "var_list.py",
     "varRefreshCmd": "print(var_dic_list())"
    },
    "r": {
     "delete_cmd_postfix": ") ",
     "delete_cmd_prefix": "rm(",
     "library": "var_list.r",
     "varRefreshCmd": "cat(var_dic_list()) "
    }
   },
   "types_to_exclude": [
    "module",
    "function",
    "builtin_function_or_method",
    "instance",
    "_Feature"
   ],
   "window_display": false
  }
 },
 "nbformat": 4,
 "nbformat_minor": 2
}
