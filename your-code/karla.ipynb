{
 "cells": [
  {
   "cell_type": "markdown",
   "metadata": {},
   "source": [
    "# Steps\n",
    "## To do : \n",
    "* Clean Text\n",
    "    * Pasar plural a singular texto base\n",
    "* Tokenize\n",
    "* Build vocab\n",
    "* Generate Vectors\n",
    "    * Probar una con industria y otra sin industria (quedarse con la probab"
   ]
  },
  {
   "cell_type": "markdown",
   "metadata": {
    "ExecuteTime": {
     "end_time": "2020-04-29T15:25:43.062572Z",
     "start_time": "2020-04-29T15:25:43.028664Z"
    }
   },
   "source": [
    "<img src=\"./img/bow.png\" width=\"900\"> "
   ]
  },
  {
   "cell_type": "code",
   "execution_count": 1,
   "metadata": {
    "ExecuteTime": {
     "end_time": "2020-05-03T11:22:04.841641Z",
     "start_time": "2020-05-03T11:21:54.851375Z"
    }
   },
   "outputs": [],
   "source": [
    "import pandas as pd \n",
    "import numpy as np\n",
    "import re\n",
    "import itertools\n",
    "import spacy\n",
    "import string\n",
    "from spacy.lang.en import English\n",
    "from spacy.lang.en.stop_words import STOP_WORDS\n",
    "import en_core_web_sm\n",
    "from sklearn.feature_extraction.text import CountVectorizer,TfidfVectorizer\n",
    "from sklearn.base import TransformerMixin\n",
    "from sklearn.pipeline import Pipeline \n",
    "from spacy.lemmatizer import Lemmatizer\n",
    "from sklearn.model_selection import train_test_split\n",
    "from sklearn.linear_model import LogisticRegression\n",
    "from collections import Counter"
   ]
  },
  {
   "cell_type": "code",
   "execution_count": 2,
   "metadata": {
    "ExecuteTime": {
     "end_time": "2020-05-03T11:22:06.984910Z",
     "start_time": "2020-05-03T11:22:04.856603Z"
    }
   },
   "outputs": [],
   "source": [
    "nlp = spacy.load('en_core_web_sm') \n",
    "nlp.max_length = 15000000"
   ]
  },
  {
   "cell_type": "code",
   "execution_count": 3,
   "metadata": {
    "ExecuteTime": {
     "end_time": "2020-05-03T11:22:10.943052Z",
     "start_time": "2020-05-03T11:22:08.809760Z"
    }
   },
   "outputs": [],
   "source": [
    "df_data_raw = pd.read_csv('data/fake_job_postings.csv')"
   ]
  },
  {
   "cell_type": "code",
   "execution_count": 4,
   "metadata": {
    "ExecuteTime": {
     "end_time": "2020-05-03T11:22:13.592963Z",
     "start_time": "2020-05-03T11:22:12.556736Z"
    }
   },
   "outputs": [
    {
     "data": {
      "text/html": [
       "<div>\n",
       "<style scoped>\n",
       "    .dataframe tbody tr th:only-of-type {\n",
       "        vertical-align: middle;\n",
       "    }\n",
       "\n",
       "    .dataframe tbody tr th {\n",
       "        vertical-align: top;\n",
       "    }\n",
       "\n",
       "    .dataframe thead th {\n",
       "        text-align: right;\n",
       "    }\n",
       "</style>\n",
       "<table border=\"1\" class=\"dataframe\">\n",
       "  <thead>\n",
       "    <tr style=\"text-align: right;\">\n",
       "      <th></th>\n",
       "      <th>title</th>\n",
       "      <th>requirements</th>\n",
       "      <th>benefits</th>\n",
       "    </tr>\n",
       "  </thead>\n",
       "  <tbody>\n",
       "    <tr>\n",
       "      <th>0</th>\n",
       "      <td>Marketing Intern</td>\n",
       "      <td>Experience with content management systems a m...</td>\n",
       "      <td></td>\n",
       "    </tr>\n",
       "    <tr>\n",
       "      <th>1</th>\n",
       "      <td>Customer Service - Cloud Video Production</td>\n",
       "      <td>What we expect from you:Your key responsibilit...</td>\n",
       "      <td>What you will get from usThrough being part of...</td>\n",
       "    </tr>\n",
       "    <tr>\n",
       "      <th>2</th>\n",
       "      <td>Commissioning Machinery Assistant (CMA)</td>\n",
       "      <td>Implement pre-commissioning and commissioning ...</td>\n",
       "      <td></td>\n",
       "    </tr>\n",
       "    <tr>\n",
       "      <th>3</th>\n",
       "      <td>Account Executive - Washington DC</td>\n",
       "      <td>EDUCATION: Bachelor’s or Master’s in GIS, busi...</td>\n",
       "      <td>Our culture is anything but corporate—we have ...</td>\n",
       "    </tr>\n",
       "    <tr>\n",
       "      <th>4</th>\n",
       "      <td>Bill Review Manager</td>\n",
       "      <td>QUALIFICATIONS:RN license in the State of Texa...</td>\n",
       "      <td>Full Benefits Offered</td>\n",
       "    </tr>\n",
       "  </tbody>\n",
       "</table>\n",
       "</div>"
      ],
      "text/plain": [
       "                                       title  \\\n",
       "0                           Marketing Intern   \n",
       "1  Customer Service - Cloud Video Production   \n",
       "2    Commissioning Machinery Assistant (CMA)   \n",
       "3          Account Executive - Washington DC   \n",
       "4                        Bill Review Manager   \n",
       "\n",
       "                                        requirements  \\\n",
       "0  Experience with content management systems a m...   \n",
       "1  What we expect from you:Your key responsibilit...   \n",
       "2  Implement pre-commissioning and commissioning ...   \n",
       "3  EDUCATION: Bachelor’s or Master’s in GIS, busi...   \n",
       "4  QUALIFICATIONS:RN license in the State of Texa...   \n",
       "\n",
       "                                            benefits  \n",
       "0                                                     \n",
       "1  What you will get from usThrough being part of...  \n",
       "2                                                     \n",
       "3  Our culture is anything but corporate—we have ...  \n",
       "4                              Full Benefits Offered  "
      ]
     },
     "execution_count": 4,
     "metadata": {},
     "output_type": "execute_result"
    }
   ],
   "source": [
    "# Grupo 1: title, requirements, benefits\n",
    "# Grupo 2: company_profile, description \n",
    "l_grupo1 = ['title', 'requirements', 'benefits']\n",
    "l_grupo2 = ['company_profile', 'description']\n",
    "\n",
    "df_categorical_g1 = df_data_raw[l_grupo1].fillna('')\n",
    "df_categorical_g2 = df_data_raw[l_grupo2].fillna('')\n",
    "\n",
    "df_categorical_g1.head()"
   ]
  },
  {
   "cell_type": "markdown",
   "metadata": {},
   "source": [
    "# Group 1: title, requirements, benefits"
   ]
  },
  {
   "cell_type": "code",
   "execution_count": 5,
   "metadata": {
    "ExecuteTime": {
     "end_time": "2020-05-03T11:22:25.588869Z",
     "start_time": "2020-05-03T11:22:25.536013Z"
    }
   },
   "outputs": [],
   "source": [
    "str_bow_raw = ' '.join([' '.join(df_categorical_g1[x].astype(str).tolist()) for x in df_categorical_g1.columns])"
   ]
  },
  {
   "cell_type": "code",
   "execution_count": 6,
   "metadata": {
    "ExecuteTime": {
     "end_time": "2020-05-03T11:23:09.501770Z",
     "start_time": "2020-05-03T11:23:09.355162Z"
    }
   },
   "outputs": [],
   "source": [
    "def clean_text(str_text_raw):\n",
    "#     translator = str.maketrans(string.punctuation, ' '*len(string.punctuation))\n",
    "#     return(str_bow_raw.lower().translate(translator))\n",
    "    return(str_bow_raw.lower())\n",
    "str_bow = clean_text(str_bow_raw)"
   ]
  },
  {
   "cell_type": "code",
   "execution_count": 7,
   "metadata": {
    "ExecuteTime": {
     "end_time": "2020-05-03T11:23:13.092191Z",
     "start_time": "2020-05-03T11:23:13.088175Z"
    }
   },
   "outputs": [
    {
     "data": {
      "text/plain": [
       "14850392"
      ]
     },
     "execution_count": 7,
     "metadata": {},
     "output_type": "execute_result"
    }
   ],
   "source": [
    "# str_bow = str_bow[0:1000000]\n",
    "len(str_bow)"
   ]
  },
  {
   "cell_type": "code",
   "execution_count": 8,
   "metadata": {
    "ExecuteTime": {
     "end_time": "2020-05-03T11:26:00.285560Z",
     "start_time": "2020-05-03T11:23:19.923887Z"
    }
   },
   "outputs": [
    {
     "name": "stdout",
     "output_type": "stream",
     "text": [
      "Wall time: 2min 38s\n"
     ]
    }
   ],
   "source": [
    "%%time\n",
    "# nlp = English()\n",
    "# nlp = en_core_web_sm.load()\n",
    "nlp = spacy.load('en_core_web_sm', disable=['parser', 'ner']) \n",
    "nlp.max_length = 15000000\n",
    "doc = nlp(str_bow)\n",
    "#str_bow[0:1000000] Wall time: 43.7 s\n",
    "# nlp.max_length = 15000000 Wall time: 4min 38s"
   ]
  },
  {
   "cell_type": "markdown",
   "metadata": {},
   "source": [
    "## Tokenize words\n",
    "* Text: The original text of the lexeme.\n",
    "* Lemme: Lexeme.\n",
    "* Orth: The hash value of the lexeme.\n",
    "* is alpha: Does the lexeme consist of alphabetic characters?\n",
    "* is digit: Does the lexeme consist of digits?\n",
    "* is_title:\n",
    "* lang:\n",
    "* tag: https://www.ling.upenn.edu/courses/Fall_2003/ling001/penn_treebank_pos.html spacy.explain(\"RB\")\n",
    "* pos:"
   ]
  },
  {
   "cell_type": "code",
   "execution_count": 9,
   "metadata": {
    "ExecuteTime": {
     "end_time": "2020-05-03T11:36:30.842116Z",
     "start_time": "2020-05-03T11:36:09.470295Z"
    }
   },
   "outputs": [
    {
     "name": "stdout",
     "output_type": "stream",
     "text": [
      "[['marketing', 'market', 5624371593702924111, True, False, False, 'en', 'VBG', 'VERB', True, 21.006645, True], ['intern', 'intern', 6051314601965010107, True, False, False, 'en', 'NN', 'NOUN', True, 19.317013, True], ['customer', 'customer', 14759225161440374483, True, False, False, 'en', 'NN', 'NOUN', True, 19.821066, True], ['service', 'service', 208172016153456603, True, False, False, 'en', 'NN', 'NOUN', True, 19.358261, True], ['cloud', 'cloud', 13981346438767540862, True, False, False, 'en', 'NN', 'NOUN', True, 20.506468, True]]\n",
      "Wall time: 21.4 s\n"
     ]
    }
   ],
   "source": [
    "%%time\n",
    "l_token = [[token.text, token.lemma_, token.orth, token.is_alpha, token.is_digit, \n",
    "           token.is_title, token.lang_, token.tag_,token.pos_, token.has_vector, token.vector_norm, token.is_oov] \n",
    "           for token in doc if not token.is_punct | token.is_space | token.is_stop]\n",
    "print(l_token[0:5])"
   ]
  },
  {
   "cell_type": "code",
   "execution_count": 10,
   "metadata": {
    "ExecuteTime": {
     "end_time": "2020-05-03T11:37:02.931324Z",
     "start_time": "2020-05-03T11:37:00.138782Z"
    }
   },
   "outputs": [
    {
     "data": {
      "text/html": [
       "<div>\n",
       "<style scoped>\n",
       "    .dataframe tbody tr th:only-of-type {\n",
       "        vertical-align: middle;\n",
       "    }\n",
       "\n",
       "    .dataframe tbody tr th {\n",
       "        vertical-align: top;\n",
       "    }\n",
       "\n",
       "    .dataframe thead th {\n",
       "        text-align: right;\n",
       "    }\n",
       "</style>\n",
       "<table border=\"1\" class=\"dataframe\">\n",
       "  <thead>\n",
       "    <tr style=\"text-align: right;\">\n",
       "      <th></th>\n",
       "      <th>text</th>\n",
       "      <th>lemme</th>\n",
       "      <th>orth</th>\n",
       "      <th>is_alpha</th>\n",
       "      <th>is_digit</th>\n",
       "      <th>is_title</th>\n",
       "      <th>language</th>\n",
       "      <th>tag</th>\n",
       "      <th>part_of_speech</th>\n",
       "      <th>has_vector</th>\n",
       "      <th>vector_norm</th>\n",
       "      <th>is_oov</th>\n",
       "    </tr>\n",
       "  </thead>\n",
       "  <tbody>\n",
       "    <tr>\n",
       "      <th>0</th>\n",
       "      <td>marketing</td>\n",
       "      <td>market</td>\n",
       "      <td>5624371593702924111</td>\n",
       "      <td>True</td>\n",
       "      <td>False</td>\n",
       "      <td>False</td>\n",
       "      <td>en</td>\n",
       "      <td>VBG</td>\n",
       "      <td>VERB</td>\n",
       "      <td>True</td>\n",
       "      <td>21.006645</td>\n",
       "      <td>True</td>\n",
       "    </tr>\n",
       "    <tr>\n",
       "      <th>1</th>\n",
       "      <td>intern</td>\n",
       "      <td>intern</td>\n",
       "      <td>6051314601965010107</td>\n",
       "      <td>True</td>\n",
       "      <td>False</td>\n",
       "      <td>False</td>\n",
       "      <td>en</td>\n",
       "      <td>NN</td>\n",
       "      <td>NOUN</td>\n",
       "      <td>True</td>\n",
       "      <td>19.317013</td>\n",
       "      <td>True</td>\n",
       "    </tr>\n",
       "    <tr>\n",
       "      <th>2</th>\n",
       "      <td>customer</td>\n",
       "      <td>customer</td>\n",
       "      <td>14759225161440374483</td>\n",
       "      <td>True</td>\n",
       "      <td>False</td>\n",
       "      <td>False</td>\n",
       "      <td>en</td>\n",
       "      <td>NN</td>\n",
       "      <td>NOUN</td>\n",
       "      <td>True</td>\n",
       "      <td>19.821066</td>\n",
       "      <td>True</td>\n",
       "    </tr>\n",
       "    <tr>\n",
       "      <th>3</th>\n",
       "      <td>service</td>\n",
       "      <td>service</td>\n",
       "      <td>208172016153456603</td>\n",
       "      <td>True</td>\n",
       "      <td>False</td>\n",
       "      <td>False</td>\n",
       "      <td>en</td>\n",
       "      <td>NN</td>\n",
       "      <td>NOUN</td>\n",
       "      <td>True</td>\n",
       "      <td>19.358261</td>\n",
       "      <td>True</td>\n",
       "    </tr>\n",
       "    <tr>\n",
       "      <th>4</th>\n",
       "      <td>cloud</td>\n",
       "      <td>cloud</td>\n",
       "      <td>13981346438767540862</td>\n",
       "      <td>True</td>\n",
       "      <td>False</td>\n",
       "      <td>False</td>\n",
       "      <td>en</td>\n",
       "      <td>NN</td>\n",
       "      <td>NOUN</td>\n",
       "      <td>True</td>\n",
       "      <td>20.506468</td>\n",
       "      <td>True</td>\n",
       "    </tr>\n",
       "  </tbody>\n",
       "</table>\n",
       "</div>"
      ],
      "text/plain": [
       "        text     lemme                  orth  is_alpha  is_digit  is_title  \\\n",
       "0  marketing    market   5624371593702924111      True     False     False   \n",
       "1     intern    intern   6051314601965010107      True     False     False   \n",
       "2   customer  customer  14759225161440374483      True     False     False   \n",
       "3    service   service    208172016153456603      True     False     False   \n",
       "4      cloud     cloud  13981346438767540862      True     False     False   \n",
       "\n",
       "  language  tag part_of_speech  has_vector  vector_norm  is_oov  \n",
       "0       en  VBG           VERB        True    21.006645    True  \n",
       "1       en   NN           NOUN        True    19.317013    True  \n",
       "2       en   NN           NOUN        True    19.821066    True  \n",
       "3       en   NN           NOUN        True    19.358261    True  \n",
       "4       en   NN           NOUN        True    20.506468    True  "
      ]
     },
     "execution_count": 10,
     "metadata": {},
     "output_type": "execute_result"
    }
   ],
   "source": [
    "pd_token = pd.DataFrame(l_token, columns=['text', 'lemme', 'orth', 'is_alpha', 'is_digit', 'is_title', 'language',\n",
    "                                          'tag', 'part_of_speech', 'has_vector', 'vector_norm', 'is_oov'])\n",
    "pd_token.head()"
   ]
  },
  {
   "cell_type": "code",
   "execution_count": 11,
   "metadata": {
    "ExecuteTime": {
     "end_time": "2020-05-03T11:37:14.379465Z",
     "start_time": "2020-05-03T11:37:12.737062Z"
    }
   },
   "outputs": [
    {
     "data": {
      "text/html": [
       "<div>\n",
       "<style scoped>\n",
       "    .dataframe tbody tr th:only-of-type {\n",
       "        vertical-align: middle;\n",
       "    }\n",
       "\n",
       "    .dataframe tbody tr th {\n",
       "        vertical-align: top;\n",
       "    }\n",
       "\n",
       "    .dataframe thead th {\n",
       "        text-align: right;\n",
       "    }\n",
       "</style>\n",
       "<table border=\"1\" class=\"dataframe\">\n",
       "  <thead>\n",
       "    <tr style=\"text-align: right;\">\n",
       "      <th></th>\n",
       "      <th>text</th>\n",
       "      <th>lemme</th>\n",
       "      <th>orth</th>\n",
       "      <th>is_alpha</th>\n",
       "      <th>is_digit</th>\n",
       "      <th>is_title</th>\n",
       "      <th>language</th>\n",
       "      <th>tag</th>\n",
       "      <th>part_of_speech</th>\n",
       "      <th>has_vector</th>\n",
       "      <th>vector_norm</th>\n",
       "      <th>is_oov</th>\n",
       "    </tr>\n",
       "  </thead>\n",
       "  <tbody>\n",
       "    <tr>\n",
       "      <th>46</th>\n",
       "      <td>months</td>\n",
       "      <td>month</td>\n",
       "      <td>11199438407386692767</td>\n",
       "      <td>True</td>\n",
       "      <td>False</td>\n",
       "      <td>False</td>\n",
       "      <td>en</td>\n",
       "      <td>NNS</td>\n",
       "      <td>NOUN</td>\n",
       "      <td>True</td>\n",
       "      <td>20.873060</td>\n",
       "      <td>True</td>\n",
       "    </tr>\n",
       "    <tr>\n",
       "      <th>50</th>\n",
       "      <td>applications</td>\n",
       "      <td>application</td>\n",
       "      <td>7746610524179417841</td>\n",
       "      <td>True</td>\n",
       "      <td>False</td>\n",
       "      <td>False</td>\n",
       "      <td>en</td>\n",
       "      <td>NNS</td>\n",
       "      <td>NOUN</td>\n",
       "      <td>True</td>\n",
       "      <td>18.486517</td>\n",
       "      <td>True</td>\n",
       "    </tr>\n",
       "    <tr>\n",
       "      <th>53</th>\n",
       "      <td>installers</td>\n",
       "      <td>installer</td>\n",
       "      <td>15921962764723844213</td>\n",
       "      <td>True</td>\n",
       "      <td>False</td>\n",
       "      <td>False</td>\n",
       "      <td>en</td>\n",
       "      <td>NNS</td>\n",
       "      <td>NOUN</td>\n",
       "      <td>True</td>\n",
       "      <td>21.151781</td>\n",
       "      <td>True</td>\n",
       "    </tr>\n",
       "    <tr>\n",
       "      <th>58</th>\n",
       "      <td>sales</td>\n",
       "      <td>sale</td>\n",
       "      <td>14348989930891670846</td>\n",
       "      <td>True</td>\n",
       "      <td>False</td>\n",
       "      <td>False</td>\n",
       "      <td>en</td>\n",
       "      <td>NNS</td>\n",
       "      <td>NOUN</td>\n",
       "      <td>True</td>\n",
       "      <td>20.751493</td>\n",
       "      <td>True</td>\n",
       "    </tr>\n",
       "    <tr>\n",
       "      <th>61</th>\n",
       "      <td>hands</td>\n",
       "      <td>hand</td>\n",
       "      <td>1689680727489136653</td>\n",
       "      <td>True</td>\n",
       "      <td>False</td>\n",
       "      <td>False</td>\n",
       "      <td>en</td>\n",
       "      <td>NNS</td>\n",
       "      <td>NOUN</td>\n",
       "      <td>True</td>\n",
       "      <td>19.578394</td>\n",
       "      <td>True</td>\n",
       "    </tr>\n",
       "  </tbody>\n",
       "</table>\n",
       "</div>"
      ],
      "text/plain": [
       "            text        lemme                  orth  is_alpha  is_digit  \\\n",
       "46        months        month  11199438407386692767      True     False   \n",
       "50  applications  application   7746610524179417841      True     False   \n",
       "53    installers    installer  15921962764723844213      True     False   \n",
       "58         sales         sale  14348989930891670846      True     False   \n",
       "61         hands         hand   1689680727489136653      True     False   \n",
       "\n",
       "    is_title language  tag part_of_speech  has_vector  vector_norm  is_oov  \n",
       "46     False       en  NNS           NOUN        True    20.873060    True  \n",
       "50     False       en  NNS           NOUN        True    18.486517    True  \n",
       "53     False       en  NNS           NOUN        True    21.151781    True  \n",
       "58     False       en  NNS           NOUN        True    20.751493    True  \n",
       "61     False       en  NNS           NOUN        True    19.578394    True  "
      ]
     },
     "execution_count": 11,
     "metadata": {},
     "output_type": "execute_result"
    }
   ],
   "source": [
    "# Revisar si el singular y el plural se está contemplando en lemma\n",
    "pd_token[pd_token['tag'].isin(['NNPS', 'NNS'])].drop_duplicates().head(5)"
   ]
  },
  {
   "cell_type": "code",
   "execution_count": 12,
   "metadata": {
    "ExecuteTime": {
     "end_time": "2020-05-03T11:37:25.320403Z",
     "start_time": "2020-05-03T11:37:24.005683Z"
    }
   },
   "outputs": [
    {
     "data": {
      "text/html": [
       "<div>\n",
       "<style scoped>\n",
       "    .dataframe tbody tr th:only-of-type {\n",
       "        vertical-align: middle;\n",
       "    }\n",
       "\n",
       "    .dataframe tbody tr th {\n",
       "        vertical-align: top;\n",
       "    }\n",
       "\n",
       "    .dataframe thead th {\n",
       "        text-align: right;\n",
       "    }\n",
       "</style>\n",
       "<table border=\"1\" class=\"dataframe\">\n",
       "  <thead>\n",
       "    <tr style=\"text-align: right;\">\n",
       "      <th></th>\n",
       "      <th>text</th>\n",
       "      <th>lemme</th>\n",
       "      <th>orth</th>\n",
       "      <th>is_alpha</th>\n",
       "      <th>is_digit</th>\n",
       "      <th>is_title</th>\n",
       "      <th>language</th>\n",
       "      <th>tag</th>\n",
       "      <th>part_of_speech</th>\n",
       "      <th>has_vector</th>\n",
       "      <th>vector_norm</th>\n",
       "      <th>is_oov</th>\n",
       "      <th>text_to_singular</th>\n",
       "    </tr>\n",
       "  </thead>\n",
       "  <tbody>\n",
       "    <tr>\n",
       "      <th>46</th>\n",
       "      <td>months</td>\n",
       "      <td>month</td>\n",
       "      <td>11199438407386692767</td>\n",
       "      <td>True</td>\n",
       "      <td>False</td>\n",
       "      <td>False</td>\n",
       "      <td>en</td>\n",
       "      <td>NNS</td>\n",
       "      <td>NOUN</td>\n",
       "      <td>True</td>\n",
       "      <td>20.873060</td>\n",
       "      <td>True</td>\n",
       "      <td>month</td>\n",
       "    </tr>\n",
       "    <tr>\n",
       "      <th>50</th>\n",
       "      <td>applications</td>\n",
       "      <td>application</td>\n",
       "      <td>7746610524179417841</td>\n",
       "      <td>True</td>\n",
       "      <td>False</td>\n",
       "      <td>False</td>\n",
       "      <td>en</td>\n",
       "      <td>NNS</td>\n",
       "      <td>NOUN</td>\n",
       "      <td>True</td>\n",
       "      <td>18.486517</td>\n",
       "      <td>True</td>\n",
       "      <td>application</td>\n",
       "    </tr>\n",
       "    <tr>\n",
       "      <th>53</th>\n",
       "      <td>installers</td>\n",
       "      <td>installer</td>\n",
       "      <td>15921962764723844213</td>\n",
       "      <td>True</td>\n",
       "      <td>False</td>\n",
       "      <td>False</td>\n",
       "      <td>en</td>\n",
       "      <td>NNS</td>\n",
       "      <td>NOUN</td>\n",
       "      <td>True</td>\n",
       "      <td>21.151781</td>\n",
       "      <td>True</td>\n",
       "      <td>installer</td>\n",
       "    </tr>\n",
       "    <tr>\n",
       "      <th>58</th>\n",
       "      <td>sales</td>\n",
       "      <td>sale</td>\n",
       "      <td>14348989930891670846</td>\n",
       "      <td>True</td>\n",
       "      <td>False</td>\n",
       "      <td>False</td>\n",
       "      <td>en</td>\n",
       "      <td>NNS</td>\n",
       "      <td>NOUN</td>\n",
       "      <td>True</td>\n",
       "      <td>20.751493</td>\n",
       "      <td>True</td>\n",
       "      <td>sale</td>\n",
       "    </tr>\n",
       "    <tr>\n",
       "      <th>61</th>\n",
       "      <td>hands</td>\n",
       "      <td>hand</td>\n",
       "      <td>1689680727489136653</td>\n",
       "      <td>True</td>\n",
       "      <td>False</td>\n",
       "      <td>False</td>\n",
       "      <td>en</td>\n",
       "      <td>NNS</td>\n",
       "      <td>NOUN</td>\n",
       "      <td>True</td>\n",
       "      <td>19.578394</td>\n",
       "      <td>True</td>\n",
       "      <td>hand</td>\n",
       "    </tr>\n",
       "  </tbody>\n",
       "</table>\n",
       "</div>"
      ],
      "text/plain": [
       "            text        lemme                  orth  is_alpha  is_digit  \\\n",
       "46        months        month  11199438407386692767      True     False   \n",
       "50  applications  application   7746610524179417841      True     False   \n",
       "53    installers    installer  15921962764723844213      True     False   \n",
       "58         sales         sale  14348989930891670846      True     False   \n",
       "61         hands         hand   1689680727489136653      True     False   \n",
       "\n",
       "    is_title language  tag part_of_speech  has_vector  vector_norm  is_oov  \\\n",
       "46     False       en  NNS           NOUN        True    20.873060    True   \n",
       "50     False       en  NNS           NOUN        True    18.486517    True   \n",
       "53     False       en  NNS           NOUN        True    21.151781    True   \n",
       "58     False       en  NNS           NOUN        True    20.751493    True   \n",
       "61     False       en  NNS           NOUN        True    19.578394    True   \n",
       "\n",
       "   text_to_singular  \n",
       "46            month  \n",
       "50      application  \n",
       "53        installer  \n",
       "58             sale  \n",
       "61             hand  "
      ]
     },
     "execution_count": 12,
     "metadata": {},
     "output_type": "execute_result"
    }
   ],
   "source": [
    "#Convert plural text to singular)\n",
    "pd_token['text_to_singular'] = np.where(pd_token['tag'].isin(['NNPS', 'NNS']), pd_token['lemme'], pd_token['text'])\n",
    "pd_token[pd_token['tag'].isin(['NNPS', 'NNS'])].drop_duplicates().head(5)"
   ]
  },
  {
   "cell_type": "code",
   "execution_count": 15,
   "metadata": {
    "ExecuteTime": {
     "end_time": "2020-05-03T11:38:10.629257Z",
     "start_time": "2020-05-03T11:38:07.013903Z"
    }
   },
   "outputs": [],
   "source": [
    "pd_token.to_pickle(\"token.pkl\")"
   ]
  },
  {
   "cell_type": "markdown",
   "metadata": {},
   "source": [
    "# Bag of words with lemme"
   ]
  },
  {
   "cell_type": "code",
   "execution_count": 17,
   "metadata": {
    "ExecuteTime": {
     "end_time": "2020-05-01T16:14:24.486283Z",
     "start_time": "2020-05-01T16:14:14.308258Z"
    }
   },
   "outputs": [
    {
     "name": "stdout",
     "output_type": "stream",
     "text": [
      "Tamaño de bag of words: (1330127, 57319)\n",
      "Tamaño de palabras únicas: 85060\n",
      "Wall time: 10.1 s\n"
     ]
    }
   ],
   "source": [
    "%%time\n",
    "words = list(pd_token['lemme']) #1330127\n",
    "cv = CountVectorizer(words)\n",
    "# show resulting vocabulary; the numbers are not counts, they are the position in the sparse vector.\n",
    "count_vector=cv.fit_transform(words)\n",
    "word_freq = Counter(words)\n",
    "print(f'Tamaño de bag of words: {count_vector.shape}\\nTamaño de palabras únicas: {len(word_freq)}')"
   ]
  },
  {
   "cell_type": "code",
   "execution_count": 18,
   "metadata": {
    "ExecuteTime": {
     "end_time": "2020-05-01T16:15:10.907894Z",
     "start_time": "2020-05-01T16:15:10.863993Z"
    }
   },
   "outputs": [
    {
     "name": "stdout",
     "output_type": "stream",
     "text": [
      "[('experience', 22383), ('work', 20253), ('skill', 11335), ('year', 10607), ('team', 8290), ('ability', 7455), ('service', 6629), ('customer', 6356), ('knowledge', 6241), ('communication', 6230), ('include', 5951), ('business', 5733), ('require', 5627), ('sale', 5610), ('company', 5580), ('management', 5520), ('development', 5453), ('time', 5442), ('amp', 4939), ('degree', 4848)]\n"
     ]
    }
   ],
   "source": [
    "common_words = word_freq.most_common(20)\n",
    "print(common_words)"
   ]
  },
  {
   "cell_type": "markdown",
   "metadata": {},
   "source": [
    "# Bag of words with text and singular nouns"
   ]
  },
  {
   "cell_type": "code",
   "execution_count": 19,
   "metadata": {
    "ExecuteTime": {
     "end_time": "2020-05-01T16:16:09.085966Z",
     "start_time": "2020-05-01T16:15:58.407108Z"
    }
   },
   "outputs": [
    {
     "name": "stdout",
     "output_type": "stream",
     "text": [
      "Tamaño de bag of words: (1330127, 58487)\n",
      "Tamaño de palabras únicas: 86681\n",
      "Wall time: 10.7 s\n"
     ]
    }
   ],
   "source": [
    "%%time\n",
    "words = list(pd_token['text_to_singular'])\n",
    "cv = CountVectorizer(words)\n",
    "# show resulting vocabulary; the numbers are not counts, they are the position in the sparse vector.\n",
    "count_vector=cv.fit_transform(words)\n",
    "word_freq = Counter(words)\n",
    "print(f'Tamaño de bag of words: {count_vector.shape}\\nTamaño de palabras únicas: {len(word_freq)}')"
   ]
  },
  {
   "cell_type": "code",
   "execution_count": 20,
   "metadata": {
    "ExecuteTime": {
     "end_time": "2020-05-01T16:16:56.684151Z",
     "start_time": "2020-05-01T16:16:56.669789Z"
    },
    "scrolled": true
   },
   "outputs": [
    {
     "name": "stdout",
     "output_type": "stream",
     "text": [
      "(1330127, 58487)\n",
      "<class 'scipy.sparse.csr.csr_matrix'>\n",
      "[[0 0 0 ... 0 0 0]\n",
      " [0 0 0 ... 0 0 0]\n",
      " [0 0 0 ... 0 0 0]\n",
      " ...\n",
      " [0 0 0 ... 0 0 0]\n",
      " [0 0 0 ... 0 0 0]\n",
      " [0 0 0 ... 0 0 0]]\n"
     ]
    }
   ],
   "source": [
    "#Imprime el vector\n",
    "# print(cv.vocabulary_)\n",
    "print(count_vector.shape)\n",
    "print(type(count_vector))\n",
    "print(count_vector[0:10].toarray())"
   ]
  },
  {
   "cell_type": "code",
   "execution_count": 21,
   "metadata": {
    "ExecuteTime": {
     "end_time": "2020-05-01T16:17:44.702962Z",
     "start_time": "2020-05-01T16:17:44.651349Z"
    }
   },
   "outputs": [
    {
     "name": "stdout",
     "output_type": "stream",
     "text": [
      "[('experience', 22062), ('work', 14187), ('skill', 10888), ('year', 10575), ('team', 8287), ('ability', 7455), ('service', 6597), ('working', 6562), ('customer', 6353), ('knowledge', 6241), ('communication', 6230), ('business', 5733), ('sale', 5607), ('company', 5580), ('management', 5518), ('development', 5453), ('time', 5427), ('amp', 4939), ('required', 4887), ('degree', 4848)]\n"
     ]
    }
   ],
   "source": [
    "common_words = word_freq.most_common(20)\n",
    "print(common_words)"
   ]
  },
  {
   "cell_type": "markdown",
   "metadata": {},
   "source": [
    "# Word Frequencies"
   ]
  },
  {
   "cell_type": "code",
   "execution_count": 22,
   "metadata": {
    "ExecuteTime": {
     "end_time": "2020-05-01T16:18:50.980889Z",
     "start_time": "2020-05-01T16:18:31.782255Z"
    }
   },
   "outputs": [],
   "source": [
    "# create the transform\n",
    "vectorizer = TfidfVectorizer()\n",
    "# tokenize and build vocab\n",
    "vectorizer.fit(words)\n",
    "# encode document\n",
    "vector = vectorizer.transform(words)"
   ]
  },
  {
   "cell_type": "code",
   "execution_count": 23,
   "metadata": {
    "ExecuteTime": {
     "end_time": "2020-05-01T16:19:37.903686Z",
     "start_time": "2020-05-01T16:19:37.884502Z"
    }
   },
   "outputs": [
    {
     "name": "stdout",
     "output_type": "stream",
     "text": [
      "[ 9.45533884  8.57869294 14.00217345 ... 14.40763856 14.40763856\n",
      " 14.40763856]\n",
      "(1330127, 58487)\n",
      "<class 'scipy.sparse.csr.csr_matrix'>\n",
      "[[0 0 0 ... 0 0 0]\n",
      " [0 0 0 ... 0 0 0]\n",
      " [0 0 0 ... 0 0 0]\n",
      " ...\n",
      " [0 0 0 ... 0 0 0]\n",
      " [0 0 0 ... 0 0 0]\n",
      " [0 0 0 ... 0 0 0]]\n"
     ]
    }
   ],
   "source": [
    "# show vocab\n",
    "# print(vectorizer.vocabulary_)\n",
    "print(vectorizer.idf_)\n",
    "#Imprime el vector\n",
    "# print(cv.vocabulary_)\n",
    "print(vector.shape)\n",
    "print(type(vector))\n",
    "print(count_vector[0:10].toarray())"
   ]
  },
  {
   "cell_type": "code",
   "execution_count": null,
   "metadata": {},
   "outputs": [],
   "source": []
  }
 ],
 "metadata": {
  "kernelspec": {
   "display_name": "Python 3",
   "language": "python",
   "name": "python3"
  },
  "language_info": {
   "codemirror_mode": {
    "name": "ipython",
    "version": 3
   },
   "file_extension": ".py",
   "mimetype": "text/x-python",
   "name": "python",
   "nbconvert_exporter": "python",
   "pygments_lexer": "ipython3",
   "version": "3.7.7"
  },
  "latex_envs": {
   "LaTeX_envs_menu_present": true,
   "autoclose": false,
   "autocomplete": true,
   "bibliofile": "biblio.bib",
   "cite_by": "apalike",
   "current_citInitial": 1,
   "eqLabelWithNumbers": true,
   "eqNumInitial": 1,
   "hotkeys": {
    "equation": "Ctrl-E",
    "itemize": "Ctrl-I"
   },
   "labels_anchors": false,
   "latex_user_defs": false,
   "report_style_numbering": false,
   "user_envs_cfg": false
  },
  "toc": {
   "base_numbering": 1,
   "nav_menu": {},
   "number_sections": true,
   "sideBar": true,
   "skip_h1_title": false,
   "title_cell": "Table of Contents",
   "title_sidebar": "Contents",
   "toc_cell": false,
   "toc_position": {},
   "toc_section_display": true,
   "toc_window_display": false
  },
  "varInspector": {
   "cols": {
    "lenName": 16,
    "lenType": 16,
    "lenVar": 40
   },
   "kernels_config": {
    "python": {
     "delete_cmd_postfix": "",
     "delete_cmd_prefix": "del ",
     "library": "var_list.py",
     "varRefreshCmd": "print(var_dic_list())"
    },
    "r": {
     "delete_cmd_postfix": ") ",
     "delete_cmd_prefix": "rm(",
     "library": "var_list.r",
     "varRefreshCmd": "cat(var_dic_list()) "
    }
   },
   "types_to_exclude": [
    "module",
    "function",
    "builtin_function_or_method",
    "instance",
    "_Feature"
   ],
   "window_display": false
  }
 },
 "nbformat": 4,
 "nbformat_minor": 4
}
