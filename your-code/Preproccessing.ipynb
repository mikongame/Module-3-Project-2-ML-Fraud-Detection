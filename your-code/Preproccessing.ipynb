{
 "cells": [
  {
   "cell_type": "markdown",
   "metadata": {},
   "source": [
    "# Libraries"
   ]
  },
  {
   "cell_type": "code",
   "execution_count": null,
   "metadata": {
    "ExecuteTime": {
     "end_time": "2020-05-03T08:09:33.753773Z",
     "start_time": "2020-05-03T08:05:06.770Z"
    }
   },
   "outputs": [],
   "source": [
    "import pandas as pd\n",
    "import numpy as np\n",
    "\n",
    "\n",
    "import re \n",
    "\n",
    "## Spacy ##\n",
    "import spacy\n",
    "import spacy_lookups_data\n",
    "from spacy.lang.en import English\n",
    "from spacy.lang.en.stop_words import STOP_WORDS\n",
    "import en_core_web_sm\n",
    "\n",
    "## sklearn ##\n",
    "from sklearn.feature_extraction.text import CountVectorizer,TfidfVectorizer,TfidfTransformer\n",
    "\n",
    "\n",
    "import umap\n",
    "\n",
    "\n",
    "# ML Models"
   ]
  },
  {
   "cell_type": "code",
   "execution_count": 2,
   "metadata": {
    "ExecuteTime": {
     "end_time": "2020-05-03T07:51:56.735637Z",
     "start_time": "2020-05-03T07:51:55.206604Z"
    }
   },
   "outputs": [],
   "source": [
    "data = pd.read_csv('data/fake_job_postings.csv')"
   ]
  },
  {
   "cell_type": "markdown",
   "metadata": {},
   "source": [
    "# Categorical"
   ]
  },
  {
   "cell_type": "code",
   "execution_count": 3,
   "metadata": {
    "ExecuteTime": {
     "end_time": "2020-05-03T07:51:57.056814Z",
     "start_time": "2020-05-03T07:51:57.017337Z"
    }
   },
   "outputs": [],
   "source": [
    "categorical_columns = data[[\"job_id\",\"employment_type\", \"required_experience\", \n",
    "                            \"required_education\", \"industry\", \"function\"]].copy()"
   ]
  },
  {
   "cell_type": "code",
   "execution_count": 4,
   "metadata": {
    "ExecuteTime": {
     "end_time": "2020-05-03T07:51:57.204741Z",
     "start_time": "2020-05-03T07:51:57.095628Z"
    }
   },
   "outputs": [],
   "source": [
    "categorical_columns = categorical_columns.fillna(\"other\")\n"
   ]
  },
  {
   "cell_type": "code",
   "execution_count": 5,
   "metadata": {
    "ExecuteTime": {
     "end_time": "2020-05-03T07:51:57.336276Z",
     "start_time": "2020-05-03T07:51:57.206820Z"
    }
   },
   "outputs": [],
   "source": [
    "for column in categorical_columns.columns[1:]:\n",
    "    categorical_columns[column] = categorical_columns[column].str.lower()"
   ]
  },
  {
   "cell_type": "code",
   "execution_count": 6,
   "metadata": {
    "ExecuteTime": {
     "end_time": "2020-05-03T07:51:57.864864Z",
     "start_time": "2020-05-03T07:51:57.341272Z"
    }
   },
   "outputs": [],
   "source": [
    "unique_industries_percentage = categorical_columns['industry'].value_counts()/categorical_columns.shape[0]*100\n",
    "\n",
    "unique_industries_indexes = list(unique_industries_percentage[unique_industries_percentage >= 1].index)\n",
    "\n",
    "other_industry = categorical_columns[\"industry\"][~categorical_columns[\"industry\"].isin(unique_industries_indexes)].unique()\n",
    "\n",
    "categorical_columns[\"industry\"].replace(other_industry,\"other\", inplace=True)"
   ]
  },
  {
   "cell_type": "code",
   "execution_count": 7,
   "metadata": {
    "ExecuteTime": {
     "end_time": "2020-05-03T07:51:57.911746Z",
     "start_time": "2020-05-03T07:51:57.867957Z"
    }
   },
   "outputs": [],
   "source": [
    "vals_to_replace = {\"not applicable\":\"other\", \"mid-senior level\":\"associate\", \"director\":\"executive\"}\n",
    "categorical_columns[\"required_experience\"] = categorical_columns[\"required_experience\"].replace(vals_to_replace)\n",
    "\n",
    "\n",
    "vals_to_replace = {\"information technology and services\":\"information technologies\",\"internet\":\"information technologies\",\n",
    "                   \"computer software\":\"information technologies\", \"telecommunications\":\"information technologies\"}\n",
    "\n",
    "categorical_columns[\"industry\"] = categorical_columns[\"industry\"].replace(vals_to_replace)\n",
    "\n",
    "\n",
    "vals_to_replace = {\"unspecified\":\"other\",\"some high school coursework\":\"high school or equivalent\",\n",
    "                   \"vocational - hs diploma\":\"high school or equivalent\", \"mid-senior level\":\"associate\",\n",
    "                   \"some college coursework completed\":\"associate degree\", \"professional\":\"vocational\",\n",
    "                   \"vocational - degree\":\"vocational\",\"certification\":\"vocational\"}\n",
    "\n",
    "categorical_columns[\"required_education\"] = categorical_columns[\"required_education\"].replace(vals_to_replace)\n",
    "\n",
    "\n",
    "vals_to_replace = {\"design\":\"marketing\", \"public relations\":\"marketing\", \"advertising\":\"marketing\", \"art/creative\":\"marketing\", \n",
    "                   \"financial analyst\":\"finance\", \"accounting/auditing\":\"finance\",\"financial analyst\":\"finance\",\n",
    "                   \"training\":\"human resources\",\"data analyst\":\"information technology\",\"supply chain\":\"production\",\n",
    "                   \"manufacturing\":\"production\", \"quality assurance\":\"production\",\"project management\":\"management\",\n",
    "                   \"product management\":\"management\", \"strategy/planning\": \"management\",\"sales\":\"business development\",\n",
    "                   \"general business\":\"business development\", \"business analyst\":\"business development\",\n",
    "                   \"purchasing\":\"business development\",\"research\":\"research and development\",\n",
    "                   \"science\":\"research and development\"}\n",
    "\n",
    "categorical_columns[\"function\"] = categorical_columns[\"function\"].replace(vals_to_replace)\n"
   ]
  },
  {
   "cell_type": "code",
   "execution_count": 8,
   "metadata": {
    "ExecuteTime": {
     "end_time": "2020-05-03T07:51:58.254194Z",
     "start_time": "2020-05-03T07:51:57.913706Z"
    }
   },
   "outputs": [],
   "source": [
    "# Split of localitation column\n",
    "\n",
    "# new data frame with split value columns \n",
    "new = data[\"location\"].str.split(\",\", n = 2, expand = True) \n",
    "  \n",
    "# making separate columns from new data frame \n",
    "data[\"Country\"]= new[0] \n",
    "data[\"Region\"]= new[1]\n",
    "data[\"City\"] = new[2]\n",
    "\n",
    "\n",
    "data['Country'].value_counts() # La distribución del 3r contry es menor a mil, y luego baja en picado.\n",
    "top_countries = data['Country'].value_counts().head(4).index\n",
    "other_countries = data['Country'][~data['Country'].isin(top_countries)].unique()\n",
    "\n",
    "data['Country'].replace(other_countries, 'OTHER', inplace=True)\n",
    "\n",
    "categorical_columns.loc[:,'Country'] = data.loc[:,'Country']"
   ]
  },
  {
   "cell_type": "code",
   "execution_count": 9,
   "metadata": {
    "ExecuteTime": {
     "end_time": "2020-05-03T07:51:58.378159Z",
     "start_time": "2020-05-03T07:51:58.256089Z"
    }
   },
   "outputs": [],
   "source": [
    "categorical_columns_dummies = pd.get_dummies(categorical_columns, columns = categorical_columns.columns[1:])"
   ]
  },
  {
   "cell_type": "code",
   "execution_count": 10,
   "metadata": {
    "ExecuteTime": {
     "end_time": "2020-05-03T07:51:58.532997Z",
     "start_time": "2020-05-03T07:51:58.380957Z"
    }
   },
   "outputs": [
    {
     "data": {
      "text/html": [
       "<div>\n",
       "<style scoped>\n",
       "    .dataframe tbody tr th:only-of-type {\n",
       "        vertical-align: middle;\n",
       "    }\n",
       "\n",
       "    .dataframe tbody tr th {\n",
       "        vertical-align: top;\n",
       "    }\n",
       "\n",
       "    .dataframe thead th {\n",
       "        text-align: right;\n",
       "    }\n",
       "</style>\n",
       "<table border=\"1\" class=\"dataframe\">\n",
       "  <thead>\n",
       "    <tr style=\"text-align: right;\">\n",
       "      <th></th>\n",
       "      <th>job_id</th>\n",
       "      <th>employment_type_contract</th>\n",
       "      <th>employment_type_full-time</th>\n",
       "      <th>employment_type_other</th>\n",
       "      <th>employment_type_part-time</th>\n",
       "      <th>employment_type_temporary</th>\n",
       "      <th>required_experience_associate</th>\n",
       "      <th>required_experience_entry level</th>\n",
       "      <th>required_experience_executive</th>\n",
       "      <th>required_experience_internship</th>\n",
       "      <th>...</th>\n",
       "      <th>function_marketing</th>\n",
       "      <th>function_other</th>\n",
       "      <th>function_production</th>\n",
       "      <th>function_research and development</th>\n",
       "      <th>function_writing/editing</th>\n",
       "      <th>Country_CA</th>\n",
       "      <th>Country_GB</th>\n",
       "      <th>Country_GR</th>\n",
       "      <th>Country_OTHER</th>\n",
       "      <th>Country_US</th>\n",
       "    </tr>\n",
       "  </thead>\n",
       "  <tbody>\n",
       "    <tr>\n",
       "      <td>0</td>\n",
       "      <td>1</td>\n",
       "      <td>0</td>\n",
       "      <td>0</td>\n",
       "      <td>1</td>\n",
       "      <td>0</td>\n",
       "      <td>0</td>\n",
       "      <td>0</td>\n",
       "      <td>0</td>\n",
       "      <td>0</td>\n",
       "      <td>1</td>\n",
       "      <td>...</td>\n",
       "      <td>1</td>\n",
       "      <td>0</td>\n",
       "      <td>0</td>\n",
       "      <td>0</td>\n",
       "      <td>0</td>\n",
       "      <td>0</td>\n",
       "      <td>0</td>\n",
       "      <td>0</td>\n",
       "      <td>0</td>\n",
       "      <td>1</td>\n",
       "    </tr>\n",
       "    <tr>\n",
       "      <td>1</td>\n",
       "      <td>2</td>\n",
       "      <td>0</td>\n",
       "      <td>1</td>\n",
       "      <td>0</td>\n",
       "      <td>0</td>\n",
       "      <td>0</td>\n",
       "      <td>0</td>\n",
       "      <td>0</td>\n",
       "      <td>0</td>\n",
       "      <td>0</td>\n",
       "      <td>...</td>\n",
       "      <td>0</td>\n",
       "      <td>0</td>\n",
       "      <td>0</td>\n",
       "      <td>0</td>\n",
       "      <td>0</td>\n",
       "      <td>0</td>\n",
       "      <td>0</td>\n",
       "      <td>0</td>\n",
       "      <td>1</td>\n",
       "      <td>0</td>\n",
       "    </tr>\n",
       "    <tr>\n",
       "      <td>2</td>\n",
       "      <td>3</td>\n",
       "      <td>0</td>\n",
       "      <td>0</td>\n",
       "      <td>1</td>\n",
       "      <td>0</td>\n",
       "      <td>0</td>\n",
       "      <td>0</td>\n",
       "      <td>0</td>\n",
       "      <td>0</td>\n",
       "      <td>0</td>\n",
       "      <td>...</td>\n",
       "      <td>0</td>\n",
       "      <td>1</td>\n",
       "      <td>0</td>\n",
       "      <td>0</td>\n",
       "      <td>0</td>\n",
       "      <td>0</td>\n",
       "      <td>0</td>\n",
       "      <td>0</td>\n",
       "      <td>0</td>\n",
       "      <td>1</td>\n",
       "    </tr>\n",
       "    <tr>\n",
       "      <td>3</td>\n",
       "      <td>4</td>\n",
       "      <td>0</td>\n",
       "      <td>1</td>\n",
       "      <td>0</td>\n",
       "      <td>0</td>\n",
       "      <td>0</td>\n",
       "      <td>1</td>\n",
       "      <td>0</td>\n",
       "      <td>0</td>\n",
       "      <td>0</td>\n",
       "      <td>...</td>\n",
       "      <td>0</td>\n",
       "      <td>0</td>\n",
       "      <td>0</td>\n",
       "      <td>0</td>\n",
       "      <td>0</td>\n",
       "      <td>0</td>\n",
       "      <td>0</td>\n",
       "      <td>0</td>\n",
       "      <td>0</td>\n",
       "      <td>1</td>\n",
       "    </tr>\n",
       "    <tr>\n",
       "      <td>4</td>\n",
       "      <td>5</td>\n",
       "      <td>0</td>\n",
       "      <td>1</td>\n",
       "      <td>0</td>\n",
       "      <td>0</td>\n",
       "      <td>0</td>\n",
       "      <td>1</td>\n",
       "      <td>0</td>\n",
       "      <td>0</td>\n",
       "      <td>0</td>\n",
       "      <td>...</td>\n",
       "      <td>0</td>\n",
       "      <td>0</td>\n",
       "      <td>0</td>\n",
       "      <td>0</td>\n",
       "      <td>0</td>\n",
       "      <td>0</td>\n",
       "      <td>0</td>\n",
       "      <td>0</td>\n",
       "      <td>0</td>\n",
       "      <td>1</td>\n",
       "    </tr>\n",
       "  </tbody>\n",
       "</table>\n",
       "<p>5 rows × 50 columns</p>\n",
       "</div>"
      ],
      "text/plain": [
       "   job_id  employment_type_contract  employment_type_full-time  \\\n",
       "0       1                         0                          0   \n",
       "1       2                         0                          1   \n",
       "2       3                         0                          0   \n",
       "3       4                         0                          1   \n",
       "4       5                         0                          1   \n",
       "\n",
       "   employment_type_other  employment_type_part-time  \\\n",
       "0                      1                          0   \n",
       "1                      0                          0   \n",
       "2                      1                          0   \n",
       "3                      0                          0   \n",
       "4                      0                          0   \n",
       "\n",
       "   employment_type_temporary  required_experience_associate  \\\n",
       "0                          0                              0   \n",
       "1                          0                              0   \n",
       "2                          0                              0   \n",
       "3                          0                              1   \n",
       "4                          0                              1   \n",
       "\n",
       "   required_experience_entry level  required_experience_executive  \\\n",
       "0                                0                              0   \n",
       "1                                0                              0   \n",
       "2                                0                              0   \n",
       "3                                0                              0   \n",
       "4                                0                              0   \n",
       "\n",
       "   required_experience_internship  ...  function_marketing  function_other  \\\n",
       "0                               1  ...                   1               0   \n",
       "1                               0  ...                   0               0   \n",
       "2                               0  ...                   0               1   \n",
       "3                               0  ...                   0               0   \n",
       "4                               0  ...                   0               0   \n",
       "\n",
       "   function_production  function_research and development  \\\n",
       "0                    0                                  0   \n",
       "1                    0                                  0   \n",
       "2                    0                                  0   \n",
       "3                    0                                  0   \n",
       "4                    0                                  0   \n",
       "\n",
       "   function_writing/editing  Country_CA  Country_GB  Country_GR  \\\n",
       "0                         0           0           0           0   \n",
       "1                         0           0           0           0   \n",
       "2                         0           0           0           0   \n",
       "3                         0           0           0           0   \n",
       "4                         0           0           0           0   \n",
       "\n",
       "   Country_OTHER  Country_US  \n",
       "0              0           1  \n",
       "1              1           0  \n",
       "2              0           1  \n",
       "3              0           1  \n",
       "4              0           1  \n",
       "\n",
       "[5 rows x 50 columns]"
      ]
     },
     "execution_count": 10,
     "metadata": {},
     "output_type": "execute_result"
    }
   ],
   "source": [
    "categorical_columns_dummies.head()"
   ]
  },
  {
   "cell_type": "markdown",
   "metadata": {},
   "source": [
    "# Numerical"
   ]
  },
  {
   "cell_type": "code",
   "execution_count": 11,
   "metadata": {
    "ExecuteTime": {
     "end_time": "2020-05-03T07:51:58.630569Z",
     "start_time": "2020-05-03T07:51:58.536468Z"
    }
   },
   "outputs": [],
   "source": [
    "numerical_columns = data[['job_id', 'telecommuting', 'has_company_logo', 'has_questions', 'fraudulent']].copy()"
   ]
  },
  {
   "cell_type": "code",
   "execution_count": 12,
   "metadata": {
    "ExecuteTime": {
     "end_time": "2020-05-03T07:51:59.476477Z",
     "start_time": "2020-05-03T07:51:58.633488Z"
    }
   },
   "outputs": [],
   "source": [
    "salary_rows_in_benefits = data['benefits'].str.extractall(r'(\\$\\d+\\,?\\d+)').reset_index()['level_0'].unique()\n",
    "salary_rows_in_description = data['description'].str.extractall(r'(\\$\\d+\\,?\\d+)').reset_index()['level_0'].unique()\n",
    "\n",
    "\n",
    "data.loc[salary_rows_in_benefits, 'salary_range'] = 1\n",
    "data.loc[salary_rows_in_description, 'salary_range'] = 1\n",
    "\n",
    "nan_salaries = data['salary_range'].isnull()\n",
    "with_salaries = list(data['salary_range'][~data['salary_range'].isnull()].unique())\n",
    "\n",
    "data['salary_range'] = data['salary_range'].replace(with_salaries, 1)\n",
    "data['salary_range'] = data['salary_range'].fillna(0)\n",
    "\n",
    "numerical_columns['salary_range'] = data['salary_range']"
   ]
  },
  {
   "cell_type": "code",
   "execution_count": 13,
   "metadata": {
    "ExecuteTime": {
     "end_time": "2020-05-03T07:51:59.494556Z",
     "start_time": "2020-05-03T07:51:59.478766Z"
    }
   },
   "outputs": [
    {
     "data": {
      "text/html": [
       "<div>\n",
       "<style scoped>\n",
       "    .dataframe tbody tr th:only-of-type {\n",
       "        vertical-align: middle;\n",
       "    }\n",
       "\n",
       "    .dataframe tbody tr th {\n",
       "        vertical-align: top;\n",
       "    }\n",
       "\n",
       "    .dataframe thead th {\n",
       "        text-align: right;\n",
       "    }\n",
       "</style>\n",
       "<table border=\"1\" class=\"dataframe\">\n",
       "  <thead>\n",
       "    <tr style=\"text-align: right;\">\n",
       "      <th></th>\n",
       "      <th>job_id</th>\n",
       "      <th>telecommuting</th>\n",
       "      <th>has_company_logo</th>\n",
       "      <th>has_questions</th>\n",
       "      <th>fraudulent</th>\n",
       "      <th>salary_range</th>\n",
       "    </tr>\n",
       "  </thead>\n",
       "  <tbody>\n",
       "    <tr>\n",
       "      <td>0</td>\n",
       "      <td>1</td>\n",
       "      <td>0</td>\n",
       "      <td>1</td>\n",
       "      <td>0</td>\n",
       "      <td>0</td>\n",
       "      <td>0.0</td>\n",
       "    </tr>\n",
       "    <tr>\n",
       "      <td>1</td>\n",
       "      <td>2</td>\n",
       "      <td>0</td>\n",
       "      <td>1</td>\n",
       "      <td>0</td>\n",
       "      <td>0</td>\n",
       "      <td>1.0</td>\n",
       "    </tr>\n",
       "    <tr>\n",
       "      <td>2</td>\n",
       "      <td>3</td>\n",
       "      <td>0</td>\n",
       "      <td>1</td>\n",
       "      <td>0</td>\n",
       "      <td>0</td>\n",
       "      <td>0.0</td>\n",
       "    </tr>\n",
       "    <tr>\n",
       "      <td>3</td>\n",
       "      <td>4</td>\n",
       "      <td>0</td>\n",
       "      <td>1</td>\n",
       "      <td>0</td>\n",
       "      <td>0</td>\n",
       "      <td>0.0</td>\n",
       "    </tr>\n",
       "    <tr>\n",
       "      <td>4</td>\n",
       "      <td>5</td>\n",
       "      <td>0</td>\n",
       "      <td>1</td>\n",
       "      <td>1</td>\n",
       "      <td>0</td>\n",
       "      <td>0.0</td>\n",
       "    </tr>\n",
       "  </tbody>\n",
       "</table>\n",
       "</div>"
      ],
      "text/plain": [
       "   job_id  telecommuting  has_company_logo  has_questions  fraudulent  \\\n",
       "0       1              0                 1              0           0   \n",
       "1       2              0                 1              0           0   \n",
       "2       3              0                 1              0           0   \n",
       "3       4              0                 1              0           0   \n",
       "4       5              0                 1              1           0   \n",
       "\n",
       "   salary_range  \n",
       "0           0.0  \n",
       "1           1.0  \n",
       "2           0.0  \n",
       "3           0.0  \n",
       "4           0.0  "
      ]
     },
     "execution_count": 13,
     "metadata": {},
     "output_type": "execute_result"
    }
   ],
   "source": [
    "numerical_columns.head()"
   ]
  },
  {
   "cell_type": "markdown",
   "metadata": {},
   "source": [
    "# Text\n"
   ]
  },
  {
   "cell_type": "code",
   "execution_count": 14,
   "metadata": {
    "ExecuteTime": {
     "end_time": "2020-05-03T07:51:59.752581Z",
     "start_time": "2020-05-03T07:51:59.498357Z"
    }
   },
   "outputs": [],
   "source": [
    "data_text = data[['job_id', 'title','department', 'company_profile', 'description', 'requirements', 'benefits']].copy()"
   ]
  },
  {
   "cell_type": "code",
   "execution_count": 15,
   "metadata": {
    "ExecuteTime": {
     "end_time": "2020-05-03T07:52:01.531678Z",
     "start_time": "2020-05-03T07:51:59.756543Z"
    }
   },
   "outputs": [
    {
     "name": "stderr",
     "output_type": "stream",
     "text": [
      "C:\\Users\\jcmor\\Anaconda3\\lib\\site-packages\\ipykernel_launcher.py:3: SettingWithCopyWarning: \n",
      "A value is trying to be set on a copy of a slice from a DataFrame.\n",
      "Try using .loc[row_indexer,col_indexer] = value instead\n",
      "\n",
      "See the caveats in the documentation: http://pandas.pydata.org/pandas-docs/stable/user_guide/indexing.html#returning-a-view-versus-a-copy\n",
      "  This is separate from the ipykernel package so we can avoid doing imports until\n"
     ]
    }
   ],
   "source": [
    "data_text = data_text.fillna('')\n",
    "text_columns = data_text[['job_id']]\n",
    "text_columns['text'] = data_text.iloc[:,1:].apply(lambda row: ''.join(row.values.astype(str)), axis=1)"
   ]
  },
  {
   "cell_type": "code",
   "execution_count": 16,
   "metadata": {
    "ExecuteTime": {
     "end_time": "2020-05-03T07:52:01.548582Z",
     "start_time": "2020-05-03T07:52:01.534788Z"
    }
   },
   "outputs": [
    {
     "data": {
      "text/html": [
       "<div>\n",
       "<style scoped>\n",
       "    .dataframe tbody tr th:only-of-type {\n",
       "        vertical-align: middle;\n",
       "    }\n",
       "\n",
       "    .dataframe tbody tr th {\n",
       "        vertical-align: top;\n",
       "    }\n",
       "\n",
       "    .dataframe thead th {\n",
       "        text-align: right;\n",
       "    }\n",
       "</style>\n",
       "<table border=\"1\" class=\"dataframe\">\n",
       "  <thead>\n",
       "    <tr style=\"text-align: right;\">\n",
       "      <th></th>\n",
       "      <th>job_id</th>\n",
       "      <th>text</th>\n",
       "    </tr>\n",
       "  </thead>\n",
       "  <tbody>\n",
       "    <tr>\n",
       "      <td>0</td>\n",
       "      <td>1</td>\n",
       "      <td>Marketing InternMarketingWe're Food52, and we'...</td>\n",
       "    </tr>\n",
       "    <tr>\n",
       "      <td>1</td>\n",
       "      <td>2</td>\n",
       "      <td>Customer Service - Cloud Video ProductionSucce...</td>\n",
       "    </tr>\n",
       "    <tr>\n",
       "      <td>2</td>\n",
       "      <td>3</td>\n",
       "      <td>Commissioning Machinery Assistant (CMA)Valor S...</td>\n",
       "    </tr>\n",
       "    <tr>\n",
       "      <td>3</td>\n",
       "      <td>4</td>\n",
       "      <td>Account Executive - Washington DCSalesOur pass...</td>\n",
       "    </tr>\n",
       "    <tr>\n",
       "      <td>4</td>\n",
       "      <td>5</td>\n",
       "      <td>Bill Review ManagerSpotSource Solutions LLC is...</td>\n",
       "    </tr>\n",
       "  </tbody>\n",
       "</table>\n",
       "</div>"
      ],
      "text/plain": [
       "   job_id                                               text\n",
       "0       1  Marketing InternMarketingWe're Food52, and we'...\n",
       "1       2  Customer Service - Cloud Video ProductionSucce...\n",
       "2       3  Commissioning Machinery Assistant (CMA)Valor S...\n",
       "3       4  Account Executive - Washington DCSalesOur pass...\n",
       "4       5  Bill Review ManagerSpotSource Solutions LLC is..."
      ]
     },
     "execution_count": 16,
     "metadata": {},
     "output_type": "execute_result"
    }
   ],
   "source": [
    "text_columns.head()"
   ]
  },
  {
   "cell_type": "code",
   "execution_count": 17,
   "metadata": {
    "ExecuteTime": {
     "end_time": "2020-05-03T07:52:02.476903Z",
     "start_time": "2020-05-03T07:52:01.557812Z"
    }
   },
   "outputs": [
    {
     "name": "stderr",
     "output_type": "stream",
     "text": [
      "C:\\Users\\jcmor\\Anaconda3\\lib\\site-packages\\ipykernel_launcher.py:10: SettingWithCopyWarning: \n",
      "A value is trying to be set on a copy of a slice from a DataFrame.\n",
      "Try using .loc[row_indexer,col_indexer] = value instead\n",
      "\n",
      "See the caveats in the documentation: http://pandas.pydata.org/pandas-docs/stable/user_guide/indexing.html#returning-a-view-versus-a-copy\n",
      "  # Remove the CWD from sys.path while we load stuff.\n"
     ]
    }
   ],
   "source": [
    "def clean_urls(column):\n",
    "    '''\n",
    "    This functions takes an string and returns an string \n",
    "    with the url removed and the words in lower case.\n",
    "    '''\n",
    "    return column.apply(lambda x: x.lower()).apply(lambda x: re.sub('http[s]?://\\S+', '', x))\n",
    "\n",
    "\n",
    "\n",
    "text_columns['text'] = clean_urls(text_columns['text'])"
   ]
  },
  {
   "cell_type": "code",
   "execution_count": 18,
   "metadata": {
    "ExecuteTime": {
     "end_time": "2020-05-03T07:58:51.422064Z",
     "start_time": "2020-05-03T07:52:02.480112Z"
    }
   },
   "outputs": [
    {
     "name": "stderr",
     "output_type": "stream",
     "text": [
      "C:\\Users\\jcmor\\Anaconda3\\lib\\site-packages\\ipykernel_launcher.py:15: SettingWithCopyWarning: \n",
      "A value is trying to be set on a copy of a slice from a DataFrame.\n",
      "Try using .loc[row_indexer,col_indexer] = value instead\n",
      "\n",
      "See the caveats in the documentation: http://pandas.pydata.org/pandas-docs/stable/user_guide/indexing.html#returning-a-view-versus-a-copy\n",
      "  from ipykernel import kernelapp as app\n"
     ]
    }
   ],
   "source": [
    "nlp = spacy.load('en_core_web_sm', disable = ['ner', 'parser']) \n",
    "nlp.max_length = 15000000\n",
    "\n",
    "def string_to_lemma(string):\n",
    "    '''\n",
    "    This function takes a sentence and returns the list of all lemma\n",
    "    '''\n",
    "    doc = nlp(string)\n",
    "    l_token = [token.lemma_ for token in doc if not token.is_punct \n",
    "               | token.is_space | token.is_stop | token.is_digit & token.is_oov] \n",
    "    #singular_token = [token for token in nlp(l_token) if token.tag_ == 'NNPS' | token.tag_ == 'NNS']\n",
    "    return ' '.join(l_token)\n",
    "\n",
    "\n",
    "text_columns['text'] = text_columns['text'].apply(lambda row: string_to_lemma(row))"
   ]
  },
  {
   "cell_type": "code",
   "execution_count": 19,
   "metadata": {
    "ExecuteTime": {
     "end_time": "2020-05-03T07:58:51.453600Z",
     "start_time": "2020-05-03T07:58:51.426670Z"
    }
   },
   "outputs": [
    {
     "data": {
      "text/html": [
       "<div>\n",
       "<style scoped>\n",
       "    .dataframe tbody tr th:only-of-type {\n",
       "        vertical-align: middle;\n",
       "    }\n",
       "\n",
       "    .dataframe tbody tr th {\n",
       "        vertical-align: top;\n",
       "    }\n",
       "\n",
       "    .dataframe thead th {\n",
       "        text-align: right;\n",
       "    }\n",
       "</style>\n",
       "<table border=\"1\" class=\"dataframe\">\n",
       "  <thead>\n",
       "    <tr style=\"text-align: right;\">\n",
       "      <th></th>\n",
       "      <th>job_id</th>\n",
       "      <th>text</th>\n",
       "    </tr>\n",
       "  </thead>\n",
       "  <tbody>\n",
       "    <tr>\n",
       "      <td>0</td>\n",
       "      <td>1</td>\n",
       "      <td>marketing internmarketingwe're food52 create g...</td>\n",
       "    </tr>\n",
       "    <tr>\n",
       "      <td>1</td>\n",
       "      <td>2</td>\n",
       "      <td>customer service cloud video productionsuccess...</td>\n",
       "    </tr>\n",
       "    <tr>\n",
       "      <td>2</td>\n",
       "      <td>3</td>\n",
       "      <td>commission machinery assistant cma)valor servi...</td>\n",
       "    </tr>\n",
       "    <tr>\n",
       "      <td>3</td>\n",
       "      <td>4</td>\n",
       "      <td>account executive washington dcsalesour passio...</td>\n",
       "    </tr>\n",
       "    <tr>\n",
       "      <td>4</td>\n",
       "      <td>5</td>\n",
       "      <td>bill review managerspotsource solution llc glo...</td>\n",
       "    </tr>\n",
       "  </tbody>\n",
       "</table>\n",
       "</div>"
      ],
      "text/plain": [
       "   job_id                                               text\n",
       "0       1  marketing internmarketingwe're food52 create g...\n",
       "1       2  customer service cloud video productionsuccess...\n",
       "2       3  commission machinery assistant cma)valor servi...\n",
       "3       4  account executive washington dcsalesour passio...\n",
       "4       5  bill review managerspotsource solution llc glo..."
      ]
     },
     "execution_count": 19,
     "metadata": {},
     "output_type": "execute_result"
    }
   ],
   "source": [
    "text_columns.head()"
   ]
  },
  {
   "cell_type": "code",
   "execution_count": 20,
   "metadata": {
    "ExecuteTime": {
     "end_time": "2020-05-03T07:58:51.581268Z",
     "start_time": "2020-05-03T07:58:51.460578Z"
    }
   },
   "outputs": [
    {
     "data": {
      "text/plain": [
       "0"
      ]
     },
     "execution_count": 20,
     "metadata": {},
     "output_type": "execute_result"
    }
   ],
   "source": [
    "text_columns['text'].isnull().sum()"
   ]
  },
  {
   "cell_type": "code",
   "execution_count": 21,
   "metadata": {
    "ExecuteTime": {
     "end_time": "2020-05-03T07:58:57.354817Z",
     "start_time": "2020-05-03T07:58:51.593227Z"
    }
   },
   "outputs": [],
   "source": [
    "tfidf = TfidfVectorizer().fit_transform(text_columns['text'])\n"
   ]
  },
  {
   "cell_type": "code",
   "execution_count": 22,
   "metadata": {
    "ExecuteTime": {
     "end_time": "2020-05-03T07:58:57.372870Z",
     "start_time": "2020-05-03T07:58:57.359804Z"
    }
   },
   "outputs": [
    {
     "data": {
      "text/plain": [
       "<17880x112575 sparse matrix of type '<class 'numpy.float64'>'\n",
       "\twith 2919660 stored elements in Compressed Sparse Row format>"
      ]
     },
     "execution_count": 22,
     "metadata": {},
     "output_type": "execute_result"
    }
   ],
   "source": [
    "tfidf"
   ]
  },
  {
   "cell_type": "code",
   "execution_count": 23,
   "metadata": {
    "ExecuteTime": {
     "end_time": "2020-05-03T08:02:14.088358Z",
     "start_time": "2020-05-03T07:58:57.377111Z"
    }
   },
   "outputs": [],
   "source": [
    "mapper = umap.UMAP(metric='hellinger', random_state=42).fit(tfidf)"
   ]
  },
  {
   "cell_type": "code",
   "execution_count": 25,
   "metadata": {
    "ExecuteTime": {
     "end_time": "2020-05-03T08:09:33.355298Z",
     "start_time": "2020-05-03T08:03:29.784750Z"
    }
   },
   "outputs": [],
   "source": [
    "embedding = mapper.transform(tfidf)"
   ]
  },
  {
   "cell_type": "code",
   "execution_count": 34,
   "metadata": {
    "ExecuteTime": {
     "end_time": "2020-05-03T08:17:58.883346Z",
     "start_time": "2020-05-03T08:17:58.875369Z"
    }
   },
   "outputs": [
    {
     "data": {
      "text/plain": [
       "(17880, 2)"
      ]
     },
     "execution_count": 34,
     "metadata": {},
     "output_type": "execute_result"
    }
   ],
   "source": [
    "embedding.shape\n",
    "\"\"\"Nos lo divide en dos, podriamos poner alguna mas\"\"\""
   ]
  },
  {
   "cell_type": "code",
   "execution_count": 31,
   "metadata": {
    "ExecuteTime": {
     "end_time": "2020-05-03T08:16:25.711761Z",
     "start_time": "2020-05-03T08:16:25.454998Z"
    }
   },
   "outputs": [
    {
     "data": {
      "image/png": "[encoded data removed]",
      "text/plain": [
       "<Figure size 864x864 with 1 Axes>"
      ]
     },
     "metadata": {},
     "output_type": "display_data"
    }
   ],
   "source": [
    "import matplotlib.pyplot as plt\n",
    "fig = plt.figure(figsize=(12,12))\n",
    "ax = fig.add_subplot(111)\n",
    "plt.scatter(embedding[:, 0], embedding[:, 1], s=1, c=news_test.target, cmap='Spectral')\n",
    "ax.set(xticks=[], yticks=[]);"
   ]
  },
  {
   "cell_type": "code",
   "execution_count": 41,
   "metadata": {
    "ExecuteTime": {
     "end_time": "2020-05-03T08:24:48.666122Z",
     "start_time": "2020-05-03T08:24:48.660137Z"
    }
   },
   "outputs": [],
   "source": [
    "umap_df = pd.DataFrame(embedding)"
   ]
  },
  {
   "cell_type": "code",
   "execution_count": 44,
   "metadata": {
    "ExecuteTime": {
     "end_time": "2020-05-03T08:28:04.385359Z",
     "start_time": "2020-05-03T08:28:04.377360Z"
    }
   },
   "outputs": [],
   "source": [
    "text_colums_umap = pd.concat([text_columns['job_id'], umap_df], axis =1)"
   ]
  },
  {
   "cell_type": "code",
   "execution_count": 46,
   "metadata": {
    "ExecuteTime": {
     "end_time": "2020-05-03T08:28:31.292814Z",
     "start_time": "2020-05-03T08:28:31.279219Z"
    }
   },
   "outputs": [
    {
     "data": {
      "text/html": [
       "<div>\n",
       "<style scoped>\n",
       "    .dataframe tbody tr th:only-of-type {\n",
       "        vertical-align: middle;\n",
       "    }\n",
       "\n",
       "    .dataframe tbody tr th {\n",
       "        vertical-align: top;\n",
       "    }\n",
       "\n",
       "    .dataframe thead th {\n",
       "        text-align: right;\n",
       "    }\n",
       "</style>\n",
       "<table border=\"1\" class=\"dataframe\">\n",
       "  <thead>\n",
       "    <tr style=\"text-align: right;\">\n",
       "      <th></th>\n",
       "      <th>job_id</th>\n",
       "      <th>0</th>\n",
       "      <th>1</th>\n",
       "    </tr>\n",
       "  </thead>\n",
       "  <tbody>\n",
       "    <tr>\n",
       "      <td>0</td>\n",
       "      <td>1</td>\n",
       "      <td>-5.284934</td>\n",
       "      <td>-2.366045</td>\n",
       "    </tr>\n",
       "    <tr>\n",
       "      <td>1</td>\n",
       "      <td>2</td>\n",
       "      <td>3.447525</td>\n",
       "      <td>0.811648</td>\n",
       "    </tr>\n",
       "    <tr>\n",
       "      <td>2</td>\n",
       "      <td>3</td>\n",
       "      <td>0.357541</td>\n",
       "      <td>4.447133</td>\n",
       "    </tr>\n",
       "    <tr>\n",
       "      <td>3</td>\n",
       "      <td>4</td>\n",
       "      <td>9.698580</td>\n",
       "      <td>-3.118088</td>\n",
       "    </tr>\n",
       "    <tr>\n",
       "      <td>4</td>\n",
       "      <td>5</td>\n",
       "      <td>6.679002</td>\n",
       "      <td>-4.354322</td>\n",
       "    </tr>\n",
       "  </tbody>\n",
       "</table>\n",
       "</div>"
      ],
      "text/plain": [
       "   job_id         0         1\n",
       "0       1 -5.284934 -2.366045\n",
       "1       2  3.447525  0.811648\n",
       "2       3  0.357541  4.447133\n",
       "3       4  9.698580 -3.118088\n",
       "4       5  6.679002 -4.354322"
      ]
     },
     "execution_count": 46,
     "metadata": {},
     "output_type": "execute_result"
    }
   ],
   "source": [
    "text_colums_umap.head()"
   ]
  },
  {
   "cell_type": "markdown",
   "metadata": {},
   "source": [
    "# Merge"
   ]
  },
  {
   "cell_type": "code",
   "execution_count": 55,
   "metadata": {
    "ExecuteTime": {
     "end_time": "2020-05-03T08:38:41.898491Z",
     "start_time": "2020-05-03T08:38:41.889836Z"
    }
   },
   "outputs": [],
   "source": [
    "result = pd.concat([categorical_columns_dummies, numerical_columns, text_colums_umap], axis=1,levels=None ,sort=False)"
   ]
  },
  {
   "cell_type": "code",
   "execution_count": 56,
   "metadata": {
    "ExecuteTime": {
     "end_time": "2020-05-03T08:38:42.339037Z",
     "start_time": "2020-05-03T08:38:42.308394Z"
    }
   },
   "outputs": [
    {
     "data": {
      "text/html": [
       "<div>\n",
       "<style scoped>\n",
       "    .dataframe tbody tr th:only-of-type {\n",
       "        vertical-align: middle;\n",
       "    }\n",
       "\n",
       "    .dataframe tbody tr th {\n",
       "        vertical-align: top;\n",
       "    }\n",
       "\n",
       "    .dataframe thead th {\n",
       "        text-align: right;\n",
       "    }\n",
       "</style>\n",
       "<table border=\"1\" class=\"dataframe\">\n",
       "  <thead>\n",
       "    <tr style=\"text-align: right;\">\n",
       "      <th></th>\n",
       "      <th>job_id</th>\n",
       "      <th>employment_type_contract</th>\n",
       "      <th>employment_type_full-time</th>\n",
       "      <th>employment_type_other</th>\n",
       "      <th>employment_type_part-time</th>\n",
       "      <th>employment_type_temporary</th>\n",
       "      <th>required_experience_associate</th>\n",
       "      <th>required_experience_entry level</th>\n",
       "      <th>required_experience_executive</th>\n",
       "      <th>required_experience_internship</th>\n",
       "      <th>...</th>\n",
       "      <th>Country_US</th>\n",
       "      <th>job_id</th>\n",
       "      <th>telecommuting</th>\n",
       "      <th>has_company_logo</th>\n",
       "      <th>has_questions</th>\n",
       "      <th>fraudulent</th>\n",
       "      <th>salary_range</th>\n",
       "      <th>job_id</th>\n",
       "      <th>0</th>\n",
       "      <th>1</th>\n",
       "    </tr>\n",
       "  </thead>\n",
       "  <tbody>\n",
       "    <tr>\n",
       "      <td>0</td>\n",
       "      <td>1</td>\n",
       "      <td>0</td>\n",
       "      <td>0</td>\n",
       "      <td>1</td>\n",
       "      <td>0</td>\n",
       "      <td>0</td>\n",
       "      <td>0</td>\n",
       "      <td>0</td>\n",
       "      <td>0</td>\n",
       "      <td>1</td>\n",
       "      <td>...</td>\n",
       "      <td>1</td>\n",
       "      <td>1</td>\n",
       "      <td>0</td>\n",
       "      <td>1</td>\n",
       "      <td>0</td>\n",
       "      <td>0</td>\n",
       "      <td>0.0</td>\n",
       "      <td>1</td>\n",
       "      <td>-5.284934</td>\n",
       "      <td>-2.366045</td>\n",
       "    </tr>\n",
       "    <tr>\n",
       "      <td>1</td>\n",
       "      <td>2</td>\n",
       "      <td>0</td>\n",
       "      <td>1</td>\n",
       "      <td>0</td>\n",
       "      <td>0</td>\n",
       "      <td>0</td>\n",
       "      <td>0</td>\n",
       "      <td>0</td>\n",
       "      <td>0</td>\n",
       "      <td>0</td>\n",
       "      <td>...</td>\n",
       "      <td>0</td>\n",
       "      <td>2</td>\n",
       "      <td>0</td>\n",
       "      <td>1</td>\n",
       "      <td>0</td>\n",
       "      <td>0</td>\n",
       "      <td>1.0</td>\n",
       "      <td>2</td>\n",
       "      <td>3.447525</td>\n",
       "      <td>0.811648</td>\n",
       "    </tr>\n",
       "    <tr>\n",
       "      <td>2</td>\n",
       "      <td>3</td>\n",
       "      <td>0</td>\n",
       "      <td>0</td>\n",
       "      <td>1</td>\n",
       "      <td>0</td>\n",
       "      <td>0</td>\n",
       "      <td>0</td>\n",
       "      <td>0</td>\n",
       "      <td>0</td>\n",
       "      <td>0</td>\n",
       "      <td>...</td>\n",
       "      <td>1</td>\n",
       "      <td>3</td>\n",
       "      <td>0</td>\n",
       "      <td>1</td>\n",
       "      <td>0</td>\n",
       "      <td>0</td>\n",
       "      <td>0.0</td>\n",
       "      <td>3</td>\n",
       "      <td>0.357541</td>\n",
       "      <td>4.447133</td>\n",
       "    </tr>\n",
       "    <tr>\n",
       "      <td>3</td>\n",
       "      <td>4</td>\n",
       "      <td>0</td>\n",
       "      <td>1</td>\n",
       "      <td>0</td>\n",
       "      <td>0</td>\n",
       "      <td>0</td>\n",
       "      <td>1</td>\n",
       "      <td>0</td>\n",
       "      <td>0</td>\n",
       "      <td>0</td>\n",
       "      <td>...</td>\n",
       "      <td>1</td>\n",
       "      <td>4</td>\n",
       "      <td>0</td>\n",
       "      <td>1</td>\n",
       "      <td>0</td>\n",
       "      <td>0</td>\n",
       "      <td>0.0</td>\n",
       "      <td>4</td>\n",
       "      <td>9.698580</td>\n",
       "      <td>-3.118088</td>\n",
       "    </tr>\n",
       "    <tr>\n",
       "      <td>4</td>\n",
       "      <td>5</td>\n",
       "      <td>0</td>\n",
       "      <td>1</td>\n",
       "      <td>0</td>\n",
       "      <td>0</td>\n",
       "      <td>0</td>\n",
       "      <td>1</td>\n",
       "      <td>0</td>\n",
       "      <td>0</td>\n",
       "      <td>0</td>\n",
       "      <td>...</td>\n",
       "      <td>1</td>\n",
       "      <td>5</td>\n",
       "      <td>0</td>\n",
       "      <td>1</td>\n",
       "      <td>1</td>\n",
       "      <td>0</td>\n",
       "      <td>0.0</td>\n",
       "      <td>5</td>\n",
       "      <td>6.679002</td>\n",
       "      <td>-4.354322</td>\n",
       "    </tr>\n",
       "  </tbody>\n",
       "</table>\n",
       "<p>5 rows × 59 columns</p>\n",
       "</div>"
      ],
      "text/plain": [
       "   job_id  employment_type_contract  employment_type_full-time  \\\n",
       "0       1                         0                          0   \n",
       "1       2                         0                          1   \n",
       "2       3                         0                          0   \n",
       "3       4                         0                          1   \n",
       "4       5                         0                          1   \n",
       "\n",
       "   employment_type_other  employment_type_part-time  \\\n",
       "0                      1                          0   \n",
       "1                      0                          0   \n",
       "2                      1                          0   \n",
       "3                      0                          0   \n",
       "4                      0                          0   \n",
       "\n",
       "   employment_type_temporary  required_experience_associate  \\\n",
       "0                          0                              0   \n",
       "1                          0                              0   \n",
       "2                          0                              0   \n",
       "3                          0                              1   \n",
       "4                          0                              1   \n",
       "\n",
       "   required_experience_entry level  required_experience_executive  \\\n",
       "0                                0                              0   \n",
       "1                                0                              0   \n",
       "2                                0                              0   \n",
       "3                                0                              0   \n",
       "4                                0                              0   \n",
       "\n",
       "   required_experience_internship  ...  Country_US  job_id  telecommuting  \\\n",
       "0                               1  ...           1       1              0   \n",
       "1                               0  ...           0       2              0   \n",
       "2                               0  ...           1       3              0   \n",
       "3                               0  ...           1       4              0   \n",
       "4                               0  ...           1       5              0   \n",
       "\n",
       "   has_company_logo  has_questions  fraudulent  salary_range  job_id  \\\n",
       "0                 1              0           0           0.0       1   \n",
       "1                 1              0           0           1.0       2   \n",
       "2                 1              0           0           0.0       3   \n",
       "3                 1              0           0           0.0       4   \n",
       "4                 1              1           0           0.0       5   \n",
       "\n",
       "          0         1  \n",
       "0 -5.284934 -2.366045  \n",
       "1  3.447525  0.811648  \n",
       "2  0.357541  4.447133  \n",
       "3  9.698580 -3.118088  \n",
       "4  6.679002 -4.354322  \n",
       "\n",
       "[5 rows x 59 columns]"
      ]
     },
     "execution_count": 56,
     "metadata": {},
     "output_type": "execute_result"
    }
   ],
   "source": [
    "result.head()"
   ]
  },
  {
   "cell_type": "code",
   "execution_count": 57,
   "metadata": {
    "ExecuteTime": {
     "end_time": "2020-05-03T08:39:22.650352Z",
     "start_time": "2020-05-03T08:39:22.638383Z"
    }
   },
   "outputs": [],
   "source": [
    "result.drop('job_id',axis =1 ,inplace =True)"
   ]
  },
  {
   "cell_type": "code",
   "execution_count": 58,
   "metadata": {
    "ExecuteTime": {
     "end_time": "2020-05-03T08:39:28.787383Z",
     "start_time": "2020-05-03T08:39:28.759330Z"
    }
   },
   "outputs": [
    {
     "data": {
      "text/html": [
       "<div>\n",
       "<style scoped>\n",
       "    .dataframe tbody tr th:only-of-type {\n",
       "        vertical-align: middle;\n",
       "    }\n",
       "\n",
       "    .dataframe tbody tr th {\n",
       "        vertical-align: top;\n",
       "    }\n",
       "\n",
       "    .dataframe thead th {\n",
       "        text-align: right;\n",
       "    }\n",
       "</style>\n",
       "<table border=\"1\" class=\"dataframe\">\n",
       "  <thead>\n",
       "    <tr style=\"text-align: right;\">\n",
       "      <th></th>\n",
       "      <th>employment_type_contract</th>\n",
       "      <th>employment_type_full-time</th>\n",
       "      <th>employment_type_other</th>\n",
       "      <th>employment_type_part-time</th>\n",
       "      <th>employment_type_temporary</th>\n",
       "      <th>required_experience_associate</th>\n",
       "      <th>required_experience_entry level</th>\n",
       "      <th>required_experience_executive</th>\n",
       "      <th>required_experience_internship</th>\n",
       "      <th>required_experience_other</th>\n",
       "      <th>...</th>\n",
       "      <th>Country_GR</th>\n",
       "      <th>Country_OTHER</th>\n",
       "      <th>Country_US</th>\n",
       "      <th>telecommuting</th>\n",
       "      <th>has_company_logo</th>\n",
       "      <th>has_questions</th>\n",
       "      <th>fraudulent</th>\n",
       "      <th>salary_range</th>\n",
       "      <th>0</th>\n",
       "      <th>1</th>\n",
       "    </tr>\n",
       "  </thead>\n",
       "  <tbody>\n",
       "    <tr>\n",
       "      <td>0</td>\n",
       "      <td>0</td>\n",
       "      <td>0</td>\n",
       "      <td>1</td>\n",
       "      <td>0</td>\n",
       "      <td>0</td>\n",
       "      <td>0</td>\n",
       "      <td>0</td>\n",
       "      <td>0</td>\n",
       "      <td>1</td>\n",
       "      <td>0</td>\n",
       "      <td>...</td>\n",
       "      <td>0</td>\n",
       "      <td>0</td>\n",
       "      <td>1</td>\n",
       "      <td>0</td>\n",
       "      <td>1</td>\n",
       "      <td>0</td>\n",
       "      <td>0</td>\n",
       "      <td>0.0</td>\n",
       "      <td>-5.284934</td>\n",
       "      <td>-2.366045</td>\n",
       "    </tr>\n",
       "    <tr>\n",
       "      <td>1</td>\n",
       "      <td>0</td>\n",
       "      <td>1</td>\n",
       "      <td>0</td>\n",
       "      <td>0</td>\n",
       "      <td>0</td>\n",
       "      <td>0</td>\n",
       "      <td>0</td>\n",
       "      <td>0</td>\n",
       "      <td>0</td>\n",
       "      <td>1</td>\n",
       "      <td>...</td>\n",
       "      <td>0</td>\n",
       "      <td>1</td>\n",
       "      <td>0</td>\n",
       "      <td>0</td>\n",
       "      <td>1</td>\n",
       "      <td>0</td>\n",
       "      <td>0</td>\n",
       "      <td>1.0</td>\n",
       "      <td>3.447525</td>\n",
       "      <td>0.811648</td>\n",
       "    </tr>\n",
       "    <tr>\n",
       "      <td>2</td>\n",
       "      <td>0</td>\n",
       "      <td>0</td>\n",
       "      <td>1</td>\n",
       "      <td>0</td>\n",
       "      <td>0</td>\n",
       "      <td>0</td>\n",
       "      <td>0</td>\n",
       "      <td>0</td>\n",
       "      <td>0</td>\n",
       "      <td>1</td>\n",
       "      <td>...</td>\n",
       "      <td>0</td>\n",
       "      <td>0</td>\n",
       "      <td>1</td>\n",
       "      <td>0</td>\n",
       "      <td>1</td>\n",
       "      <td>0</td>\n",
       "      <td>0</td>\n",
       "      <td>0.0</td>\n",
       "      <td>0.357541</td>\n",
       "      <td>4.447133</td>\n",
       "    </tr>\n",
       "    <tr>\n",
       "      <td>3</td>\n",
       "      <td>0</td>\n",
       "      <td>1</td>\n",
       "      <td>0</td>\n",
       "      <td>0</td>\n",
       "      <td>0</td>\n",
       "      <td>1</td>\n",
       "      <td>0</td>\n",
       "      <td>0</td>\n",
       "      <td>0</td>\n",
       "      <td>0</td>\n",
       "      <td>...</td>\n",
       "      <td>0</td>\n",
       "      <td>0</td>\n",
       "      <td>1</td>\n",
       "      <td>0</td>\n",
       "      <td>1</td>\n",
       "      <td>0</td>\n",
       "      <td>0</td>\n",
       "      <td>0.0</td>\n",
       "      <td>9.698580</td>\n",
       "      <td>-3.118088</td>\n",
       "    </tr>\n",
       "    <tr>\n",
       "      <td>4</td>\n",
       "      <td>0</td>\n",
       "      <td>1</td>\n",
       "      <td>0</td>\n",
       "      <td>0</td>\n",
       "      <td>0</td>\n",
       "      <td>1</td>\n",
       "      <td>0</td>\n",
       "      <td>0</td>\n",
       "      <td>0</td>\n",
       "      <td>0</td>\n",
       "      <td>...</td>\n",
       "      <td>0</td>\n",
       "      <td>0</td>\n",
       "      <td>1</td>\n",
       "      <td>0</td>\n",
       "      <td>1</td>\n",
       "      <td>1</td>\n",
       "      <td>0</td>\n",
       "      <td>0.0</td>\n",
       "      <td>6.679002</td>\n",
       "      <td>-4.354322</td>\n",
       "    </tr>\n",
       "  </tbody>\n",
       "</table>\n",
       "<p>5 rows × 56 columns</p>\n",
       "</div>"
      ],
      "text/plain": [
       "   employment_type_contract  employment_type_full-time  employment_type_other  \\\n",
       "0                         0                          0                      1   \n",
       "1                         0                          1                      0   \n",
       "2                         0                          0                      1   \n",
       "3                         0                          1                      0   \n",
       "4                         0                          1                      0   \n",
       "\n",
       "   employment_type_part-time  employment_type_temporary  \\\n",
       "0                          0                          0   \n",
       "1                          0                          0   \n",
       "2                          0                          0   \n",
       "3                          0                          0   \n",
       "4                          0                          0   \n",
       "\n",
       "   required_experience_associate  required_experience_entry level  \\\n",
       "0                              0                                0   \n",
       "1                              0                                0   \n",
       "2                              0                                0   \n",
       "3                              1                                0   \n",
       "4                              1                                0   \n",
       "\n",
       "   required_experience_executive  required_experience_internship  \\\n",
       "0                              0                               1   \n",
       "1                              0                               0   \n",
       "2                              0                               0   \n",
       "3                              0                               0   \n",
       "4                              0                               0   \n",
       "\n",
       "   required_experience_other  ...  Country_GR  Country_OTHER  Country_US  \\\n",
       "0                          0  ...           0              0           1   \n",
       "1                          1  ...           0              1           0   \n",
       "2                          1  ...           0              0           1   \n",
       "3                          0  ...           0              0           1   \n",
       "4                          0  ...           0              0           1   \n",
       "\n",
       "   telecommuting  has_company_logo  has_questions  fraudulent  salary_range  \\\n",
       "0              0                 1              0           0           0.0   \n",
       "1              0                 1              0           0           1.0   \n",
       "2              0                 1              0           0           0.0   \n",
       "3              0                 1              0           0           0.0   \n",
       "4              0                 1              1           0           0.0   \n",
       "\n",
       "          0         1  \n",
       "0 -5.284934 -2.366045  \n",
       "1  3.447525  0.811648  \n",
       "2  0.357541  4.447133  \n",
       "3  9.698580 -3.118088  \n",
       "4  6.679002 -4.354322  \n",
       "\n",
       "[5 rows x 56 columns]"
      ]
     },
     "execution_count": 58,
     "metadata": {},
     "output_type": "execute_result"
    }
   ],
   "source": [
    "result.head()"
   ]
  },
  {
   "cell_type": "code",
   "execution_count": null,
   "metadata": {},
   "outputs": [],
   "source": []
  }
 ],
 "metadata": {
  "kernelspec": {
   "display_name": "Python 3",
   "language": "python",
   "name": "python3"
  },
  "language_info": {
   "codemirror_mode": {
    "name": "ipython",
    "version": 3
   },
   "file_extension": ".py",
   "mimetype": "text/x-python",
   "name": "python",
   "nbconvert_exporter": "python",
   "pygments_lexer": "ipython3",
   "version": "3.7.4"
  },
  "varInspector": {
   "cols": {
    "lenName": 16,
    "lenType": 16,
    "lenVar": 40
   },
   "kernels_config": {
    "python": {
     "delete_cmd_postfix": "",
     "delete_cmd_prefix": "del ",
     "library": "var_list.py",
     "varRefreshCmd": "print(var_dic_list())"
    },
    "r": {
     "delete_cmd_postfix": ") ",
     "delete_cmd_prefix": "rm(",
     "library": "var_list.r",
     "varRefreshCmd": "cat(var_dic_list()) "
    }
   },
   "types_to_exclude": [
    "module",
    "function",
    "builtin_function_or_method",
    "instance",
    "_Feature"
   ],
   "window_display": false
  }
 },
 "nbformat": 4,
 "nbformat_minor": 2
}
