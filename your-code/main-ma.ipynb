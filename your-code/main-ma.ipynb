{
 "cells": [
  {
   "cell_type": "code",
   "execution_count": 1,
   "metadata": {
    "ExecuteTime": {
     "end_time": "2020-04-21T18:20:59.354431Z",
     "start_time": "2020-04-21T18:20:58.776974Z"
    }
   },
   "outputs": [],
   "source": [
    "# Import de las librerías necesarias\n",
    "\n",
    "import pandas as pd\n",
    "import numpy as np\n",
    "import matplotlib.pyplot as plt\n",
    "import seaborn as sns"
   ]
  },
  {
   "cell_type": "markdown",
   "metadata": {},
   "source": [
    "# Exploratory Data Analysis"
   ]
  },
  {
   "cell_type": "code",
   "execution_count": 26,
   "metadata": {
    "ExecuteTime": {
     "end_time": "2020-04-21T18:21:00.081022Z",
     "start_time": "2020-04-21T18:20:59.356424Z"
    }
   },
   "outputs": [
    {
     "name": "stdout",
     "output_type": "stream",
     "text": [
      "(17880, 18)\n"
     ]
    },
    {
     "data": {
      "text/html": [
       "<div>\n",
       "<style scoped>\n",
       "    .dataframe tbody tr th:only-of-type {\n",
       "        vertical-align: middle;\n",
       "    }\n",
       "\n",
       "    .dataframe tbody tr th {\n",
       "        vertical-align: top;\n",
       "    }\n",
       "\n",
       "    .dataframe thead th {\n",
       "        text-align: right;\n",
       "    }\n",
       "</style>\n",
       "<table border=\"1\" class=\"dataframe\">\n",
       "  <thead>\n",
       "    <tr style=\"text-align: right;\">\n",
       "      <th></th>\n",
       "      <th>job_id</th>\n",
       "      <th>title</th>\n",
       "      <th>location</th>\n",
       "      <th>department</th>\n",
       "      <th>salary_range</th>\n",
       "      <th>company_profile</th>\n",
       "      <th>description</th>\n",
       "      <th>requirements</th>\n",
       "      <th>benefits</th>\n",
       "      <th>telecommuting</th>\n",
       "      <th>has_company_logo</th>\n",
       "      <th>has_questions</th>\n",
       "      <th>employment_type</th>\n",
       "      <th>required_experience</th>\n",
       "      <th>required_education</th>\n",
       "      <th>industry</th>\n",
       "      <th>function</th>\n",
       "      <th>fraudulent</th>\n",
       "    </tr>\n",
       "  </thead>\n",
       "  <tbody>\n",
       "    <tr>\n",
       "      <td>0</td>\n",
       "      <td>1</td>\n",
       "      <td>Marketing Intern</td>\n",
       "      <td>US, NY, New York</td>\n",
       "      <td>Marketing</td>\n",
       "      <td>NaN</td>\n",
       "      <td>We're Food52, and we've created a groundbreaki...</td>\n",
       "      <td>Food52, a fast-growing, James Beard Award-winn...</td>\n",
       "      <td>Experience with content management systems a m...</td>\n",
       "      <td>NaN</td>\n",
       "      <td>0</td>\n",
       "      <td>1</td>\n",
       "      <td>0</td>\n",
       "      <td>Other</td>\n",
       "      <td>Internship</td>\n",
       "      <td>NaN</td>\n",
       "      <td>NaN</td>\n",
       "      <td>Marketing</td>\n",
       "      <td>0</td>\n",
       "    </tr>\n",
       "    <tr>\n",
       "      <td>1</td>\n",
       "      <td>2</td>\n",
       "      <td>Customer Service - Cloud Video Production</td>\n",
       "      <td>NZ, , Auckland</td>\n",
       "      <td>Success</td>\n",
       "      <td>NaN</td>\n",
       "      <td>90 Seconds, the worlds Cloud Video Production ...</td>\n",
       "      <td>Organised - Focused - Vibrant - Awesome!Do you...</td>\n",
       "      <td>What we expect from you:Your key responsibilit...</td>\n",
       "      <td>What you will get from usThrough being part of...</td>\n",
       "      <td>0</td>\n",
       "      <td>1</td>\n",
       "      <td>0</td>\n",
       "      <td>Full-time</td>\n",
       "      <td>Not Applicable</td>\n",
       "      <td>NaN</td>\n",
       "      <td>Marketing and Advertising</td>\n",
       "      <td>Customer Service</td>\n",
       "      <td>0</td>\n",
       "    </tr>\n",
       "    <tr>\n",
       "      <td>2</td>\n",
       "      <td>3</td>\n",
       "      <td>Commissioning Machinery Assistant (CMA)</td>\n",
       "      <td>US, IA, Wever</td>\n",
       "      <td>NaN</td>\n",
       "      <td>NaN</td>\n",
       "      <td>Valor Services provides Workforce Solutions th...</td>\n",
       "      <td>Our client, located in Houston, is actively se...</td>\n",
       "      <td>Implement pre-commissioning and commissioning ...</td>\n",
       "      <td>NaN</td>\n",
       "      <td>0</td>\n",
       "      <td>1</td>\n",
       "      <td>0</td>\n",
       "      <td>NaN</td>\n",
       "      <td>NaN</td>\n",
       "      <td>NaN</td>\n",
       "      <td>NaN</td>\n",
       "      <td>NaN</td>\n",
       "      <td>0</td>\n",
       "    </tr>\n",
       "    <tr>\n",
       "      <td>3</td>\n",
       "      <td>4</td>\n",
       "      <td>Account Executive - Washington DC</td>\n",
       "      <td>US, DC, Washington</td>\n",
       "      <td>Sales</td>\n",
       "      <td>NaN</td>\n",
       "      <td>Our passion for improving quality of life thro...</td>\n",
       "      <td>THE COMPANY: ESRI – Environmental Systems Rese...</td>\n",
       "      <td>EDUCATION: Bachelor’s or Master’s in GIS, busi...</td>\n",
       "      <td>Our culture is anything but corporate—we have ...</td>\n",
       "      <td>0</td>\n",
       "      <td>1</td>\n",
       "      <td>0</td>\n",
       "      <td>Full-time</td>\n",
       "      <td>Mid-Senior level</td>\n",
       "      <td>Bachelor's Degree</td>\n",
       "      <td>Computer Software</td>\n",
       "      <td>Sales</td>\n",
       "      <td>0</td>\n",
       "    </tr>\n",
       "    <tr>\n",
       "      <td>4</td>\n",
       "      <td>5</td>\n",
       "      <td>Bill Review Manager</td>\n",
       "      <td>US, FL, Fort Worth</td>\n",
       "      <td>NaN</td>\n",
       "      <td>NaN</td>\n",
       "      <td>SpotSource Solutions LLC is a Global Human Cap...</td>\n",
       "      <td>JOB TITLE: Itemization Review ManagerLOCATION:...</td>\n",
       "      <td>QUALIFICATIONS:RN license in the State of Texa...</td>\n",
       "      <td>Full Benefits Offered</td>\n",
       "      <td>0</td>\n",
       "      <td>1</td>\n",
       "      <td>1</td>\n",
       "      <td>Full-time</td>\n",
       "      <td>Mid-Senior level</td>\n",
       "      <td>Bachelor's Degree</td>\n",
       "      <td>Hospital &amp; Health Care</td>\n",
       "      <td>Health Care Provider</td>\n",
       "      <td>0</td>\n",
       "    </tr>\n",
       "  </tbody>\n",
       "</table>\n",
       "</div>"
      ],
      "text/plain": [
       "   job_id                                      title            location  \\\n",
       "0       1                           Marketing Intern    US, NY, New York   \n",
       "1       2  Customer Service - Cloud Video Production      NZ, , Auckland   \n",
       "2       3    Commissioning Machinery Assistant (CMA)       US, IA, Wever   \n",
       "3       4          Account Executive - Washington DC  US, DC, Washington   \n",
       "4       5                        Bill Review Manager  US, FL, Fort Worth   \n",
       "\n",
       "  department salary_range                                    company_profile  \\\n",
       "0  Marketing          NaN  We're Food52, and we've created a groundbreaki...   \n",
       "1    Success          NaN  90 Seconds, the worlds Cloud Video Production ...   \n",
       "2        NaN          NaN  Valor Services provides Workforce Solutions th...   \n",
       "3      Sales          NaN  Our passion for improving quality of life thro...   \n",
       "4        NaN          NaN  SpotSource Solutions LLC is a Global Human Cap...   \n",
       "\n",
       "                                         description  \\\n",
       "0  Food52, a fast-growing, James Beard Award-winn...   \n",
       "1  Organised - Focused - Vibrant - Awesome!Do you...   \n",
       "2  Our client, located in Houston, is actively se...   \n",
       "3  THE COMPANY: ESRI – Environmental Systems Rese...   \n",
       "4  JOB TITLE: Itemization Review ManagerLOCATION:...   \n",
       "\n",
       "                                        requirements  \\\n",
       "0  Experience with content management systems a m...   \n",
       "1  What we expect from you:Your key responsibilit...   \n",
       "2  Implement pre-commissioning and commissioning ...   \n",
       "3  EDUCATION: Bachelor’s or Master’s in GIS, busi...   \n",
       "4  QUALIFICATIONS:RN license in the State of Texa...   \n",
       "\n",
       "                                            benefits  telecommuting  \\\n",
       "0                                                NaN              0   \n",
       "1  What you will get from usThrough being part of...              0   \n",
       "2                                                NaN              0   \n",
       "3  Our culture is anything but corporate—we have ...              0   \n",
       "4                              Full Benefits Offered              0   \n",
       "\n",
       "   has_company_logo  has_questions employment_type required_experience  \\\n",
       "0                 1              0           Other          Internship   \n",
       "1                 1              0       Full-time      Not Applicable   \n",
       "2                 1              0             NaN                 NaN   \n",
       "3                 1              0       Full-time    Mid-Senior level   \n",
       "4                 1              1       Full-time    Mid-Senior level   \n",
       "\n",
       "  required_education                   industry              function  \\\n",
       "0                NaN                        NaN             Marketing   \n",
       "1                NaN  Marketing and Advertising      Customer Service   \n",
       "2                NaN                        NaN                   NaN   \n",
       "3  Bachelor's Degree          Computer Software                 Sales   \n",
       "4  Bachelor's Degree     Hospital & Health Care  Health Care Provider   \n",
       "\n",
       "   fraudulent  \n",
       "0           0  \n",
       "1           0  \n",
       "2           0  \n",
       "3           0  \n",
       "4           0  "
      ]
     },
     "execution_count": 26,
     "metadata": {},
     "output_type": "execute_result"
    }
   ],
   "source": [
    "# Load the dataset of fraudulent jobs\n",
    "data = pd.read_csv('data/fake_job_postings.csv')\n",
    "print(data.shape)\n",
    "data.head()"
   ]
  },
  {
   "cell_type": "code",
   "execution_count": 3,
   "metadata": {},
   "outputs": [],
   "source": [
    "# Insert description of the variables"
   ]
  },
  {
   "cell_type": "code",
   "execution_count": 4,
   "metadata": {},
   "outputs": [
    {
     "data": {
      "text/plain": [
       "job_id                  int64\n",
       "title                  object\n",
       "location               object\n",
       "department             object\n",
       "salary_range           object\n",
       "company_profile        object\n",
       "description            object\n",
       "requirements           object\n",
       "benefits               object\n",
       "telecommuting           int64\n",
       "has_company_logo        int64\n",
       "has_questions           int64\n",
       "employment_type        object\n",
       "required_experience    object\n",
       "required_education     object\n",
       "industry               object\n",
       "function               object\n",
       "fraudulent              int64\n",
       "dtype: object"
      ]
     },
     "execution_count": 4,
     "metadata": {},
     "output_type": "execute_result"
    }
   ],
   "source": [
    "# Data Types\n",
    "data.dtypes"
   ]
  },
  {
   "cell_type": "code",
   "execution_count": 5,
   "metadata": {},
   "outputs": [
    {
     "data": {
      "text/html": [
       "<div>\n",
       "<style scoped>\n",
       "    .dataframe tbody tr th:only-of-type {\n",
       "        vertical-align: middle;\n",
       "    }\n",
       "\n",
       "    .dataframe tbody tr th {\n",
       "        vertical-align: top;\n",
       "    }\n",
       "\n",
       "    .dataframe thead th {\n",
       "        text-align: right;\n",
       "    }\n",
       "</style>\n",
       "<table border=\"1\" class=\"dataframe\">\n",
       "  <thead>\n",
       "    <tr style=\"text-align: right;\">\n",
       "      <th></th>\n",
       "      <th>job_id</th>\n",
       "      <th>telecommuting</th>\n",
       "      <th>has_company_logo</th>\n",
       "      <th>has_questions</th>\n",
       "      <th>fraudulent</th>\n",
       "    </tr>\n",
       "  </thead>\n",
       "  <tbody>\n",
       "    <tr>\n",
       "      <td>count</td>\n",
       "      <td>17880.000000</td>\n",
       "      <td>17880.000000</td>\n",
       "      <td>17880.000000</td>\n",
       "      <td>17880.000000</td>\n",
       "      <td>17880.000000</td>\n",
       "    </tr>\n",
       "    <tr>\n",
       "      <td>mean</td>\n",
       "      <td>8940.500000</td>\n",
       "      <td>0.042897</td>\n",
       "      <td>0.795302</td>\n",
       "      <td>0.491723</td>\n",
       "      <td>0.048434</td>\n",
       "    </tr>\n",
       "    <tr>\n",
       "      <td>std</td>\n",
       "      <td>5161.655742</td>\n",
       "      <td>0.202631</td>\n",
       "      <td>0.403492</td>\n",
       "      <td>0.499945</td>\n",
       "      <td>0.214688</td>\n",
       "    </tr>\n",
       "    <tr>\n",
       "      <td>min</td>\n",
       "      <td>1.000000</td>\n",
       "      <td>0.000000</td>\n",
       "      <td>0.000000</td>\n",
       "      <td>0.000000</td>\n",
       "      <td>0.000000</td>\n",
       "    </tr>\n",
       "    <tr>\n",
       "      <td>25%</td>\n",
       "      <td>4470.750000</td>\n",
       "      <td>0.000000</td>\n",
       "      <td>1.000000</td>\n",
       "      <td>0.000000</td>\n",
       "      <td>0.000000</td>\n",
       "    </tr>\n",
       "    <tr>\n",
       "      <td>50%</td>\n",
       "      <td>8940.500000</td>\n",
       "      <td>0.000000</td>\n",
       "      <td>1.000000</td>\n",
       "      <td>0.000000</td>\n",
       "      <td>0.000000</td>\n",
       "    </tr>\n",
       "    <tr>\n",
       "      <td>75%</td>\n",
       "      <td>13410.250000</td>\n",
       "      <td>0.000000</td>\n",
       "      <td>1.000000</td>\n",
       "      <td>1.000000</td>\n",
       "      <td>0.000000</td>\n",
       "    </tr>\n",
       "    <tr>\n",
       "      <td>max</td>\n",
       "      <td>17880.000000</td>\n",
       "      <td>1.000000</td>\n",
       "      <td>1.000000</td>\n",
       "      <td>1.000000</td>\n",
       "      <td>1.000000</td>\n",
       "    </tr>\n",
       "  </tbody>\n",
       "</table>\n",
       "</div>"
      ],
      "text/plain": [
       "             job_id  telecommuting  has_company_logo  has_questions  \\\n",
       "count  17880.000000   17880.000000      17880.000000   17880.000000   \n",
       "mean    8940.500000       0.042897          0.795302       0.491723   \n",
       "std     5161.655742       0.202631          0.403492       0.499945   \n",
       "min        1.000000       0.000000          0.000000       0.000000   \n",
       "25%     4470.750000       0.000000          1.000000       0.000000   \n",
       "50%     8940.500000       0.000000          1.000000       0.000000   \n",
       "75%    13410.250000       0.000000          1.000000       1.000000   \n",
       "max    17880.000000       1.000000          1.000000       1.000000   \n",
       "\n",
       "         fraudulent  \n",
       "count  17880.000000  \n",
       "mean       0.048434  \n",
       "std        0.214688  \n",
       "min        0.000000  \n",
       "25%        0.000000  \n",
       "50%        0.000000  \n",
       "75%        0.000000  \n",
       "max        1.000000  "
      ]
     },
     "execution_count": 5,
     "metadata": {},
     "output_type": "execute_result"
    }
   ],
   "source": [
    "# Describe numerical values\n",
    "\n",
    "data.describe() #It does not show any significant information due the values being binary (0,1)"
   ]
  },
  {
   "cell_type": "code",
   "execution_count": 6,
   "metadata": {
    "ExecuteTime": {
     "end_time": "2020-04-21T18:21:00.095976Z",
     "start_time": "2020-04-21T18:21:00.082013Z"
    }
   },
   "outputs": [
    {
     "data": {
      "text/plain": [
       "0    17014\n",
       "1      866\n",
       "Name: fraudulent, dtype: int64"
      ]
     },
     "execution_count": 6,
     "metadata": {},
     "output_type": "execute_result"
    }
   ],
   "source": [
    "# Distribution of the main variable: \n",
    "# Fraudulent == 1 --> True \n",
    "data.fraudulent.value_counts()"
   ]
  },
  {
   "cell_type": "code",
   "execution_count": 7,
   "metadata": {},
   "outputs": [
    {
     "data": {
      "text/plain": [
       "job_id                 0.000000\n",
       "title                  0.000000\n",
       "location               0.021940\n",
       "department             0.613164\n",
       "salary_range           0.742494\n",
       "company_profile        0.677829\n",
       "description            0.001155\n",
       "requirements           0.177829\n",
       "benefits               0.420323\n",
       "telecommuting          0.000000\n",
       "has_company_logo       0.000000\n",
       "has_questions          0.000000\n",
       "employment_type        0.278291\n",
       "required_experience    0.502309\n",
       "required_education     0.520785\n",
       "industry               0.317552\n",
       "function               0.389145\n",
       "fraudulent             0.000000\n",
       "dtype: float64"
      ]
     },
     "execution_count": 7,
     "metadata": {},
     "output_type": "execute_result"
    }
   ],
   "source": [
    "# % of Null Values of Fraudulent\n",
    "\n",
    "data[data['fraudulent'] == 1].isnull().sum() / (data[data['fraudulent'] == 1].shape[0])"
   ]
  },
  {
   "cell_type": "code",
   "execution_count": 8,
   "metadata": {},
   "outputs": [
    {
     "data": {
      "text/plain": [
       "job_id                 0.000000\n",
       "title                  0.000000\n",
       "location               0.019219\n",
       "department             0.647467\n",
       "salary_range           0.844540\n",
       "company_profile        0.159927\n",
       "description            0.000000\n",
       "requirements           0.149348\n",
       "benefits               0.402375\n",
       "telecommuting          0.000000\n",
       "has_company_logo       0.000000\n",
       "has_questions          0.000000\n",
       "employment_type        0.189844\n",
       "required_experience    0.388797\n",
       "required_education     0.449865\n",
       "industry               0.272011\n",
       "function               0.359586\n",
       "fraudulent             0.000000\n",
       "dtype: float64"
      ]
     },
     "execution_count": 8,
     "metadata": {},
     "output_type": "execute_result"
    }
   ],
   "source": [
    "# % of Null Values for Non Fraudulent\n",
    "data[data['fraudulent'] == 0].isnull().sum() / (data[data['fraudulent'] == 0].shape[0])"
   ]
  },
  {
   "cell_type": "markdown",
   "metadata": {},
   "source": [
    "### Duplicated values"
   ]
  },
  {
   "cell_type": "code",
   "execution_count": 9,
   "metadata": {},
   "outputs": [
    {
     "data": {
      "text/plain": [
       "False    17880\n",
       "dtype: int64"
      ]
     },
     "execution_count": 9,
     "metadata": {},
     "output_type": "execute_result"
    }
   ],
   "source": [
    "# Check if there are duplicated values\n",
    "\n",
    "data.duplicated().value_counts()"
   ]
  },
  {
   "cell_type": "code",
   "execution_count": 10,
   "metadata": {},
   "outputs": [
    {
     "data": {
      "text/plain": [
       "False    15474\n",
       "True      2406\n",
       "dtype: int64"
      ]
     },
     "execution_count": 10,
     "metadata": {},
     "output_type": "execute_result"
    }
   ],
   "source": [
    "# Check if there are duplicated values in offer columns (company_profile, description, requirements, benefits)\n",
    "offer_columns = ['company_profile', 'description', 'requirements', 'benefits']\n",
    "\n",
    "# Seems that there are information duplicated in the columns\n",
    "data[offer_columns].duplicated().value_counts()"
   ]
  },
  {
   "cell_type": "code",
   "execution_count": 11,
   "metadata": {},
   "outputs": [
    {
     "name": "stdout",
     "output_type": "stream",
     "text": [
      "Fraudulent\n",
      "False    684\n",
      "True     182\n",
      "dtype: int64\n",
      "----\n",
      "Non Fradulent\n",
      "False    14790\n",
      "True      2224\n",
      "dtype: int64\n"
     ]
    }
   ],
   "source": [
    "# Distribution in duplicated info by fraudulent\n",
    "print('Fraudulent')\n",
    "print(data[offer_columns][data['fraudulent']==1].duplicated().value_counts())\n",
    "print('----')\n",
    "print('Non Fradulent')\n",
    "print(data[offer_columns][data['fraudulent']==0].duplicated().value_counts())"
   ]
  },
  {
   "cell_type": "code",
   "execution_count": 27,
   "metadata": {},
   "outputs": [
    {
     "name": "stdout",
     "output_type": "stream",
     "text": [
      "The unique values of column job_id are: [    1     2     3 ... 17878 17879 17880]\n",
      "\n",
      "\n",
      "The unique values of column title are: ['Marketing Intern' 'Customer Service - Cloud Video Production'\n",
      " 'Commissioning Machinery Assistant (CMA)' ...\n",
      " 'Senior Financial Analyst (Retail) ' 'Account Director - Distribution '\n",
      " 'Project Cost Control Staff Engineer - Cost Control Exp - TX']\n",
      "\n",
      "\n",
      "The unique values of column location are: ['US, NY, New York' 'NZ, , Auckland' 'US, IA, Wever' ...\n",
      " 'US, CA, los Angeles' 'CA, , Ottawa' 'GB, WSX, Chichester']\n",
      "\n",
      "\n",
      "The unique values of column department are: ['Marketing' 'Success' nan ... 'Admin - Clerical' 'Administrative Dept'\n",
      " 'Hospitality']\n",
      "\n",
      "\n",
      "The unique values of column salary_range are: [nan '20000-28000' '100000-120000' '120000-150000' '50000-65000'\n",
      " '40000-50000' '60-80' '65000-70000' '75-115' '75000-110000' '17000-20000'\n",
      " '16000-28000' '95000-115000' '15000-18000' '50000-70000' '45000-60000'\n",
      " '30000-40000' '70000-90000' '10000-14000' '50-110' '28000-45000'\n",
      " '0-34300' '35000-40000' '9-Dec' '44000-57000' '18500-28000' '55000-75000'\n",
      " '30000-35000' '0-0' '20000-40000' '360000-600000' '50000-80000'\n",
      " '80000-100000' '52000-78000' '15750-15750' '40000-65000' '45000-50000'\n",
      " '30000-37000' '45000-67000' '35000-100000' '180000-216000' '45000-65000'\n",
      " '28000-32000' '0-1000' '36000-40000' '80000-110000' '35000-73000'\n",
      " '19000-19000' '60000-120000' '120000-15000000' '42000-55000'\n",
      " '90000-120000' '100000-150000' '28000-38000' '1600-1700' '50000-60000'\n",
      " '30000-70000' '32000-40000' '50-100' '9000-17000' '23040-28800' '105-110'\n",
      " '13000-16000' '100000-180000' '45000-55000' '9000-12000' '50000-90000'\n",
      " '25000-42000' '40000-60000' '600000-750000' '120000-170000' '45000-90000'\n",
      " '25000-30000' '65000-75000' '18000-19000' '100000-130000' '18000-20000'\n",
      " '22000-30000' '5000-6000' '36000-52000' '11000-11000' '110000-150000'\n",
      " '50000-150000' '100000-600000' '80000-120000' '10800-10800' '50000-72000'\n",
      " '35000-150000' '60000-100000' '70000-125000' '37000-37000' '0-130000'\n",
      " '75000-120000' '20000-20000' '45000-85000' '25000-35000' '120000-165000'\n",
      " '23000-32000' '18000-21000' '100000-300000' '65000-80000' '55000-60000'\n",
      " '40000-85000' '30000-60000' '40000-70000' '75000-85000' '320000-350000'\n",
      " '110000-140000' '20000-35000' '20000-26000' '70000-120000' '85000-125000'\n",
      " '9600-18000' '28000-40000' '90-120' '4001-6000' '18000-30000'\n",
      " '95000-125000' '30000-45000' '60000-75000' '30000-1000000' '40000-55000'\n",
      " '55000-65000' '35000-45000' '20000-30000' '90000-100000' '180000-240000'\n",
      " '75-100' '1161-1161' '36000-48000' '30000-50000' '60000-80000' '35-45'\n",
      " '15000-20000' '21000-25000' '16000-18500' '16000-24000' '110000-130000'\n",
      " '40000-45000' '28000-35000' '80000-105000' '36000-63000' '60000-90000'\n",
      " '124000-375000' '50-53' '90000-110000' '50000-55000' '33000-36000'\n",
      " '35000-65000' '26000-30000' '40000-80000' '9600-57600' '75000-125000'\n",
      " '24000-26000' '36000-50000' '85-140' '7000-9000' '75000-80000' '0-90000'\n",
      " '4500-4500' '25000-50000' '70-100' '70000-85000' '2500-3500'\n",
      " '130000-160000' '15000-30000' '65000-85000' '21120-30000' '48000-57600'\n",
      " '20000-50000' '84000-102000' '500000-650000' '24000-32000' '28000-42000'\n",
      " '80000-90000' '13-20' '1000-2000' '35000-120000' '1000-20000'\n",
      " '18000-22000' '50000-120000' '20000-25000' '75000-150000' '0-30000'\n",
      " '15000-17000' '14000-18000' '55386-66731' '115000-125000' '70000-80000'\n",
      " '21-63000' '16500-17500' '18000-25000' '14000-16000' '35000-50000'\n",
      " '3-Apr' '10000-15000' '15500-50000' '120000-240000' '60000-70000'\n",
      " '20000-38000' '23000-28000' '52000-57000' '4-Apr' '44624-53764'\n",
      " '12000-12000' '15600-15600' '1600-1600' '25000-36000' '8000-10000'\n",
      " '20000-23000' '100-200' '0-50000' '1100-1200' '100000-110000'\n",
      " '45000-45000' '96000-100000' '40000-40000' '33000-34000' '18000-44000'\n",
      " '16000-20000' '1050-1100' '50000-100000' '21000-21000' '9600-10500'\n",
      " '400000-650000' 'Oct-15' '800000-2000000' '335000-400000' '1000-1000'\n",
      " '19000-24000' '45000-70000' '960000-1200000' '55-65' '23000-96000'\n",
      " '110000-120000' '50-70' '480000-600000' '1000-5000' '80000-175000'\n",
      " '35000-35000' '75000-100000' '24900-31200' '42000-48000' '27000-28000'\n",
      " '18000-23000' '10716-16074' '0-9360000' '0-268' '20000-22000'\n",
      " '37400-37400' '49000-58000' '80000-80000' '25000-40000' '15000-16000'\n",
      " '25000-75000' '100000-200000' '39000-100000' '140000-150000'\n",
      " '80000-119000' '80000-200000' '30000-38000' '20-3075' '40000-120000'\n",
      " '25000-27000' '25000-100000' '120000-160000' '16500-18500' '20000-60000'\n",
      " '36000-42000' '17000-19000' '40000-140000' '800000000-1200000000'\n",
      " '35000-55000' '0-45000' '40000-100000' '45-75' '42000-62000'\n",
      " '23000-26000' '70000-300000' '77000-97000' '16000-18000' '80000-130000'\n",
      " '18-22' '30000-37500' '50-60' '32500-37500' '140000-160000' '19800-20800'\n",
      " '13000-14000' '80000-85000' '0-1' '200000-600000' '12500-15000'\n",
      " '300000-330000' '39000-42000' '23000-24000' '70000-150000' '18720-21840'\n",
      " '29000-33000' '20000-24000' '130000-150000' '400000-600000' '17000-22000'\n",
      " '67000-70000' '12000-24000' '19000-36000' '540000-720000' '80000-84000'\n",
      " '180000-600000' '14560-17680' '450-500' '9600-14400' '32000-34000'\n",
      " '20-25' '1000-6000' '22000-25000' '30160-30160' '22000-26000'\n",
      " '110000-125000' '66000-84000' '30000-450000' '14000-17000' '18000-24000'\n",
      " '41000-45000' '12000-17000' '16000-19200' '60-70' '35000-60000' '13-15'\n",
      " '30000-30000' '80000-140000' '55000-70000' '8-Sep' '65000-120000'\n",
      " '0-25000' '0-15000' '36000-65000' '17000-32000' '0-24000' '0-1200000'\n",
      " '55000-100000' '200000-500000' '10000-16000' '14000-40000' '200-230'\n",
      " '3000-100000' '12000-45000' '721000-780000' '0-92000' '70-90'\n",
      " '22000-22000' '135-165' '2000-5000' '39000-41000' '30-50' '30000-36000'\n",
      " '90000-125000' '100000-240000' '2500-5000' '110-140' '2000-6000'\n",
      " '17000-21000' '95000-150000' '90000-130000' '70-120' '32000-36000'\n",
      " '55000-80000' '1000-3000' '350000-500000' '3000000-4000000' '25000-28000'\n",
      " '70000-130000' '100000-160000' '3000-6000' '30000-100000' '130000-145000'\n",
      " '20000-100000' '41600-62400' '6266624-8582080' '2000-2000' '20000-500000'\n",
      " '95000-110000' '19000-26000' '120000-130000' '140000-200000'\n",
      " '42000-80000' '34000-50000' '40000-75000' '22000-60000' '24000-28000'\n",
      " '0-100000' '800000-1200000' '60-150' '15000-75000' '10000-30000'\n",
      " '15000-25000' '0-2000' '33000-53000' '28000-28000' '50000-75000'\n",
      " '5000-10000' '40000' '17000-24000' '20000-36000' '29120-37440'\n",
      " '30000-48000' '35-100' '45000-96000' '1000-1500' '12500-14000'\n",
      " '40000-41000' '34000-35000' '7200-1380000' '26000-29000' '180000-200000'\n",
      " '0-20000' '20800-22880' '22000-28000' '14000-14000' '2000-40000'\n",
      " '23000-25000' '28000-30000' '12000-17500' '34000-38000' '32-35' '750-750'\n",
      " '35-40' '600000-800000' '20800-22800' '27-30' '250000-500000'\n",
      " '27000-32000' '85-95' '50000-85000' '500000-800000' '110-120' '20-22'\n",
      " '27500-36000' '300000-325000' '80-100' '60-75' '15-25' '240000-500000'\n",
      " '4000-5000' '0-65000' '17000-30000' '0-43500' '25-1000' '21600-31200'\n",
      " '23000-30000' '45-48' '36000-200000' '26000-52000' '900-900'\n",
      " '85000-95000' '160000-180000' '50000-300000' '80000-95000' '2800-3500'\n",
      " '100-150' '100-120' '26000-32000' '25000-45000' '32000-52000'\n",
      " '130000-180000' '2000-4000' '70000-110000' '45000-75000' '20000-27000'\n",
      " '2000000-15000000' '65000-72000' '6000000-7000000' '18000-18000'\n",
      " '55000-85000' '120000-120000' '60000-65000' '200000-250000' '37500-42500'\n",
      " '70000-100000' '29000-32000' '45-65' '0-35000' '0-150000' '14000-22400'\n",
      " '150000-160000' '200-250' '0-95000' '15000-200000' '65000-115000' '50-90'\n",
      " '18500-25000' '75000-90000' '92000-141000' '35-60' '1000-26000'\n",
      " '76800-96000' '46000-55000' '32000-45000' '27000-34000' '85000-110000'\n",
      " '12000-19000' '30000-34000' '196000-230000' '42000-58000'\n",
      " '150000-16500000' '60000-73000' '240000-240000' '17-20' '32000-46000'\n",
      " '100000-250000' '24000-27600' '25000-25000' '8000-13000' '22000-24000'\n",
      " '85000-120000' '40-50' '35000-95000' '35000-75000' '318278-400000'\n",
      " '120000-140000' '600000-1200000' '100000-117000' '45000-95000' '55-105'\n",
      " '33000-100000' '14400-24000' '24-25' '125-175' '250000-300000' '175-225'\n",
      " '14000-15000' '1000-10000' '120-160' '10000-100000' '25-28'\n",
      " '65000-100000' '48000-60000' '600000-1000000' '33280-37440' '5000-7000'\n",
      " '107000-115000' '80000-89000' '0-16000' '14-15' '45000-80000'\n",
      " '18720-19760' '35000-36000' '190000-220000' '35000-70000' '37000-40000'\n",
      " '1500000-2500000' '65000-110000' '700000-1200000' '23000-27000'\n",
      " '72000-144000' '5500-5500' '10000-20000' '420000-540000' '99000-99999'\n",
      " '0-180000' '0-120000' '25000-31000' '55000-68000' '4-Jun'\n",
      " '1300000-1800000' '40000-54000' '10000-120000' '100000-125000'\n",
      " '42000-54000' '220000-225000' '45000-58000' '0-110406' '3000-7000'\n",
      " '17-19' '24000-29000' '26000-31000' '250000-550000' '12000-15000'\n",
      " '168000-216000' '40-80' '125000-135000' '40000-46000' '10000-10000'\n",
      " '200000-300000' '90-110' '850-1000' '33000-63000' '9000-10000' '40-100'\n",
      " '900000-1200000' '26000-28000' '17000-35000' '17500-17500' '50000-50000'\n",
      " '150000-200000' '90-100' '10-Oct' 'Oct-20' '13000-15000' '24000-36000'\n",
      " '100000-115000' '105000-125000' '65000-90000' '10000-22000' 'Jun-18'\n",
      " '1000-1100' '3000-60000' '120000-135000' '38000-45000' '18500-27000'\n",
      " '30-40' '71000-72000' '30000-65000' '90000-150000' '200000-240000'\n",
      " '900-1000' '70000-160000' '32000-37440' '80-110' '29000-40000'\n",
      " '42000-46000' '1000000-1400000' '11-Nov' '1150-1150' '55000-90000'\n",
      " '10-Nov' '956-956' '40000-47000' '42000-42000' '90000-95000'\n",
      " '120000-125000' '125000-150000' '21000-35000' '14000-25000'\n",
      " '240000-300000' '300000-420000' '11-Dec' '14000-30000' '150-175' '2-Apr'\n",
      " '90000-140000' '25000-32000' '42000-60000' '15000-19000' '0-48000'\n",
      " '175000-250000' '60000-96000' '22000-40000' '150000-250000'\n",
      " '80000-150000' '25000-65000' '60000-72000' '550000-720000' '9240-13200'\n",
      " '41600-52000' '120000-180000' '50000-58000' '55000-79000' '10000-18000'\n",
      " '30000-80000' '300000-400000' '750000-1200000' '41000-50000'\n",
      " '36000-54000' '200000-700000' '10000-12000' '24000-30000' '100000-170000'\n",
      " '40000-90000' '1200-3000' '300000-600000' '77000-87000' '78000-80000'\n",
      " '0-60000' '115000-130000' '500000000-800000000' '85000-90000' '2500-2500'\n",
      " '44000-102000' '28000-34000' '70000-105000' '46000-62000'\n",
      " '2000000-2263000' '6000-20000' '15500-17500' '0-32000' '96000-240000'\n",
      " '15400-19600' '2000-2500' '45000-63000' '31181-37566' '16000-16000'\n",
      " '80000-250000' '32000-50000' '85000-100000' '45000-120000' '27000-34280'\n",
      " '16000-19000' '90000-115000' '1300-1500' '600000-840000' '19500-24000'\n",
      " '26400-36000' '43000-69000' '8000-14000' '60-65' '24000-35000' '65-75'\n",
      " '70-150' '60-90' '1200-1400' '60-85' '2-Jun' '38000-52000' '65-100'\n",
      " '528000-636000' '90-140000' '115-120' '45-70' '962-962' '2500-2800'\n",
      " '30000-31000' '80-120' '78000-115000' '30000-32000' '70000-126000'\n",
      " '11000-25000' '72000-108000' '48000-55000' '35000-48000'\n",
      " '1000000-1500000' '50-65' '38000-65000' '400000-500000' '60000-150000'\n",
      " '41600-50000' '104000-120000' '63000-63000' '37000-41600' '52000-100000'\n",
      " '120000-300000' '130000-170000' '91000-150000' '60000-95000' '7500-8000'\n",
      " '36000-60000' '12500-12500' '65000-77000' '33000-39000' '300000-500000'\n",
      " '1920-2000' '192000-288000' '32000-42000' '32000-37000' '45000-72000'\n",
      " '96000-120000' '70000-95000' '0-70000' '1000-1400' '7-12000'\n",
      " '10000-25000' '115000-160000' '60000-160000' '1000-4000' '30000-49000'\n",
      " '18000-26000' '30000-42000' '0-115' '14436-28000' '30000-40700'\n",
      " '34000-44000' '12000-18000' '110000-135000' '40-60' '16000-25000' '25-35'\n",
      " '38000-75000' '8000-20000' '16000-22000' '6000-15000' '24960-27040'\n",
      " '30000-39000' '55000-755000' '85000-105000' '48000-58000' '100000-400000'\n",
      " '96000-144000' '144000-192000' '45-85' '19200-33600' '60000-85000'\n",
      " '120000-264000' '27000-30000' '18720-18720' '13000-18000' '38000-48000'\n",
      " '1600-19000' '60000-130000' '120000-168000' '75000-95000' '3000-4000'\n",
      " '0-38000' '0-12500' '175000-275000' '32000-35000' '34000-45000'\n",
      " '21000-36000' '35000-42000' '200000-280000' '22-28' '30000-33000'\n",
      " '240000-600000' '65000-125000' '95000-105000' '300000-450000' '90-150'\n",
      " '30-35' '40-55' '45000-175000' '143520-197600' '85000-150000'\n",
      " '145600-187200' '166400-260000' '55-125' '33000-37000' '45-80'\n",
      " '200000-400000' '93600-122720' '65000-140000' '400000-450000' '8000-9000'\n",
      " '208000-270400' '360000-400000' '83200-114400' '93600-114400'\n",
      " '156000-187200' '70000-200000' '15-17' '20000-21000' '55-72' '50-95'\n",
      " '45-67' '55-67' '35000-38000' '48-60' '27000-29000' '45-55' '20800-20800'\n",
      " '240000-480000' '6000-10000' '1050-1050' '14000-36000' '14500-19000'\n",
      " '20000-260000' '55000-69000' '360000-500000' '50000-95000' '16-20'\n",
      " '140-160' '15500-16500' '10000-250000' '2000-3000' '4500-5000'\n",
      " '26000-50000' '25-30' 'Dec-25' '1517-1517' '1234-12345' '34000-42000'\n",
      " '15-19' '21-31' '48000-65000' '53000-67000' '22-61000' '3700-3800']\n",
      "\n",
      "\n",
      "The unique values of column company_profile are: [\"We're Food52, and we've created a groundbreaking and award-winning cooking site. We support, connect, and celebrate home cooks, and give them everything they need in one place.We have a top editorial, business, and engineering team. We're focused on using technology to find new and better ways to connect people around their specific food interests, and to offer them superb, highly curated information about food and cooking. We attract the most talented home cooks and contributors in the country; we also publish well-known professionals like Mario Batali, Gwyneth Paltrow, and Danny Meyer. And we have partnerships with Whole Foods Market and Random House.Food52 has been named the best food website by the James Beard Foundation and IACP, and has been featured in the New York Times, NPR, Pando Daily, TechCrunch, and on the Today Show.We're located in Chelsea, in New York City.\"\n",
      " '90 Seconds, the worlds Cloud Video Production Service.90 Seconds is the worlds Cloud Video Production Service enabling brands and agencies to get high quality online video content shot and produced anywhere in the world. 90 Seconds makes video production fast, affordable, and all managed seamlessly in the cloud from purchase to publish. http://90#URL_fbe6559afac620a3cd2c22281f7b8d0eef56a73e3d9a311e2f1ca13d081dd630#90 Seconds removes the hassle, cost, risk and speed issues of working with regular video production companies by managing every aspect of video projects in a beautiful online experience. With a growing global network of over 2,000 rated video professionals in over 50 countries managed by dedicated production success teams in 5 countries, 90 Seconds provides a 100% success guarantee.90 Seconds has produced almost 4,000 videos in over 30 Countries for over 500 Global brands including some of the worlds largest including Paypal, L’Oreal, Sony and Barclays and has offices in Auckland, London, Sydney, Tokyo and Singapore.http://90#URL_fbe6559afac620a3cd2c22281f7b8d0eef56a73e3d9a311e2f1ca13d081dd630#\\xa0|\\xa0http://90#URL_e2ad0bde3f09a0913a486abdbb1e6ac373bb3310f64b1fbcf550049bcba4a17b#\\xa0| http://90#URL_8c5dd1806f97ab90876d9daebeb430f682dbc87e2f01549b47e96c7bff2ea17e#\\xa0'\n",
      " 'Valor Services provides Workforce Solutions that meet the needs of companies across the Private Sector, with a special focus on the Oil &amp; Gas Industry.\\xa0Valor Services will be involved with you throughout every step of the hiring process and remain in contact with you all the way through the final step of signing of the employment contract with your new employer.\\xa0Valor Services was founded with the vision of employing the unique skills, experiences, and qualities of America’s finest veterans to provide Private Sector companies with precise and concerted value-added services – and America’s finest Veterans with an optimized career opportunity.We are eager to get the word out to veterans that there are ample opportunities for employment in the private sector and that you are the ideal candidates to fill those positions.\\xa0Valor Services\\xa0Your Success is Our Mission.\\xa0™\\xa0'\n",
      " ...\n",
      " 'DRS Technologies is a leading supplier of integrated products, services and support to military forces, intelligence agencies and prime contractors worldwide. Focused on defense technology, the Company develops, manufactures and supports a broad range of systems for mission critical and military sustainment requirements, as well as homeland security.\\xa0The Company has been recognized as one of the fastest growing defense technology companies in the world and holds leading market positions in thermal imaging devices, combat display workstations, electronic sensor systems, power systems, rugged computer systems, air combat training systems, mission recorders, deployable flight incident recorders, environmental control systems, telecommunication systems, aircraft loaders, military trailers and shelters, and integrated logistics and support services.\\xa0DRS strives to provide quality products and services and stand behind them, to invest in research and development and new market opportunities, and to leverage existing core defense programs and business areas.'\n",
      " \"Titan Business Properties (TBP) is one of country's most pre-eminent and prolific developers. \\xa0As an all-encompassing property owner, developer and manager, our visionary stance and commitment to excellence have established us as a leading force in real estate across the U.S. Titan Business Properties is an equal opportunity employer (EOE) and a strong advocate for diversity in the workplace.\"\n",
      " 'Stories by RELFrom 5,000 feet, we look like a media company. If you look close, our greatest strength is producing video. If you find our sweet spot, we are really into agriculture. If you pin us down, we value quality and work hard to deliver as much as we can. If we had a wish, we would be doing this (with an unlimited budget and no deadlines). If you sum us up, we make stories.Produce the story.Every project starts as an idea and ends as a finished product. Producing starts someplace after “idea” and ends when the client is happy with the finished product. Everything in-between is a variable. Our focus is taking that idea and helping our clients get it to an end product they can be proud of.Let’s get our hands dirty.We believe in hard work, but we also believe in working smart. If we have learned anything in nearly 20 years…you need to have processes, technology and workflows…that can be managed and operated efficiently, that are client friendly and are able handle most anything thrown at them. You will understand it when you see it. The tour is free.']\n",
      "\n",
      "\n",
      "The unique values of column description are: ['Food52, a fast-growing, James Beard Award-winning online food community and crowd-sourced and curated recipe hub, is currently interviewing full- and part-time unpaid interns to work in a small team of editors, executives, and developers in its New York City headquarters.Reproducing and/or repackaging existing Food52 content for a number of partner sites, such as Huffington Post, Yahoo, Buzzfeed, and more in their various content management systemsResearching blogs and websites for the Provisions by Food52 Affiliate ProgramAssisting in day-to-day affiliate program support, such as screening affiliates and assisting in any affiliate inquiriesSupporting with PR &amp; Events when neededHelping with office administrative work, such as filing, mailing, and preparing for meetingsWorking with developers to document bugs and suggest improvements to the siteSupporting the marketing and executive staff'\n",
      " \"Organised - Focused - Vibrant - Awesome!Do you have a passion for customer service? Slick typing skills? Maybe Account Management? ...And think administration is cooler than a polar bear on a jetski? Then we need to hear you!\\xa0We are the Cloud Video Production Service and opperating on a glodal level. Yeah, it's pretty cool. Serious about\\xa0delivering a world class product and excellent customer service.Our rapidly expanding business is looking for a talented Project Manager to manage the successful delivery of video projects, manage client communications and drive the production process. Work with some of the coolest brands on the planet and learn from a global team that are representing NZ is a huge way!We are entering the next growth stage of our business and growing quickly internationally. \\xa0Therefore, the position is bursting with opportunity for the right person entering the business at the right time.\\xa090 Seconds, the worlds Cloud Video Production Service -\\xa0http://90#URL_fbe6559afac620a3cd2c22281f7b8d0eef56a73e3d9a311e2f1ca13d081dd630#90 Seconds is the worlds Cloud Video Production Service enabling brands and agencies to get high quality online video content shot and produced anywhere in the world. Fast, affordable, and all managed seamlessly in the cloud from purchase to publish.\\xa090 Seconds removes the hassle, cost, risk and speed issues of working with regular video production companies by managing every aspect of video projects in a beautiful online experience. \\xa0With a growing network of over 2,000 rated video professionals in over 50 countries and dedicated production success teams in 5 countries guaranteeing video project success 100%. It's as easy as commissioning a quick google adwords campaign.90 Seconds has produced almost 4,000 videos in over 30 Countries for over 500 Global brands including some of the worlds largest including Paypal, L'oreal, Sony and Barclays and has offices in Auckland, London, Sydney, Tokyo &amp; Singapore.Our Auckland office is based\\xa0right in the heart of the Wynyard Quarter Innovation Precinct - GridAKL!\\xa0\"\n",
      " 'Our client, located in Houston, is actively seeking an experienced Commissioning Machinery Assistant that possesses strong supervisory skills and has an attention to detail. A strong dedication to safety is a must. The ideal candidate will execute all activities while complying with quality requirements and health, environmental, and safety regulations.'\n",
      " ...\n",
      " 'The Payroll Accountant will focus primarily on payroll functions for approximately 100 (and counting!) employees. In addition, this individual will assist with various tasks within the accounting department of a rapidly growing, cutting edge web development company.The ideal candidate would be\\xa0well-versed in payroll\\xa0and possess the experience and autonomy to be able to work with minimal supervision while fulfilling all obligations in a\\xa0fun, open work environment.\\xa0Candidate must also possess\\xa0expertise in application of accounting principles and practices\\xa0to\\xa0provide support for the Accounting Team.Responsibilities:- Process semi-monthly payroll through outsourced payroll service- Handle all accounting, analysis and administrative functions relating to payroll- Resolve and respond timely to payroll-related inquiries and issues- Benefits Administration, including point of contact for third party vendors- Complete payroll general account analysis and journal entries- Perform internal payroll reviews to ensure accuracy and compliance- Maintain employee personnel files- Co-ordinate annual renewals for flexible spending and transit reimbursement programs- Assist the Accounting Team with Accounts Payable \\xa0'\n",
      " 'Experienced Project Cost Control Staff Engineer is required having responsibility to provide proper variance explanation and root causes analysis of changes\\xa0D - 166Job Responsibilities:\\xa0Cost Control for large capital investments of various size and complexityActive participation in the overall cost control process.\\xa0Ensure proper progress tracking and change management systems are in place and effectively functioning in construction and detailed engineering phases of projects.Provide proper variance explanation and root causes analysis of changesDevelopment of project cost forecast and preparation of project cost reportsAssist in the development and improvement of cost controlling tools and processes.Strong analytical skills that will allow proper assessments of projects to identify potential issues.\\xa0Able support development and recommend solutions via communication and support with Project Management.Perform studies and analysisPerform bid analysis for complex service contractsPerform audits of invoicesEvaluate field change orders and validate contractor estimate and pricingDevelopment and support of contracting strategy for large capital projectsWill be required to work both independently and with a team in carrying out a project’s cost control and forecasting\\xa0 efforts\\xa0'\n",
      " 'Nemsia Studios is looking for an experienced visual/graphic designer to join our Lagos office. The idealcandidate will be versatile in both print and digital design mediums. Working closely with our Strategists and creative team you will be engaged on projects from the pitch phase through brainstorming, concepting, and design to execution and final delivery. You will bring your all to\\xa0creating and crafting BEAUTIFUL visual expressions of ideas and briefs. We will always have ongoing internal projects.']\n",
      "\n",
      "\n",
      "The unique values of column requirements are: ['Experience with content management systems a major plus (any blogging counts!)Familiar with the Food52 editorial voice and aestheticLoves food, appreciates the importance of home cooking and cooking with the seasonsMeticulous editor, perfectionist, obsessive attention to detail, maddened by typos and broken links, delighted by finding and fixing themCheerful under pressureExcellent communication skillsA+ multi-tasker and juggler of responsibilities big and smallInterested in and engaged with social media like Twitter, Facebook, and PinterestLoves problem-solving and collaborating to drive Food52 forwardThinks big picture but pitches in on the nitty gritty of running a small company (dishes, shopping, administrative support)Comfortable with the realities of working for a startup: being on call on evenings and weekends, and working long hours'\n",
      " \"What we expect from you:Your key responsibility will be to communicate with the client, 90 Seconds team and freelance community throughout the video production process including, shoot planning, securing freelance talent, managing workflow and the online production management system. \\xa0The aim is to manage each video project effectively so that we produce great videos that our clients love.Key\\xa0attributesClient focused\\xa0- excellent customer service and communication skillsOnline -\\xa0oustanding computer knowledge and experience using online software and project management toolsOrganised\\xa0- manage workload and able to multi-task100% attention to detailMotivated -\\xa0self-starter with a passion for doing excellent work and achieving great resultsAdaptable\\xa0- show initiative and think on your feet as this is a constantly evolving atmosphereFlexible\\xa0- fast turnaround work and after hours availabilityEasy going\\xa0&amp; upbeat\\xa0- dosen't get bogged down and loves the challengeSense of Humour\\xa0- have a laugh and know that working in a startup takes guts!Ability to deliver\\xa0- including meeting project deadlines and budgetAttitude is more important than experience at 90 Seconds, however previous experience in customer service and/or project management is beneficialPlease view our platform / website at\\xa0#URL_395a8683a907ce95f49a12fb240e6e47ad8d5a4f96d07ebbd869c4dd4dea1826#\\xa0and get a clear understand about what we do before reaching out.\"\n",
      " \"Implement pre-commissioning and commissioning procedures for rotary equipment.Execute all activities with subcontractor’s assigned crew that pertains to the discipline.Ensure effective utilization of commissioning manpower and consumables.Ensure the execution of vendor specialists' field activities with the assigned resources from the sub-contractor per vendor’s representative plans.Carry out equipment inspections with client representatives and ensure proper certification is produced.Prepare forms for all pending tests and submit signed certificates for final hand over to the certification engineer for QA and QC.Coordinate in the field with vendor representatives.Keep records of all activities.Ensure that safety practices are strictly followed during the execution of activities.Report progress and constraints to the mechanical supervisor.Possible authorization by site manager to receive or issue a Permit To Work according to project Permit To Work procedures.Assist supervisor to expedite pending punch-list items in accordance with the commissioning manager’s priorities.Assist supervisor to coordinate and supervise construction-support activities during pre-commissioning and commissioning activities.Company Overview:Our client is a premiere engineering, construction, and procurement company that executes large-scale projects internationally.\"\n",
      " ...\n",
      " '- B.A. or B.S. in Accounting-\\xa0Desire to have fun while doing what you love!- Genuine passion for Accounting and Payroll and the drive to take ownership of the work-\\xa0High level of proficiency and experience with Quickbooks- Strong computer skills including proficiency with\\xa0Excel and other Microsoft Office tools- Minimum 5 years of accounting experience with\\xa0at least 2 years experience in office environment processing payroll- Well organized with a high degree of accuracy and attention to detail- Possess ability to quality review own work and work with minimum daily direction from management- Demonstrated ability to communicate verbally and in writing with all levels of organization, both internally and externally'\n",
      " 'At least 12 years professional experience.Ability to work in a diverse team environmentA minimum of 8 years of experience in project cost control with a working knowledge of engineering, procurement, accounting, and construction practicesAvailable for 25% travel to support the businessStrong Analytical skillsExcellent computer skillsExcellent quality orientation and attention to detailGood communication skills\\xa0Educational Qualifications:\\xa0BS Degree in Engineering, Construction Management, Finance, Accounting, Business Management or Mathematics\\xa0We Provide Full Time Permanent Positions for many medium to large US companies. We have more than 1500 jobs available in our website. Our website has thousands of openings and these job openings are not posted anywhere else online. When you apply online through our website, it automatically forwards your information to the recruiter handling your applied job. If you are a close match, they will contact you immediately to discuss about the positions and do everything to get you an interview with the client as quickly as possible.\\xa0Visit\\xa0 : #URL_ec64af2b4fe2ca316e828f93b0cd098c22f8beba98dcac09d4dd7384b221a5e8#-#URL_9753a54b28303bf636a2816399b9c255d76fabb791336a4c748da2611a23264f#\\xa0'\n",
      " '1. Must be fluent in the latest versions of Corel &amp; Adobe CC (Esp. Photoshop, Illustrator &amp; Indesign) 2. Have a strong interest in interactive/interface design 3. Understand color theory, typography, composition and photo retouching 4. Be able to take design direction 5. Must think creatively and step outside of the norm 6. Be willing to put in the extra time and effort on projects 7. Eager to learn and have a great attitude 8. Be self-sufficient and able to figure problems out on your own']\n",
      "\n",
      "\n",
      "The unique values of column benefits are: [nan\n",
      " 'What you will get from usThrough being part of the 90 Seconds team you will gain:experience working on projects located around the world with an international brandexperience working with a variety of clients and on a large range of projectsopportunity to drive and grow production function and teama positive working environment with a great teamPay$40,000-$55,000Applying for this role with a VIDEOBeing a video business, we understand that one of the quickest ways that we can assess your suitability for this role, and one of the quickest ways that you can apply for it, is for you to submit a 60-90 second long video telling us about yourself, your experience and why you think you would be perfect for the role. \\xa0It’s not about being a filmmaker or making a really creative video. \\xa0A simple video filmed with a smart phone or web cam will be fine. Please also include where you are based and when you can start.You can upload the video onto YouTube or Vimeo (or similar) as a Draft or Live link.APPLICATIONS DUE by 5pm on Wednesday 18th July 2014 -\\xa0Once you have a video ready, apply for this role via the following link together with a cover letter and your CV.\\xa0After we have watched your video and get an idea of your suitability for the role, we will email the shortlisted candidates'\n",
      " 'Our culture is anything but corporate—we have a collaborative, creative environment; phone directories organized by first name; a relaxed dress code; and open-door policies.A Place to ThrivePassionate people who strive to make a differenceCasual dress codeFlexible work schedulesSupport for continuing educationCollege-Like CampusA network of buildings amid lush landscaping and numerous outdoor patio areasOn-site café including a Starbucks coffee bar and lounge areaFitness center available 24/7Comprehensive reference library and GIS bibliographyState-of-the-art conference center to host staff and guest speakers\\xa0Green InitiativesSolar rooftop panels reduce carbon emissionsElectric vehicles provide on-campus transportationHundreds of trees reduce the cost of cooling buildings'\n",
      " ...\n",
      " 'What can you expect from us?We have an open culture where we openly share our results and where your input is truly valued.We\\'ll have a great environment for you to work in and grow the team.We work hard but we also have a lot of fun at work!Work-life balance or \"blend\" as we like to call it. \\xa0We know you have a life outside of work and at Vend you can have a life inside work too.Utilise all your talents. \\xa0Not just the ones written in your job description.We welcome all of you at work. \\xa0We don’t want you to leave your personality at the door.If you’re interested in joining one of NZ’s (and the world\\'s) most exciting companies, Best Workplaces and obviously the most fun and hard working environments around we’d love to hear from you.Get in touch, apply now, hit that button, get it done and come have a chat with us. We can’t wait to hear from you!'\n",
      " \"Health &amp; WellnessMedical planPrescription drug planDental planVision planFlexible spending accountShort-term disabilityLong-term disabilityGym reimbursement\\xa0FinancialCompetitive salariesReferral and ad-hoc bonusesSimple IRA with company matchLife insuranceTransit reimbursementCollege savings plan (529)Mobile phone and plan reimbursement\\xa0Work &amp; Family LifeFlexible hours9 paid holidays2+ weeks combined vacation, sick and personal daysCompany trips/outingsAnd don't forget to ask us about WebLinc Day!\\xa0\"\n",
      " 'Competitive salary (compensation will be based on experience) Casual attire At Nemsia Studios you are assured of a pleasant, enthusiastic, fast paced work environment with a lot of great people who love what they do!']\n",
      "\n",
      "\n",
      "The unique values of column telecommuting are: [0 1]\n",
      "\n",
      "\n",
      "The unique values of column has_company_logo are: [1 0]\n",
      "\n",
      "\n",
      "The unique values of column has_questions are: [0 1]\n",
      "\n",
      "\n",
      "The unique values of column employment_type are: ['Other' 'Full-time' nan 'Part-time' 'Contract' 'Temporary']\n",
      "\n",
      "\n",
      "The unique values of column required_experience are: ['Internship' 'Not Applicable' nan 'Mid-Senior level' 'Associate'\n",
      " 'Entry level' 'Executive' 'Director']\n",
      "\n",
      "\n",
      "The unique values of column required_education are: [nan \"Bachelor's Degree\" \"Master's Degree\" 'High School or equivalent'\n",
      " 'Unspecified' 'Some College Coursework Completed' 'Vocational'\n",
      " 'Certification' 'Associate Degree' 'Professional' 'Doctorate'\n",
      " 'Some High School Coursework' 'Vocational - Degree'\n",
      " 'Vocational - HS Diploma']\n",
      "\n",
      "\n",
      "The unique values of column industry are: [nan 'Marketing and Advertising' 'Computer Software'\n",
      " 'Hospital & Health Care' 'Online Media'\n",
      " 'Information Technology and Services' 'Financial Services'\n",
      " 'Management Consulting' 'Events Services' 'Internet'\n",
      " 'Facilities Services' 'Consumer Electronics' 'Telecommunications'\n",
      " 'Consumer Services' 'Construction' 'Oil & Energy' 'Education Management'\n",
      " 'Building Materials' 'Banking' 'Food & Beverages' 'Food Production'\n",
      " 'Health, Wellness and Fitness' 'Insurance' 'E-Learning' 'Cosmetics'\n",
      " 'Staffing and Recruiting' 'Venture Capital & Private Equity'\n",
      " 'Leisure, Travel & Tourism' 'Human Resources' 'Pharmaceuticals' 'Farming'\n",
      " 'Legal Services' 'Luxury Goods & Jewelry' 'Machinery' 'Real Estate'\n",
      " 'Mechanical or Industrial Engineering'\n",
      " 'Public Relations and Communications' 'Consumer Goods' 'Medical Practice'\n",
      " 'Electrical/Electronic Manufacturing' 'Hospitality' 'Music'\n",
      " 'Market Research' 'Automotive' 'Philanthropy' 'Utilities'\n",
      " 'Primary/Secondary Education' 'Logistics and Supply Chain' 'Design'\n",
      " 'Gambling & Casinos' 'Accounting' 'Environmental Services'\n",
      " 'Mental Health Care' 'Investment Management' 'Apparel & Fashion'\n",
      " 'Media Production' 'Publishing' 'Medical Devices' 'Information Services'\n",
      " 'Retail' 'Sports' 'Computer Games' 'Chemicals' 'Aviation & Aerospace'\n",
      " 'Business Supplies and Equipment' 'Program Development'\n",
      " 'Computer Networking' 'Biotechnology' 'Civic & Social Organization'\n",
      " 'Religious Institutions' 'Warehousing' 'Airlines/Aviation'\n",
      " 'Writing and Editing' 'Restaurants' 'Outsourcing/Offshoring'\n",
      " 'Transportation/Trucking/Railroad' 'Wireless' 'Investment Banking'\n",
      " 'Nonprofit Organization Management' 'Libraries' 'Computer Hardware'\n",
      " 'Broadcast Media' 'Printing' 'Graphic Design' 'Entertainment' 'Wholesale'\n",
      " 'Research' 'Animation' 'Government Administration' 'Capital Markets'\n",
      " 'Computer & Network Security' 'Semiconductors'\n",
      " 'Security and Investigations' 'Architecture & Planning' 'Maritime'\n",
      " 'Fund-Raising' 'Higher Education' 'Renewables & Environment'\n",
      " 'Motion Pictures and Film' 'Law Practice' 'Government Relations'\n",
      " 'Packaging and Containers' 'Sporting Goods' 'Mining & Metals'\n",
      " 'Import and Export' 'International Trade and Development'\n",
      " 'Professional Training & Coaching' 'Textiles' 'Commercial Real Estate'\n",
      " 'Law Enforcement' 'Package/Freight Delivery'\n",
      " 'Translation and Localization' 'Photography' 'Industrial Automation'\n",
      " 'Wine and Spirits' 'Public Safety' 'Civil Engineering' 'Military'\n",
      " 'Defense & Space' 'Veterinary' 'Executive Office' 'Performing Arts'\n",
      " 'Individual & Family Services' 'Public Policy' 'Nanotechnology'\n",
      " 'Museums and Institutions' 'Fishery' 'Plastics' 'Furniture'\n",
      " 'Shipbuilding' 'Alternative Dispute Resolution' 'Ranching']\n",
      "\n",
      "\n",
      "The unique values of column function are: ['Marketing' 'Customer Service' nan 'Sales' 'Health Care Provider'\n",
      " 'Management' 'Information Technology' 'Other' 'Engineering'\n",
      " 'Administrative' 'Design' 'Production' 'Education' 'Supply Chain'\n",
      " 'Business Development' 'Product Management' 'Financial Analyst'\n",
      " 'Consulting' 'Human Resources' 'Project Management' 'Manufacturing'\n",
      " 'Public Relations' 'Strategy/Planning' 'Advertising' 'Finance'\n",
      " 'General Business' 'Research' 'Accounting/Auditing' 'Art/Creative'\n",
      " 'Quality Assurance' 'Data Analyst' 'Business Analyst' 'Writing/Editing'\n",
      " 'Distribution' 'Science' 'Training' 'Purchasing' 'Legal']\n",
      "\n",
      "\n",
      "The unique values of column fraudulent are: [0 1]\n",
      "\n",
      "\n"
     ]
    }
   ],
   "source": [
    "# Check unique values for each column\n",
    "\n",
    "def check_unique(df):\n",
    "    '''\n",
    "    This function takes a dataframe and print the list of all unique values for each column\n",
    "    '''   \n",
    "    for column in df.columns:\n",
    "        print(f'The unique values of column {column} are: {df[column].unique()}')\n",
    "        print('\\n')\n",
    "        \n",
    "check_unique(data)"
   ]
  },
  {
   "cell_type": "code",
   "execution_count": 38,
   "metadata": {},
   "outputs": [
    {
     "name": "stdout",
     "output_type": "stream",
     "text": [
      "0        True\n",
      "1        True\n",
      "2        True\n",
      "3        True\n",
      "4        True\n",
      "         ... \n",
      "17875    True\n",
      "17876    True\n",
      "17877    True\n",
      "17878    True\n",
      "17879    True\n",
      "Name: salary_range, Length: 17880, dtype: bool\n",
      "['20000-28000', '100000-120000', '120000-150000', '50000-65000', '40000-50000', '60-80', '65000-70000', '75-115', '75000-110000', '17000-20000', '16000-28000', '95000-115000', '15000-18000', '50000-70000', '45000-60000', '30000-40000', '70000-90000', '10000-14000', '50-110', '28000-45000', '0-34300', '35000-40000', '9-Dec', '44000-57000', '18500-28000', '55000-75000', '30000-35000', '0-0', '20000-40000', '360000-600000', '50000-80000', '80000-100000', '52000-78000', '15750-15750', '40000-65000', '45000-50000', '30000-37000', '45000-67000', '35000-100000', '180000-216000', '45000-65000', '28000-32000', '0-1000', '36000-40000', '80000-110000', '35000-73000', '19000-19000', '60000-120000', '120000-15000000', '42000-55000', '90000-120000', '100000-150000', '28000-38000', '1600-1700', '50000-60000', '30000-70000', '32000-40000', '50-100', '9000-17000', '23040-28800', '105-110', '13000-16000', '100000-180000', '45000-55000', '9000-12000', '50000-90000', '25000-42000', '40000-60000', '600000-750000', '120000-170000', '45000-90000', '25000-30000', '65000-75000', '18000-19000', '100000-130000', '18000-20000', '22000-30000', '5000-6000', '36000-52000', '11000-11000', '110000-150000', '50000-150000', '100000-600000', '80000-120000', '10800-10800', '50000-72000', '35000-150000', '60000-100000', '70000-125000', '37000-37000', '0-130000', '75000-120000', '20000-20000', '45000-85000', '25000-35000', '120000-165000', '23000-32000', '18000-21000', '100000-300000', '65000-80000', '55000-60000', '40000-85000', '30000-60000', '40000-70000', '75000-85000', '320000-350000', '110000-140000', '20000-35000', '20000-26000', '70000-120000', '85000-125000', '9600-18000', '28000-40000', '90-120', '4001-6000', '18000-30000', '95000-125000', '30000-45000', '60000-75000', '30000-1000000', '40000-55000', '55000-65000', '35000-45000', '20000-30000', '90000-100000', '180000-240000', '75-100', '1161-1161', '36000-48000', '30000-50000', '60000-80000', '35-45', '15000-20000', '21000-25000', '16000-18500', '16000-24000', '110000-130000', '40000-45000', '28000-35000', '80000-105000', '36000-63000', '60000-90000', '124000-375000', '50-53', '90000-110000', '50000-55000', '33000-36000', '35000-65000', '26000-30000', '40000-80000', '9600-57600', '75000-125000', '24000-26000', '36000-50000', '85-140', '7000-9000', '75000-80000', '0-90000', '4500-4500', '25000-50000', '70-100', '70000-85000', '2500-3500', '130000-160000', '15000-30000', '65000-85000', '21120-30000', '48000-57600', '20000-50000', '84000-102000', '500000-650000', '24000-32000', '28000-42000', '80000-90000', '13-20', '1000-2000', '35000-120000', '1000-20000', '18000-22000', '50000-120000', '20000-25000', '75000-150000', '0-30000', '15000-17000', '14000-18000', '55386-66731', '115000-125000', '70000-80000', '21-63000', '16500-17500', '18000-25000', '14000-16000', '35000-50000', '3-Apr', '10000-15000', '15500-50000', '120000-240000', '60000-70000', '20000-38000', '23000-28000', '52000-57000', '4-Apr', '44624-53764', '12000-12000', '15600-15600', '1600-1600', '25000-36000', '8000-10000', '20000-23000', '100-200', '0-50000', '1100-1200', '100000-110000', '45000-45000', '96000-100000', '40000-40000', '33000-34000', '18000-44000', '16000-20000', '1050-1100', '50000-100000', '21000-21000', '9600-10500', '400000-650000', 'Oct-15', '800000-2000000', '335000-400000', '1000-1000', '19000-24000', '45000-70000', '960000-1200000', '55-65', '23000-96000', '110000-120000', '50-70', '480000-600000', '1000-5000', '80000-175000', '35000-35000', '75000-100000', '24900-31200', '42000-48000', '27000-28000', '18000-23000', '10716-16074', '0-9360000', '0-268', '20000-22000', '37400-37400', '49000-58000', '80000-80000', '25000-40000', '15000-16000', '25000-75000', '100000-200000', '39000-100000', '140000-150000', '80000-119000', '80000-200000', '30000-38000', '20-3075', '40000-120000', '25000-27000', '25000-100000', '120000-160000', '16500-18500', '20000-60000', '36000-42000', '17000-19000', '40000-140000', '800000000-1200000000', '35000-55000', '0-45000', '40000-100000', '45-75', '42000-62000', '23000-26000', '70000-300000', '77000-97000', '16000-18000', '80000-130000', '18-22', '30000-37500', '50-60', '32500-37500', '140000-160000', '19800-20800', '13000-14000', '80000-85000', '0-1', '200000-600000', '12500-15000', '300000-330000', '39000-42000', '23000-24000', '70000-150000', '18720-21840', '29000-33000', '20000-24000', '130000-150000', '400000-600000', '17000-22000', '67000-70000', '12000-24000', '19000-36000', '540000-720000', '80000-84000', '180000-600000', '14560-17680', '450-500', '9600-14400', '32000-34000', '20-25', '1000-6000', '22000-25000', '30160-30160', '22000-26000', '110000-125000', '66000-84000', '30000-450000', '14000-17000', '18000-24000', '41000-45000', '12000-17000', '16000-19200', '60-70', '35000-60000', '13-15', '30000-30000', '80000-140000', '55000-70000', '8-Sep', '65000-120000', '0-25000', '0-15000', '36000-65000', '17000-32000', '0-24000', '0-1200000', '55000-100000', '200000-500000', '10000-16000', '14000-40000', '200-230', '3000-100000', '12000-45000', '721000-780000', '0-92000', '70-90', '22000-22000', '135-165', '2000-5000', '39000-41000', '30-50', '30000-36000', '90000-125000', '100000-240000', '2500-5000', '110-140', '2000-6000', '17000-21000', '95000-150000', '90000-130000', '70-120', '32000-36000', '55000-80000', '1000-3000', '350000-500000', '3000000-4000000', '25000-28000', '70000-130000', '100000-160000', '3000-6000', '30000-100000', '130000-145000', '20000-100000', '41600-62400', '6266624-8582080', '2000-2000', '20000-500000', '95000-110000', '19000-26000', '120000-130000', '140000-200000', '42000-80000', '34000-50000', '40000-75000', '22000-60000', '24000-28000', '0-100000', '800000-1200000', '60-150', '15000-75000', '10000-30000', '15000-25000', '0-2000', '33000-53000', '28000-28000', '50000-75000', '5000-10000', '40000', '17000-24000', '20000-36000', '29120-37440', '30000-48000', '35-100', '45000-96000', '1000-1500', '12500-14000', '40000-41000', '34000-35000', '7200-1380000', '26000-29000', '180000-200000', '0-20000', '20800-22880', '22000-28000', '14000-14000', '2000-40000', '23000-25000', '28000-30000', '12000-17500', '34000-38000', '32-35', '750-750', '35-40', '600000-800000', '20800-22800', '27-30', '250000-500000', '27000-32000', '85-95', '50000-85000', '500000-800000', '110-120', '20-22', '27500-36000', '300000-325000', '80-100', '60-75', '15-25', '240000-500000', '4000-5000', '0-65000', '17000-30000', '0-43500', '25-1000', '21600-31200', '23000-30000', '45-48', '36000-200000', '26000-52000', '900-900', '85000-95000', '160000-180000', '50000-300000', '80000-95000', '2800-3500', '100-150', '100-120', '26000-32000', '25000-45000', '32000-52000', '130000-180000', '2000-4000', '70000-110000', '45000-75000', '20000-27000', '2000000-15000000', '65000-72000', '6000000-7000000', '18000-18000', '55000-85000', '120000-120000', '60000-65000', '200000-250000', '37500-42500', '70000-100000', '29000-32000', '45-65', '0-35000', '0-150000', '14000-22400', '150000-160000', '200-250', '0-95000', '15000-200000', '65000-115000', '50-90', '18500-25000', '75000-90000', '92000-141000', '35-60', '1000-26000', '76800-96000', '46000-55000', '32000-45000', '27000-34000', '85000-110000', '12000-19000', '30000-34000', '196000-230000', '42000-58000', '150000-16500000', '60000-73000', '240000-240000', '17-20', '32000-46000', '100000-250000', '24000-27600', '25000-25000', '8000-13000', '22000-24000', '85000-120000', '40-50', '35000-95000', '35000-75000', '318278-400000', '120000-140000', '600000-1200000', '100000-117000', '45000-95000', '55-105', '33000-100000', '14400-24000', '24-25', '125-175', '250000-300000', '175-225', '14000-15000', '1000-10000', '120-160', '10000-100000', '25-28', '65000-100000', '48000-60000', '600000-1000000', '33280-37440', '5000-7000', '107000-115000', '80000-89000', '0-16000', '14-15', '45000-80000', '18720-19760', '35000-36000', '190000-220000', '35000-70000', '37000-40000', '1500000-2500000', '65000-110000', '700000-1200000', '23000-27000', '72000-144000', '5500-5500', '10000-20000', '420000-540000', '99000-99999', '0-180000', '0-120000', '25000-31000', '55000-68000', '4-Jun', '1300000-1800000', '40000-54000', '10000-120000', '100000-125000', '42000-54000', '220000-225000', '45000-58000', '0-110406', '3000-7000', '17-19', '24000-29000', '26000-31000', '250000-550000', '12000-15000', '168000-216000', '40-80', '125000-135000', '40000-46000', '10000-10000', '200000-300000', '90-110', '850-1000', '33000-63000', '9000-10000', '40-100', '900000-1200000', '26000-28000', '17000-35000', '17500-17500', '50000-50000', '150000-200000', '90-100', '10-Oct', 'Oct-20', '13000-15000', '24000-36000', '100000-115000', '105000-125000', '65000-90000', '10000-22000', 'Jun-18', '1000-1100', '3000-60000', '120000-135000', '38000-45000', '18500-27000', '30-40', '71000-72000', '30000-65000', '90000-150000', '200000-240000', '900-1000', '70000-160000', '32000-37440', '80-110', '29000-40000', '42000-46000', '1000000-1400000', '11-Nov', '1150-1150', '55000-90000', '10-Nov', '956-956', '40000-47000', '42000-42000', '90000-95000', '120000-125000', '125000-150000', '21000-35000', '14000-25000', '240000-300000', '300000-420000', '11-Dec', '14000-30000', '150-175', '2-Apr', '90000-140000', '25000-32000', '42000-60000', '15000-19000', '0-48000', '175000-250000', '60000-96000', '22000-40000', '150000-250000', '80000-150000', '25000-65000', '60000-72000', '550000-720000', '9240-13200', '41600-52000', '120000-180000', '50000-58000', '55000-79000', '10000-18000', '30000-80000', '300000-400000', '750000-1200000', '41000-50000', '36000-54000', '200000-700000', '10000-12000', '24000-30000', '100000-170000', '40000-90000', '1200-3000', '300000-600000', '77000-87000', '78000-80000', '0-60000', '115000-130000', '500000000-800000000', '85000-90000', '2500-2500', '44000-102000', '28000-34000', '70000-105000', '46000-62000', '2000000-2263000', '6000-20000', '15500-17500', '0-32000', '96000-240000', '15400-19600', '2000-2500', '45000-63000', '31181-37566', '16000-16000', '80000-250000', '32000-50000', '85000-100000', '45000-120000', '27000-34280', '16000-19000', '90000-115000', '1300-1500', '600000-840000', '19500-24000', '26400-36000', '43000-69000', '8000-14000', '60-65', '24000-35000', '65-75', '70-150', '60-90', '1200-1400', '60-85', '2-Jun', '38000-52000', '65-100', '528000-636000', '90-140000', '115-120', '45-70', '962-962', '2500-2800', '30000-31000', '80-120', '78000-115000', '30000-32000', '70000-126000', '11000-25000', '72000-108000', '48000-55000', '35000-48000', '1000000-1500000', '50-65', '38000-65000', '400000-500000', '60000-150000', '41600-50000', '104000-120000', '63000-63000', '37000-41600', '52000-100000', '120000-300000', '130000-170000', '91000-150000', '60000-95000', '7500-8000', '36000-60000', '12500-12500', '65000-77000', '33000-39000', '300000-500000', '1920-2000', '192000-288000', '32000-42000', '32000-37000', '45000-72000', '96000-120000', '70000-95000', '0-70000', '1000-1400', '7-12000', '10000-25000', '115000-160000', '60000-160000', '1000-4000', '30000-49000', '18000-26000', '30000-42000', '0-115', '14436-28000', '30000-40700', '34000-44000', '12000-18000', '110000-135000', '40-60', '16000-25000', '25-35', '38000-75000', '8000-20000', '16000-22000', '6000-15000', '24960-27040', '30000-39000', '55000-755000', '85000-105000', '48000-58000', '100000-400000', '96000-144000', '144000-192000', '45-85', '19200-33600', '60000-85000', '120000-264000', '27000-30000', '18720-18720', '13000-18000', '38000-48000', '1600-19000', '60000-130000', '120000-168000', '75000-95000', '3000-4000', '0-38000', '0-12500', '175000-275000', '32000-35000', '34000-45000', '21000-36000', '35000-42000', '200000-280000', '22-28', '30000-33000', '240000-600000', '65000-125000', '95000-105000', '300000-450000', '90-150', '30-35', '40-55', '45000-175000', '143520-197600', '85000-150000', '145600-187200', '166400-260000', '55-125', '33000-37000', '45-80', '200000-400000', '93600-122720', '65000-140000', '400000-450000', '8000-9000', '208000-270400', '360000-400000', '83200-114400', '93600-114400', '156000-187200', '70000-200000', '15-17', '20000-21000', '55-72', '50-95', '45-67', '55-67', '35000-38000', '48-60', '27000-29000', '45-55', '20800-20800', '240000-480000', '6000-10000', '1050-1050', '14000-36000', '14500-19000', '20000-260000', '55000-69000', '360000-500000', '50000-95000', '16-20', '140-160', '15500-16500', '10000-250000', '2000-3000', '4500-5000', '26000-50000', '25-30', 'Dec-25', '1517-1517', '1234-12345', '34000-42000', '15-19', '21-31', '48000-65000', '53000-67000', '22-61000', '3700-3800']\n"
     ]
    },
    {
     "data": {
      "text/plain": [
       "0.0    15012\n",
       "1.0     2868\n",
       "Name: salary_range_cat, dtype: int64"
      ]
     },
     "execution_count": 38,
     "metadata": {},
     "output_type": "execute_result"
    }
   ],
   "source": []
  },
  {
   "cell_type": "code",
   "execution_count": 151,
   "metadata": {},
   "outputs": [],
   "source": [
    "# Check if benefit contains digits\n",
    "\n",
    "# Pattern startswith $ + digit + optional ?\n",
    "# reset index for multindex result\n",
    "salary_rows_in_benefits = data['benefits'].str.extractall(r'(\\$\\d+\\,?\\d+)').reset_index()['level_0'].unique()\n",
    "salary_rows_in_description = data['description'].str.extractall(r'(\\$\\d+\\,?\\d+)').reset_index()['level_0'].unique()\n",
    "\n",
    "\n"
   ]
  },
  {
   "cell_type": "code",
   "execution_count": 128,
   "metadata": {},
   "outputs": [],
   "source": [
    "# Los valores de dolares son realmente de la compañia en los valores explorados\n",
    "\n",
    "#print(data['company_profile'].str.extractall(r'(\\$\\d+\\,?\\d+)').reset_index())\n",
    "\n",
    "#data.loc[17856, 'company_profile']"
   ]
  },
  {
   "cell_type": "code",
   "execution_count": 157,
   "metadata": {},
   "outputs": [
    {
     "name": "stdout",
     "output_type": "stream",
     "text": [
      "0.0    13275\n",
      "1.0     4605\n",
      "Name: has_salary, dtype: int64\n"
     ]
    }
   ],
   "source": [
    "### ONE HOT ENCODING ###\n",
    "data['has_salary'] = data['salary_range']\n",
    "data.loc[salary_rows_in_benefits, 'has_salary'] = 1\n",
    "data.loc[salary_rows_in_description, 'has_salary'] = 1\n",
    "\n",
    "nan_salaries = data['has_salary'].isnull()\n",
    "with_salaries = list(data['has_salary'][~data['has_salary'].isnull()].unique())\n",
    "\n",
    "data['has_salary'] = data['has_salary'].replace(with_salaries, 1)\n",
    "data['has_salary'] = data['has_salary'].fillna(0)\n",
    "print(data['has_salary'].value_counts())"
   ]
  },
  {
   "cell_type": "code",
   "execution_count": 54,
   "metadata": {},
   "outputs": [
    {
     "data": {
      "text/plain": [
       "7210"
      ]
     },
     "execution_count": 54,
     "metadata": {},
     "output_type": "execute_result"
    }
   ],
   "source": []
  },
  {
   "cell_type": "code",
   "execution_count": 51,
   "metadata": {},
   "outputs": [
    {
     "name": "stdout",
     "output_type": "stream",
     "text": [
      "US       10656\n",
      "OTHER     4840\n",
      "GB        2384\n",
      "Name: Country, dtype: int64\n"
     ]
    },
    {
     "data": {
      "text/plain": [
       "Index(['job_id', 'title', 'location', 'department', 'salary_range',\n",
       "       'company_profile', 'description', 'requirements', 'benefits',\n",
       "       'telecommuting', 'has_company_logo', 'has_questions', 'employment_type',\n",
       "       'required_experience', 'required_education', 'industry', 'function',\n",
       "       'fraudulent', 'salary_range_cat', 'Country', 'Region', 'City'],\n",
       "      dtype='object')"
      ]
     },
     "execution_count": 51,
     "metadata": {},
     "output_type": "execute_result"
    }
   ],
   "source": [
    "# Split of localitation column\n",
    "\n",
    "# new data frame with split value columns \n",
    "new = data[\"location\"].str.split(\",\", n = 2, expand = True) \n",
    "  \n",
    "# making separate columns from new data frame \n",
    "data[\"Country\"]= new[0] \n",
    "data[\"Region\"]= new[1]\n",
    "data[\"City\"] = new[2]\n",
    "\n",
    "\n",
    "data['Country'].value_counts() # La distribución del 3r contry es menor a mil, y luego baja en picado.\n",
    "top_countries = data['Country'].value_counts().head(2).index\n",
    "other_countries = data['Country'][~data['Country'].isin(top_countries)].unique()\n",
    "\n",
    "data['Country'].replace(other_countries, 'OTHER', inplace=True)\n",
    "print(data['Country'].value_counts())\n",
    "\n"
   ]
  },
  {
   "cell_type": "code",
   "execution_count": 158,
   "metadata": {},
   "outputs": [
    {
     "data": {
      "text/plain": [
       "<matplotlib.axes._subplots.AxesSubplot at 0x2d04394a188>"
      ]
     },
     "execution_count": 158,
     "metadata": {},
     "output_type": "execute_result"
    },
    {
     "data": {
      "image/png": "[encoded data removed]",
      "text/plain": [
       "<Figure size 1296x720 with 2 Axes>"
      ]
     },
     "metadata": {
      "needs_background": "light"
     },
     "output_type": "display_data"
    }
   ],
   "source": [
    "### See correlation between variables\n",
    "\n",
    "# El has_salary e a mejorado a 0.1 de correlacion\n",
    "\n",
    "plt.figure(figsize=(18,10))\n",
    "sns.heatmap(data.corr(), cmap='coolwarm', annot=True)"
   ]
  },
  {
   "cell_type": "markdown",
   "metadata": {},
   "source": [
    "## Cleaning"
   ]
  },
  {
   "cell_type": "code",
   "execution_count": 16,
   "metadata": {},
   "outputs": [
    {
     "data": {
      "text/html": [
       "<div>\n",
       "<style scoped>\n",
       "    .dataframe tbody tr th:only-of-type {\n",
       "        vertical-align: middle;\n",
       "    }\n",
       "\n",
       "    .dataframe tbody tr th {\n",
       "        vertical-align: top;\n",
       "    }\n",
       "\n",
       "    .dataframe thead th {\n",
       "        text-align: right;\n",
       "    }\n",
       "</style>\n",
       "<table border=\"1\" class=\"dataframe\">\n",
       "  <thead>\n",
       "    <tr style=\"text-align: right;\">\n",
       "      <th></th>\n",
       "      <th>job_id</th>\n",
       "      <th>title</th>\n",
       "      <th>location</th>\n",
       "      <th>department</th>\n",
       "      <th>salary_range</th>\n",
       "      <th>company_profile</th>\n",
       "      <th>description</th>\n",
       "      <th>requirements</th>\n",
       "      <th>benefits</th>\n",
       "      <th>telecommuting</th>\n",
       "      <th>...</th>\n",
       "      <th>employment_type</th>\n",
       "      <th>required_experience</th>\n",
       "      <th>required_education</th>\n",
       "      <th>industry</th>\n",
       "      <th>function</th>\n",
       "      <th>fraudulent</th>\n",
       "      <th>salary_range_cat</th>\n",
       "      <th>Country</th>\n",
       "      <th>Region</th>\n",
       "      <th>City</th>\n",
       "    </tr>\n",
       "  </thead>\n",
       "  <tbody>\n",
       "    <tr>\n",
       "      <td>0</td>\n",
       "      <td>1</td>\n",
       "      <td>Marketing Intern</td>\n",
       "      <td>US, NY, New York</td>\n",
       "      <td>Marketing</td>\n",
       "      <td>NaN</td>\n",
       "      <td>We're Food52, and we've created a groundbreaki...</td>\n",
       "      <td>Food52, a fast-growing, James Beard Award-winn...</td>\n",
       "      <td>Experience with content management systems a m...</td>\n",
       "      <td>NaN</td>\n",
       "      <td>0</td>\n",
       "      <td>...</td>\n",
       "      <td>Other</td>\n",
       "      <td>Internship</td>\n",
       "      <td>NaN</td>\n",
       "      <td>NaN</td>\n",
       "      <td>Marketing</td>\n",
       "      <td>0</td>\n",
       "      <td>None</td>\n",
       "      <td>US</td>\n",
       "      <td>NY</td>\n",
       "      <td>New York</td>\n",
       "    </tr>\n",
       "    <tr>\n",
       "      <td>1</td>\n",
       "      <td>2</td>\n",
       "      <td>Customer Service - Cloud Video Production</td>\n",
       "      <td>NZ, , Auckland</td>\n",
       "      <td>Success</td>\n",
       "      <td>NaN</td>\n",
       "      <td>90 Seconds, the worlds Cloud Video Production ...</td>\n",
       "      <td>Organised - Focused - Vibrant - Awesome!Do you...</td>\n",
       "      <td>What we expect from you:Your key responsibilit...</td>\n",
       "      <td>What you will get from usThrough being part of...</td>\n",
       "      <td>0</td>\n",
       "      <td>...</td>\n",
       "      <td>Full-time</td>\n",
       "      <td>Not Applicable</td>\n",
       "      <td>NaN</td>\n",
       "      <td>Marketing and Advertising</td>\n",
       "      <td>Customer Service</td>\n",
       "      <td>0</td>\n",
       "      <td>None</td>\n",
       "      <td>NZ</td>\n",
       "      <td></td>\n",
       "      <td>Auckland</td>\n",
       "    </tr>\n",
       "    <tr>\n",
       "      <td>2</td>\n",
       "      <td>3</td>\n",
       "      <td>Commissioning Machinery Assistant (CMA)</td>\n",
       "      <td>US, IA, Wever</td>\n",
       "      <td>NaN</td>\n",
       "      <td>NaN</td>\n",
       "      <td>Valor Services provides Workforce Solutions th...</td>\n",
       "      <td>Our client, located in Houston, is actively se...</td>\n",
       "      <td>Implement pre-commissioning and commissioning ...</td>\n",
       "      <td>NaN</td>\n",
       "      <td>0</td>\n",
       "      <td>...</td>\n",
       "      <td>NaN</td>\n",
       "      <td>NaN</td>\n",
       "      <td>NaN</td>\n",
       "      <td>NaN</td>\n",
       "      <td>NaN</td>\n",
       "      <td>0</td>\n",
       "      <td>None</td>\n",
       "      <td>US</td>\n",
       "      <td>IA</td>\n",
       "      <td>Wever</td>\n",
       "    </tr>\n",
       "    <tr>\n",
       "      <td>3</td>\n",
       "      <td>4</td>\n",
       "      <td>Account Executive - Washington DC</td>\n",
       "      <td>US, DC, Washington</td>\n",
       "      <td>Sales</td>\n",
       "      <td>NaN</td>\n",
       "      <td>Our passion for improving quality of life thro...</td>\n",
       "      <td>THE COMPANY: ESRI – Environmental Systems Rese...</td>\n",
       "      <td>EDUCATION: Bachelor’s or Master’s in GIS, busi...</td>\n",
       "      <td>Our culture is anything but corporate—we have ...</td>\n",
       "      <td>0</td>\n",
       "      <td>...</td>\n",
       "      <td>Full-time</td>\n",
       "      <td>Mid-Senior level</td>\n",
       "      <td>Bachelor's Degree</td>\n",
       "      <td>Computer Software</td>\n",
       "      <td>Sales</td>\n",
       "      <td>0</td>\n",
       "      <td>None</td>\n",
       "      <td>US</td>\n",
       "      <td>DC</td>\n",
       "      <td>Washington</td>\n",
       "    </tr>\n",
       "    <tr>\n",
       "      <td>4</td>\n",
       "      <td>5</td>\n",
       "      <td>Bill Review Manager</td>\n",
       "      <td>US, FL, Fort Worth</td>\n",
       "      <td>NaN</td>\n",
       "      <td>NaN</td>\n",
       "      <td>SpotSource Solutions LLC is a Global Human Cap...</td>\n",
       "      <td>JOB TITLE: Itemization Review ManagerLOCATION:...</td>\n",
       "      <td>QUALIFICATIONS:RN license in the State of Texa...</td>\n",
       "      <td>Full Benefits Offered</td>\n",
       "      <td>0</td>\n",
       "      <td>...</td>\n",
       "      <td>Full-time</td>\n",
       "      <td>Mid-Senior level</td>\n",
       "      <td>Bachelor's Degree</td>\n",
       "      <td>Hospital &amp; Health Care</td>\n",
       "      <td>Health Care Provider</td>\n",
       "      <td>0</td>\n",
       "      <td>None</td>\n",
       "      <td>US</td>\n",
       "      <td>FL</td>\n",
       "      <td>Fort Worth</td>\n",
       "    </tr>\n",
       "  </tbody>\n",
       "</table>\n",
       "<p>5 rows × 22 columns</p>\n",
       "</div>"
      ],
      "text/plain": [
       "   job_id                                      title            location  \\\n",
       "0       1                           Marketing Intern    US, NY, New York   \n",
       "1       2  Customer Service - Cloud Video Production      NZ, , Auckland   \n",
       "2       3    Commissioning Machinery Assistant (CMA)       US, IA, Wever   \n",
       "3       4          Account Executive - Washington DC  US, DC, Washington   \n",
       "4       5                        Bill Review Manager  US, FL, Fort Worth   \n",
       "\n",
       "  department salary_range                                    company_profile  \\\n",
       "0  Marketing          NaN  We're Food52, and we've created a groundbreaki...   \n",
       "1    Success          NaN  90 Seconds, the worlds Cloud Video Production ...   \n",
       "2        NaN          NaN  Valor Services provides Workforce Solutions th...   \n",
       "3      Sales          NaN  Our passion for improving quality of life thro...   \n",
       "4        NaN          NaN  SpotSource Solutions LLC is a Global Human Cap...   \n",
       "\n",
       "                                         description  \\\n",
       "0  Food52, a fast-growing, James Beard Award-winn...   \n",
       "1  Organised - Focused - Vibrant - Awesome!Do you...   \n",
       "2  Our client, located in Houston, is actively se...   \n",
       "3  THE COMPANY: ESRI – Environmental Systems Rese...   \n",
       "4  JOB TITLE: Itemization Review ManagerLOCATION:...   \n",
       "\n",
       "                                        requirements  \\\n",
       "0  Experience with content management systems a m...   \n",
       "1  What we expect from you:Your key responsibilit...   \n",
       "2  Implement pre-commissioning and commissioning ...   \n",
       "3  EDUCATION: Bachelor’s or Master’s in GIS, busi...   \n",
       "4  QUALIFICATIONS:RN license in the State of Texa...   \n",
       "\n",
       "                                            benefits  telecommuting  ...  \\\n",
       "0                                                NaN              0  ...   \n",
       "1  What you will get from usThrough being part of...              0  ...   \n",
       "2                                                NaN              0  ...   \n",
       "3  Our culture is anything but corporate—we have ...              0  ...   \n",
       "4                              Full Benefits Offered              0  ...   \n",
       "\n",
       "   employment_type  required_experience required_education  \\\n",
       "0            Other           Internship                NaN   \n",
       "1        Full-time       Not Applicable                NaN   \n",
       "2              NaN                  NaN                NaN   \n",
       "3        Full-time     Mid-Senior level  Bachelor's Degree   \n",
       "4        Full-time     Mid-Senior level  Bachelor's Degree   \n",
       "\n",
       "                    industry              function fraudulent  \\\n",
       "0                        NaN             Marketing          0   \n",
       "1  Marketing and Advertising      Customer Service          0   \n",
       "2                        NaN                   NaN          0   \n",
       "3          Computer Software                 Sales          0   \n",
       "4     Hospital & Health Care  Health Care Provider          0   \n",
       "\n",
       "  salary_range_cat  Country Region         City  \n",
       "0             None       US     NY     New York  \n",
       "1             None       NZ            Auckland  \n",
       "2             None       US     IA        Wever  \n",
       "3             None       US     DC   Washington  \n",
       "4             None       US     FL   Fort Worth  \n",
       "\n",
       "[5 rows x 22 columns]"
      ]
     },
     "execution_count": 16,
     "metadata": {},
     "output_type": "execute_result"
    }
   ],
   "source": []
  },
  {
   "cell_type": "code",
   "execution_count": 17,
   "metadata": {},
   "outputs": [],
   "source": [
    "## Trial to extract the Bag of words\n",
    "## Merge offer columns of text into one (it should be cleaned taking into account duplicated values)\n",
    "\n",
    "data['transcript'] = data[offer_columns].apply(lambda row: ''.join(row.values.astype(str)), axis=1)\n",
    "\n",
    "### ESTA PARTE ESTA MEJOR LO DE JAVI ###\n",
    "## Bag Of Words\n",
    "from sklearn.feature_extraction.text import CountVectorizer\n",
    "\n",
    "#cv = CountVectorizer(stop_words='english')\n",
    "#data_cv = cv.fit_transform(data['transcript'])\n",
    "#data_dtm = pd.DataFrame(data_cv.toarray(), columns=cv.get_feature_names())\n",
    "#data_dtm\n",
    "\n",
    "### Additional cleaning of text has to be made...\n"
   ]
  },
  {
   "cell_type": "code",
   "execution_count": 18,
   "metadata": {},
   "outputs": [
    {
     "data": {
      "text/plain": [
       "0        We're Food52, and we've created a groundbreaki...\n",
       "1        90 Seconds, the worlds Cloud Video Production ...\n",
       "2        Valor Services provides Workforce Solutions th...\n",
       "3        Our passion for improving quality of life thro...\n",
       "4        SpotSource Solutions LLC is a Global Human Cap...\n",
       "                               ...                        \n",
       "17875    Vend is looking for some awesome new talent to...\n",
       "17876    WebLinc is the e-commerce platform and service...\n",
       "17877    We Provide Full Time Permanent Positions for m...\n",
       "17878    nanNemsia Studios is looking for an experience...\n",
       "17879    Vend is looking for some awesome new talent to...\n",
       "Name: transcript, Length: 17880, dtype: object"
      ]
     },
     "execution_count": 18,
     "metadata": {},
     "output_type": "execute_result"
    }
   ],
   "source": [
    "data['transcript']"
   ]
  },
  {
   "cell_type": "code",
   "execution_count": 19,
   "metadata": {},
   "outputs": [],
   "source": [
    "## TOP WORDS FOR FRAUDULENT\n",
    "\n",
    "# Selecting the index of Fraudulent\n",
    "fraudulent_index = data[data['fraudulent'] == 1].index"
   ]
  },
  {
   "cell_type": "code",
   "execution_count": 20,
   "metadata": {},
   "outputs": [
    {
     "ename": "NameError",
     "evalue": "name 'data_dtm' is not defined",
     "output_type": "error",
     "traceback": [
      "\u001b[1;31m---------------------------------------------------------------------------\u001b[0m",
      "\u001b[1;31mNameError\u001b[0m                                 Traceback (most recent call last)",
      "\u001b[1;32m<ipython-input-20-052f69d3ae89>\u001b[0m in \u001b[0;36m<module>\u001b[1;34m\u001b[0m\n\u001b[0;32m      5\u001b[0m \u001b[0mtop_fraudulent_words_dict\u001b[0m \u001b[1;33m=\u001b[0m \u001b[1;33m{\u001b[0m\u001b[1;33m}\u001b[0m\u001b[1;33m\u001b[0m\u001b[1;33m\u001b[0m\u001b[0m\n\u001b[0;32m      6\u001b[0m \u001b[1;33m\u001b[0m\u001b[0m\n\u001b[1;32m----> 7\u001b[1;33m \u001b[1;32mfor\u001b[0m \u001b[0mcolumn\u001b[0m \u001b[1;32min\u001b[0m \u001b[0mdata_dtm\u001b[0m\u001b[1;33m:\u001b[0m\u001b[1;33m\u001b[0m\u001b[1;33m\u001b[0m\u001b[0m\n\u001b[0m\u001b[0;32m      8\u001b[0m     \u001b[0mtop\u001b[0m \u001b[1;33m=\u001b[0m \u001b[0mdata_dtm\u001b[0m\u001b[1;33m[\u001b[0m\u001b[0mcolumn\u001b[0m\u001b[1;33m]\u001b[0m\u001b[1;33m.\u001b[0m\u001b[0miloc\u001b[0m\u001b[1;33m[\u001b[0m\u001b[0mfraudulent_index\u001b[0m\u001b[1;33m,\u001b[0m\u001b[1;33m]\u001b[0m\u001b[1;33m.\u001b[0m\u001b[0msort_values\u001b[0m\u001b[1;33m(\u001b[0m\u001b[0mascending\u001b[0m\u001b[1;33m=\u001b[0m\u001b[1;32mFalse\u001b[0m\u001b[1;33m)\u001b[0m\u001b[1;33m.\u001b[0m\u001b[0mhead\u001b[0m\u001b[1;33m(\u001b[0m\u001b[1;36m25\u001b[0m\u001b[1;33m)\u001b[0m\u001b[1;33m\u001b[0m\u001b[1;33m\u001b[0m\u001b[0m\n\u001b[0;32m      9\u001b[0m     \u001b[0mtop_fraudulent_words_dict\u001b[0m\u001b[1;33m[\u001b[0m\u001b[0mcolumn\u001b[0m\u001b[1;33m]\u001b[0m \u001b[1;33m=\u001b[0m \u001b[0mlist\u001b[0m\u001b[1;33m(\u001b[0m\u001b[0mzip\u001b[0m\u001b[1;33m(\u001b[0m\u001b[0mdata_dtm\u001b[0m\u001b[1;33m.\u001b[0m\u001b[0mcolumns\u001b[0m\u001b[1;33m.\u001b[0m\u001b[0mget_values\u001b[0m\u001b[1;33m(\u001b[0m\u001b[1;33m)\u001b[0m\u001b[1;33m[\u001b[0m\u001b[0mtop\u001b[0m\u001b[1;33m.\u001b[0m\u001b[0mindex\u001b[0m\u001b[1;33m]\u001b[0m\u001b[1;33m,\u001b[0m \u001b[0mtop\u001b[0m\u001b[1;33m.\u001b[0m\u001b[0mvalues\u001b[0m\u001b[1;33m)\u001b[0m\u001b[1;33m)\u001b[0m\u001b[1;33m\u001b[0m\u001b[1;33m\u001b[0m\u001b[0m\n",
      "\u001b[1;31mNameError\u001b[0m: name 'data_dtm' is not defined"
     ]
    }
   ],
   "source": [
    "# Find the top 25 words of each fraudulent offer:\n",
    "# It takes some time...\n",
    "\n",
    "# I have to check it but it does not seem good\n",
    "top_fraudulent_words_dict = {}\n",
    "\n",
    "for column in data_dtm:\n",
    "    top = data_dtm[column].iloc[fraudulent_index,].sort_values(ascending=False).head(25)\n",
    "    top_fraudulent_words_dict[column] = list(zip(data_dtm.columns.get_values()[top.index], top.values))\n"
   ]
  },
  {
   "cell_type": "code",
   "execution_count": null,
   "metadata": {},
   "outputs": [],
   "source": [
    "top_fraudulent_words = pd.DataFrame(top_fraudulent_words_dict)\n",
    "top_fraudulent_words.head()"
   ]
  },
  {
   "cell_type": "code",
   "execution_count": null,
   "metadata": {},
   "outputs": [],
   "source": []
  },
  {
   "cell_type": "markdown",
   "metadata": {},
   "source": [
    "## Prediction Models"
   ]
  },
  {
   "cell_type": "code",
   "execution_count": null,
   "metadata": {},
   "outputs": [],
   "source": [
    "## We should try with other ML algorithms like KNN, Decission Trees..."
   ]
  },
  {
   "cell_type": "code",
   "execution_count": null,
   "metadata": {
    "ExecuteTime": {
     "end_time": "2020-04-21T18:21:14.219949Z",
     "start_time": "2020-04-21T18:21:00.246574Z"
    }
   },
   "outputs": [],
   "source": [
    "from sklearn.linear_model import LogisticRegression\n",
    "from sklearn.model_selection import train_test_split"
   ]
  },
  {
   "cell_type": "code",
   "execution_count": null,
   "metadata": {},
   "outputs": [],
   "source": []
  },
  {
   "cell_type": "code",
   "execution_count": null,
   "metadata": {
    "ExecuteTime": {
     "end_time": "2020-04-21T18:21:14.229886Z",
     "start_time": "2020-04-21T18:21:14.223902Z"
    }
   },
   "outputs": [],
   "source": [
    "# Cargamos el modelo de Regresion Logistica\n",
    "lr = LogisticRegression()"
   ]
  },
  {
   "cell_type": "code",
   "execution_count": null,
   "metadata": {
    "ExecuteTime": {
     "end_time": "2020-04-21T18:21:14.882636Z",
     "start_time": "2020-04-21T18:21:14.232878Z"
    }
   },
   "outputs": [],
   "source": [
    "data = data.fillna('0')"
   ]
  },
  {
   "cell_type": "code",
   "execution_count": null,
   "metadata": {
    "ExecuteTime": {
     "end_time": "2020-04-21T18:21:14.970375Z",
     "start_time": "2020-04-21T18:21:14.883606Z"
    }
   },
   "outputs": [],
   "source": [
    "data.isnull().sum()"
   ]
  },
  {
   "cell_type": "code",
   "execution_count": null,
   "metadata": {
    "ExecuteTime": {
     "end_time": "2020-04-21T18:21:15.359307Z",
     "start_time": "2020-04-21T18:21:14.974338Z"
    }
   },
   "outputs": [],
   "source": [
    "# Split dataset in train/split\n",
    "data =  data[['telecommuting', 'has_company_logo', 'has_questions', 'fraudulent']]\n",
    "x_train, x_test, y_train, y_test = train_test_split(data.drop(columns='fraudulent'), data['fraudulent'], test_size=0.2, random_state=42)"
   ]
  },
  {
   "cell_type": "code",
   "execution_count": null,
   "metadata": {
    "ExecuteTime": {
     "end_time": "2020-04-21T18:21:16.676160Z",
     "start_time": "2020-04-21T18:21:15.362299Z"
    }
   },
   "outputs": [],
   "source": [
    "lr.fit(x_train, y_train)"
   ]
  },
  {
   "cell_type": "code",
   "execution_count": null,
   "metadata": {
    "ExecuteTime": {
     "end_time": "2020-04-21T18:21:16.685136Z",
     "start_time": "2020-04-21T18:21:16.677158Z"
    }
   },
   "outputs": [],
   "source": [
    "lr.score(x_test, y_test) #balancear"
   ]
  },
  {
   "cell_type": "code",
   "execution_count": null,
   "metadata": {
    "ExecuteTime": {
     "end_time": "2020-04-21T18:21:16.830746Z",
     "start_time": "2020-04-21T18:21:16.687131Z"
    }
   },
   "outputs": [],
   "source": [
    "predict = lr.predict(x_test)"
   ]
  },
  {
   "cell_type": "code",
   "execution_count": null,
   "metadata": {
    "ExecuteTime": {
     "end_time": "2020-04-21T18:21:16.966385Z",
     "start_time": "2020-04-21T18:21:16.831744Z"
    }
   },
   "outputs": [],
   "source": [
    "from sklearn.metrics import confusion_matrix\n",
    "confusion_matrix(y_test, predict) #especifidad --> preferencia en indentificar los fraudes correctamente (minimizar los falsos positivos)"
   ]
  },
  {
   "cell_type": "code",
   "execution_count": null,
   "metadata": {
    "ExecuteTime": {
     "end_time": "2020-04-21T18:21:17.148896Z",
     "start_time": "2020-04-21T18:21:16.968379Z"
    }
   },
   "outputs": [],
   "source": [
    "# Conclusion Natural Language Processing"
   ]
  },
  {
   "cell_type": "code",
   "execution_count": null,
   "metadata": {
    "ExecuteTime": {
     "end_time": "2020-04-21T18:21:17.281542Z",
     "start_time": "2020-04-21T18:21:17.151889Z"
    }
   },
   "outputs": [],
   "source": [
    "y_train.head()"
   ]
  },
  {
   "cell_type": "code",
   "execution_count": null,
   "metadata": {},
   "outputs": [],
   "source": []
  }
 ],
 "metadata": {
  "kernelspec": {
   "display_name": "Python 3",
   "language": "python",
   "name": "python3"
  },
  "language_info": {
   "codemirror_mode": {
    "name": "ipython",
    "version": 3
   },
   "file_extension": ".py",
   "mimetype": "text/x-python",
   "name": "python",
   "nbconvert_exporter": "python",
   "pygments_lexer": "ipython3",
   "version": "3.7.4"
  },
  "varInspector": {
   "cols": {
    "lenName": 16,
    "lenType": 16,
    "lenVar": 40
   },
   "kernels_config": {
    "python": {
     "delete_cmd_postfix": "",
     "delete_cmd_prefix": "del ",
     "library": "var_list.py",
     "varRefreshCmd": "print(var_dic_list())"
    },
    "r": {
     "delete_cmd_postfix": ") ",
     "delete_cmd_prefix": "rm(",
     "library": "var_list.r",
     "varRefreshCmd": "cat(var_dic_list()) "
    }
   },
   "types_to_exclude": [
    "module",
    "function",
    "builtin_function_or_method",
    "instance",
    "_Feature"
   ],
   "window_display": false
  }
 },
 "nbformat": 4,
 "nbformat_minor": 2
}
